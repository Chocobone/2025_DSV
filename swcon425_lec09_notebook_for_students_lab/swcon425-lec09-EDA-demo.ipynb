{
 "cells": [
  {
   "cell_type": "markdown",
   "metadata": {},
   "source": [
    "# Lecture 9 – Exploratory Data Analysis (EDA)"
   ]
  },
  {
   "cell_type": "code",
   "execution_count": 1,
   "metadata": {
    "ExecuteTime": {
     "end_time": "2018-02-02T15:15:15.363920Z",
     "start_time": "2018-02-02T15:15:14.337886Z"
    }
   },
   "outputs": [],
   "source": [
    "import numpy as np\n",
    "import pandas as pd\n",
    "import matplotlib.pyplot as plt\n",
    "import seaborn as sns"
   ]
  },
  {
   "cell_type": "code",
   "execution_count": 3,
   "metadata": {},
   "outputs": [
    {
     "name": "stdout",
     "output_type": "stream",
     "text": [
      "Collecting plotly\n",
      "  Downloading plotly-6.3.0-py3-none-any.whl.metadata (8.5 kB)\n",
      "Collecting narwhals>=1.15.1 (from plotly)\n",
      "  Downloading narwhals-2.6.0-py3-none-any.whl.metadata (11 kB)\n",
      "Requirement already satisfied: packaging in c:\\users\\user\\appdata\\roaming\\python\\python313\\site-packages (from plotly) (24.2)\n",
      "Downloading plotly-6.3.0-py3-none-any.whl (9.8 MB)\n",
      "   ---------------------------------------- 0.0/9.8 MB ? eta -:--:--\n",
      "   ---------------------------------------- 0.0/9.8 MB ? eta -:--:--\n",
      "   - -------------------------------------- 0.3/9.8 MB ? eta -:--:--\n",
      "   - -------------------------------------- 0.3/9.8 MB ? eta -:--:--\n",
      "   -- ------------------------------------- 0.5/9.8 MB 779.8 kB/s eta 0:00:12\n",
      "   --- ------------------------------------ 0.8/9.8 MB 773.4 kB/s eta 0:00:12\n",
      "   --- ------------------------------------ 0.8/9.8 MB 773.4 kB/s eta 0:00:12\n",
      "   ----- ---------------------------------- 1.3/9.8 MB 1.0 MB/s eta 0:00:09\n",
      "   ------- -------------------------------- 1.8/9.8 MB 1.2 MB/s eta 0:00:07\n",
      "   ------- -------------------------------- 1.8/9.8 MB 1.2 MB/s eta 0:00:07\n",
      "   -------- ------------------------------- 2.1/9.8 MB 1.1 MB/s eta 0:00:07\n",
      "   ---------------- ----------------------- 3.9/9.8 MB 1.9 MB/s eta 0:00:04\n",
      "   ------------------------ --------------- 6.0/9.8 MB 2.6 MB/s eta 0:00:02\n",
      "   ----------------------------- ---------- 7.3/9.8 MB 2.9 MB/s eta 0:00:01\n",
      "   ------------------------------------ --- 8.9/9.8 MB 3.3 MB/s eta 0:00:01\n",
      "   ---------------------------------------- 9.8/9.8 MB 3.4 MB/s eta 0:00:00\n",
      "Downloading narwhals-2.6.0-py3-none-any.whl (408 kB)\n",
      "Installing collected packages: narwhals, plotly\n",
      "\n",
      "   ---------------------------------------- 0/2 [narwhals]\n",
      "   ---------------------------------------- 0/2 [narwhals]\n",
      "   ---------------------------------------- 0/2 [narwhals]\n",
      "   ---------------------------------------- 0/2 [narwhals]\n",
      "   ---------------------------------------- 0/2 [narwhals]\n",
      "   ---------------------------------------- 0/2 [narwhals]\n",
      "   ---------------------------------------- 0/2 [narwhals]\n",
      "   ---------------------------------------- 0/2 [narwhals]\n",
      "   ---------------------------------------- 0/2 [narwhals]\n",
      "   ---------------------------------------- 0/2 [narwhals]\n",
      "   ---------------------------------------- 0/2 [narwhals]\n",
      "   ---------------------------------------- 0/2 [narwhals]\n",
      "   ---------------------------------------- 0/2 [narwhals]\n",
      "   ---------------------------------------- 0/2 [narwhals]\n",
      "   ---------------------------------------- 0/2 [narwhals]\n",
      "   ---------------------------------------- 0/2 [narwhals]\n",
      "   ---------------------------------------- 0/2 [narwhals]\n",
      "   ---------------------------------------- 0/2 [narwhals]\n",
      "   ---------------------------------------- 0/2 [narwhals]\n",
      "   ---------------------------------------- 0/2 [narwhals]\n",
      "   ---------------------------------------- 0/2 [narwhals]\n",
      "   ---------------------------------------- 0/2 [narwhals]\n",
      "   ---------------------------------------- 0/2 [narwhals]\n",
      "   ---------------------------------------- 0/2 [narwhals]\n",
      "   ---------------------------------------- 0/2 [narwhals]\n",
      "   ---------------------------------------- 0/2 [narwhals]\n",
      "   ---------------------------------------- 0/2 [narwhals]\n",
      "   ---------------------------------------- 0/2 [narwhals]\n",
      "   ---------------------------------------- 0/2 [narwhals]\n",
      "   ---------------------------------------- 0/2 [narwhals]\n",
      "   ---------------------------------------- 0/2 [narwhals]\n",
      "   ---------------------------------------- 0/2 [narwhals]\n",
      "   ---------------------------------------- 0/2 [narwhals]\n",
      "   ---------------------------------------- 0/2 [narwhals]\n",
      "   -------------------- ------------------- 1/2 [plotly]\n",
      "   -------------------- ------------------- 1/2 [plotly]\n",
      "   -------------------- ------------------- 1/2 [plotly]\n",
      "   -------------------- ------------------- 1/2 [plotly]\n",
      "   -------------------- ------------------- 1/2 [plotly]\n",
      "   -------------------- ------------------- 1/2 [plotly]\n",
      "   -------------------- ------------------- 1/2 [plotly]\n",
      "   -------------------- ------------------- 1/2 [plotly]\n",
      "   -------------------- ------------------- 1/2 [plotly]\n",
      "   -------------------- ------------------- 1/2 [plotly]\n",
      "   -------------------- ------------------- 1/2 [plotly]\n",
      "   -------------------- ------------------- 1/2 [plotly]\n",
      "   -------------------- ------------------- 1/2 [plotly]\n",
      "   -------------------- ------------------- 1/2 [plotly]\n",
      "   -------------------- ------------------- 1/2 [plotly]\n",
      "   -------------------- ------------------- 1/2 [plotly]\n",
      "   -------------------- ------------------- 1/2 [plotly]\n",
      "   -------------------- ------------------- 1/2 [plotly]\n",
      "   -------------------- ------------------- 1/2 [plotly]\n",
      "   -------------------- ------------------- 1/2 [plotly]\n",
      "   -------------------- ------------------- 1/2 [plotly]\n",
      "   -------------------- ------------------- 1/2 [plotly]\n",
      "   -------------------- ------------------- 1/2 [plotly]\n",
      "   -------------------- ------------------- 1/2 [plotly]\n",
      "   -------------------- ------------------- 1/2 [plotly]\n",
      "   -------------------- ------------------- 1/2 [plotly]\n",
      "   -------------------- ------------------- 1/2 [plotly]\n",
      "   -------------------- ------------------- 1/2 [plotly]\n",
      "   -------------------- ------------------- 1/2 [plotly]\n",
      "   -------------------- ------------------- 1/2 [plotly]\n",
      "   -------------------- ------------------- 1/2 [plotly]\n",
      "   -------------------- ------------------- 1/2 [plotly]\n",
      "   -------------------- ------------------- 1/2 [plotly]\n",
      "   -------------------- ------------------- 1/2 [plotly]\n",
      "   -------------------- ------------------- 1/2 [plotly]\n",
      "   -------------------- ------------------- 1/2 [plotly]\n",
      "   -------------------- ------------------- 1/2 [plotly]\n",
      "   -------------------- ------------------- 1/2 [plotly]\n",
      "   -------------------- ------------------- 1/2 [plotly]\n",
      "   -------------------- ------------------- 1/2 [plotly]\n",
      "   -------------------- ------------------- 1/2 [plotly]\n",
      "   -------------------- ------------------- 1/2 [plotly]\n",
      "   -------------------- ------------------- 1/2 [plotly]\n",
      "   -------------------- ------------------- 1/2 [plotly]\n",
      "   -------------------- ------------------- 1/2 [plotly]\n",
      "   -------------------- ------------------- 1/2 [plotly]\n",
      "   -------------------- ------------------- 1/2 [plotly]\n",
      "   -------------------- ------------------- 1/2 [plotly]\n",
      "   -------------------- ------------------- 1/2 [plotly]\n",
      "   -------------------- ------------------- 1/2 [plotly]\n",
      "   -------------------- ------------------- 1/2 [plotly]\n",
      "   -------------------- ------------------- 1/2 [plotly]\n",
      "   -------------------- ------------------- 1/2 [plotly]\n",
      "   -------------------- ------------------- 1/2 [plotly]\n",
      "   -------------------- ------------------- 1/2 [plotly]\n",
      "   -------------------- ------------------- 1/2 [plotly]\n",
      "   -------------------- ------------------- 1/2 [plotly]\n",
      "   -------------------- ------------------- 1/2 [plotly]\n",
      "   -------------------- ------------------- 1/2 [plotly]\n",
      "   -------------------- ------------------- 1/2 [plotly]\n",
      "   -------------------- ------------------- 1/2 [plotly]\n",
      "   -------------------- ------------------- 1/2 [plotly]\n",
      "   -------------------- ------------------- 1/2 [plotly]\n",
      "   -------------------- ------------------- 1/2 [plotly]\n",
      "   -------------------- ------------------- 1/2 [plotly]\n",
      "   -------------------- ------------------- 1/2 [plotly]\n",
      "   -------------------- ------------------- 1/2 [plotly]\n",
      "   -------------------- ------------------- 1/2 [plotly]\n",
      "   -------------------- ------------------- 1/2 [plotly]\n",
      "   -------------------- ------------------- 1/2 [plotly]\n",
      "   -------------------- ------------------- 1/2 [plotly]\n",
      "   -------------------- ------------------- 1/2 [plotly]\n",
      "   -------------------- ------------------- 1/2 [plotly]\n",
      "   -------------------- ------------------- 1/2 [plotly]\n",
      "   -------------------- ------------------- 1/2 [plotly]\n",
      "   -------------------- ------------------- 1/2 [plotly]\n",
      "   -------------------- ------------------- 1/2 [plotly]\n",
      "   -------------------- ------------------- 1/2 [plotly]\n",
      "   -------------------- ------------------- 1/2 [plotly]\n",
      "   -------------------- ------------------- 1/2 [plotly]\n",
      "   -------------------- ------------------- 1/2 [plotly]\n",
      "   -------------------- ------------------- 1/2 [plotly]\n",
      "   -------------------- ------------------- 1/2 [plotly]\n",
      "   -------------------- ------------------- 1/2 [plotly]\n",
      "   -------------------- ------------------- 1/2 [plotly]\n",
      "   -------------------- ------------------- 1/2 [plotly]\n",
      "   -------------------- ------------------- 1/2 [plotly]\n",
      "   -------------------- ------------------- 1/2 [plotly]\n",
      "   -------------------- ------------------- 1/2 [plotly]\n",
      "   -------------------- ------------------- 1/2 [plotly]\n",
      "   -------------------- ------------------- 1/2 [plotly]\n",
      "   -------------------- ------------------- 1/2 [plotly]\n",
      "   -------------------- ------------------- 1/2 [plotly]\n",
      "   -------------------- ------------------- 1/2 [plotly]\n",
      "   -------------------- ------------------- 1/2 [plotly]\n",
      "   -------------------- ------------------- 1/2 [plotly]\n",
      "   -------------------- ------------------- 1/2 [plotly]\n",
      "   -------------------- ------------------- 1/2 [plotly]\n",
      "   -------------------- ------------------- 1/2 [plotly]\n",
      "   -------------------- ------------------- 1/2 [plotly]\n",
      "   -------------------- ------------------- 1/2 [plotly]\n",
      "   -------------------- ------------------- 1/2 [plotly]\n",
      "   -------------------- ------------------- 1/2 [plotly]\n",
      "   -------------------- ------------------- 1/2 [plotly]\n",
      "   -------------------- ------------------- 1/2 [plotly]\n",
      "   -------------------- ------------------- 1/2 [plotly]\n",
      "   -------------------- ------------------- 1/2 [plotly]\n",
      "   -------------------- ------------------- 1/2 [plotly]\n",
      "   -------------------- ------------------- 1/2 [plotly]\n",
      "   -------------------- ------------------- 1/2 [plotly]\n",
      "   -------------------- ------------------- 1/2 [plotly]\n",
      "   -------------------- ------------------- 1/2 [plotly]\n",
      "   -------------------- ------------------- 1/2 [plotly]\n",
      "   -------------------- ------------------- 1/2 [plotly]\n",
      "   -------------------- ------------------- 1/2 [plotly]\n",
      "   -------------------- ------------------- 1/2 [plotly]\n",
      "   -------------------- ------------------- 1/2 [plotly]\n",
      "   -------------------- ------------------- 1/2 [plotly]\n",
      "   -------------------- ------------------- 1/2 [plotly]\n",
      "   -------------------- ------------------- 1/2 [plotly]\n",
      "   -------------------- ------------------- 1/2 [plotly]\n",
      "   -------------------- ------------------- 1/2 [plotly]\n",
      "   -------------------- ------------------- 1/2 [plotly]\n",
      "   -------------------- ------------------- 1/2 [plotly]\n",
      "   -------------------- ------------------- 1/2 [plotly]\n",
      "   -------------------- ------------------- 1/2 [plotly]\n",
      "   -------------------- ------------------- 1/2 [plotly]\n",
      "   -------------------- ------------------- 1/2 [plotly]\n",
      "   -------------------- ------------------- 1/2 [plotly]\n",
      "   -------------------- ------------------- 1/2 [plotly]\n",
      "   -------------------- ------------------- 1/2 [plotly]\n",
      "   -------------------- ------------------- 1/2 [plotly]\n",
      "   -------------------- ------------------- 1/2 [plotly]\n",
      "   -------------------- ------------------- 1/2 [plotly]\n",
      "   -------------------- ------------------- 1/2 [plotly]\n",
      "   -------------------- ------------------- 1/2 [plotly]\n",
      "   -------------------- ------------------- 1/2 [plotly]\n",
      "   -------------------- ------------------- 1/2 [plotly]\n",
      "   -------------------- ------------------- 1/2 [plotly]\n",
      "   -------------------- ------------------- 1/2 [plotly]\n",
      "   -------------------- ------------------- 1/2 [plotly]\n",
      "   -------------------- ------------------- 1/2 [plotly]\n",
      "   -------------------- ------------------- 1/2 [plotly]\n",
      "   -------------------- ------------------- 1/2 [plotly]\n",
      "   -------------------- ------------------- 1/2 [plotly]\n",
      "   -------------------- ------------------- 1/2 [plotly]\n",
      "   -------------------- ------------------- 1/2 [plotly]\n",
      "   -------------------- ------------------- 1/2 [plotly]\n",
      "   -------------------- ------------------- 1/2 [plotly]\n",
      "   -------------------- ------------------- 1/2 [plotly]\n",
      "   -------------------- ------------------- 1/2 [plotly]\n",
      "   -------------------- ------------------- 1/2 [plotly]\n",
      "   -------------------- ------------------- 1/2 [plotly]\n",
      "   -------------------- ------------------- 1/2 [plotly]\n",
      "   -------------------- ------------------- 1/2 [plotly]\n",
      "   -------------------- ------------------- 1/2 [plotly]\n",
      "   -------------------- ------------------- 1/2 [plotly]\n",
      "   -------------------- ------------------- 1/2 [plotly]\n",
      "   -------------------- ------------------- 1/2 [plotly]\n",
      "   -------------------- ------------------- 1/2 [plotly]\n",
      "   -------------------- ------------------- 1/2 [plotly]\n",
      "   -------------------- ------------------- 1/2 [plotly]\n",
      "   -------------------- ------------------- 1/2 [plotly]\n",
      "   -------------------- ------------------- 1/2 [plotly]\n",
      "   -------------------- ------------------- 1/2 [plotly]\n",
      "   -------------------- ------------------- 1/2 [plotly]\n",
      "   -------------------- ------------------- 1/2 [plotly]\n",
      "   -------------------- ------------------- 1/2 [plotly]\n",
      "   -------------------- ------------------- 1/2 [plotly]\n",
      "   -------------------- ------------------- 1/2 [plotly]\n",
      "   -------------------- ------------------- 1/2 [plotly]\n",
      "   -------------------- ------------------- 1/2 [plotly]\n",
      "   -------------------- ------------------- 1/2 [plotly]\n",
      "   -------------------- ------------------- 1/2 [plotly]\n",
      "   -------------------- ------------------- 1/2 [plotly]\n",
      "   -------------------- ------------------- 1/2 [plotly]\n",
      "   -------------------- ------------------- 1/2 [plotly]\n",
      "   -------------------- ------------------- 1/2 [plotly]\n",
      "   -------------------- ------------------- 1/2 [plotly]\n",
      "   -------------------- ------------------- 1/2 [plotly]\n",
      "   -------------------- ------------------- 1/2 [plotly]\n",
      "   -------------------- ------------------- 1/2 [plotly]\n",
      "   -------------------- ------------------- 1/2 [plotly]\n",
      "   -------------------- ------------------- 1/2 [plotly]\n",
      "   -------------------- ------------------- 1/2 [plotly]\n",
      "   -------------------- ------------------- 1/2 [plotly]\n",
      "   -------------------- ------------------- 1/2 [plotly]\n",
      "   -------------------- ------------------- 1/2 [plotly]\n",
      "   -------------------- ------------------- 1/2 [plotly]\n",
      "   -------------------- ------------------- 1/2 [plotly]\n",
      "   -------------------- ------------------- 1/2 [plotly]\n",
      "   -------------------- ------------------- 1/2 [plotly]\n",
      "   -------------------- ------------------- 1/2 [plotly]\n",
      "   -------------------- ------------------- 1/2 [plotly]\n",
      "   -------------------- ------------------- 1/2 [plotly]\n",
      "   -------------------- ------------------- 1/2 [plotly]\n",
      "   -------------------- ------------------- 1/2 [plotly]\n",
      "   -------------------- ------------------- 1/2 [plotly]\n",
      "   -------------------- ------------------- 1/2 [plotly]\n",
      "   -------------------- ------------------- 1/2 [plotly]\n",
      "   -------------------- ------------------- 1/2 [plotly]\n",
      "   -------------------- ------------------- 1/2 [plotly]\n",
      "   -------------------- ------------------- 1/2 [plotly]\n",
      "   -------------------- ------------------- 1/2 [plotly]\n",
      "   -------------------- ------------------- 1/2 [plotly]\n",
      "   -------------------- ------------------- 1/2 [plotly]\n",
      "   -------------------- ------------------- 1/2 [plotly]\n",
      "   -------------------- ------------------- 1/2 [plotly]\n",
      "   -------------------- ------------------- 1/2 [plotly]\n",
      "   -------------------- ------------------- 1/2 [plotly]\n",
      "   -------------------- ------------------- 1/2 [plotly]\n",
      "   -------------------- ------------------- 1/2 [plotly]\n",
      "   -------------------- ------------------- 1/2 [plotly]\n",
      "   -------------------- ------------------- 1/2 [plotly]\n",
      "   -------------------- ------------------- 1/2 [plotly]\n",
      "   -------------------- ------------------- 1/2 [plotly]\n",
      "   -------------------- ------------------- 1/2 [plotly]\n",
      "   -------------------- ------------------- 1/2 [plotly]\n",
      "   -------------------- ------------------- 1/2 [plotly]\n",
      "   -------------------- ------------------- 1/2 [plotly]\n",
      "   -------------------- ------------------- 1/2 [plotly]\n",
      "   -------------------- ------------------- 1/2 [plotly]\n",
      "   -------------------- ------------------- 1/2 [plotly]\n",
      "   -------------------- ------------------- 1/2 [plotly]\n",
      "   -------------------- ------------------- 1/2 [plotly]\n",
      "   -------------------- ------------------- 1/2 [plotly]\n",
      "   -------------------- ------------------- 1/2 [plotly]\n",
      "   -------------------- ------------------- 1/2 [plotly]\n",
      "   -------------------- ------------------- 1/2 [plotly]\n",
      "   -------------------- ------------------- 1/2 [plotly]\n",
      "   -------------------- ------------------- 1/2 [plotly]\n",
      "   -------------------- ------------------- 1/2 [plotly]\n",
      "   -------------------- ------------------- 1/2 [plotly]\n",
      "   -------------------- ------------------- 1/2 [plotly]\n",
      "   -------------------- ------------------- 1/2 [plotly]\n",
      "   -------------------- ------------------- 1/2 [plotly]\n",
      "   -------------------- ------------------- 1/2 [plotly]\n",
      "   -------------------- ------------------- 1/2 [plotly]\n",
      "   -------------------- ------------------- 1/2 [plotly]\n",
      "   -------------------- ------------------- 1/2 [plotly]\n",
      "   -------------------- ------------------- 1/2 [plotly]\n",
      "   -------------------- ------------------- 1/2 [plotly]\n",
      "   -------------------- ------------------- 1/2 [plotly]\n",
      "   -------------------- ------------------- 1/2 [plotly]\n",
      "   -------------------- ------------------- 1/2 [plotly]\n",
      "   -------------------- ------------------- 1/2 [plotly]\n",
      "   -------------------- ------------------- 1/2 [plotly]\n",
      "   -------------------- ------------------- 1/2 [plotly]\n",
      "   -------------------- ------------------- 1/2 [plotly]\n",
      "   -------------------- ------------------- 1/2 [plotly]\n",
      "   -------------------- ------------------- 1/2 [plotly]\n",
      "   -------------------- ------------------- 1/2 [plotly]\n",
      "   -------------------- ------------------- 1/2 [plotly]\n",
      "   -------------------- ------------------- 1/2 [plotly]\n",
      "   -------------------- ------------------- 1/2 [plotly]\n",
      "   -------------------- ------------------- 1/2 [plotly]\n",
      "   -------------------- ------------------- 1/2 [plotly]\n",
      "   -------------------- ------------------- 1/2 [plotly]\n",
      "   -------------------- ------------------- 1/2 [plotly]\n",
      "   -------------------- ------------------- 1/2 [plotly]\n",
      "   -------------------- ------------------- 1/2 [plotly]\n",
      "   -------------------- ------------------- 1/2 [plotly]\n",
      "   -------------------- ------------------- 1/2 [plotly]\n",
      "   -------------------- ------------------- 1/2 [plotly]\n",
      "   -------------------- ------------------- 1/2 [plotly]\n",
      "   -------------------- ------------------- 1/2 [plotly]\n",
      "   -------------------- ------------------- 1/2 [plotly]\n",
      "   -------------------- ------------------- 1/2 [plotly]\n",
      "   -------------------- ------------------- 1/2 [plotly]\n",
      "   -------------------- ------------------- 1/2 [plotly]\n",
      "   -------------------- ------------------- 1/2 [plotly]\n",
      "   -------------------- ------------------- 1/2 [plotly]\n",
      "   -------------------- ------------------- 1/2 [plotly]\n",
      "   -------------------- ------------------- 1/2 [plotly]\n",
      "   -------------------- ------------------- 1/2 [plotly]\n",
      "   -------------------- ------------------- 1/2 [plotly]\n",
      "   -------------------- ------------------- 1/2 [plotly]\n",
      "   -------------------- ------------------- 1/2 [plotly]\n",
      "   -------------------- ------------------- 1/2 [plotly]\n",
      "   -------------------- ------------------- 1/2 [plotly]\n",
      "   -------------------- ------------------- 1/2 [plotly]\n",
      "   -------------------- ------------------- 1/2 [plotly]\n",
      "   -------------------- ------------------- 1/2 [plotly]\n",
      "   -------------------- ------------------- 1/2 [plotly]\n",
      "   -------------------- ------------------- 1/2 [plotly]\n",
      "   -------------------- ------------------- 1/2 [plotly]\n",
      "   -------------------- ------------------- 1/2 [plotly]\n",
      "   -------------------- ------------------- 1/2 [plotly]\n",
      "   -------------------- ------------------- 1/2 [plotly]\n",
      "   -------------------- ------------------- 1/2 [plotly]\n",
      "   -------------------- ------------------- 1/2 [plotly]\n",
      "   -------------------- ------------------- 1/2 [plotly]\n",
      "   -------------------- ------------------- 1/2 [plotly]\n",
      "   -------------------- ------------------- 1/2 [plotly]\n",
      "   -------------------- ------------------- 1/2 [plotly]\n",
      "   -------------------- ------------------- 1/2 [plotly]\n",
      "   ---------------------------------------- 2/2 [plotly]\n",
      "\n",
      "Successfully installed narwhals-2.6.0 plotly-6.3.0\n",
      "Note: you may need to restart the kernel to use updated packages.\n"
     ]
    },
    {
     "name": "stderr",
     "output_type": "stream",
     "text": [
      "\n",
      "[notice] A new release of pip is available: 25.1.1 -> 25.2\n",
      "[notice] To update, run: python.exe -m pip install --upgrade pip\n"
     ]
    }
   ],
   "source": [
    "%pip install plotly"
   ]
  },
  {
   "cell_type": "code",
   "execution_count": 5,
   "metadata": {},
   "outputs": [
    {
     "name": "stdout",
     "output_type": "stream",
     "text": [
      "Collecting cufflinks\n",
      "  Downloading cufflinks-0.17.3.tar.gz (81 kB)\n",
      "  Installing build dependencies: started\n",
      "  Installing build dependencies: finished with status 'done'\n",
      "  Getting requirements to build wheel: started\n",
      "  Getting requirements to build wheel: finished with status 'done'\n",
      "  Preparing metadata (pyproject.toml): started\n",
      "  Preparing metadata (pyproject.toml): finished with status 'done'\n",
      "Requirement already satisfied: numpy>=1.9.2 in c:\\users\\user\\appdata\\local\\programs\\python\\python313\\lib\\site-packages (from cufflinks) (2.2.4)\n",
      "Requirement already satisfied: pandas>=0.19.2 in c:\\users\\user\\appdata\\local\\programs\\python\\python313\\lib\\site-packages (from cufflinks) (2.2.3)\n",
      "Requirement already satisfied: plotly>=4.1.1 in c:\\users\\user\\appdata\\local\\programs\\python\\python313\\lib\\site-packages (from cufflinks) (6.3.0)\n",
      "Requirement already satisfied: six>=1.9.0 in c:\\users\\user\\appdata\\roaming\\python\\python313\\site-packages (from cufflinks) (1.17.0)\n",
      "Collecting colorlover>=0.2.1 (from cufflinks)\n",
      "  Downloading colorlover-0.3.0-py3-none-any.whl.metadata (421 bytes)\n",
      "Requirement already satisfied: setuptools>=34.4.1 in c:\\users\\user\\appdata\\local\\programs\\python\\python313\\lib\\site-packages (from cufflinks) (78.1.0)\n",
      "Requirement already satisfied: ipython>=5.3.0 in c:\\users\\user\\appdata\\roaming\\python\\python313\\site-packages (from cufflinks) (9.0.2)\n",
      "Requirement already satisfied: ipywidgets>=7.0.0 in c:\\users\\user\\appdata\\local\\programs\\python\\python313\\lib\\site-packages (from cufflinks) (8.1.5)\n",
      "Requirement already satisfied: colorama in c:\\users\\user\\appdata\\roaming\\python\\python313\\site-packages (from ipython>=5.3.0->cufflinks) (0.4.6)\n",
      "Requirement already satisfied: decorator in c:\\users\\user\\appdata\\roaming\\python\\python313\\site-packages (from ipython>=5.3.0->cufflinks) (5.2.1)\n",
      "Requirement already satisfied: ipython-pygments-lexers in c:\\users\\user\\appdata\\roaming\\python\\python313\\site-packages (from ipython>=5.3.0->cufflinks) (1.1.1)\n",
      "Requirement already satisfied: jedi>=0.16 in c:\\users\\user\\appdata\\roaming\\python\\python313\\site-packages (from ipython>=5.3.0->cufflinks) (0.19.2)\n",
      "Requirement already satisfied: matplotlib-inline in c:\\users\\user\\appdata\\roaming\\python\\python313\\site-packages (from ipython>=5.3.0->cufflinks) (0.1.7)\n",
      "Requirement already satisfied: prompt_toolkit<3.1.0,>=3.0.41 in c:\\users\\user\\appdata\\roaming\\python\\python313\\site-packages (from ipython>=5.3.0->cufflinks) (3.0.50)\n",
      "Requirement already satisfied: pygments>=2.4.0 in c:\\users\\user\\appdata\\roaming\\python\\python313\\site-packages (from ipython>=5.3.0->cufflinks) (2.19.1)\n",
      "Requirement already satisfied: stack_data in c:\\users\\user\\appdata\\roaming\\python\\python313\\site-packages (from ipython>=5.3.0->cufflinks) (0.6.3)\n",
      "Requirement already satisfied: traitlets>=5.13.0 in c:\\users\\user\\appdata\\roaming\\python\\python313\\site-packages (from ipython>=5.3.0->cufflinks) (5.14.3)\n",
      "Requirement already satisfied: wcwidth in c:\\users\\user\\appdata\\roaming\\python\\python313\\site-packages (from prompt_toolkit<3.1.0,>=3.0.41->ipython>=5.3.0->cufflinks) (0.2.13)\n",
      "Requirement already satisfied: comm>=0.1.3 in c:\\users\\user\\appdata\\roaming\\python\\python313\\site-packages (from ipywidgets>=7.0.0->cufflinks) (0.2.2)\n",
      "Requirement already satisfied: widgetsnbextension~=4.0.12 in c:\\users\\user\\appdata\\local\\programs\\python\\python313\\lib\\site-packages (from ipywidgets>=7.0.0->cufflinks) (4.0.13)\n",
      "Requirement already satisfied: jupyterlab-widgets~=3.0.12 in c:\\users\\user\\appdata\\local\\programs\\python\\python313\\lib\\site-packages (from ipywidgets>=7.0.0->cufflinks) (3.0.13)\n",
      "Requirement already satisfied: parso<0.9.0,>=0.8.4 in c:\\users\\user\\appdata\\roaming\\python\\python313\\site-packages (from jedi>=0.16->ipython>=5.3.0->cufflinks) (0.8.4)\n",
      "Requirement already satisfied: python-dateutil>=2.8.2 in c:\\users\\user\\appdata\\roaming\\python\\python313\\site-packages (from pandas>=0.19.2->cufflinks) (2.9.0.post0)\n",
      "Requirement already satisfied: pytz>=2020.1 in c:\\users\\user\\appdata\\local\\programs\\python\\python313\\lib\\site-packages (from pandas>=0.19.2->cufflinks) (2025.2)\n",
      "Requirement already satisfied: tzdata>=2022.7 in c:\\users\\user\\appdata\\local\\programs\\python\\python313\\lib\\site-packages (from pandas>=0.19.2->cufflinks) (2025.2)\n",
      "Requirement already satisfied: narwhals>=1.15.1 in c:\\users\\user\\appdata\\local\\programs\\python\\python313\\lib\\site-packages (from plotly>=4.1.1->cufflinks) (2.6.0)\n",
      "Requirement already satisfied: packaging in c:\\users\\user\\appdata\\roaming\\python\\python313\\site-packages (from plotly>=4.1.1->cufflinks) (24.2)\n",
      "Requirement already satisfied: executing>=1.2.0 in c:\\users\\user\\appdata\\roaming\\python\\python313\\site-packages (from stack_data->ipython>=5.3.0->cufflinks) (2.2.0)\n",
      "Requirement already satisfied: asttokens>=2.1.0 in c:\\users\\user\\appdata\\roaming\\python\\python313\\site-packages (from stack_data->ipython>=5.3.0->cufflinks) (3.0.0)\n",
      "Requirement already satisfied: pure-eval in c:\\users\\user\\appdata\\roaming\\python\\python313\\site-packages (from stack_data->ipython>=5.3.0->cufflinks) (0.2.3)\n",
      "Downloading colorlover-0.3.0-py3-none-any.whl (8.9 kB)\n",
      "Building wheels for collected packages: cufflinks\n",
      "  Building wheel for cufflinks (pyproject.toml): started\n",
      "  Building wheel for cufflinks (pyproject.toml): finished with status 'done'\n",
      "  Created wheel for cufflinks: filename=cufflinks-0.17.3-py3-none-any.whl size=68561 sha256=c58ef90cc285be7113eddc70dfc4f17fa33165f6e812660739f987aa75602766\n",
      "  Stored in directory: c:\\users\\user\\appdata\\local\\pip\\cache\\wheels\\13\\bc\\65\\1ac45445dba1052b5e837dc49f5282c8cb2f934ae9e6f62f0e\n",
      "Successfully built cufflinks\n",
      "Installing collected packages: colorlover, cufflinks\n",
      "\n",
      "   -------------------- ------------------- 1/2 [cufflinks]\n",
      "   -------------------- ------------------- 1/2 [cufflinks]\n",
      "   -------------------- ------------------- 1/2 [cufflinks]\n",
      "   ---------------------------------------- 2/2 [cufflinks]\n",
      "\n",
      "Successfully installed colorlover-0.3.0 cufflinks-0.17.3\n",
      "Note: you may need to restart the kernel to use updated packages.\n"
     ]
    },
    {
     "name": "stderr",
     "output_type": "stream",
     "text": [
      "\n",
      "[notice] A new release of pip is available: 25.1.1 -> 25.2\n",
      "[notice] To update, run: python.exe -m pip install --upgrade pip\n"
     ]
    }
   ],
   "source": [
    "%pip install cufflinks"
   ]
  },
  {
   "cell_type": "code",
   "execution_count": 6,
   "metadata": {},
   "outputs": [
    {
     "data": {
      "text/html": [
       "        <script type=\"text/javascript\">\n",
       "        window.PlotlyConfig = {MathJaxConfig: 'local'};\n",
       "        if (window.MathJax && window.MathJax.Hub && window.MathJax.Hub.Config) {window.MathJax.Hub.Config({SVG: {font: \"STIX-Web\"}});}\n",
       "        </script>\n",
       "        <script type=\"module\">import \"https://cdn.plot.ly/plotly-3.1.0.min\"</script>\n",
       "        "
      ]
     },
     "metadata": {},
     "output_type": "display_data"
    }
   ],
   "source": [
    "import plotly.offline as py\n",
    "import plotly.express as px\n",
    "\n",
    "import plotly.graph_objs as go\n",
    "import plotly.figure_factory as ff\n",
    "import cufflinks as cf\n",
    "\n",
    "cf.set_config_file(offline=True, world_readable=False)"
   ]
  },
  {
   "cell_type": "code",
   "execution_count": 7,
   "metadata": {},
   "outputs": [],
   "source": [
    "# Wonhee's special methods to display large DataFrames\n",
    "import ipywidgets as widgets\n",
    "from ipywidgets import interact, interactive, fixed, interact_manual\n",
    "def df_interact(df, nrows=7, ncols=7):\n",
    "    '''\n",
    "    Outputs sliders that show rows and columns of df\n",
    "    '''\n",
    "    def peek(row=0, col=0):\n",
    "        return df.iloc[row:row + nrows, col:col + ncols]\n",
    "\n",
    "    row_arg = (0, len(df), nrows) if len(df) > nrows else fixed(0)\n",
    "    col_arg = ((0, len(df.columns), ncols)\n",
    "               if len(df.columns) > ncols else fixed(0))\n",
    "    \n",
    "    interact(peek, row=row_arg, col=col_arg)\n",
    "    print('({} rows, {} columns) total'.format(df.shape[0], df.shape[1]))\n",
    "\n",
    "def display_df(df, rows=pd.options.display.max_rows,\n",
    "               cols=pd.options.display.max_columns):\n",
    "    with pd.option_context('display.max_rows', rows,\n",
    "                           'display.max_columns', cols):\n",
    "        display(df)"
   ]
  },
  {
   "cell_type": "markdown",
   "metadata": {},
   "source": [
    "# Introduction\n",
    "\n",
    "In this lecture we examine the process of Exploratory Data Analysis (EDA).  Often you will acquire or even be given a collection of data in order to conduct some analysis or answer some questions. The first step in using that data is to ensure that it is in the correct form (cleaned) and that you understand its properties and limitations (EDA).  Often as you explore data through EDA you will identify additional transformations that may be required before the data is ready for analysis.\n",
    "\n",
    "In this notebook we obtain crime data from the city of Berkeley's public records.  Ultimately, our goal might be to understand policing patterns but before we get there we must first clean and understand the data. "
   ]
  },
  {
   "cell_type": "markdown",
   "metadata": {},
   "source": [
    "# Getting the Data\n",
    "\n",
    "To begin this analysis we want to get data about crimes in Berkeley.  Remarkably, the city of Berkeley maintains an [Open Data Portal](https://data.cityofberkeley.info/) for citizens to access data about the city.  We will be examining the:\n",
    "\n",
    "[Call Data](https://data.cityofberkeley.info/Public-Safety/Berkeley-PD-Calls-for-Service/k2nh-s5h5)\n",
    "\n",
    "Fortunately, this data is also relatively well document with detailed descriptions of what it contains.  Here are summaries of the fields in the data:\n",
    "\n",
    "### Calls Data\n",
    "<img src=\"calls_desc.png\" width=800px />\n",
    "\n",
    "\n"
   ]
  },
  {
   "cell_type": "markdown",
   "metadata": {},
   "source": [
    "\n",
    "## Most data has bad documentation:\n",
    "\n",
    "Unfortunately, data is seldom well documented and when it is you may not be able to trust the documentation. It is therefore critical that when we download the data we investigate the fields and verify that it reflects the assumptions made in the documentation.\n",
    "\n"
   ]
  },
  {
   "cell_type": "markdown",
   "metadata": {},
   "source": [
    "## Load the Data"
   ]
  },
  {
   "cell_type": "code",
   "execution_count": 8,
   "metadata": {},
   "outputs": [],
   "source": [
    "calls_file = \"calls_for_service.csv\""
   ]
  },
  {
   "cell_type": "markdown",
   "metadata": {},
   "source": [
    "# Exploring the data\n",
    "\n",
    "Now that we have obtained the data we want to understand its:\n",
    "\n",
    "* **Structure/Types** -- the \"shape\"/\"type\" of a data file\n",
    "* **Granularity** -- how fine/coarse is each datum\n",
    "* **Scope** -- how (in)complete is the data\n",
    "* **Temporality** -- how is the data situated in time\n",
    "* **Faithfulness** -- how well does the data capture \"reality\"\n",
    "\n"
   ]
  },
  {
   "cell_type": "markdown",
   "metadata": {},
   "source": [
    "## Structure\n",
    "\n",
    "Before we even begin to load the data it often helps to understand a little about the high-level structure:\n",
    "\n",
    "1. How much data do I have?\n",
    "1. How is it formatted?"
   ]
  },
  {
   "cell_type": "markdown",
   "metadata": {},
   "source": [
    "### How big is the data?\n",
    "\n",
    "I often like to start my analysis by getting a rough estimate of the size of the data.  This will help inform the tools I use and how I view the data.  If it is relatively small I might use a text editor or a spreadsheet to look at the data.  If it is larger, I might jump to more programmatic exploration or even used distributed computing tools.\n",
    "\n",
    "However here we will use python tools to probe the file."
   ]
  },
  {
   "cell_type": "code",
   "execution_count": 10,
   "metadata": {
    "ExecuteTime": {
     "end_time": "2018-02-02T15:15:18.961511Z",
     "start_time": "2018-02-02T15:15:18.955308Z"
    }
   },
   "outputs": [
    {
     "name": "stdout",
     "output_type": "stream",
     "text": [
      "calls_for_service.csv is 0.941358 MB\n"
     ]
    }
   ],
   "source": [
    "import os\n",
    "print(calls_file, \"is\",  os.path.getsize(calls_file) / 1e6, \"MB\")"
   ]
  },
  {
   "cell_type": "markdown",
   "metadata": {},
   "source": [
    "All the files are relatively small and we could comfortable examine them in a text editors.  \n",
    "\n",
    "In listing the files I noticed that the names suggest that they are all text file formats:\n",
    "* **CSV**: Comma separated values is a very standard table format.\n",
    "\n",
    "We will dive into the formats in a moment.  However because these are text data I might also want to investigate the number of lines which often correspond to records."
   ]
  },
  {
   "cell_type": "code",
   "execution_count": 11,
   "metadata": {
    "ExecuteTime": {
     "end_time": "2018-02-02T15:15:18.993584Z",
     "start_time": "2018-02-02T15:15:18.989848Z"
    }
   },
   "outputs": [
    {
     "name": "stdout",
     "output_type": "stream",
     "text": [
      "calls_for_service.csv is 15452 lines.\n"
     ]
    }
   ],
   "source": [
    "with open(calls_file, \"r\") as f:\n",
    "    print(calls_file, \"is\", sum(1 for l in f), \"lines.\")"
   ]
  },
  {
   "cell_type": "markdown",
   "metadata": {},
   "source": [
    "\n",
    "### What is the file format?  (Can we trust extensions?)\n",
    "\n",
    "We already noticed that the file end in `csv` which suggests that these is comma separated file.  However, we can't always rely on the naming as this is only a convention.  For example, here we picked the name of the file when downloading based on some hints in the URL.\n",
    "\n",
    "\n",
    "\n",
    "**Often files will have incorrect extensions or no extension at all.**\n",
    "\n",
    "Let's assume that these are text files (and do not contain binary encoded data) so we can print a \"few lines\" to get a better understanding of the file."
   ]
  },
  {
   "cell_type": "code",
   "execution_count": 12,
   "metadata": {},
   "outputs": [
    {
     "name": "stdout",
     "output_type": "stream",
     "text": [
      "calls_for_service.csv ======================\n",
      "0 \t 'CASENO,OFFENSE,EVENTDT,EVENTTM,CVLEGEND,CVDOW,InDbDate,Block_Location,BLKADDR,City,State\\n'\n",
      "1 \t '19059951,DISTURBANCE,10/22/2019 12:00:00 AM,12:06,DISORDERLY CONDUCT,2,06/25/2020 07:00:15 AM,\"2950 DURANT ST\\n'\n",
      "2 \t 'Berkeley, CA\",2950 DURANT ST,Berkeley,CA\\n'\n",
      "3 \t '19039736,DISTURBANCE,07/21/2019 12:00:00 AM,04:30,DISORDERLY CONDUCT,0,06/25/2020 07:00:11 AM,\"300 CANYON RD\\n'\n",
      "4 \t 'Berkeley, CA\",300 CANYON RD,Berkeley,CA\\n'\n",
      "5 \t '19066056,BURGLARY AUTO,11/19/2019 12:00:00 AM,22:00,BURGLARY - VEHICLE,2,06/25/2020 07:00:16 AM,\"4TH ST\\n'\n",
      "6 \t 'Berkeley, CA\",4TH ST,Berkeley,CA\\n'\n",
      "7 \t '19051156,VEHICLE STOLEN,09/10/2019 12:00:00 AM,19:00,MOTOR VEHICLE THEFT,2,06/25/2020 07:00:13 AM,\"100 MENLO PL\\n'\n",
      "8 \t 'Berkeley, CA\",100 MENLO PL,Berkeley,CA\\n'\n",
      "9 \t '19068960,BURGLARY AUTO,12/05/2019 12:00:00 AM,15:45,BURGLARY - VEHICLE,4,06/25/2020 07:00:17 AM,\"800 HILLCREST RD\\n'\n",
      "10 \t 'Berkeley, CA\",800 HILLCREST RD,Berkeley,CA\\n'\n",
      "11 \t '19092685,BURGLARY AUTO,12/02/2019 12:00:00 AM,09:10,BURGLARY - VEHICLE,1,06/25/2020 07:00:17 AM,\"MARINA BLVD\\n'\n",
      "12 \t 'Berkeley, CA\",MARINA BLVD,Berkeley,CA\\n'\n",
      "13 \t '19043231,SEXUAL ASSAULT FEL.,08/04/2019 12:00:00 AM,00:00,SEX CRIME,0,06/25/2020 07:00:12 AM,\"<UNKNOWN>\\n'\n",
      "14 \t 'Berkeley, CA\",<UNKNOWN>,Berkeley,CA\\n'\n",
      "15 \t '19092551,THEFT MISD. (UNDER $950),11/17/2019 12:00:00 AM,12:00,LARCENY,0,06/25/2020 07:00:16 AM,\"ASHBY AVE\\n'\n",
      "16 \t 'Berkeley, CA\",ASHBY AVE,Berkeley,CA\\n'\n",
      "17 \t '19053206,THEFT FROM AUTO,09/15/2019 12:00:00 AM,21:00,LARCENY - FROM VEHICLE,0,06/25/2020 07:00:13 AM,\"500 ETON CT\\n'\n",
      "18 \t 'Berkeley, CA\",500 ETON CT,Berkeley,CA\\n'\n",
      "19 \t '19056444,NARCOTICS,10/05/2019 12:00:00 AM,15:07,DRUG VIOLATION,6,06/25/2020 07:00:14 AM,\"1605 62ND TER\\n'\n"
     ]
    }
   ],
   "source": [
    "print(calls_file, \"======================\")\n",
    "with open(calls_file, \"r\") as f:\n",
    "    for i in range(20):\n",
    "        print(i, \"\\t\", repr(f.readline()))"
   ]
  },
  {
   "cell_type": "markdown",
   "metadata": {},
   "source": [
    "### What are some observations about `Calls` data?\n",
    "\n",
    "1. It appears to be in comma separated value (CSV) format.\n",
    "1. First line contains the column headings.\n",
    "1. There are lots of **new-line** `\\n` characters:\n",
    "    * at the ends of lines (delimiting records?)\n",
    "    * *within records* as part of addresses.\n",
    "1. There are **\"quoted\"** strings in the `Block_Location` column:\n",
    "```\n",
    "\"2500 LE CONTE AVE\n",
    "Berkeley, CA\n",
    "(37.876965, -122.260544)\"\n",
    "```\n",
    "these are going to be difficult.  What are the implications on our earlier line count calculations?"
   ]
  },
  {
   "cell_type": "markdown",
   "metadata": {},
   "source": [
    "\n",
    "## Loading the Data\n",
    "\n",
    "We will now attempt to load the data into python.  We will be using the Pandas dataframe library for basic tabular data analysis.  Fortunately, the Pandas library has some relatively sophisticated functions for loading data. "
   ]
  },
  {
   "cell_type": "markdown",
   "metadata": {},
   "source": [
    "\n",
    "### Loading the Calls Data\n",
    "\n",
    "Because the file appears to be a relatively well formatted CSV we will attempt to load it directly and allow the Pandas Library to deduce column headers.  (Always check that first row and column look correct after loading.)"
   ]
  },
  {
   "cell_type": "code",
   "execution_count": 13,
   "metadata": {
    "ExecuteTime": {
     "end_time": "2018-02-02T15:15:19.115040Z",
     "start_time": "2018-02-02T15:15:19.070620Z"
    }
   },
   "outputs": [
    {
     "data": {
      "text/html": [
       "<div>\n",
       "<style scoped>\n",
       "    .dataframe tbody tr th:only-of-type {\n",
       "        vertical-align: middle;\n",
       "    }\n",
       "\n",
       "    .dataframe tbody tr th {\n",
       "        vertical-align: top;\n",
       "    }\n",
       "\n",
       "    .dataframe thead th {\n",
       "        text-align: right;\n",
       "    }\n",
       "</style>\n",
       "<table border=\"1\" class=\"dataframe\">\n",
       "  <thead>\n",
       "    <tr style=\"text-align: right;\">\n",
       "      <th></th>\n",
       "      <th>CASENO</th>\n",
       "      <th>OFFENSE</th>\n",
       "      <th>EVENTDT</th>\n",
       "      <th>EVENTTM</th>\n",
       "      <th>CVLEGEND</th>\n",
       "      <th>CVDOW</th>\n",
       "      <th>InDbDate</th>\n",
       "      <th>Block_Location</th>\n",
       "      <th>BLKADDR</th>\n",
       "      <th>City</th>\n",
       "      <th>State</th>\n",
       "    </tr>\n",
       "  </thead>\n",
       "  <tbody>\n",
       "    <tr>\n",
       "      <th>0</th>\n",
       "      <td>19059951</td>\n",
       "      <td>DISTURBANCE</td>\n",
       "      <td>10/22/2019 12:00:00 AM</td>\n",
       "      <td>12:06</td>\n",
       "      <td>DISORDERLY CONDUCT</td>\n",
       "      <td>2</td>\n",
       "      <td>06/25/2020 07:00:15 AM</td>\n",
       "      <td>2950 DURANT ST\\nBerkeley, CA</td>\n",
       "      <td>2950 DURANT ST</td>\n",
       "      <td>Berkeley</td>\n",
       "      <td>CA</td>\n",
       "    </tr>\n",
       "    <tr>\n",
       "      <th>1</th>\n",
       "      <td>19039736</td>\n",
       "      <td>DISTURBANCE</td>\n",
       "      <td>07/21/2019 12:00:00 AM</td>\n",
       "      <td>04:30</td>\n",
       "      <td>DISORDERLY CONDUCT</td>\n",
       "      <td>0</td>\n",
       "      <td>06/25/2020 07:00:11 AM</td>\n",
       "      <td>300 CANYON RD\\nBerkeley, CA</td>\n",
       "      <td>300 CANYON RD</td>\n",
       "      <td>Berkeley</td>\n",
       "      <td>CA</td>\n",
       "    </tr>\n",
       "    <tr>\n",
       "      <th>2</th>\n",
       "      <td>19066056</td>\n",
       "      <td>BURGLARY AUTO</td>\n",
       "      <td>11/19/2019 12:00:00 AM</td>\n",
       "      <td>22:00</td>\n",
       "      <td>BURGLARY - VEHICLE</td>\n",
       "      <td>2</td>\n",
       "      <td>06/25/2020 07:00:16 AM</td>\n",
       "      <td>4TH ST\\nBerkeley, CA</td>\n",
       "      <td>4TH ST</td>\n",
       "      <td>Berkeley</td>\n",
       "      <td>CA</td>\n",
       "    </tr>\n",
       "    <tr>\n",
       "      <th>3</th>\n",
       "      <td>19051156</td>\n",
       "      <td>VEHICLE STOLEN</td>\n",
       "      <td>09/10/2019 12:00:00 AM</td>\n",
       "      <td>19:00</td>\n",
       "      <td>MOTOR VEHICLE THEFT</td>\n",
       "      <td>2</td>\n",
       "      <td>06/25/2020 07:00:13 AM</td>\n",
       "      <td>100 MENLO PL\\nBerkeley, CA</td>\n",
       "      <td>100 MENLO PL</td>\n",
       "      <td>Berkeley</td>\n",
       "      <td>CA</td>\n",
       "    </tr>\n",
       "    <tr>\n",
       "      <th>4</th>\n",
       "      <td>19068960</td>\n",
       "      <td>BURGLARY AUTO</td>\n",
       "      <td>12/05/2019 12:00:00 AM</td>\n",
       "      <td>15:45</td>\n",
       "      <td>BURGLARY - VEHICLE</td>\n",
       "      <td>4</td>\n",
       "      <td>06/25/2020 07:00:17 AM</td>\n",
       "      <td>800 HILLCREST RD\\nBerkeley, CA</td>\n",
       "      <td>800 HILLCREST RD</td>\n",
       "      <td>Berkeley</td>\n",
       "      <td>CA</td>\n",
       "    </tr>\n",
       "  </tbody>\n",
       "</table>\n",
       "</div>"
      ],
      "text/plain": [
       "     CASENO         OFFENSE                 EVENTDT EVENTTM  \\\n",
       "0  19059951     DISTURBANCE  10/22/2019 12:00:00 AM   12:06   \n",
       "1  19039736     DISTURBANCE  07/21/2019 12:00:00 AM   04:30   \n",
       "2  19066056   BURGLARY AUTO  11/19/2019 12:00:00 AM   22:00   \n",
       "3  19051156  VEHICLE STOLEN  09/10/2019 12:00:00 AM   19:00   \n",
       "4  19068960   BURGLARY AUTO  12/05/2019 12:00:00 AM   15:45   \n",
       "\n",
       "              CVLEGEND  CVDOW                InDbDate  \\\n",
       "0   DISORDERLY CONDUCT      2  06/25/2020 07:00:15 AM   \n",
       "1   DISORDERLY CONDUCT      0  06/25/2020 07:00:11 AM   \n",
       "2   BURGLARY - VEHICLE      2  06/25/2020 07:00:16 AM   \n",
       "3  MOTOR VEHICLE THEFT      2  06/25/2020 07:00:13 AM   \n",
       "4   BURGLARY - VEHICLE      4  06/25/2020 07:00:17 AM   \n",
       "\n",
       "                   Block_Location           BLKADDR      City State  \n",
       "0    2950 DURANT ST\\nBerkeley, CA    2950 DURANT ST  Berkeley    CA  \n",
       "1     300 CANYON RD\\nBerkeley, CA     300 CANYON RD  Berkeley    CA  \n",
       "2            4TH ST\\nBerkeley, CA            4TH ST  Berkeley    CA  \n",
       "3      100 MENLO PL\\nBerkeley, CA      100 MENLO PL  Berkeley    CA  \n",
       "4  800 HILLCREST RD\\nBerkeley, CA  800 HILLCREST RD  Berkeley    CA  "
      ]
     },
     "execution_count": 13,
     "metadata": {},
     "output_type": "execute_result"
    }
   ],
   "source": [
    "calls = pd.read_csv(calls_file)\n",
    "calls.head()"
   ]
  },
  {
   "cell_type": "markdown",
   "metadata": {},
   "source": [
    "How many records did we get?"
   ]
  },
  {
   "cell_type": "code",
   "execution_count": 14,
   "metadata": {
    "ExecuteTime": {
     "end_time": "2018-02-02T15:15:19.122345Z",
     "start_time": "2018-02-02T15:15:19.118071Z"
    }
   },
   "outputs": [
    {
     "data": {
      "text/plain": [
       "5227"
      ]
     },
     "execution_count": 14,
     "metadata": {},
     "output_type": "execute_result"
    }
   ],
   "source": [
    "calls.shape[0]"
   ]
  },
  {
   "cell_type": "markdown",
   "metadata": {
    "solution2": "hidden",
    "solution2_first": true
   },
   "source": [
    "### Preliminary observations on the data?"
   ]
  },
  {
   "cell_type": "markdown",
   "metadata": {
    "solution2": "hidden"
   },
   "source": [
    "1. `EVENTDT` -- Contain the incorrect time stamp\n",
    "1. `EVENTTM` -- Contains the time in 24 hour format (What timezone?)\n",
    "1. `CVDOW` -- Appears to be some encoding of the day of the week (see data documentation).\n",
    "1. `InDbDate` -- Appears to be correctly formatted and appears pretty consistent in time.\n",
    "1. **`Block_Location` -- Errr, what a mess!  newline characters, and Geocoordinates all merged!!  Fortunately, this field was \"quoted\" otherwise we would have had trouble parsing the file. (why?)**\n",
    "1. `BLKADDR` -- This appears to be the address in Block Location.\n",
    "1. `City` and `State` seem redundant given this is supposed to be the city of Berkeley dataset."
   ]
  },
  {
   "cell_type": "markdown",
   "metadata": {},
   "source": [
    "\n",
    "### Checking that the City and State fields are all Berkeley CA\n",
    "\n",
    "We notice that there are city and state columns.  Since this is supposed to be data for the city of Berkeley these columns appear to be redundant.  Let's quickly compute the number of occurences of unique values for these two columns."
   ]
  },
  {
   "cell_type": "code",
   "execution_count": 15,
   "metadata": {
    "ExecuteTime": {
     "end_time": "2018-02-02T15:15:19.148804Z",
     "start_time": "2018-02-02T15:15:19.125216Z"
    }
   },
   "outputs": [
    {
     "data": {
      "text/html": [
       "<div>\n",
       "<style scoped>\n",
       "    .dataframe tbody tr th:only-of-type {\n",
       "        vertical-align: middle;\n",
       "    }\n",
       "\n",
       "    .dataframe tbody tr th {\n",
       "        vertical-align: top;\n",
       "    }\n",
       "\n",
       "    .dataframe thead th {\n",
       "        text-align: right;\n",
       "    }\n",
       "</style>\n",
       "<table border=\"1\" class=\"dataframe\">\n",
       "  <thead>\n",
       "    <tr style=\"text-align: right;\">\n",
       "      <th></th>\n",
       "      <th></th>\n",
       "      <th>CASENO</th>\n",
       "      <th>OFFENSE</th>\n",
       "      <th>EVENTDT</th>\n",
       "      <th>EVENTTM</th>\n",
       "      <th>CVLEGEND</th>\n",
       "      <th>CVDOW</th>\n",
       "      <th>InDbDate</th>\n",
       "      <th>Block_Location</th>\n",
       "      <th>BLKADDR</th>\n",
       "    </tr>\n",
       "    <tr>\n",
       "      <th>City</th>\n",
       "      <th>State</th>\n",
       "      <th></th>\n",
       "      <th></th>\n",
       "      <th></th>\n",
       "      <th></th>\n",
       "      <th></th>\n",
       "      <th></th>\n",
       "      <th></th>\n",
       "      <th></th>\n",
       "      <th></th>\n",
       "    </tr>\n",
       "  </thead>\n",
       "  <tbody>\n",
       "    <tr>\n",
       "      <th>Berkeley</th>\n",
       "      <th>CA</th>\n",
       "      <td>5227</td>\n",
       "      <td>5227</td>\n",
       "      <td>5227</td>\n",
       "      <td>5227</td>\n",
       "      <td>5227</td>\n",
       "      <td>5227</td>\n",
       "      <td>5227</td>\n",
       "      <td>5227</td>\n",
       "      <td>5190</td>\n",
       "    </tr>\n",
       "  </tbody>\n",
       "</table>\n",
       "</div>"
      ],
      "text/plain": [
       "                CASENO  OFFENSE  EVENTDT  EVENTTM  CVLEGEND  CVDOW  InDbDate  \\\n",
       "City     State                                                                 \n",
       "Berkeley CA       5227     5227     5227     5227      5227   5227      5227   \n",
       "\n",
       "                Block_Location  BLKADDR  \n",
       "City     State                           \n",
       "Berkeley CA               5227     5190  "
      ]
     },
     "execution_count": 15,
     "metadata": {},
     "output_type": "execute_result"
    }
   ],
   "source": [
    "calls.groupby([\"City\", \"State\"]).count()"
   ]
  },
  {
   "cell_type": "markdown",
   "metadata": {},
   "source": [
    "### Decoding day of the week\n",
    "\n",
    "According to the documentation `CVDOW=0` is Sunday, `CVDOW=1` is Monday, ...,  Therefore we can make a series to decode the day of the week for each record and join that series with the calls data."
   ]
  },
  {
   "cell_type": "code",
   "execution_count": 16,
   "metadata": {
    "ExecuteTime": {
     "end_time": "2018-02-02T15:15:19.160218Z",
     "start_time": "2018-02-02T15:15:19.152680Z"
    }
   },
   "outputs": [
    {
     "data": {
      "text/plain": [
       "0       Sunday\n",
       "1       Monday\n",
       "2      Tuesday\n",
       "3    Wednesday\n",
       "4     Thursday\n",
       "5       Friday\n",
       "6     Saturday\n",
       "Name: Day, dtype: object"
      ]
     },
     "execution_count": 16,
     "metadata": {},
     "output_type": "execute_result"
    }
   ],
   "source": [
    "dow = pd.Series([\"Sunday\", \"Monday\", \"Tuesday\", \"Wednesday\", \"Thursday\", \"Friday\", \"Saturday\"], name=\"Day\")\n",
    "dow"
   ]
  },
  {
   "cell_type": "code",
   "execution_count": 17,
   "metadata": {},
   "outputs": [],
   "source": [
    "df_dow = pd.DataFrame(dow)"
   ]
  },
  {
   "cell_type": "markdown",
   "metadata": {},
   "source": [
    "#### Notice that I am dropping the column if it already exists to\n",
    "#### make it so I can run this cell more than once"
   ]
  },
  {
   "cell_type": "code",
   "execution_count": 22,
   "metadata": {
    "ExecuteTime": {
     "end_time": "2018-02-02T15:15:19.224038Z",
     "start_time": "2018-02-02T15:15:19.189254Z"
    }
   },
   "outputs": [
    {
     "data": {
      "text/html": [
       "<div>\n",
       "<style scoped>\n",
       "    .dataframe tbody tr th:only-of-type {\n",
       "        vertical-align: middle;\n",
       "    }\n",
       "\n",
       "    .dataframe tbody tr th {\n",
       "        vertical-align: top;\n",
       "    }\n",
       "\n",
       "    .dataframe thead th {\n",
       "        text-align: right;\n",
       "    }\n",
       "</style>\n",
       "<table border=\"1\" class=\"dataframe\">\n",
       "  <thead>\n",
       "    <tr style=\"text-align: right;\">\n",
       "      <th></th>\n",
       "      <th>CASENO</th>\n",
       "      <th>OFFENSE</th>\n",
       "      <th>EVENTDT</th>\n",
       "      <th>EVENTTM</th>\n",
       "      <th>CVLEGEND</th>\n",
       "      <th>CVDOW</th>\n",
       "      <th>InDbDate</th>\n",
       "      <th>Block_Location</th>\n",
       "      <th>BLKADDR</th>\n",
       "      <th>City</th>\n",
       "      <th>State</th>\n",
       "      <th>Day</th>\n",
       "    </tr>\n",
       "  </thead>\n",
       "  <tbody>\n",
       "    <tr>\n",
       "      <th>0</th>\n",
       "      <td>19059951</td>\n",
       "      <td>DISTURBANCE</td>\n",
       "      <td>10/22/2019 12:00:00 AM</td>\n",
       "      <td>12:06</td>\n",
       "      <td>DISORDERLY CONDUCT</td>\n",
       "      <td>2</td>\n",
       "      <td>06/25/2020 07:00:15 AM</td>\n",
       "      <td>2950 DURANT ST\\nBerkeley, CA</td>\n",
       "      <td>2950 DURANT ST</td>\n",
       "      <td>Berkeley</td>\n",
       "      <td>CA</td>\n",
       "      <td>Tuesday</td>\n",
       "    </tr>\n",
       "    <tr>\n",
       "      <th>1</th>\n",
       "      <td>19039736</td>\n",
       "      <td>DISTURBANCE</td>\n",
       "      <td>07/21/2019 12:00:00 AM</td>\n",
       "      <td>04:30</td>\n",
       "      <td>DISORDERLY CONDUCT</td>\n",
       "      <td>0</td>\n",
       "      <td>06/25/2020 07:00:11 AM</td>\n",
       "      <td>300 CANYON RD\\nBerkeley, CA</td>\n",
       "      <td>300 CANYON RD</td>\n",
       "      <td>Berkeley</td>\n",
       "      <td>CA</td>\n",
       "      <td>Sunday</td>\n",
       "    </tr>\n",
       "    <tr>\n",
       "      <th>2</th>\n",
       "      <td>19066056</td>\n",
       "      <td>BURGLARY AUTO</td>\n",
       "      <td>11/19/2019 12:00:00 AM</td>\n",
       "      <td>22:00</td>\n",
       "      <td>BURGLARY - VEHICLE</td>\n",
       "      <td>2</td>\n",
       "      <td>06/25/2020 07:00:16 AM</td>\n",
       "      <td>4TH ST\\nBerkeley, CA</td>\n",
       "      <td>4TH ST</td>\n",
       "      <td>Berkeley</td>\n",
       "      <td>CA</td>\n",
       "      <td>Tuesday</td>\n",
       "    </tr>\n",
       "    <tr>\n",
       "      <th>3</th>\n",
       "      <td>19051156</td>\n",
       "      <td>VEHICLE STOLEN</td>\n",
       "      <td>09/10/2019 12:00:00 AM</td>\n",
       "      <td>19:00</td>\n",
       "      <td>MOTOR VEHICLE THEFT</td>\n",
       "      <td>2</td>\n",
       "      <td>06/25/2020 07:00:13 AM</td>\n",
       "      <td>100 MENLO PL\\nBerkeley, CA</td>\n",
       "      <td>100 MENLO PL</td>\n",
       "      <td>Berkeley</td>\n",
       "      <td>CA</td>\n",
       "      <td>Tuesday</td>\n",
       "    </tr>\n",
       "    <tr>\n",
       "      <th>4</th>\n",
       "      <td>19068960</td>\n",
       "      <td>BURGLARY AUTO</td>\n",
       "      <td>12/05/2019 12:00:00 AM</td>\n",
       "      <td>15:45</td>\n",
       "      <td>BURGLARY - VEHICLE</td>\n",
       "      <td>4</td>\n",
       "      <td>06/25/2020 07:00:17 AM</td>\n",
       "      <td>800 HILLCREST RD\\nBerkeley, CA</td>\n",
       "      <td>800 HILLCREST RD</td>\n",
       "      <td>Berkeley</td>\n",
       "      <td>CA</td>\n",
       "      <td>Thursday</td>\n",
       "    </tr>\n",
       "    <tr>\n",
       "      <th>...</th>\n",
       "      <td>...</td>\n",
       "      <td>...</td>\n",
       "      <td>...</td>\n",
       "      <td>...</td>\n",
       "      <td>...</td>\n",
       "      <td>...</td>\n",
       "      <td>...</td>\n",
       "      <td>...</td>\n",
       "      <td>...</td>\n",
       "      <td>...</td>\n",
       "      <td>...</td>\n",
       "      <td>...</td>\n",
       "    </tr>\n",
       "    <tr>\n",
       "      <th>5222</th>\n",
       "      <td>19092587</td>\n",
       "      <td>BURGLARY RESIDENTIAL</td>\n",
       "      <td>11/21/2019 12:00:00 AM</td>\n",
       "      <td>04:45</td>\n",
       "      <td>BURGLARY - RESIDENTIAL</td>\n",
       "      <td>4</td>\n",
       "      <td>06/25/2020 07:00:16 AM</td>\n",
       "      <td>3100 ELLIS ST\\nBerkeley, CA\\n(37.852066, -122....</td>\n",
       "      <td>3100 ELLIS ST</td>\n",
       "      <td>Berkeley</td>\n",
       "      <td>CA</td>\n",
       "      <td>Thursday</td>\n",
       "    </tr>\n",
       "    <tr>\n",
       "      <th>5223</th>\n",
       "      <td>19043809</td>\n",
       "      <td>DISTURBANCE</td>\n",
       "      <td>08/08/2019 12:00:00 AM</td>\n",
       "      <td>23:50</td>\n",
       "      <td>DISORDERLY CONDUCT</td>\n",
       "      <td>4</td>\n",
       "      <td>06/25/2020 07:00:11 AM</td>\n",
       "      <td>2500 DURANT AV\\nBerkeley, CA\\n(37.867852, -122...</td>\n",
       "      <td>2500 DURANT AV</td>\n",
       "      <td>Berkeley</td>\n",
       "      <td>CA</td>\n",
       "      <td>Thursday</td>\n",
       "    </tr>\n",
       "    <tr>\n",
       "      <th>5224</th>\n",
       "      <td>19092364</td>\n",
       "      <td>BURGLARY AUTO</td>\n",
       "      <td>10/26/2019 12:00:00 AM</td>\n",
       "      <td>16:50</td>\n",
       "      <td>BURGLARY - VEHICLE</td>\n",
       "      <td>6</td>\n",
       "      <td>06/25/2020 07:00:15 AM</td>\n",
       "      <td>100 TAMALPAIS RD\\nBerkeley, CA\\n(37.885312, -1...</td>\n",
       "      <td>100 TAMALPAIS RD</td>\n",
       "      <td>Berkeley</td>\n",
       "      <td>CA</td>\n",
       "      <td>Saturday</td>\n",
       "    </tr>\n",
       "    <tr>\n",
       "      <th>5225</th>\n",
       "      <td>19040012</td>\n",
       "      <td>BURGLARY AUTO</td>\n",
       "      <td>07/22/2019 12:00:00 AM</td>\n",
       "      <td>19:30</td>\n",
       "      <td>BURGLARY - VEHICLE</td>\n",
       "      <td>1</td>\n",
       "      <td>06/25/2020 07:00:11 AM</td>\n",
       "      <td>HEARST AV &amp; 4TH ST\\nBerkeley, CA\\n(37.868878, ...</td>\n",
       "      <td>HEARST AV &amp; 4TH ST</td>\n",
       "      <td>Berkeley</td>\n",
       "      <td>CA</td>\n",
       "      <td>Monday</td>\n",
       "    </tr>\n",
       "    <tr>\n",
       "      <th>5226</th>\n",
       "      <td>19047871</td>\n",
       "      <td>THEFT MISD. (UNDER $950)</td>\n",
       "      <td>08/27/2019 12:00:00 AM</td>\n",
       "      <td>11:55</td>\n",
       "      <td>LARCENY</td>\n",
       "      <td>2</td>\n",
       "      <td>06/25/2020 07:00:12 AM</td>\n",
       "      <td>2300 TELEGRAPH AV\\nBerkeley, CA\\n(37.868714, -...</td>\n",
       "      <td>2300 TELEGRAPH AV</td>\n",
       "      <td>Berkeley</td>\n",
       "      <td>CA</td>\n",
       "      <td>Tuesday</td>\n",
       "    </tr>\n",
       "  </tbody>\n",
       "</table>\n",
       "<p>5227 rows × 12 columns</p>\n",
       "</div>"
      ],
      "text/plain": [
       "        CASENO                   OFFENSE                 EVENTDT EVENTTM  \\\n",
       "0     19059951               DISTURBANCE  10/22/2019 12:00:00 AM   12:06   \n",
       "1     19039736               DISTURBANCE  07/21/2019 12:00:00 AM   04:30   \n",
       "2     19066056             BURGLARY AUTO  11/19/2019 12:00:00 AM   22:00   \n",
       "3     19051156            VEHICLE STOLEN  09/10/2019 12:00:00 AM   19:00   \n",
       "4     19068960             BURGLARY AUTO  12/05/2019 12:00:00 AM   15:45   \n",
       "...        ...                       ...                     ...     ...   \n",
       "5222  19092587      BURGLARY RESIDENTIAL  11/21/2019 12:00:00 AM   04:45   \n",
       "5223  19043809               DISTURBANCE  08/08/2019 12:00:00 AM   23:50   \n",
       "5224  19092364             BURGLARY AUTO  10/26/2019 12:00:00 AM   16:50   \n",
       "5225  19040012             BURGLARY AUTO  07/22/2019 12:00:00 AM   19:30   \n",
       "5226  19047871  THEFT MISD. (UNDER $950)  08/27/2019 12:00:00 AM   11:55   \n",
       "\n",
       "                    CVLEGEND  CVDOW                InDbDate  \\\n",
       "0         DISORDERLY CONDUCT      2  06/25/2020 07:00:15 AM   \n",
       "1         DISORDERLY CONDUCT      0  06/25/2020 07:00:11 AM   \n",
       "2         BURGLARY - VEHICLE      2  06/25/2020 07:00:16 AM   \n",
       "3        MOTOR VEHICLE THEFT      2  06/25/2020 07:00:13 AM   \n",
       "4         BURGLARY - VEHICLE      4  06/25/2020 07:00:17 AM   \n",
       "...                      ...    ...                     ...   \n",
       "5222  BURGLARY - RESIDENTIAL      4  06/25/2020 07:00:16 AM   \n",
       "5223      DISORDERLY CONDUCT      4  06/25/2020 07:00:11 AM   \n",
       "5224      BURGLARY - VEHICLE      6  06/25/2020 07:00:15 AM   \n",
       "5225      BURGLARY - VEHICLE      1  06/25/2020 07:00:11 AM   \n",
       "5226                 LARCENY      2  06/25/2020 07:00:12 AM   \n",
       "\n",
       "                                         Block_Location             BLKADDR  \\\n",
       "0                          2950 DURANT ST\\nBerkeley, CA      2950 DURANT ST   \n",
       "1                           300 CANYON RD\\nBerkeley, CA       300 CANYON RD   \n",
       "2                                  4TH ST\\nBerkeley, CA              4TH ST   \n",
       "3                            100 MENLO PL\\nBerkeley, CA        100 MENLO PL   \n",
       "4                        800 HILLCREST RD\\nBerkeley, CA    800 HILLCREST RD   \n",
       "...                                                 ...                 ...   \n",
       "5222  3100 ELLIS ST\\nBerkeley, CA\\n(37.852066, -122....       3100 ELLIS ST   \n",
       "5223  2500 DURANT AV\\nBerkeley, CA\\n(37.867852, -122...      2500 DURANT AV   \n",
       "5224  100 TAMALPAIS RD\\nBerkeley, CA\\n(37.885312, -1...    100 TAMALPAIS RD   \n",
       "5225  HEARST AV & 4TH ST\\nBerkeley, CA\\n(37.868878, ...  HEARST AV & 4TH ST   \n",
       "5226  2300 TELEGRAPH AV\\nBerkeley, CA\\n(37.868714, -...   2300 TELEGRAPH AV   \n",
       "\n",
       "          City State       Day  \n",
       "0     Berkeley    CA   Tuesday  \n",
       "1     Berkeley    CA    Sunday  \n",
       "2     Berkeley    CA   Tuesday  \n",
       "3     Berkeley    CA   Tuesday  \n",
       "4     Berkeley    CA  Thursday  \n",
       "...        ...   ...       ...  \n",
       "5222  Berkeley    CA  Thursday  \n",
       "5223  Berkeley    CA  Thursday  \n",
       "5224  Berkeley    CA  Saturday  \n",
       "5225  Berkeley    CA    Monday  \n",
       "5226  Berkeley    CA   Tuesday  \n",
       "\n",
       "[5227 rows x 12 columns]"
      ]
     },
     "execution_count": 22,
     "metadata": {},
     "output_type": "execute_result"
    }
   ],
   "source": [
    "calls = pd.merge(calls.drop(columns=\"Day\", errors=\"ignore\"), df_dow, left_on='CVDOW', right_index=True).sort_index()\n",
    "calls"
   ]
  },
  {
   "cell_type": "markdown",
   "metadata": {},
   "source": [
    "### Cleaning Block Location\n",
    "\n",
    "The block location contains the latitude/longitude coordinates and I might want to use these to analyze the location of each request.  Let's try to extract the GPS coordinates using regular expressions.\n"
   ]
  },
  {
   "cell_type": "code",
   "execution_count": 24,
   "metadata": {
    "ExecuteTime": {
     "end_time": "2018-02-02T15:15:19.230720Z",
     "start_time": "2018-02-02T15:15:19.225971Z"
    }
   },
   "outputs": [
    {
     "data": {
      "text/plain": [
       "'2300 TELEGRAPH AV\\nBerkeley, CA\\n(37.868714, -122.259189)'"
      ]
     },
     "execution_count": 24,
     "metadata": {},
     "output_type": "execute_result"
    }
   ],
   "source": [
    "calls.loc[5226, 'Block_Location']"
   ]
  },
  {
   "cell_type": "code",
   "execution_count": 25,
   "metadata": {
    "ExecuteTime": {
     "end_time": "2018-02-02T15:15:19.268222Z",
     "start_time": "2018-02-02T15:15:19.233193Z"
    }
   },
   "outputs": [
    {
     "name": "stderr",
     "output_type": "stream",
     "text": [
      "<>:5: SyntaxWarning:\n",
      "\n",
      "invalid escape sequence '\\('\n",
      "\n",
      "<>:5: SyntaxWarning:\n",
      "\n",
      "invalid escape sequence '\\('\n",
      "\n",
      "C:\\Users\\user\\AppData\\Local\\Temp\\ipykernel_20704\\1120582216.py:5: SyntaxWarning:\n",
      "\n",
      "invalid escape sequence '\\('\n",
      "\n"
     ]
    },
    {
     "data": {
      "text/html": [
       "<div>\n",
       "<style scoped>\n",
       "    .dataframe tbody tr th:only-of-type {\n",
       "        vertical-align: middle;\n",
       "    }\n",
       "\n",
       "    .dataframe tbody tr th {\n",
       "        vertical-align: top;\n",
       "    }\n",
       "\n",
       "    .dataframe thead th {\n",
       "        text-align: right;\n",
       "    }\n",
       "</style>\n",
       "<table border=\"1\" class=\"dataframe\">\n",
       "  <thead>\n",
       "    <tr style=\"text-align: right;\">\n",
       "      <th></th>\n",
       "      <th>Lat</th>\n",
       "      <th>Lon</th>\n",
       "    </tr>\n",
       "  </thead>\n",
       "  <tbody>\n",
       "    <tr>\n",
       "      <th>0</th>\n",
       "      <td>NaN</td>\n",
       "      <td>NaN</td>\n",
       "    </tr>\n",
       "    <tr>\n",
       "      <th>1</th>\n",
       "      <td>NaN</td>\n",
       "      <td>NaN</td>\n",
       "    </tr>\n",
       "    <tr>\n",
       "      <th>2</th>\n",
       "      <td>NaN</td>\n",
       "      <td>NaN</td>\n",
       "    </tr>\n",
       "    <tr>\n",
       "      <th>3</th>\n",
       "      <td>NaN</td>\n",
       "      <td>NaN</td>\n",
       "    </tr>\n",
       "    <tr>\n",
       "      <th>4</th>\n",
       "      <td>NaN</td>\n",
       "      <td>NaN</td>\n",
       "    </tr>\n",
       "    <tr>\n",
       "      <th>5</th>\n",
       "      <td>NaN</td>\n",
       "      <td>NaN</td>\n",
       "    </tr>\n",
       "    <tr>\n",
       "      <th>6</th>\n",
       "      <td>NaN</td>\n",
       "      <td>NaN</td>\n",
       "    </tr>\n",
       "    <tr>\n",
       "      <th>7</th>\n",
       "      <td>NaN</td>\n",
       "      <td>NaN</td>\n",
       "    </tr>\n",
       "    <tr>\n",
       "      <th>8</th>\n",
       "      <td>NaN</td>\n",
       "      <td>NaN</td>\n",
       "    </tr>\n",
       "    <tr>\n",
       "      <th>9</th>\n",
       "      <td>NaN</td>\n",
       "      <td>NaN</td>\n",
       "    </tr>\n",
       "    <tr>\n",
       "      <th>10</th>\n",
       "      <td>NaN</td>\n",
       "      <td>NaN</td>\n",
       "    </tr>\n",
       "    <tr>\n",
       "      <th>11</th>\n",
       "      <td>NaN</td>\n",
       "      <td>NaN</td>\n",
       "    </tr>\n",
       "    <tr>\n",
       "      <th>12</th>\n",
       "      <td>NaN</td>\n",
       "      <td>NaN</td>\n",
       "    </tr>\n",
       "    <tr>\n",
       "      <th>13</th>\n",
       "      <td>NaN</td>\n",
       "      <td>NaN</td>\n",
       "    </tr>\n",
       "    <tr>\n",
       "      <th>14</th>\n",
       "      <td>37.867831</td>\n",
       "      <td>-122.265858</td>\n",
       "    </tr>\n",
       "    <tr>\n",
       "      <th>15</th>\n",
       "      <td>37.862512</td>\n",
       "      <td>-122.290094</td>\n",
       "    </tr>\n",
       "    <tr>\n",
       "      <th>16</th>\n",
       "      <td>37.857474</td>\n",
       "      <td>-122.275425</td>\n",
       "    </tr>\n",
       "    <tr>\n",
       "      <th>17</th>\n",
       "      <td>37.855935</td>\n",
       "      <td>-122.250579</td>\n",
       "    </tr>\n",
       "    <tr>\n",
       "      <th>18</th>\n",
       "      <td>37.862512</td>\n",
       "      <td>-122.290094</td>\n",
       "    </tr>\n",
       "    <tr>\n",
       "      <th>19</th>\n",
       "      <td>37.869888</td>\n",
       "      <td>-122.300618</td>\n",
       "    </tr>\n",
       "  </tbody>\n",
       "</table>\n",
       "</div>"
      ],
      "text/plain": [
       "          Lat          Lon\n",
       "0         NaN          NaN\n",
       "1         NaN          NaN\n",
       "2         NaN          NaN\n",
       "3         NaN          NaN\n",
       "4         NaN          NaN\n",
       "5         NaN          NaN\n",
       "6         NaN          NaN\n",
       "7         NaN          NaN\n",
       "8         NaN          NaN\n",
       "9         NaN          NaN\n",
       "10        NaN          NaN\n",
       "11        NaN          NaN\n",
       "12        NaN          NaN\n",
       "13        NaN          NaN\n",
       "14  37.867831  -122.265858\n",
       "15  37.862512  -122.290094\n",
       "16  37.857474  -122.275425\n",
       "17  37.855935  -122.250579\n",
       "18  37.862512  -122.290094\n",
       "19  37.869888  -122.300618"
      ]
     },
     "execution_count": 25,
     "metadata": {},
     "output_type": "execute_result"
    }
   ],
   "source": [
    "calls_lat_lon = (\n",
    "    # Remove newlines\n",
    "    calls['Block_Location'].str.replace(\"\\n\", \"\\t\") \n",
    "    # Extract latitude and longitude using regular expression\n",
    "    .str.extract(\".*\\((?P<Lat>\\d*\\.\\d*)\\, (?P<Lon>-?\\d*\\.\\d*)\\)\", expand=True)\n",
    ")\n",
    "calls_lat_lon.head(20)"
   ]
  },
  {
   "cell_type": "markdown",
   "metadata": {},
   "source": [
    "Not all the records have a lat and lon.  What fraction do have coordinates?"
   ]
  },
  {
   "cell_type": "code",
   "execution_count": 26,
   "metadata": {
    "ExecuteTime": {
     "end_time": "2018-02-02T15:15:19.280471Z",
     "start_time": "2018-02-02T15:15:19.271307Z"
    }
   },
   "outputs": [
    {
     "data": {
      "text/plain": [
       "Lat    0.963076\n",
       "Lon    0.963076\n",
       "dtype: float64"
      ]
     },
     "execution_count": 26,
     "metadata": {},
     "output_type": "execute_result"
    }
   ],
   "source": [
    "(~calls_lat_lon.isnull()).mean()"
   ]
  },
  {
   "cell_type": "markdown",
   "metadata": {},
   "source": [
    "The following block of code joins the extracted Latitude and Longitude fields with the calls data.  Notice that we actually drop these fields before joining.  This is to enable repeated invocation of this cell even after the join has been completed. "
   ]
  },
  {
   "cell_type": "code",
   "execution_count": 27,
   "metadata": {
    "ExecuteTime": {
     "end_time": "2018-02-02T15:15:19.328544Z",
     "start_time": "2018-02-02T15:15:19.287625Z"
    },
    "scrolled": true
   },
   "outputs": [
    {
     "data": {
      "text/html": [
       "<div>\n",
       "<style scoped>\n",
       "    .dataframe tbody tr th:only-of-type {\n",
       "        vertical-align: middle;\n",
       "    }\n",
       "\n",
       "    .dataframe tbody tr th {\n",
       "        vertical-align: top;\n",
       "    }\n",
       "\n",
       "    .dataframe thead th {\n",
       "        text-align: right;\n",
       "    }\n",
       "</style>\n",
       "<table border=\"1\" class=\"dataframe\">\n",
       "  <thead>\n",
       "    <tr style=\"text-align: right;\">\n",
       "      <th></th>\n",
       "      <th>CASENO</th>\n",
       "      <th>OFFENSE</th>\n",
       "      <th>EVENTDT</th>\n",
       "      <th>EVENTTM</th>\n",
       "      <th>CVLEGEND</th>\n",
       "      <th>CVDOW</th>\n",
       "      <th>InDbDate</th>\n",
       "      <th>Block_Location</th>\n",
       "      <th>BLKADDR</th>\n",
       "      <th>City</th>\n",
       "      <th>State</th>\n",
       "      <th>Day</th>\n",
       "      <th>Lat</th>\n",
       "      <th>Lon</th>\n",
       "    </tr>\n",
       "  </thead>\n",
       "  <tbody>\n",
       "    <tr>\n",
       "      <th>0</th>\n",
       "      <td>19059951</td>\n",
       "      <td>DISTURBANCE</td>\n",
       "      <td>10/22/2019 12:00:00 AM</td>\n",
       "      <td>12:06</td>\n",
       "      <td>DISORDERLY CONDUCT</td>\n",
       "      <td>2</td>\n",
       "      <td>06/25/2020 07:00:15 AM</td>\n",
       "      <td>2950 DURANT ST\\nBerkeley, CA</td>\n",
       "      <td>2950 DURANT ST</td>\n",
       "      <td>Berkeley</td>\n",
       "      <td>CA</td>\n",
       "      <td>Tuesday</td>\n",
       "      <td>NaN</td>\n",
       "      <td>NaN</td>\n",
       "    </tr>\n",
       "    <tr>\n",
       "      <th>1</th>\n",
       "      <td>19039736</td>\n",
       "      <td>DISTURBANCE</td>\n",
       "      <td>07/21/2019 12:00:00 AM</td>\n",
       "      <td>04:30</td>\n",
       "      <td>DISORDERLY CONDUCT</td>\n",
       "      <td>0</td>\n",
       "      <td>06/25/2020 07:00:11 AM</td>\n",
       "      <td>300 CANYON RD\\nBerkeley, CA</td>\n",
       "      <td>300 CANYON RD</td>\n",
       "      <td>Berkeley</td>\n",
       "      <td>CA</td>\n",
       "      <td>Sunday</td>\n",
       "      <td>NaN</td>\n",
       "      <td>NaN</td>\n",
       "    </tr>\n",
       "    <tr>\n",
       "      <th>2</th>\n",
       "      <td>19066056</td>\n",
       "      <td>BURGLARY AUTO</td>\n",
       "      <td>11/19/2019 12:00:00 AM</td>\n",
       "      <td>22:00</td>\n",
       "      <td>BURGLARY - VEHICLE</td>\n",
       "      <td>2</td>\n",
       "      <td>06/25/2020 07:00:16 AM</td>\n",
       "      <td>4TH ST\\nBerkeley, CA</td>\n",
       "      <td>4TH ST</td>\n",
       "      <td>Berkeley</td>\n",
       "      <td>CA</td>\n",
       "      <td>Tuesday</td>\n",
       "      <td>NaN</td>\n",
       "      <td>NaN</td>\n",
       "    </tr>\n",
       "    <tr>\n",
       "      <th>3</th>\n",
       "      <td>19051156</td>\n",
       "      <td>VEHICLE STOLEN</td>\n",
       "      <td>09/10/2019 12:00:00 AM</td>\n",
       "      <td>19:00</td>\n",
       "      <td>MOTOR VEHICLE THEFT</td>\n",
       "      <td>2</td>\n",
       "      <td>06/25/2020 07:00:13 AM</td>\n",
       "      <td>100 MENLO PL\\nBerkeley, CA</td>\n",
       "      <td>100 MENLO PL</td>\n",
       "      <td>Berkeley</td>\n",
       "      <td>CA</td>\n",
       "      <td>Tuesday</td>\n",
       "      <td>NaN</td>\n",
       "      <td>NaN</td>\n",
       "    </tr>\n",
       "    <tr>\n",
       "      <th>4</th>\n",
       "      <td>19068960</td>\n",
       "      <td>BURGLARY AUTO</td>\n",
       "      <td>12/05/2019 12:00:00 AM</td>\n",
       "      <td>15:45</td>\n",
       "      <td>BURGLARY - VEHICLE</td>\n",
       "      <td>4</td>\n",
       "      <td>06/25/2020 07:00:17 AM</td>\n",
       "      <td>800 HILLCREST RD\\nBerkeley, CA</td>\n",
       "      <td>800 HILLCREST RD</td>\n",
       "      <td>Berkeley</td>\n",
       "      <td>CA</td>\n",
       "      <td>Thursday</td>\n",
       "      <td>NaN</td>\n",
       "      <td>NaN</td>\n",
       "    </tr>\n",
       "  </tbody>\n",
       "</table>\n",
       "</div>"
      ],
      "text/plain": [
       "     CASENO         OFFENSE                 EVENTDT EVENTTM  \\\n",
       "0  19059951     DISTURBANCE  10/22/2019 12:00:00 AM   12:06   \n",
       "1  19039736     DISTURBANCE  07/21/2019 12:00:00 AM   04:30   \n",
       "2  19066056   BURGLARY AUTO  11/19/2019 12:00:00 AM   22:00   \n",
       "3  19051156  VEHICLE STOLEN  09/10/2019 12:00:00 AM   19:00   \n",
       "4  19068960   BURGLARY AUTO  12/05/2019 12:00:00 AM   15:45   \n",
       "\n",
       "              CVLEGEND  CVDOW                InDbDate  \\\n",
       "0   DISORDERLY CONDUCT      2  06/25/2020 07:00:15 AM   \n",
       "1   DISORDERLY CONDUCT      0  06/25/2020 07:00:11 AM   \n",
       "2   BURGLARY - VEHICLE      2  06/25/2020 07:00:16 AM   \n",
       "3  MOTOR VEHICLE THEFT      2  06/25/2020 07:00:13 AM   \n",
       "4   BURGLARY - VEHICLE      4  06/25/2020 07:00:17 AM   \n",
       "\n",
       "                   Block_Location           BLKADDR      City State       Day  \\\n",
       "0    2950 DURANT ST\\nBerkeley, CA    2950 DURANT ST  Berkeley    CA   Tuesday   \n",
       "1     300 CANYON RD\\nBerkeley, CA     300 CANYON RD  Berkeley    CA    Sunday   \n",
       "2            4TH ST\\nBerkeley, CA            4TH ST  Berkeley    CA   Tuesday   \n",
       "3      100 MENLO PL\\nBerkeley, CA      100 MENLO PL  Berkeley    CA   Tuesday   \n",
       "4  800 HILLCREST RD\\nBerkeley, CA  800 HILLCREST RD  Berkeley    CA  Thursday   \n",
       "\n",
       "   Lat  Lon  \n",
       "0  NaN  NaN  \n",
       "1  NaN  NaN  \n",
       "2  NaN  NaN  \n",
       "3  NaN  NaN  \n",
       "4  NaN  NaN  "
      ]
     },
     "execution_count": 27,
     "metadata": {},
     "output_type": "execute_result"
    }
   ],
   "source": [
    "# Remove Lat and Lon if they already existed before (reproducible)\n",
    "calls.drop([\"Lat\", \"Lon\"], axis=1, inplace=True, errors=\"ignore\")\n",
    "# Join in the the latitude and longitude data\n",
    "calls = calls.merge(calls_lat_lon, left_index=True, right_index=True)\n",
    "calls.head()"
   ]
  },
  {
   "cell_type": "markdown",
   "metadata": {},
   "source": [
    "We can now look at a few of the records that were missing latitude and longitude entries:"
   ]
  },
  {
   "cell_type": "code",
   "execution_count": 28,
   "metadata": {
    "ExecuteTime": {
     "end_time": "2018-02-02T15:15:19.356799Z",
     "start_time": "2018-02-02T15:15:19.330874Z"
    }
   },
   "outputs": [
    {
     "data": {
      "text/html": [
       "<div>\n",
       "<style scoped>\n",
       "    .dataframe tbody tr th:only-of-type {\n",
       "        vertical-align: middle;\n",
       "    }\n",
       "\n",
       "    .dataframe tbody tr th {\n",
       "        vertical-align: top;\n",
       "    }\n",
       "\n",
       "    .dataframe thead th {\n",
       "        text-align: right;\n",
       "    }\n",
       "</style>\n",
       "<table border=\"1\" class=\"dataframe\">\n",
       "  <thead>\n",
       "    <tr style=\"text-align: right;\">\n",
       "      <th></th>\n",
       "      <th>CASENO</th>\n",
       "      <th>OFFENSE</th>\n",
       "      <th>EVENTDT</th>\n",
       "      <th>EVENTTM</th>\n",
       "      <th>CVLEGEND</th>\n",
       "      <th>CVDOW</th>\n",
       "      <th>InDbDate</th>\n",
       "      <th>Block_Location</th>\n",
       "      <th>BLKADDR</th>\n",
       "      <th>City</th>\n",
       "      <th>State</th>\n",
       "      <th>Day</th>\n",
       "      <th>Lat</th>\n",
       "      <th>Lon</th>\n",
       "    </tr>\n",
       "  </thead>\n",
       "  <tbody>\n",
       "    <tr>\n",
       "      <th>0</th>\n",
       "      <td>19059951</td>\n",
       "      <td>DISTURBANCE</td>\n",
       "      <td>10/22/2019 12:00:00 AM</td>\n",
       "      <td>12:06</td>\n",
       "      <td>DISORDERLY CONDUCT</td>\n",
       "      <td>2</td>\n",
       "      <td>06/25/2020 07:00:15 AM</td>\n",
       "      <td>2950 DURANT ST\\nBerkeley, CA</td>\n",
       "      <td>2950 DURANT ST</td>\n",
       "      <td>Berkeley</td>\n",
       "      <td>CA</td>\n",
       "      <td>Tuesday</td>\n",
       "      <td>NaN</td>\n",
       "      <td>NaN</td>\n",
       "    </tr>\n",
       "    <tr>\n",
       "      <th>1</th>\n",
       "      <td>19039736</td>\n",
       "      <td>DISTURBANCE</td>\n",
       "      <td>07/21/2019 12:00:00 AM</td>\n",
       "      <td>04:30</td>\n",
       "      <td>DISORDERLY CONDUCT</td>\n",
       "      <td>0</td>\n",
       "      <td>06/25/2020 07:00:11 AM</td>\n",
       "      <td>300 CANYON RD\\nBerkeley, CA</td>\n",
       "      <td>300 CANYON RD</td>\n",
       "      <td>Berkeley</td>\n",
       "      <td>CA</td>\n",
       "      <td>Sunday</td>\n",
       "      <td>NaN</td>\n",
       "      <td>NaN</td>\n",
       "    </tr>\n",
       "    <tr>\n",
       "      <th>2</th>\n",
       "      <td>19066056</td>\n",
       "      <td>BURGLARY AUTO</td>\n",
       "      <td>11/19/2019 12:00:00 AM</td>\n",
       "      <td>22:00</td>\n",
       "      <td>BURGLARY - VEHICLE</td>\n",
       "      <td>2</td>\n",
       "      <td>06/25/2020 07:00:16 AM</td>\n",
       "      <td>4TH ST\\nBerkeley, CA</td>\n",
       "      <td>4TH ST</td>\n",
       "      <td>Berkeley</td>\n",
       "      <td>CA</td>\n",
       "      <td>Tuesday</td>\n",
       "      <td>NaN</td>\n",
       "      <td>NaN</td>\n",
       "    </tr>\n",
       "    <tr>\n",
       "      <th>3</th>\n",
       "      <td>19051156</td>\n",
       "      <td>VEHICLE STOLEN</td>\n",
       "      <td>09/10/2019 12:00:00 AM</td>\n",
       "      <td>19:00</td>\n",
       "      <td>MOTOR VEHICLE THEFT</td>\n",
       "      <td>2</td>\n",
       "      <td>06/25/2020 07:00:13 AM</td>\n",
       "      <td>100 MENLO PL\\nBerkeley, CA</td>\n",
       "      <td>100 MENLO PL</td>\n",
       "      <td>Berkeley</td>\n",
       "      <td>CA</td>\n",
       "      <td>Tuesday</td>\n",
       "      <td>NaN</td>\n",
       "      <td>NaN</td>\n",
       "    </tr>\n",
       "    <tr>\n",
       "      <th>4</th>\n",
       "      <td>19068960</td>\n",
       "      <td>BURGLARY AUTO</td>\n",
       "      <td>12/05/2019 12:00:00 AM</td>\n",
       "      <td>15:45</td>\n",
       "      <td>BURGLARY - VEHICLE</td>\n",
       "      <td>4</td>\n",
       "      <td>06/25/2020 07:00:17 AM</td>\n",
       "      <td>800 HILLCREST RD\\nBerkeley, CA</td>\n",
       "      <td>800 HILLCREST RD</td>\n",
       "      <td>Berkeley</td>\n",
       "      <td>CA</td>\n",
       "      <td>Thursday</td>\n",
       "      <td>NaN</td>\n",
       "      <td>NaN</td>\n",
       "    </tr>\n",
       "    <tr>\n",
       "      <th>5</th>\n",
       "      <td>19092685</td>\n",
       "      <td>BURGLARY AUTO</td>\n",
       "      <td>12/02/2019 12:00:00 AM</td>\n",
       "      <td>09:10</td>\n",
       "      <td>BURGLARY - VEHICLE</td>\n",
       "      <td>1</td>\n",
       "      <td>06/25/2020 07:00:17 AM</td>\n",
       "      <td>MARINA BLVD\\nBerkeley, CA</td>\n",
       "      <td>MARINA BLVD</td>\n",
       "      <td>Berkeley</td>\n",
       "      <td>CA</td>\n",
       "      <td>Monday</td>\n",
       "      <td>NaN</td>\n",
       "      <td>NaN</td>\n",
       "    </tr>\n",
       "    <tr>\n",
       "      <th>6</th>\n",
       "      <td>19043231</td>\n",
       "      <td>SEXUAL ASSAULT FEL.</td>\n",
       "      <td>08/04/2019 12:00:00 AM</td>\n",
       "      <td>00:00</td>\n",
       "      <td>SEX CRIME</td>\n",
       "      <td>0</td>\n",
       "      <td>06/25/2020 07:00:12 AM</td>\n",
       "      <td>&lt;UNKNOWN&gt;\\nBerkeley, CA</td>\n",
       "      <td>&lt;UNKNOWN&gt;</td>\n",
       "      <td>Berkeley</td>\n",
       "      <td>CA</td>\n",
       "      <td>Sunday</td>\n",
       "      <td>NaN</td>\n",
       "      <td>NaN</td>\n",
       "    </tr>\n",
       "    <tr>\n",
       "      <th>7</th>\n",
       "      <td>19092551</td>\n",
       "      <td>THEFT MISD. (UNDER $950)</td>\n",
       "      <td>11/17/2019 12:00:00 AM</td>\n",
       "      <td>12:00</td>\n",
       "      <td>LARCENY</td>\n",
       "      <td>0</td>\n",
       "      <td>06/25/2020 07:00:16 AM</td>\n",
       "      <td>ASHBY AVE\\nBerkeley, CA</td>\n",
       "      <td>ASHBY AVE</td>\n",
       "      <td>Berkeley</td>\n",
       "      <td>CA</td>\n",
       "      <td>Sunday</td>\n",
       "      <td>NaN</td>\n",
       "      <td>NaN</td>\n",
       "    </tr>\n",
       "    <tr>\n",
       "      <th>8</th>\n",
       "      <td>19053206</td>\n",
       "      <td>THEFT FROM AUTO</td>\n",
       "      <td>09/15/2019 12:00:00 AM</td>\n",
       "      <td>21:00</td>\n",
       "      <td>LARCENY - FROM VEHICLE</td>\n",
       "      <td>0</td>\n",
       "      <td>06/25/2020 07:00:13 AM</td>\n",
       "      <td>500 ETON CT\\nBerkeley, CA</td>\n",
       "      <td>500 ETON CT</td>\n",
       "      <td>Berkeley</td>\n",
       "      <td>CA</td>\n",
       "      <td>Sunday</td>\n",
       "      <td>NaN</td>\n",
       "      <td>NaN</td>\n",
       "    </tr>\n",
       "    <tr>\n",
       "      <th>9</th>\n",
       "      <td>19056444</td>\n",
       "      <td>NARCOTICS</td>\n",
       "      <td>10/05/2019 12:00:00 AM</td>\n",
       "      <td>15:07</td>\n",
       "      <td>DRUG VIOLATION</td>\n",
       "      <td>6</td>\n",
       "      <td>06/25/2020 07:00:14 AM</td>\n",
       "      <td>1605 62ND TER\\nBerkeley, CA</td>\n",
       "      <td>1605 62ND TER</td>\n",
       "      <td>Berkeley</td>\n",
       "      <td>CA</td>\n",
       "      <td>Saturday</td>\n",
       "      <td>NaN</td>\n",
       "      <td>NaN</td>\n",
       "    </tr>\n",
       "  </tbody>\n",
       "</table>\n",
       "</div>"
      ],
      "text/plain": [
       "     CASENO                   OFFENSE                 EVENTDT EVENTTM  \\\n",
       "0  19059951               DISTURBANCE  10/22/2019 12:00:00 AM   12:06   \n",
       "1  19039736               DISTURBANCE  07/21/2019 12:00:00 AM   04:30   \n",
       "2  19066056             BURGLARY AUTO  11/19/2019 12:00:00 AM   22:00   \n",
       "3  19051156            VEHICLE STOLEN  09/10/2019 12:00:00 AM   19:00   \n",
       "4  19068960             BURGLARY AUTO  12/05/2019 12:00:00 AM   15:45   \n",
       "5  19092685             BURGLARY AUTO  12/02/2019 12:00:00 AM   09:10   \n",
       "6  19043231       SEXUAL ASSAULT FEL.  08/04/2019 12:00:00 AM   00:00   \n",
       "7  19092551  THEFT MISD. (UNDER $950)  11/17/2019 12:00:00 AM   12:00   \n",
       "8  19053206           THEFT FROM AUTO  09/15/2019 12:00:00 AM   21:00   \n",
       "9  19056444                 NARCOTICS  10/05/2019 12:00:00 AM   15:07   \n",
       "\n",
       "                 CVLEGEND  CVDOW                InDbDate  \\\n",
       "0      DISORDERLY CONDUCT      2  06/25/2020 07:00:15 AM   \n",
       "1      DISORDERLY CONDUCT      0  06/25/2020 07:00:11 AM   \n",
       "2      BURGLARY - VEHICLE      2  06/25/2020 07:00:16 AM   \n",
       "3     MOTOR VEHICLE THEFT      2  06/25/2020 07:00:13 AM   \n",
       "4      BURGLARY - VEHICLE      4  06/25/2020 07:00:17 AM   \n",
       "5      BURGLARY - VEHICLE      1  06/25/2020 07:00:17 AM   \n",
       "6               SEX CRIME      0  06/25/2020 07:00:12 AM   \n",
       "7                 LARCENY      0  06/25/2020 07:00:16 AM   \n",
       "8  LARCENY - FROM VEHICLE      0  06/25/2020 07:00:13 AM   \n",
       "9          DRUG VIOLATION      6  06/25/2020 07:00:14 AM   \n",
       "\n",
       "                   Block_Location           BLKADDR      City State       Day  \\\n",
       "0    2950 DURANT ST\\nBerkeley, CA    2950 DURANT ST  Berkeley    CA   Tuesday   \n",
       "1     300 CANYON RD\\nBerkeley, CA     300 CANYON RD  Berkeley    CA    Sunday   \n",
       "2            4TH ST\\nBerkeley, CA            4TH ST  Berkeley    CA   Tuesday   \n",
       "3      100 MENLO PL\\nBerkeley, CA      100 MENLO PL  Berkeley    CA   Tuesday   \n",
       "4  800 HILLCREST RD\\nBerkeley, CA  800 HILLCREST RD  Berkeley    CA  Thursday   \n",
       "5       MARINA BLVD\\nBerkeley, CA       MARINA BLVD  Berkeley    CA    Monday   \n",
       "6         <UNKNOWN>\\nBerkeley, CA         <UNKNOWN>  Berkeley    CA    Sunday   \n",
       "7         ASHBY AVE\\nBerkeley, CA         ASHBY AVE  Berkeley    CA    Sunday   \n",
       "8       500 ETON CT\\nBerkeley, CA       500 ETON CT  Berkeley    CA    Sunday   \n",
       "9     1605 62ND TER\\nBerkeley, CA     1605 62ND TER  Berkeley    CA  Saturday   \n",
       "\n",
       "   Lat  Lon  \n",
       "0  NaN  NaN  \n",
       "1  NaN  NaN  \n",
       "2  NaN  NaN  \n",
       "3  NaN  NaN  \n",
       "4  NaN  NaN  \n",
       "5  NaN  NaN  \n",
       "6  NaN  NaN  \n",
       "7  NaN  NaN  \n",
       "8  NaN  NaN  \n",
       "9  NaN  NaN  "
      ]
     },
     "execution_count": 28,
     "metadata": {},
     "output_type": "execute_result"
    }
   ],
   "source": [
    "calls[calls['Lat'].isnull()].head(10)"
   ]
  },
  {
   "cell_type": "markdown",
   "metadata": {},
   "source": [
    "Are there any patterns to the missing data?"
   ]
  },
  {
   "cell_type": "markdown",
   "metadata": {},
   "source": [
    "--- \n",
    "\n",
    "<br/><br/><br/>\n",
    "\n",
    "# EDA \n",
    "\n",
    "Now that we have loaded our various data files.  Let's try to understand a bit more about the data by examining properties of individual fields."
   ]
  },
  {
   "cell_type": "code",
   "execution_count": 29,
   "metadata": {
    "ExecuteTime": {
     "end_time": "2018-02-02T15:15:19.818072Z",
     "start_time": "2018-02-02T15:15:19.795893Z"
    }
   },
   "outputs": [
    {
     "data": {
      "text/html": [
       "<div>\n",
       "<style scoped>\n",
       "    .dataframe tbody tr th:only-of-type {\n",
       "        vertical-align: middle;\n",
       "    }\n",
       "\n",
       "    .dataframe tbody tr th {\n",
       "        vertical-align: top;\n",
       "    }\n",
       "\n",
       "    .dataframe thead th {\n",
       "        text-align: right;\n",
       "    }\n",
       "</style>\n",
       "<table border=\"1\" class=\"dataframe\">\n",
       "  <thead>\n",
       "    <tr style=\"text-align: right;\">\n",
       "      <th></th>\n",
       "      <th>CASENO</th>\n",
       "      <th>OFFENSE</th>\n",
       "      <th>EVENTDT</th>\n",
       "      <th>EVENTTM</th>\n",
       "      <th>CVLEGEND</th>\n",
       "      <th>CVDOW</th>\n",
       "      <th>InDbDate</th>\n",
       "      <th>Block_Location</th>\n",
       "      <th>BLKADDR</th>\n",
       "      <th>City</th>\n",
       "      <th>State</th>\n",
       "      <th>Day</th>\n",
       "      <th>Lat</th>\n",
       "      <th>Lon</th>\n",
       "    </tr>\n",
       "  </thead>\n",
       "  <tbody>\n",
       "    <tr>\n",
       "      <th>0</th>\n",
       "      <td>19059951</td>\n",
       "      <td>DISTURBANCE</td>\n",
       "      <td>10/22/2019 12:00:00 AM</td>\n",
       "      <td>12:06</td>\n",
       "      <td>DISORDERLY CONDUCT</td>\n",
       "      <td>2</td>\n",
       "      <td>06/25/2020 07:00:15 AM</td>\n",
       "      <td>2950 DURANT ST\\nBerkeley, CA</td>\n",
       "      <td>2950 DURANT ST</td>\n",
       "      <td>Berkeley</td>\n",
       "      <td>CA</td>\n",
       "      <td>Tuesday</td>\n",
       "      <td>NaN</td>\n",
       "      <td>NaN</td>\n",
       "    </tr>\n",
       "    <tr>\n",
       "      <th>1</th>\n",
       "      <td>19039736</td>\n",
       "      <td>DISTURBANCE</td>\n",
       "      <td>07/21/2019 12:00:00 AM</td>\n",
       "      <td>04:30</td>\n",
       "      <td>DISORDERLY CONDUCT</td>\n",
       "      <td>0</td>\n",
       "      <td>06/25/2020 07:00:11 AM</td>\n",
       "      <td>300 CANYON RD\\nBerkeley, CA</td>\n",
       "      <td>300 CANYON RD</td>\n",
       "      <td>Berkeley</td>\n",
       "      <td>CA</td>\n",
       "      <td>Sunday</td>\n",
       "      <td>NaN</td>\n",
       "      <td>NaN</td>\n",
       "    </tr>\n",
       "    <tr>\n",
       "      <th>2</th>\n",
       "      <td>19066056</td>\n",
       "      <td>BURGLARY AUTO</td>\n",
       "      <td>11/19/2019 12:00:00 AM</td>\n",
       "      <td>22:00</td>\n",
       "      <td>BURGLARY - VEHICLE</td>\n",
       "      <td>2</td>\n",
       "      <td>06/25/2020 07:00:16 AM</td>\n",
       "      <td>4TH ST\\nBerkeley, CA</td>\n",
       "      <td>4TH ST</td>\n",
       "      <td>Berkeley</td>\n",
       "      <td>CA</td>\n",
       "      <td>Tuesday</td>\n",
       "      <td>NaN</td>\n",
       "      <td>NaN</td>\n",
       "    </tr>\n",
       "    <tr>\n",
       "      <th>3</th>\n",
       "      <td>19051156</td>\n",
       "      <td>VEHICLE STOLEN</td>\n",
       "      <td>09/10/2019 12:00:00 AM</td>\n",
       "      <td>19:00</td>\n",
       "      <td>MOTOR VEHICLE THEFT</td>\n",
       "      <td>2</td>\n",
       "      <td>06/25/2020 07:00:13 AM</td>\n",
       "      <td>100 MENLO PL\\nBerkeley, CA</td>\n",
       "      <td>100 MENLO PL</td>\n",
       "      <td>Berkeley</td>\n",
       "      <td>CA</td>\n",
       "      <td>Tuesday</td>\n",
       "      <td>NaN</td>\n",
       "      <td>NaN</td>\n",
       "    </tr>\n",
       "    <tr>\n",
       "      <th>4</th>\n",
       "      <td>19068960</td>\n",
       "      <td>BURGLARY AUTO</td>\n",
       "      <td>12/05/2019 12:00:00 AM</td>\n",
       "      <td>15:45</td>\n",
       "      <td>BURGLARY - VEHICLE</td>\n",
       "      <td>4</td>\n",
       "      <td>06/25/2020 07:00:17 AM</td>\n",
       "      <td>800 HILLCREST RD\\nBerkeley, CA</td>\n",
       "      <td>800 HILLCREST RD</td>\n",
       "      <td>Berkeley</td>\n",
       "      <td>CA</td>\n",
       "      <td>Thursday</td>\n",
       "      <td>NaN</td>\n",
       "      <td>NaN</td>\n",
       "    </tr>\n",
       "  </tbody>\n",
       "</table>\n",
       "</div>"
      ],
      "text/plain": [
       "     CASENO         OFFENSE                 EVENTDT EVENTTM  \\\n",
       "0  19059951     DISTURBANCE  10/22/2019 12:00:00 AM   12:06   \n",
       "1  19039736     DISTURBANCE  07/21/2019 12:00:00 AM   04:30   \n",
       "2  19066056   BURGLARY AUTO  11/19/2019 12:00:00 AM   22:00   \n",
       "3  19051156  VEHICLE STOLEN  09/10/2019 12:00:00 AM   19:00   \n",
       "4  19068960   BURGLARY AUTO  12/05/2019 12:00:00 AM   15:45   \n",
       "\n",
       "              CVLEGEND  CVDOW                InDbDate  \\\n",
       "0   DISORDERLY CONDUCT      2  06/25/2020 07:00:15 AM   \n",
       "1   DISORDERLY CONDUCT      0  06/25/2020 07:00:11 AM   \n",
       "2   BURGLARY - VEHICLE      2  06/25/2020 07:00:16 AM   \n",
       "3  MOTOR VEHICLE THEFT      2  06/25/2020 07:00:13 AM   \n",
       "4   BURGLARY - VEHICLE      4  06/25/2020 07:00:17 AM   \n",
       "\n",
       "                   Block_Location           BLKADDR      City State       Day  \\\n",
       "0    2950 DURANT ST\\nBerkeley, CA    2950 DURANT ST  Berkeley    CA   Tuesday   \n",
       "1     300 CANYON RD\\nBerkeley, CA     300 CANYON RD  Berkeley    CA    Sunday   \n",
       "2            4TH ST\\nBerkeley, CA            4TH ST  Berkeley    CA   Tuesday   \n",
       "3      100 MENLO PL\\nBerkeley, CA      100 MENLO PL  Berkeley    CA   Tuesday   \n",
       "4  800 HILLCREST RD\\nBerkeley, CA  800 HILLCREST RD  Berkeley    CA  Thursday   \n",
       "\n",
       "   Lat  Lon  \n",
       "0  NaN  NaN  \n",
       "1  NaN  NaN  \n",
       "2  NaN  NaN  \n",
       "3  NaN  NaN  \n",
       "4  NaN  NaN  "
      ]
     },
     "execution_count": 29,
     "metadata": {},
     "output_type": "execute_result"
    }
   ],
   "source": [
    "calls.head()"
   ]
  },
  {
   "cell_type": "markdown",
   "metadata": {},
   "source": [
    "---\n",
    "<br/><br/><br/>\n",
    "\n",
    "### Are Case Numbers unique?\n",
    "\n",
    "Case numbers are probably used internally to track individual cases and my reference other data we don't have access to.  However, it is possible that multiple calls could be associated with the same case.  Let's see if the case numbers are all unique."
   ]
  },
  {
   "cell_type": "code",
   "execution_count": 34,
   "metadata": {
    "ExecuteTime": {
     "end_time": "2018-02-02T15:15:19.849003Z",
     "start_time": "2018-02-02T15:15:19.845047Z"
    }
   },
   "outputs": [
    {
     "name": "stdout",
     "output_type": "stream",
     "text": [
      "There are 5227 unique case numbers.\n",
      "There are 5227 calls in the table.\n"
     ]
    }
   ],
   "source": [
    "print(\"There are\", calls['CASENO'].unique().shape[0], \"unique case numbers.\")\n",
    "print(\"There are\", calls.shape[0], \"calls in the table.\")"
   ]
  },
  {
   "cell_type": "markdown",
   "metadata": {},
   "source": [
    "Are case numbers assigned consecutively.  "
   ]
  },
  {
   "cell_type": "code",
   "execution_count": 36,
   "metadata": {
    "ExecuteTime": {
     "end_time": "2018-02-02T15:15:20.177759Z",
     "start_time": "2018-02-02T15:15:19.851076Z"
    }
   },
   "outputs": [
    {
     "data": {
      "image/png": "[encoded data removed]",
      "text/plain": [
       "<Figure size 1000x600 with 1 Axes>"
      ]
     },
     "metadata": {},
     "output_type": "display_data"
    }
   ],
   "source": [
    "sorted_case_numbers = calls['CASENO'].sort_values().reset_index(drop=True)\n",
    "plt.figure(figsize=(10,6))\n",
    "plt.plot(sorted_case_numbers.index, sorted_case_numbers.values)\n",
    "plt.xlabel('Location in File')\n",
    "plt.ylabel('Case Number')\n",
    "plt.show()"
   ]
  },
  {
   "cell_type": "markdown",
   "metadata": {},
   "source": [
    "I like to use interactive plotting tools so I can hover the mouse over the plot and read the values.  The cufflinks library adds plotly support to Pandas.  "
   ]
  },
  {
   "cell_type": "markdown",
   "metadata": {},
   "source": [
    "### What might we be observing?"
   ]
  },
  {
   "cell_type": "markdown",
   "metadata": {},
   "source": [
    "One possible explanation is that case numbers were assigned consecutively and then sampled uniformly at different rates for two different periods.  We will be able to understand this better by looking at the dates on the cases."
   ]
  },
  {
   "cell_type": "markdown",
   "metadata": {},
   "source": [
    "---\n",
    "<br/><br/><br/>\n",
    "\n",
    "## Examining the Date\n",
    "\n",
    "Given the weird behavior with the case numbers let's dig into the date in which events were recorded.  Notice in this data we have several pieces of date/time information (this is not uncommon):\n",
    "1. **`EVENTDT`**: This contains the date the event took place.  While it has time information the time appears to be `00:00:00`.  \n",
    "1. **`EVENTTM`**: This contains the time at which the event took place.\n",
    "1. **`InDbDate`**: This appears to be the date at which the data was entered in the database.  "
   ]
  },
  {
   "cell_type": "code",
   "execution_count": 37,
   "metadata": {
    "ExecuteTime": {
     "end_time": "2018-02-02T15:15:23.517598Z",
     "start_time": "2018-02-02T15:15:23.497989Z"
    }
   },
   "outputs": [
    {
     "data": {
      "text/html": [
       "<div>\n",
       "<style scoped>\n",
       "    .dataframe tbody tr th:only-of-type {\n",
       "        vertical-align: middle;\n",
       "    }\n",
       "\n",
       "    .dataframe tbody tr th {\n",
       "        vertical-align: top;\n",
       "    }\n",
       "\n",
       "    .dataframe thead th {\n",
       "        text-align: right;\n",
       "    }\n",
       "</style>\n",
       "<table border=\"1\" class=\"dataframe\">\n",
       "  <thead>\n",
       "    <tr style=\"text-align: right;\">\n",
       "      <th></th>\n",
       "      <th>CASENO</th>\n",
       "      <th>OFFENSE</th>\n",
       "      <th>EVENTDT</th>\n",
       "      <th>EVENTTM</th>\n",
       "      <th>CVLEGEND</th>\n",
       "      <th>CVDOW</th>\n",
       "      <th>InDbDate</th>\n",
       "      <th>Block_Location</th>\n",
       "      <th>BLKADDR</th>\n",
       "      <th>City</th>\n",
       "      <th>State</th>\n",
       "      <th>Day</th>\n",
       "      <th>Lat</th>\n",
       "      <th>Lon</th>\n",
       "    </tr>\n",
       "  </thead>\n",
       "  <tbody>\n",
       "    <tr>\n",
       "      <th>0</th>\n",
       "      <td>19059951</td>\n",
       "      <td>DISTURBANCE</td>\n",
       "      <td>10/22/2019 12:00:00 AM</td>\n",
       "      <td>12:06</td>\n",
       "      <td>DISORDERLY CONDUCT</td>\n",
       "      <td>2</td>\n",
       "      <td>06/25/2020 07:00:15 AM</td>\n",
       "      <td>2950 DURANT ST\\nBerkeley, CA</td>\n",
       "      <td>2950 DURANT ST</td>\n",
       "      <td>Berkeley</td>\n",
       "      <td>CA</td>\n",
       "      <td>Tuesday</td>\n",
       "      <td>NaN</td>\n",
       "      <td>NaN</td>\n",
       "    </tr>\n",
       "    <tr>\n",
       "      <th>1</th>\n",
       "      <td>19039736</td>\n",
       "      <td>DISTURBANCE</td>\n",
       "      <td>07/21/2019 12:00:00 AM</td>\n",
       "      <td>04:30</td>\n",
       "      <td>DISORDERLY CONDUCT</td>\n",
       "      <td>0</td>\n",
       "      <td>06/25/2020 07:00:11 AM</td>\n",
       "      <td>300 CANYON RD\\nBerkeley, CA</td>\n",
       "      <td>300 CANYON RD</td>\n",
       "      <td>Berkeley</td>\n",
       "      <td>CA</td>\n",
       "      <td>Sunday</td>\n",
       "      <td>NaN</td>\n",
       "      <td>NaN</td>\n",
       "    </tr>\n",
       "    <tr>\n",
       "      <th>2</th>\n",
       "      <td>19066056</td>\n",
       "      <td>BURGLARY AUTO</td>\n",
       "      <td>11/19/2019 12:00:00 AM</td>\n",
       "      <td>22:00</td>\n",
       "      <td>BURGLARY - VEHICLE</td>\n",
       "      <td>2</td>\n",
       "      <td>06/25/2020 07:00:16 AM</td>\n",
       "      <td>4TH ST\\nBerkeley, CA</td>\n",
       "      <td>4TH ST</td>\n",
       "      <td>Berkeley</td>\n",
       "      <td>CA</td>\n",
       "      <td>Tuesday</td>\n",
       "      <td>NaN</td>\n",
       "      <td>NaN</td>\n",
       "    </tr>\n",
       "  </tbody>\n",
       "</table>\n",
       "</div>"
      ],
      "text/plain": [
       "     CASENO        OFFENSE                 EVENTDT EVENTTM  \\\n",
       "0  19059951    DISTURBANCE  10/22/2019 12:00:00 AM   12:06   \n",
       "1  19039736    DISTURBANCE  07/21/2019 12:00:00 AM   04:30   \n",
       "2  19066056  BURGLARY AUTO  11/19/2019 12:00:00 AM   22:00   \n",
       "\n",
       "             CVLEGEND  CVDOW                InDbDate  \\\n",
       "0  DISORDERLY CONDUCT      2  06/25/2020 07:00:15 AM   \n",
       "1  DISORDERLY CONDUCT      0  06/25/2020 07:00:11 AM   \n",
       "2  BURGLARY - VEHICLE      2  06/25/2020 07:00:16 AM   \n",
       "\n",
       "                 Block_Location         BLKADDR      City State      Day  Lat  \\\n",
       "0  2950 DURANT ST\\nBerkeley, CA  2950 DURANT ST  Berkeley    CA  Tuesday  NaN   \n",
       "1   300 CANYON RD\\nBerkeley, CA   300 CANYON RD  Berkeley    CA   Sunday  NaN   \n",
       "2          4TH ST\\nBerkeley, CA          4TH ST  Berkeley    CA  Tuesday  NaN   \n",
       "\n",
       "   Lon  \n",
       "0  NaN  \n",
       "1  NaN  \n",
       "2  NaN  "
      ]
     },
     "execution_count": 37,
     "metadata": {},
     "output_type": "execute_result"
    }
   ],
   "source": [
    "calls.head(3)"
   ]
  },
  {
   "cell_type": "markdown",
   "metadata": {},
   "source": [
    "When Pandas loads more complex fields like dates it will often load them as strings:"
   ]
  },
  {
   "cell_type": "code",
   "execution_count": 38,
   "metadata": {
    "ExecuteTime": {
     "end_time": "2018-02-02T15:15:23.524783Z",
     "start_time": "2018-02-02T15:15:23.519725Z"
    }
   },
   "outputs": [
    {
     "data": {
      "text/plain": [
       "'10/22/2019 12:00:00 AM'"
      ]
     },
     "execution_count": 38,
     "metadata": {},
     "output_type": "execute_result"
    }
   ],
   "source": [
    "calls[\"EVENTDT\"][0]"
   ]
  },
  {
   "cell_type": "markdown",
   "metadata": {},
   "source": [
    "We will want to convert these to dates.  Pandas has a fairly sophisticated function `pd.to_datetime` which is capable of guessing reasonable conversions of dates to date objects. "
   ]
  },
  {
   "cell_type": "code",
   "execution_count": 39,
   "metadata": {
    "ExecuteTime": {
     "end_time": "2018-02-02T15:15:24.584372Z",
     "start_time": "2018-02-02T15:15:23.527027Z"
    }
   },
   "outputs": [
    {
     "name": "stderr",
     "output_type": "stream",
     "text": [
      "C:\\Users\\user\\AppData\\Local\\Temp\\ipykernel_20704\\1442841332.py:1: UserWarning:\n",
      "\n",
      "Could not infer format, so each element will be parsed individually, falling back to `dateutil`. To ensure parsing is consistent and as-expected, please specify a format.\n",
      "\n"
     ]
    },
    {
     "data": {
      "text/plain": [
       "Timestamp('2019-10-22 00:00:00')"
      ]
     },
     "execution_count": 39,
     "metadata": {},
     "output_type": "execute_result"
    }
   ],
   "source": [
    "dates = pd.to_datetime(calls['EVENTDT'])\n",
    "dates[0]"
   ]
  },
  {
   "cell_type": "markdown",
   "metadata": {},
   "source": [
    "We can verify that the translations worked by looking at a few dates:"
   ]
  },
  {
   "cell_type": "code",
   "execution_count": 40,
   "metadata": {
    "ExecuteTime": {
     "end_time": "2018-02-02T15:15:24.595399Z",
     "start_time": "2018-02-02T15:15:24.586550Z"
    }
   },
   "outputs": [
    {
     "data": {
      "text/html": [
       "<div>\n",
       "<style scoped>\n",
       "    .dataframe tbody tr th:only-of-type {\n",
       "        vertical-align: middle;\n",
       "    }\n",
       "\n",
       "    .dataframe tbody tr th {\n",
       "        vertical-align: top;\n",
       "    }\n",
       "\n",
       "    .dataframe thead th {\n",
       "        text-align: right;\n",
       "    }\n",
       "</style>\n",
       "<table border=\"1\" class=\"dataframe\">\n",
       "  <thead>\n",
       "    <tr style=\"text-align: right;\">\n",
       "      <th></th>\n",
       "      <th>transformed</th>\n",
       "      <th>original</th>\n",
       "    </tr>\n",
       "  </thead>\n",
       "  <tbody>\n",
       "    <tr>\n",
       "      <th>0</th>\n",
       "      <td>2019-10-22</td>\n",
       "      <td>10/22/2019 12:00:00 AM</td>\n",
       "    </tr>\n",
       "    <tr>\n",
       "      <th>1</th>\n",
       "      <td>2019-07-21</td>\n",
       "      <td>07/21/2019 12:00:00 AM</td>\n",
       "    </tr>\n",
       "    <tr>\n",
       "      <th>2</th>\n",
       "      <td>2019-11-19</td>\n",
       "      <td>11/19/2019 12:00:00 AM</td>\n",
       "    </tr>\n",
       "    <tr>\n",
       "      <th>3</th>\n",
       "      <td>2019-09-10</td>\n",
       "      <td>09/10/2019 12:00:00 AM</td>\n",
       "    </tr>\n",
       "    <tr>\n",
       "      <th>4</th>\n",
       "      <td>2019-12-05</td>\n",
       "      <td>12/05/2019 12:00:00 AM</td>\n",
       "    </tr>\n",
       "  </tbody>\n",
       "</table>\n",
       "</div>"
      ],
      "text/plain": [
       "  transformed                original\n",
       "0  2019-10-22  10/22/2019 12:00:00 AM\n",
       "1  2019-07-21  07/21/2019 12:00:00 AM\n",
       "2  2019-11-19  11/19/2019 12:00:00 AM\n",
       "3  2019-09-10  09/10/2019 12:00:00 AM\n",
       "4  2019-12-05  12/05/2019 12:00:00 AM"
      ]
     },
     "execution_count": 40,
     "metadata": {},
     "output_type": "execute_result"
    }
   ],
   "source": [
    "pd.DataFrame(dict(transformed=dates, original=calls[\"EVENTDT\"])).head()"
   ]
  },
  {
   "cell_type": "markdown",
   "metadata": {},
   "source": [
    "We can also extract the time field:"
   ]
  },
  {
   "cell_type": "code",
   "execution_count": 41,
   "metadata": {
    "ExecuteTime": {
     "end_time": "2018-02-02T15:15:24.831230Z",
     "start_time": "2018-02-02T15:15:24.597478Z"
    }
   },
   "outputs": [
    {
     "name": "stderr",
     "output_type": "stream",
     "text": [
      "C:\\Users\\user\\AppData\\Local\\Temp\\ipykernel_20704\\3419886424.py:1: UserWarning:\n",
      "\n",
      "Could not infer format, so each element will be parsed individually, falling back to `dateutil`. To ensure parsing is consistent and as-expected, please specify a format.\n",
      "\n"
     ]
    },
    {
     "data": {
      "text/plain": [
       "0    12:06:00\n",
       "1    04:30:00\n",
       "2    22:00:00\n",
       "3    19:00:00\n",
       "4    15:45:00\n",
       "Name: EVENTTM, dtype: object"
      ]
     },
     "execution_count": 41,
     "metadata": {},
     "output_type": "execute_result"
    }
   ],
   "source": [
    "times = pd.to_datetime(calls[\"EVENTTM\"]).dt.time\n",
    "times.head()"
   ]
  },
  {
   "cell_type": "markdown",
   "metadata": {},
   "source": [
    "To combine the correct date and correct time field we use the built-in python datetime combine function."
   ]
  },
  {
   "cell_type": "code",
   "execution_count": 42,
   "metadata": {
    "ExecuteTime": {
     "end_time": "2018-02-02T15:15:25.269586Z",
     "start_time": "2018-02-02T15:15:24.833379Z"
    }
   },
   "outputs": [
    {
     "data": {
      "text/plain": [
       "0   2019-10-22 12:06:00\n",
       "1   2019-07-21 04:30:00\n",
       "2   2019-11-19 22:00:00\n",
       "3   2019-09-10 19:00:00\n",
       "4   2019-12-05 15:45:00\n",
       "dtype: datetime64[ns]"
      ]
     },
     "execution_count": 42,
     "metadata": {},
     "output_type": "execute_result"
    }
   ],
   "source": [
    "from datetime import datetime\n",
    "timestamps = pd.concat([dates, times], axis=1).apply(\n",
    "    lambda r: datetime.combine(r[\"EVENTDT\"], r[\"EVENTTM\"]), axis=1\n",
    ")\n",
    "timestamps.head()"
   ]
  },
  {
   "cell_type": "markdown",
   "metadata": {},
   "source": [
    "We now updated calls to contain this additional informations:"
   ]
  },
  {
   "cell_type": "code",
   "execution_count": 43,
   "metadata": {
    "ExecuteTime": {
     "end_time": "2018-02-02T15:15:25.290941Z",
     "start_time": "2018-02-02T15:15:25.271722Z"
    }
   },
   "outputs": [
    {
     "data": {
      "text/html": [
       "<div>\n",
       "<style scoped>\n",
       "    .dataframe tbody tr th:only-of-type {\n",
       "        vertical-align: middle;\n",
       "    }\n",
       "\n",
       "    .dataframe tbody tr th {\n",
       "        vertical-align: top;\n",
       "    }\n",
       "\n",
       "    .dataframe thead th {\n",
       "        text-align: right;\n",
       "    }\n",
       "</style>\n",
       "<table border=\"1\" class=\"dataframe\">\n",
       "  <thead>\n",
       "    <tr style=\"text-align: right;\">\n",
       "      <th></th>\n",
       "      <th>CASENO</th>\n",
       "      <th>OFFENSE</th>\n",
       "      <th>EVENTDT</th>\n",
       "      <th>EVENTTM</th>\n",
       "      <th>CVLEGEND</th>\n",
       "      <th>CVDOW</th>\n",
       "      <th>InDbDate</th>\n",
       "      <th>Block_Location</th>\n",
       "      <th>BLKADDR</th>\n",
       "      <th>City</th>\n",
       "      <th>State</th>\n",
       "      <th>Day</th>\n",
       "      <th>Lat</th>\n",
       "      <th>Lon</th>\n",
       "      <th>timestamp</th>\n",
       "    </tr>\n",
       "  </thead>\n",
       "  <tbody>\n",
       "    <tr>\n",
       "      <th>0</th>\n",
       "      <td>19059951</td>\n",
       "      <td>DISTURBANCE</td>\n",
       "      <td>10/22/2019 12:00:00 AM</td>\n",
       "      <td>12:06</td>\n",
       "      <td>DISORDERLY CONDUCT</td>\n",
       "      <td>2</td>\n",
       "      <td>06/25/2020 07:00:15 AM</td>\n",
       "      <td>2950 DURANT ST\\nBerkeley, CA</td>\n",
       "      <td>2950 DURANT ST</td>\n",
       "      <td>Berkeley</td>\n",
       "      <td>CA</td>\n",
       "      <td>Tuesday</td>\n",
       "      <td>NaN</td>\n",
       "      <td>NaN</td>\n",
       "      <td>2019-10-22 12:06:00</td>\n",
       "    </tr>\n",
       "    <tr>\n",
       "      <th>1</th>\n",
       "      <td>19039736</td>\n",
       "      <td>DISTURBANCE</td>\n",
       "      <td>07/21/2019 12:00:00 AM</td>\n",
       "      <td>04:30</td>\n",
       "      <td>DISORDERLY CONDUCT</td>\n",
       "      <td>0</td>\n",
       "      <td>06/25/2020 07:00:11 AM</td>\n",
       "      <td>300 CANYON RD\\nBerkeley, CA</td>\n",
       "      <td>300 CANYON RD</td>\n",
       "      <td>Berkeley</td>\n",
       "      <td>CA</td>\n",
       "      <td>Sunday</td>\n",
       "      <td>NaN</td>\n",
       "      <td>NaN</td>\n",
       "      <td>2019-07-21 04:30:00</td>\n",
       "    </tr>\n",
       "    <tr>\n",
       "      <th>2</th>\n",
       "      <td>19066056</td>\n",
       "      <td>BURGLARY AUTO</td>\n",
       "      <td>11/19/2019 12:00:00 AM</td>\n",
       "      <td>22:00</td>\n",
       "      <td>BURGLARY - VEHICLE</td>\n",
       "      <td>2</td>\n",
       "      <td>06/25/2020 07:00:16 AM</td>\n",
       "      <td>4TH ST\\nBerkeley, CA</td>\n",
       "      <td>4TH ST</td>\n",
       "      <td>Berkeley</td>\n",
       "      <td>CA</td>\n",
       "      <td>Tuesday</td>\n",
       "      <td>NaN</td>\n",
       "      <td>NaN</td>\n",
       "      <td>2019-11-19 22:00:00</td>\n",
       "    </tr>\n",
       "    <tr>\n",
       "      <th>3</th>\n",
       "      <td>19051156</td>\n",
       "      <td>VEHICLE STOLEN</td>\n",
       "      <td>09/10/2019 12:00:00 AM</td>\n",
       "      <td>19:00</td>\n",
       "      <td>MOTOR VEHICLE THEFT</td>\n",
       "      <td>2</td>\n",
       "      <td>06/25/2020 07:00:13 AM</td>\n",
       "      <td>100 MENLO PL\\nBerkeley, CA</td>\n",
       "      <td>100 MENLO PL</td>\n",
       "      <td>Berkeley</td>\n",
       "      <td>CA</td>\n",
       "      <td>Tuesday</td>\n",
       "      <td>NaN</td>\n",
       "      <td>NaN</td>\n",
       "      <td>2019-09-10 19:00:00</td>\n",
       "    </tr>\n",
       "    <tr>\n",
       "      <th>4</th>\n",
       "      <td>19068960</td>\n",
       "      <td>BURGLARY AUTO</td>\n",
       "      <td>12/05/2019 12:00:00 AM</td>\n",
       "      <td>15:45</td>\n",
       "      <td>BURGLARY - VEHICLE</td>\n",
       "      <td>4</td>\n",
       "      <td>06/25/2020 07:00:17 AM</td>\n",
       "      <td>800 HILLCREST RD\\nBerkeley, CA</td>\n",
       "      <td>800 HILLCREST RD</td>\n",
       "      <td>Berkeley</td>\n",
       "      <td>CA</td>\n",
       "      <td>Thursday</td>\n",
       "      <td>NaN</td>\n",
       "      <td>NaN</td>\n",
       "      <td>2019-12-05 15:45:00</td>\n",
       "    </tr>\n",
       "  </tbody>\n",
       "</table>\n",
       "</div>"
      ],
      "text/plain": [
       "     CASENO         OFFENSE                 EVENTDT EVENTTM  \\\n",
       "0  19059951     DISTURBANCE  10/22/2019 12:00:00 AM   12:06   \n",
       "1  19039736     DISTURBANCE  07/21/2019 12:00:00 AM   04:30   \n",
       "2  19066056   BURGLARY AUTO  11/19/2019 12:00:00 AM   22:00   \n",
       "3  19051156  VEHICLE STOLEN  09/10/2019 12:00:00 AM   19:00   \n",
       "4  19068960   BURGLARY AUTO  12/05/2019 12:00:00 AM   15:45   \n",
       "\n",
       "              CVLEGEND  CVDOW                InDbDate  \\\n",
       "0   DISORDERLY CONDUCT      2  06/25/2020 07:00:15 AM   \n",
       "1   DISORDERLY CONDUCT      0  06/25/2020 07:00:11 AM   \n",
       "2   BURGLARY - VEHICLE      2  06/25/2020 07:00:16 AM   \n",
       "3  MOTOR VEHICLE THEFT      2  06/25/2020 07:00:13 AM   \n",
       "4   BURGLARY - VEHICLE      4  06/25/2020 07:00:17 AM   \n",
       "\n",
       "                   Block_Location           BLKADDR      City State       Day  \\\n",
       "0    2950 DURANT ST\\nBerkeley, CA    2950 DURANT ST  Berkeley    CA   Tuesday   \n",
       "1     300 CANYON RD\\nBerkeley, CA     300 CANYON RD  Berkeley    CA    Sunday   \n",
       "2            4TH ST\\nBerkeley, CA            4TH ST  Berkeley    CA   Tuesday   \n",
       "3      100 MENLO PL\\nBerkeley, CA      100 MENLO PL  Berkeley    CA   Tuesday   \n",
       "4  800 HILLCREST RD\\nBerkeley, CA  800 HILLCREST RD  Berkeley    CA  Thursday   \n",
       "\n",
       "   Lat  Lon           timestamp  \n",
       "0  NaN  NaN 2019-10-22 12:06:00  \n",
       "1  NaN  NaN 2019-07-21 04:30:00  \n",
       "2  NaN  NaN 2019-11-19 22:00:00  \n",
       "3  NaN  NaN 2019-09-10 19:00:00  \n",
       "4  NaN  NaN 2019-12-05 15:45:00  "
      ]
     },
     "execution_count": 43,
     "metadata": {},
     "output_type": "execute_result"
    }
   ],
   "source": [
    "calls['timestamp'] = timestamps\n",
    "calls.head()"
   ]
  },
  {
   "cell_type": "code",
   "execution_count": 30,
   "metadata": {},
   "outputs": [
    {
     "data": {
      "application/vnd.jupyter.widget-view+json": {
       "model_id": "8c4c3b5e0aa943298004e6869add3713",
       "version_major": 2,
       "version_minor": 0
      },
      "text/plain": [
       "interactive(children=(IntSlider(value=0, description='row', max=5227, step=7), IntSlider(value=0, description=…"
      ]
     },
     "metadata": {},
     "output_type": "display_data"
    },
    {
     "name": "stdout",
     "output_type": "stream",
     "text": [
      "(5227 rows, 15 columns) total\n"
     ]
    }
   ],
   "source": [
    "df_interact(calls)"
   ]
  },
  {
   "cell_type": "markdown",
   "metadata": {},
   "source": [
    "### What time range does the data represent"
   ]
  },
  {
   "cell_type": "code",
   "execution_count": 44,
   "metadata": {
    "ExecuteTime": {
     "end_time": "2018-02-02T15:15:25.298774Z",
     "start_time": "2018-02-02T15:15:25.293128Z"
    }
   },
   "outputs": [
    {
     "data": {
      "text/plain": [
       "Timestamp('2019-07-01 00:00:00')"
      ]
     },
     "execution_count": 44,
     "metadata": {},
     "output_type": "execute_result"
    }
   ],
   "source": [
    "calls['timestamp'].min()"
   ]
  },
  {
   "cell_type": "code",
   "execution_count": 45,
   "metadata": {
    "ExecuteTime": {
     "end_time": "2018-02-02T15:15:25.305149Z",
     "start_time": "2018-02-02T15:15:25.300806Z"
    }
   },
   "outputs": [
    {
     "data": {
      "text/plain": [
       "Timestamp('2019-12-20 01:30:00')"
      ]
     },
     "execution_count": 45,
     "metadata": {},
     "output_type": "execute_result"
    }
   ],
   "source": [
    "calls['timestamp'].max()"
   ]
  },
  {
   "cell_type": "markdown",
   "metadata": {},
   "source": [
    "---\n",
    "<br/><br/><br/>\n",
    "\n",
    "\n",
    "### Are there any other interesting temporal patterns\n",
    "\n",
    "Do more calls occur on a particular day of the week?"
   ]
  },
  {
   "cell_type": "code",
   "execution_count": 46,
   "metadata": {},
   "outputs": [
    {
     "data": {
      "text/plain": [
       "Day\n",
       "Sunday       660\n",
       "Monday       788\n",
       "Tuesday      730\n",
       "Wednesday    751\n",
       "Thursday     771\n",
       "Friday       778\n",
       "Saturday     749\n",
       "Name: CASENO, dtype: int64"
      ]
     },
     "execution_count": 46,
     "metadata": {},
     "output_type": "execute_result"
    }
   ],
   "source": [
    "dow = [\"Sunday\", \"Monday\", \"Tuesday\", \"Wednesday\", \"Thursday\", \"Friday\", \"Saturday\"]\n",
    "calls.groupby('Day')['CASENO'].count()[dow]"
   ]
  },
  {
   "cell_type": "code",
   "execution_count": null,
   "metadata": {},
   "outputs": [],
   "source": [
    "dow = [\"Sunday\", \"Monday\", \"Tuesday\", \"Wednesday\", \"Thursday\", \"Friday\", \"Saturday\"]\n",
    "calls.groupby('Day')['CASENO'].count()[dow].iplot(kind='bar', yTitle=\"Count\")"
   ]
  },
  {
   "cell_type": "markdown",
   "metadata": {},
   "source": [
    "### How about temporal patterns within a day?"
   ]
  },
  {
   "cell_type": "code",
   "execution_count": 50,
   "metadata": {
    "ExecuteTime": {
     "end_time": "2018-02-02T15:15:28.279664Z",
     "start_time": "2018-02-02T15:15:28.263705Z"
    }
   },
   "outputs": [],
   "source": [
    "calls['hour_of_day'] = calls['timestamp'].dt.hour * 60 + calls['timestamp'].dt.minute / 60"
   ]
  },
  {
   "cell_type": "code",
   "execution_count": 58,
   "metadata": {
    "ExecuteTime": {
     "end_time": "2018-02-02T15:15:28.426935Z",
     "start_time": "2018-02-02T15:15:28.281805Z"
    }
   },
   "outputs": [
    {
     "data": {
      "application/vnd.plotly.v1+json": {
       "config": {
        "linkText": "Export to plot.ly",
        "plotlyServerURL": "https://plot.ly",
        "showLink": false
       },
       "data": [
        {
         "autobinx": false,
         "histnorm": "probability density",
         "legendgroup": "Hour",
         "marker": {
          "color": "rgb(31, 119, 180)"
         },
         "name": "Hour",
         "opacity": 0.7,
         "type": "histogram",
         "x": {
          "bdata": "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",
          "dtype": "f8"
         },
         "xaxis": "x",
         "xbins": {
          "end": 1380.9833333333333,
          "size": 1,
          "start": 0
         },
         "yaxis": "y"
        },
        {
         "legendgroup": "Hour",
         "marker": {
          "color": "rgb(31, 119, 180)"
         },
         "mode": "lines",
         "name": "Hour",
         "showlegend": false,
         "type": "scatter",
         "x": [
          0,
          2.761966666666667,
          5.523933333333334,
          8.2859,
          11.047866666666668,
          13.809833333333334,
          16.5718,
          19.333766666666666,
          22.095733333333335,
          24.8577,
          27.619666666666667,
          30.381633333333333,
          33.1436,
          35.905566666666665,
          38.66753333333333,
          41.4295,
          44.19146666666667,
          46.95343333333334,
          49.7154,
          52.47736666666667,
          55.239333333333335,
          58.0013,
          60.76326666666667,
          63.52523333333334,
          66.2872,
          69.04916666666666,
          71.81113333333333,
          74.57310000000001,
          77.33506666666666,
          80.09703333333334,
          82.859,
          85.62096666666667,
          88.38293333333334,
          91.14489999999999,
          93.90686666666667,
          96.66883333333332,
          99.4308,
          102.19276666666666,
          104.95473333333334,
          107.7167,
          110.47866666666667,
          113.24063333333334,
          116.0026,
          118.76456666666667,
          121.52653333333333,
          124.2885,
          127.05046666666668,
          129.81243333333333,
          132.5744,
          135.33636666666666,
          138.09833333333333,
          140.8603,
          143.62226666666666,
          146.38423333333333,
          149.14620000000002,
          151.90816666666666,
          154.67013333333333,
          157.43210000000002,
          160.19406666666669,
          162.95603333333332,
          165.718,
          168.47996666666668,
          171.24193333333335,
          174.0039,
          176.76586666666668,
          179.52783333333335,
          182.28979999999999,
          185.05176666666665,
          187.81373333333335,
          190.5757,
          193.33766666666665,
          196.09963333333334,
          198.8616,
          201.62356666666668,
          204.3855333333333,
          207.1475,
          209.90946666666667,
          212.67143333333334,
          215.4334,
          218.19536666666667,
          220.95733333333334,
          223.71929999999998,
          226.48126666666667,
          229.24323333333334,
          232.0052,
          234.76716666666667,
          237.52913333333333,
          240.2911,
          243.05306666666667,
          245.81503333333333,
          248.577,
          251.33896666666666,
          254.10093333333336,
          256.86289999999997,
          259.62486666666666,
          262.3868333333333,
          265.1488,
          267.9107666666667,
          270.6727333333333,
          273.4347,
          276.19666666666666,
          278.95863333333335,
          281.7206,
          284.4825666666666,
          287.2445333333333,
          290.0065,
          292.76846666666665,
          295.53043333333335,
          298.29240000000004,
          301.0543666666667,
          303.8163333333333,
          306.5783,
          309.34026666666665,
          312.10223333333334,
          314.86420000000004,
          317.6261666666667,
          320.38813333333337,
          323.15009999999995,
          325.91206666666665,
          328.67403333333334,
          331.436,
          334.1979666666667,
          336.95993333333337,
          339.7219,
          342.4838666666667,
          345.24583333333334,
          348.0078,
          350.76976666666667,
          353.53173333333336,
          356.2937,
          359.0556666666667,
          361.81763333333333,
          364.57959999999997,
          367.34156666666667,
          370.1035333333333,
          372.8655,
          375.6274666666667,
          378.38943333333333,
          381.1514,
          383.9133666666667,
          386.6753333333333,
          389.4373,
          392.1992666666667,
          394.9612333333333,
          397.7232,
          400.4851666666667,
          403.24713333333335,
          406.0091,
          408.7710666666666,
          411.5330333333333,
          414.295,
          417.05696666666665,
          419.81893333333335,
          422.58090000000004,
          425.3428666666667,
          428.1048333333333,
          430.8668,
          433.62876666666665,
          436.39073333333334,
          439.15270000000004,
          441.9146666666667,
          444.67663333333337,
          447.43859999999995,
          450.20056666666665,
          452.96253333333334,
          455.7245,
          458.4864666666667,
          461.24843333333337,
          464.0104,
          466.7723666666667,
          469.53433333333334,
          472.2963,
          475.05826666666667,
          477.82023333333336,
          480.5822,
          483.3441666666667,
          486.10613333333333,
          488.86809999999997,
          491.63006666666666,
          494.3920333333333,
          497.154,
          499.9159666666667,
          502.6779333333333,
          505.4399,
          508.2018666666667,
          510.9638333333333,
          513.7257999999999,
          516.4877666666666,
          519.2497333333333,
          522.0117,
          524.7736666666666,
          527.5356333333333,
          530.2976,
          533.0595666666667,
          535.8215333333334,
          538.5835,
          541.3454666666667,
          544.1074333333333,
          546.8694,
          549.6313666666667,
          552.3933333333333,
          555.1553,
          557.9172666666667,
          560.6792333333334,
          563.4412,
          566.2031666666667,
          568.9651333333333,
          571.7271,
          574.4890666666666,
          577.2510333333333,
          580.013,
          582.7749666666667,
          585.5369333333333,
          588.2989,
          591.0608666666667,
          593.8228333333334,
          596.5848000000001,
          599.3467666666667,
          602.1087333333334,
          604.8706999999999,
          607.6326666666666,
          610.3946333333333,
          613.1566,
          615.9185666666666,
          618.6805333333333,
          621.4425,
          624.2044666666667,
          626.9664333333334,
          629.7284000000001,
          632.4903666666667,
          635.2523333333334,
          638.0143,
          640.7762666666667,
          643.5382333333334,
          646.3001999999999,
          649.0621666666666,
          651.8241333333333,
          654.5861,
          657.3480666666667,
          660.1100333333334,
          662.872,
          665.6339666666667,
          668.3959333333333,
          671.1579,
          673.9198666666667,
          676.6818333333333,
          679.4438,
          682.2057666666667,
          684.9677333333334,
          687.7297,
          690.4916666666667,
          693.2536333333333,
          696.0156,
          698.7775666666666,
          701.5395333333333,
          704.3015,
          707.0634666666667,
          709.8254333333333,
          712.5874,
          715.3493666666667,
          718.1113333333334,
          720.8733000000001,
          723.6352666666667,
          726.3972333333334,
          729.1591999999999,
          731.9211666666666,
          734.6831333333333,
          737.4451,
          740.2070666666666,
          742.9690333333333,
          745.731,
          748.4929666666667,
          751.2549333333334,
          754.0169000000001,
          756.7788666666667,
          759.5408333333334,
          762.3028,
          765.0647666666667,
          767.8267333333334,
          770.5886999999999,
          773.3506666666666,
          776.1126333333333,
          778.8746,
          781.6365666666667,
          784.3985333333334,
          787.1605,
          789.9224666666667,
          792.6844333333333,
          795.4464,
          798.2083666666667,
          800.9703333333334,
          803.7323,
          806.4942666666667,
          809.2562333333334,
          812.0182,
          814.7801666666667,
          817.5421333333333,
          820.3041,
          823.0660666666666,
          825.8280333333333,
          828.59,
          831.3519666666667,
          834.1139333333333,
          836.8759,
          839.6378666666667,
          842.3998333333334,
          845.1618000000001,
          847.9237666666667,
          850.6857333333334,
          853.4476999999999,
          856.2096666666666,
          858.9716333333333,
          861.7336,
          864.4955666666666,
          867.2575333333333,
          870.0195,
          872.7814666666667,
          875.5434333333334,
          878.3054000000001,
          881.0673666666667,
          883.8293333333334,
          886.5913,
          889.3532666666667,
          892.1152333333334,
          894.8771999999999,
          897.6391666666666,
          900.4011333333333,
          903.1631,
          905.9250666666667,
          908.6870333333334,
          911.449,
          914.2109666666666,
          916.9729333333333,
          919.7349,
          922.4968666666667,
          925.2588333333334,
          928.0208,
          930.7827666666667,
          933.5447333333334,
          936.3067,
          939.0686666666667,
          941.8306333333333,
          944.5926,
          947.3545666666666,
          950.1165333333333,
          952.8785,
          955.6404666666667,
          958.4024333333333,
          961.1644,
          963.9263666666667,
          966.6883333333334,
          969.4503000000001,
          972.2122666666667,
          974.9742333333334,
          977.7361999999999,
          980.4981666666666,
          983.2601333333333,
          986.0221,
          988.7840666666666,
          991.5460333333333,
          994.308,
          997.0699666666667,
          999.8319333333334,
          1002.5939000000001,
          1005.3558666666667,
          1008.1178333333334,
          1010.8798,
          1013.6417666666667,
          1016.4037333333334,
          1019.1656999999999,
          1021.9276666666666,
          1024.6896333333334,
          1027.4515999999999,
          1030.2135666666666,
          1032.9755333333333,
          1035.7375,
          1038.4994666666666,
          1041.2614333333333,
          1044.0234,
          1046.7853666666667,
          1049.5473333333332,
          1052.3093000000001,
          1055.0712666666666,
          1057.8332333333333,
          1060.5952,
          1063.3571666666667,
          1066.1191333333334,
          1068.8811,
          1071.6430666666668,
          1074.4050333333334,
          1077.167,
          1079.9289666666668,
          1082.6909333333333,
          1085.4529,
          1088.2148666666667,
          1090.9768333333332,
          1093.7388,
          1096.5007666666666,
          1099.2627333333335,
          1102.0247,
          1104.7866666666666,
          1107.5486333333333,
          1110.3106,
          1113.0725666666667,
          1115.8345333333334,
          1118.5965,
          1121.3584666666668,
          1124.1204333333333,
          1126.8824,
          1129.6443666666667,
          1132.4063333333334,
          1135.1683,
          1137.9302666666665,
          1140.6922333333334,
          1143.4542,
          1146.2161666666668,
          1148.9781333333333,
          1151.7401,
          1154.5020666666667,
          1157.2640333333334,
          1160.026,
          1162.7879666666668,
          1165.5499333333335,
          1168.3119,
          1171.0738666666666,
          1173.8358333333333,
          1176.5978,
          1179.3597666666667,
          1182.1217333333334,
          1184.8836999999999,
          1187.6456666666668,
          1190.4076333333333,
          1193.1696000000002,
          1195.9315666666666,
          1198.6935333333333,
          1201.4555,
          1204.2174666666667,
          1206.9794333333334,
          1209.7413999999999,
          1212.5033666666668,
          1215.2653333333333,
          1218.0273,
          1220.7892666666667,
          1223.5512333333334,
          1226.3132,
          1229.0751666666667,
          1231.8371333333332,
          1234.5991000000001,
          1237.3610666666666,
          1240.1230333333335,
          1242.885,
          1245.6469666666667,
          1248.4089333333334,
          1251.1708999999998,
          1253.9328666666668,
          1256.6948333333332,
          1259.4568000000002,
          1262.2187666666666,
          1264.9807333333333,
          1267.7427,
          1270.5046666666667,
          1273.2666333333334,
          1276.0286,
          1278.7905666666666,
          1281.5525333333335,
          1284.3145,
          1287.0764666666669,
          1289.8384333333333,
          1292.6003999999998,
          1295.3623666666667,
          1298.1243333333332,
          1300.8863000000001,
          1303.6482666666666,
          1306.4102333333335,
          1309.1722,
          1311.9341666666667,
          1314.6961333333334,
          1317.4581,
          1320.2200666666668,
          1322.9820333333334,
          1325.744,
          1328.5059666666668,
          1331.2679333333333,
          1334.0299,
          1336.7918666666667,
          1339.5538333333332,
          1342.3158,
          1345.0777666666665,
          1347.8397333333335,
          1350.6017,
          1353.3636666666666,
          1356.1256333333333,
          1358.8876,
          1361.6495666666667,
          1364.4115333333334,
          1367.1735,
          1369.9354666666668,
          1372.6974333333333,
          1375.4594,
          1378.2213666666667
         ],
         "xaxis": "x",
         "y": {
          "bdata": "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",
          "dtype": "f8"
         },
         "yaxis": "y"
        }
       ],
       "layout": {
        "barmode": "overlay",
        "hovermode": "closest",
        "legend": {
         "traceorder": "reversed"
        },
        "template": {
         "data": {
          "bar": [
           {
            "error_x": {
             "color": "#2a3f5f"
            },
            "error_y": {
             "color": "#2a3f5f"
            },
            "marker": {
             "line": {
              "color": "#E5ECF6",
              "width": 0.5
             },
             "pattern": {
              "fillmode": "overlay",
              "size": 10,
              "solidity": 0.2
             }
            },
            "type": "bar"
           }
          ],
          "barpolar": [
           {
            "marker": {
             "line": {
              "color": "#E5ECF6",
              "width": 0.5
             },
             "pattern": {
              "fillmode": "overlay",
              "size": 10,
              "solidity": 0.2
             }
            },
            "type": "barpolar"
           }
          ],
          "carpet": [
           {
            "aaxis": {
             "endlinecolor": "#2a3f5f",
             "gridcolor": "white",
             "linecolor": "white",
             "minorgridcolor": "white",
             "startlinecolor": "#2a3f5f"
            },
            "baxis": {
             "endlinecolor": "#2a3f5f",
             "gridcolor": "white",
             "linecolor": "white",
             "minorgridcolor": "white",
             "startlinecolor": "#2a3f5f"
            },
            "type": "carpet"
           }
          ],
          "choropleth": [
           {
            "colorbar": {
             "outlinewidth": 0,
             "ticks": ""
            },
            "type": "choropleth"
           }
          ],
          "contour": [
           {
            "colorbar": {
             "outlinewidth": 0,
             "ticks": ""
            },
            "colorscale": [
             [
              0,
              "#0d0887"
             ],
             [
              0.1111111111111111,
              "#46039f"
             ],
             [
              0.2222222222222222,
              "#7201a8"
             ],
             [
              0.3333333333333333,
              "#9c179e"
             ],
             [
              0.4444444444444444,
              "#bd3786"
             ],
             [
              0.5555555555555556,
              "#d8576b"
             ],
             [
              0.6666666666666666,
              "#ed7953"
             ],
             [
              0.7777777777777778,
              "#fb9f3a"
             ],
             [
              0.8888888888888888,
              "#fdca26"
             ],
             [
              1,
              "#f0f921"
             ]
            ],
            "type": "contour"
           }
          ],
          "contourcarpet": [
           {
            "colorbar": {
             "outlinewidth": 0,
             "ticks": ""
            },
            "type": "contourcarpet"
           }
          ],
          "heatmap": [
           {
            "colorbar": {
             "outlinewidth": 0,
             "ticks": ""
            },
            "colorscale": [
             [
              0,
              "#0d0887"
             ],
             [
              0.1111111111111111,
              "#46039f"
             ],
             [
              0.2222222222222222,
              "#7201a8"
             ],
             [
              0.3333333333333333,
              "#9c179e"
             ],
             [
              0.4444444444444444,
              "#bd3786"
             ],
             [
              0.5555555555555556,
              "#d8576b"
             ],
             [
              0.6666666666666666,
              "#ed7953"
             ],
             [
              0.7777777777777778,
              "#fb9f3a"
             ],
             [
              0.8888888888888888,
              "#fdca26"
             ],
             [
              1,
              "#f0f921"
             ]
            ],
            "type": "heatmap"
           }
          ],
          "histogram": [
           {
            "marker": {
             "pattern": {
              "fillmode": "overlay",
              "size": 10,
              "solidity": 0.2
             }
            },
            "type": "histogram"
           }
          ],
          "histogram2d": [
           {
            "colorbar": {
             "outlinewidth": 0,
             "ticks": ""
            },
            "colorscale": [
             [
              0,
              "#0d0887"
             ],
             [
              0.1111111111111111,
              "#46039f"
             ],
             [
              0.2222222222222222,
              "#7201a8"
             ],
             [
              0.3333333333333333,
              "#9c179e"
             ],
             [
              0.4444444444444444,
              "#bd3786"
             ],
             [
              0.5555555555555556,
              "#d8576b"
             ],
             [
              0.6666666666666666,
              "#ed7953"
             ],
             [
              0.7777777777777778,
              "#fb9f3a"
             ],
             [
              0.8888888888888888,
              "#fdca26"
             ],
             [
              1,
              "#f0f921"
             ]
            ],
            "type": "histogram2d"
           }
          ],
          "histogram2dcontour": [
           {
            "colorbar": {
             "outlinewidth": 0,
             "ticks": ""
            },
            "colorscale": [
             [
              0,
              "#0d0887"
             ],
             [
              0.1111111111111111,
              "#46039f"
             ],
             [
              0.2222222222222222,
              "#7201a8"
             ],
             [
              0.3333333333333333,
              "#9c179e"
             ],
             [
              0.4444444444444444,
              "#bd3786"
             ],
             [
              0.5555555555555556,
              "#d8576b"
             ],
             [
              0.6666666666666666,
              "#ed7953"
             ],
             [
              0.7777777777777778,
              "#fb9f3a"
             ],
             [
              0.8888888888888888,
              "#fdca26"
             ],
             [
              1,
              "#f0f921"
             ]
            ],
            "type": "histogram2dcontour"
           }
          ],
          "mesh3d": [
           {
            "colorbar": {
             "outlinewidth": 0,
             "ticks": ""
            },
            "type": "mesh3d"
           }
          ],
          "parcoords": [
           {
            "line": {
             "colorbar": {
              "outlinewidth": 0,
              "ticks": ""
             }
            },
            "type": "parcoords"
           }
          ],
          "pie": [
           {
            "automargin": true,
            "type": "pie"
           }
          ],
          "scatter": [
           {
            "fillpattern": {
             "fillmode": "overlay",
             "size": 10,
             "solidity": 0.2
            },
            "type": "scatter"
           }
          ],
          "scatter3d": [
           {
            "line": {
             "colorbar": {
              "outlinewidth": 0,
              "ticks": ""
             }
            },
            "marker": {
             "colorbar": {
              "outlinewidth": 0,
              "ticks": ""
             }
            },
            "type": "scatter3d"
           }
          ],
          "scattercarpet": [
           {
            "marker": {
             "colorbar": {
              "outlinewidth": 0,
              "ticks": ""
             }
            },
            "type": "scattercarpet"
           }
          ],
          "scattergeo": [
           {
            "marker": {
             "colorbar": {
              "outlinewidth": 0,
              "ticks": ""
             }
            },
            "type": "scattergeo"
           }
          ],
          "scattergl": [
           {
            "marker": {
             "colorbar": {
              "outlinewidth": 0,
              "ticks": ""
             }
            },
            "type": "scattergl"
           }
          ],
          "scattermap": [
           {
            "marker": {
             "colorbar": {
              "outlinewidth": 0,
              "ticks": ""
             }
            },
            "type": "scattermap"
           }
          ],
          "scattermapbox": [
           {
            "marker": {
             "colorbar": {
              "outlinewidth": 0,
              "ticks": ""
             }
            },
            "type": "scattermapbox"
           }
          ],
          "scatterpolar": [
           {
            "marker": {
             "colorbar": {
              "outlinewidth": 0,
              "ticks": ""
             }
            },
            "type": "scatterpolar"
           }
          ],
          "scatterpolargl": [
           {
            "marker": {
             "colorbar": {
              "outlinewidth": 0,
              "ticks": ""
             }
            },
            "type": "scatterpolargl"
           }
          ],
          "scatterternary": [
           {
            "marker": {
             "colorbar": {
              "outlinewidth": 0,
              "ticks": ""
             }
            },
            "type": "scatterternary"
           }
          ],
          "surface": [
           {
            "colorbar": {
             "outlinewidth": 0,
             "ticks": ""
            },
            "colorscale": [
             [
              0,
              "#0d0887"
             ],
             [
              0.1111111111111111,
              "#46039f"
             ],
             [
              0.2222222222222222,
              "#7201a8"
             ],
             [
              0.3333333333333333,
              "#9c179e"
             ],
             [
              0.4444444444444444,
              "#bd3786"
             ],
             [
              0.5555555555555556,
              "#d8576b"
             ],
             [
              0.6666666666666666,
              "#ed7953"
             ],
             [
              0.7777777777777778,
              "#fb9f3a"
             ],
             [
              0.8888888888888888,
              "#fdca26"
             ],
             [
              1,
              "#f0f921"
             ]
            ],
            "type": "surface"
           }
          ],
          "table": [
           {
            "cells": {
             "fill": {
              "color": "#EBF0F8"
             },
             "line": {
              "color": "white"
             }
            },
            "header": {
             "fill": {
              "color": "#C8D4E3"
             },
             "line": {
              "color": "white"
             }
            },
            "type": "table"
           }
          ]
         },
         "layout": {
          "annotationdefaults": {
           "arrowcolor": "#2a3f5f",
           "arrowhead": 0,
           "arrowwidth": 1
          },
          "autotypenumbers": "strict",
          "coloraxis": {
           "colorbar": {
            "outlinewidth": 0,
            "ticks": ""
           }
          },
          "colorscale": {
           "diverging": [
            [
             0,
             "#8e0152"
            ],
            [
             0.1,
             "#c51b7d"
            ],
            [
             0.2,
             "#de77ae"
            ],
            [
             0.3,
             "#f1b6da"
            ],
            [
             0.4,
             "#fde0ef"
            ],
            [
             0.5,
             "#f7f7f7"
            ],
            [
             0.6,
             "#e6f5d0"
            ],
            [
             0.7,
             "#b8e186"
            ],
            [
             0.8,
             "#7fbc41"
            ],
            [
             0.9,
             "#4d9221"
            ],
            [
             1,
             "#276419"
            ]
           ],
           "sequential": [
            [
             0,
             "#0d0887"
            ],
            [
             0.1111111111111111,
             "#46039f"
            ],
            [
             0.2222222222222222,
             "#7201a8"
            ],
            [
             0.3333333333333333,
             "#9c179e"
            ],
            [
             0.4444444444444444,
             "#bd3786"
            ],
            [
             0.5555555555555556,
             "#d8576b"
            ],
            [
             0.6666666666666666,
             "#ed7953"
            ],
            [
             0.7777777777777778,
             "#fb9f3a"
            ],
            [
             0.8888888888888888,
             "#fdca26"
            ],
            [
             1,
             "#f0f921"
            ]
           ],
           "sequentialminus": [
            [
             0,
             "#0d0887"
            ],
            [
             0.1111111111111111,
             "#46039f"
            ],
            [
             0.2222222222222222,
             "#7201a8"
            ],
            [
             0.3333333333333333,
             "#9c179e"
            ],
            [
             0.4444444444444444,
             "#bd3786"
            ],
            [
             0.5555555555555556,
             "#d8576b"
            ],
            [
             0.6666666666666666,
             "#ed7953"
            ],
            [
             0.7777777777777778,
             "#fb9f3a"
            ],
            [
             0.8888888888888888,
             "#fdca26"
            ],
            [
             1,
             "#f0f921"
            ]
           ]
          },
          "colorway": [
           "#636efa",
           "#EF553B",
           "#00cc96",
           "#ab63fa",
           "#FFA15A",
           "#19d3f3",
           "#FF6692",
           "#B6E880",
           "#FF97FF",
           "#FECB52"
          ],
          "font": {
           "color": "#2a3f5f"
          },
          "geo": {
           "bgcolor": "white",
           "lakecolor": "white",
           "landcolor": "#E5ECF6",
           "showlakes": true,
           "showland": true,
           "subunitcolor": "white"
          },
          "hoverlabel": {
           "align": "left"
          },
          "hovermode": "closest",
          "mapbox": {
           "style": "light"
          },
          "paper_bgcolor": "white",
          "plot_bgcolor": "#E5ECF6",
          "polar": {
           "angularaxis": {
            "gridcolor": "white",
            "linecolor": "white",
            "ticks": ""
           },
           "bgcolor": "#E5ECF6",
           "radialaxis": {
            "gridcolor": "white",
            "linecolor": "white",
            "ticks": ""
           }
          },
          "scene": {
           "xaxis": {
            "backgroundcolor": "#E5ECF6",
            "gridcolor": "white",
            "gridwidth": 2,
            "linecolor": "white",
            "showbackground": true,
            "ticks": "",
            "zerolinecolor": "white"
           },
           "yaxis": {
            "backgroundcolor": "#E5ECF6",
            "gridcolor": "white",
            "gridwidth": 2,
            "linecolor": "white",
            "showbackground": true,
            "ticks": "",
            "zerolinecolor": "white"
           },
           "zaxis": {
            "backgroundcolor": "#E5ECF6",
            "gridcolor": "white",
            "gridwidth": 2,
            "linecolor": "white",
            "showbackground": true,
            "ticks": "",
            "zerolinecolor": "white"
           }
          },
          "shapedefaults": {
           "line": {
            "color": "#2a3f5f"
           }
          },
          "ternary": {
           "aaxis": {
            "gridcolor": "white",
            "linecolor": "white",
            "ticks": ""
           },
           "baxis": {
            "gridcolor": "white",
            "linecolor": "white",
            "ticks": ""
           },
           "bgcolor": "#E5ECF6",
           "caxis": {
            "gridcolor": "white",
            "linecolor": "white",
            "ticks": ""
           }
          },
          "title": {
           "x": 0.05
          },
          "xaxis": {
           "automargin": true,
           "gridcolor": "white",
           "linecolor": "white",
           "ticks": "",
           "title": {
            "standoff": 15
           },
           "zerolinecolor": "white",
           "zerolinewidth": 2
          },
          "yaxis": {
           "automargin": true,
           "gridcolor": "white",
           "linecolor": "white",
           "ticks": "",
           "title": {
            "standoff": 15
           },
           "zerolinecolor": "white",
           "zerolinewidth": 2
          }
         }
        },
        "xaxis": {
         "anchor": "y2",
         "domain": [
          0,
          1
         ],
         "zeroline": false
        },
        "yaxis": {
         "anchor": "free",
         "domain": [
          0,
          1
         ],
         "position": 0
        }
       }
      },
      "text/html": [
       "<div>            <script src=\"https://cdnjs.cloudflare.com/ajax/libs/mathjax/2.7.5/MathJax.js?config=TeX-AMS-MML_SVG\"></script><script type=\"text/javascript\">if (window.MathJax && window.MathJax.Hub && window.MathJax.Hub.Config) {window.MathJax.Hub.Config({SVG: {font: \"STIX-Web\"}});}</script>                <script type=\"text/javascript\">window.PlotlyConfig = {MathJaxConfig: 'local'};</script>\n",
       "        <script charset=\"utf-8\" src=\"https://cdn.plot.ly/plotly-3.1.0.min.js\" integrity=\"sha256-Ei4740bWZhaUTQuD6q9yQlgVCMPBz6CZWhevDYPv93A=\" crossorigin=\"anonymous\"></script>                <div id=\"a92727e9-9bbd-481c-9f32-ee4f3ec0cc79\" class=\"plotly-graph-div\" style=\"height:525px; width:100%;\"></div>            <script type=\"text/javascript\">                window.PLOTLYENV=window.PLOTLYENV || {};                                if (document.getElementById(\"a92727e9-9bbd-481c-9f32-ee4f3ec0cc79\")) {                    Plotly.newPlot(                        \"a92727e9-9bbd-481c-9f32-ee4f3ec0cc79\",                        [{\"autobinx\":false,\"histnorm\":\"probability density\",\"legendgroup\":\"Hour\",\"marker\":{\"color\":\"rgb(31, 119, 180)\"},\"name\":\"Hour\",\"opacity\":0.7,\"x\":{\"dtype\":\"f8\",\"bdata\":\"zczMzMyAhkAAAAAAABBuQAAAAAAAoJRAAAAAAADQkUAAAAAAACaMQFVVVVVV4YBAAAAAAAAAAAAAAAAAAICGQAAAAAAAsJNA7+7u7u4gjEAAAAAAAAAAAAAAAAAAwIJAAAAAAADAckAAAAAAAOCAQLy7u7u7A35AAAAAAADCkkARERERERHBPwAAAAAA4o9AAAAAAADgj0AAAAAAALCTQAAAAAAA45BAAAAAAAAAfkAREREREZGVQImIiIiI5oBAAAAAAADggEB3d3d3d+eAQAAAAAAAwJJAAAAAAADgj0AAAAAAAAB+QFVVVVVVkpVAAAAAAADQkUCrqqqqqsKSQAAAAAAAsJNAAAAAAACwk0BmZmZmZuSPQAAAAAAA5oBAAAAAAACSlUDe3d3d3dCRQAAAAAAASHpAAAAAAACEhkAzMzMzM2WIQAAAAAAAgoZAAAAAAABgiEBVVVVVVeWPQAAAAAAAwJJAvLu7u7tjiEBVVVVVVaOEQAAAAAAA05FAAAAAAACglEAAAAAAAMCSQAAAAAAAIIxAAAAAAACAdkAiIiIiIpCVQLy7u7u7oYRAq6qqqqoOfkCamZmZmZm5PwAAAAAAEG5AMzMzMzPQkUCamZmZmcGCQJqZmZmZ4pBAzczMzMyAhkAAAAAAAGKIQAAAAAAAoJRAAAAAAACyk0AAAAAAAKCEQJqZmZmZKV5AAAAAAACwk0BERERERKGUQFVVVVVVlWZAAAAAAACSlUCrqqqqqrCTQAAAAAAADH5AERERERFBikAAAAAAAOKQQAAAAAAAoJRAVVVVVVXjkEAAAAAAABBuQN7d3d3d54BAERERERExTkDv7u7u7oCGQO\\u002fu7u7uRIpAAAAAAADAkkAAAAAAAACOQKuqqqqq0ZFARERERETCkkBVVVVVVaOEQBEREREREZE\\u002fq6qqqqpEikAAAAAAAABeQAAAAAAAspNAVVVVVVVV1T8AAAAAAMOSQN7d3d3d0ZFAERERERGxk0CrqqqqqoaGQLy7u7u7D35AAAAAAADgj0AREREREaCUQAAAAAAAIIxAAAAAAACglEAAAAAAAOCQQAAAAAAA4I9Aq6qqqqqkhEAAAAAAAOGQQFVVVVVVVdU\\u002fAAAAAADmj0AAAAAAAJCVQAAAAAAAAE5AAAAAAAAAfkDNzMzMzOCAQAAAAAAAoJRAAAAAAADAkkB3d3d3d8GCQFVVVVVVRXpAvLu7u7vngEAAAAAAAAAAAAAAAAAA4I9Ad3d3d3fnj0AAAAAAAMByQAAAAAAAwJJAAAAAAAAAAAAAAAAAANKRQBEREREREZE\\u002fMzMzMzOSlUAAAAAAALCTQImIiIiI4pBAAAAAAADQkUBVVVVVVeOAQCIiIiIiAo5AzczMzMxAikAAAAAAAICGQHd3d3d3549AAAAAAADEgkAiIiIiIqGUQJqZmZmZmbk\\u002fAAAAAABgiEAzMzMzM+ePQDMzMzMzAY5ARERERETBkkAAAAAAANGRQFVVVVVVkZVAq6qqqqqwk0AAAAAAAECKQAAAAAAAAAAAVVVVVVUBjkAAAAAAAKCUQBEREREREZE\\u002fAAAAAACwk0CrqqqqqqKEQAAAAAAAAI5AAAAAAACAhkDNzMzMzNGRQAAAAAAA0JFAzczMzMzDkkAAAAAAAMaCQAAAAAAA0JFAmpmZmZmjhEBVVVVVVWeIQAAAAAAA4JBAAAAAAADIckAAAAAAAJCVQGZmZmZmAo5AAAAAAADAkkAAAAAAACSMQImIiIiIxIJAAAAAAADSkUCrqqqqqgp+QAAAAAAAAF5Aq6qqqqpkiECJiIiIiOGQQAAAAAAAJIxAAAAAAAAgjEAAAAAAAOCQQAAAAAAACH5AAAAAAABAikCrqqqqquCQQCIiIiIiAI5AAAAAAAAAAABVVVVVVQ1+QAAAAAAACH5AAAAAAACghEDe3d3d3UWKQAAAAAAA4IBAAAAAAACwk0CrqqqqquCPQAAAAAAAxIJAVVVVVVXQkUBVVVVVVUWKQAAAAAAAoJRAAAAAAAAAfkBmZmZmZiKMQKuqqqqq4pBA7+7u7u7jkEAAAAAAAAB+QO\\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\\u002fVVVVVVXAkkBVVVVVVQ1+QM3MzMzM05FAAAAAAABEikAiIiIiIgKOQAAAAAAAQIpAvLu7u7tFikAAAAAAAGaIQBERERERgYZA7+7u7u4CfkAAAAAAAICGQAAAAAAAwJJAVVVVVVWRlUAAAAAAANKRQAAAAAAAhIZAAAAAAAAAfkCamZmZmZGVQGZmZmZmpIRAAAAAAACAdkAAAAAAAKOUQFVVVVVVCX5Aq6qqqqpqTkAAAAAAAICGQAAAAAAA4I9AAAAAAADkgEDv7u7u7sKSQAAAAAAA45BAVVVVVVXQkUAiIiIiIuKPQFVVVVVVg4ZAAAAAAADAkkCrqqqqqgaOQFVVVVVVoYRAAAAAAADAckDv7u7u7o52QAAAAAAAwHJAAAAAAACChkAAAAAAAKCUQFVVVVVV5Y9AAAAAAAAAAABVVVVVVaGUQKuqqqqqJIxAq6qqqqpqTkAAAAAAAJBmQAAAAAAAgoZAAAAAAADAkkAAAAAAAJOVQM3MzMzM45BAq6qqqqpiiEAAAAAAAOCPQAAAAAAAYIhAVVVVVVXAkkDNzMzMzKKUQBERERERkpVAAAAAAACxk0BVVVVVVSeMQO\\u002fu7u7uspNAq6qqqqpmiEAAAAAAAOCQQKuqqqqqZIhAERERERFHikAAAAAAACCMQAAAAAAAYIhAmpmZmZkFfkAREREREQeOQAAAAAAAoJRAmpmZmZkjjEAAAAAAAOKAQKuqqqqq4oBAAAAAAAAAAAAAAAAAANORQAAAAAAACH5AAAAAAADggEAAAAAAAKKUQKuqqqqq0JFAd3d3d3eTlUAAAAAAAADgPwAAAAAAwJJAAAAAAADgkEAAAAAAAAaOQBERERER4Y9AZmZmZmYKfkAAAAAAALCTQAAAAAAAkJVAAAAAAABCikAAAAAAAISGQKuqqqqqoZRAiYiIiIiSlUAAAAAAAMKSQAAAAAAAAAAAVVVVVVXhgEAzMzMzM6CUQO\\u002fu7u7ukZVAAAAAAACQlUCamZmZmeePQGZmZmZmZohAiYiIiIjij0AAAAAAAICGQLy7u7u7p4RAq6qqqqqilEAAAAAAAACOQImIiIiI4IBAVVVVVVXSkUAAAAAAAAAAABERERERwJJAAAAAAACAhkAAAAAAAKKUQAAAAAAA4I9AERERERGDhkAAAAAAAOSAQAAAAAAAxIJAAAAAAADgkEAAAAAAAOGQQAAAAAAAEG5AAAAAAADgkEAAAAAAAOCQQLy7u7u7wYJAAAAAAABATkBERERERLCTQAAAAAAAJoxAVVVVVVVliEAAAAAAALCTQImIiIiIKF5AAAAAAADjkEBVVVVVVZGVQAAAAAAAJIxAAAAAAAAEjkCrqqqqqgSOQFVVVVVVo5RAq6qqqqpCikAAAAAAANCRQAAAAAAAAE5AIiIiIiIi4j8AAAAAAMCCQAAAAAAAJIxAAAAAAAAijEAAAAAAAMGSQFVVVVVVZYhAREREREQEjkDv7u7u7tCRQAAAAAAA4I9AAAAAAADAkkBVVVVVVeePQM3MzMzMBG5A3t3d3d3DkkAAAAAAAGCIQFVVVVVVVcU\\u002fAAAAAACyk0BVVVVVVeeAQJqZmZmZmbk\\u002fAAAAAAAA4D8AAAAAAOCQQKuqqqqqk5VAAAAAAACwk0AAAAAAALCTQAAAAAAAZohAmpmZmZmZ6T8AAAAAAAAAAJqZmZmZYYhAAAAAAACglECJiIiIiIjoPwAAAAAAxoJAAAAAAACwk0AAAAAAACCMQLy7u7u74Y9AAAAAAADCkkB3d3d3d096QAAAAAAAAG5AAAAAAABGikCrqqqqqqaEQAAAAAAAAAAAAAAAAADij0AAAAAAAGSIQAAAAAAAo5RAAAAAAAAkjEAAAAAAANCRQKuqqqqq4ZBAmpmZmZmjlEB3d3d3dyeMQFVVVVVV0ZFAAAAAAACQlUAAAAAAAOKQQAAAAAAAQIpAVVVVVVXnj0CrqqqqquOQQAAAAAAAsJNAd3d3d3c3TkAAAAAAAMCSQAAAAAAAkJVAAAAAAAAEfkAAAAAAAOCQQAAAAAAAwpJAAAAAAADSkUAREREREaOEQAAAAAAA5I9Aq6qqqqqmhEAiIiIiIkZ6QAAAAAAAAAAAq6qqqqrEgkAAAAAAAICGQAAAAAAAkJVAAAAAAADgj0AAAAAAAJCVQAAAAAAAAE5AAAAAAACyk0BVVVVVVaWEQJqZmZmZA45AAAAAAACQlUAAAAAAAGSIQFVVVVVV4Y9Ad3d3d3fHgkCrqqqqqoCGQAAAAAAAooRARERERETQkUAAAAAAAGSIQAAAAAAAAAAAAAAAAADgj0BVVVVVVeGAQAAAAAAABI5Aq6qqqqqCZkAAAAAAANCRQFVVVVVVRXpAAAAAAAAATkAAAAAAAESKQAAAAAAAQHpAq6qqqqoijEARERERERGRPwAAAAAA0JFAAAAAAACilEAAAAAAAAAAAAAAAAAApoRAAAAAAADEgkAAAAAAAACOQDMzMzMzspNAq6qqqqpgiEAAAAAAAGSIQAAAAAAAxoJAAAAAAAAAAAAAAAAAAISGQFVVVVVVkZVAAAAAAABEikAAAAAAAEB6QAAAAAAA4JBAAAAAAAAAAAB3d3d3d2eIQAAAAAAABI5AVVVVVVWzk0BmZmZmZqKUQAAAAAAARopAAAAAAADAgkC8u7u7u7vrPwAAAAAAYIhAVVVVVVXBkkAAAAAAAECKQAAAAAAAAo5AiYiIiIgCjkAAAAAAAOSPQAAAAAAAAAAAAAAAAAACjkC8u7u7u6OUQFVVVVVV549AiYiIiIjDkkDv7u7u7qaEQFVVVVVV4pBA3t3d3d3hj0AAAAAAAESKQBERERERB45AVVVVVVXHgkBVVVVVVeWPQAAAAAAA45BAIiIiIiIkjECrqqqqqqCUQAAAAAAAwJJAZmZmZmaeZkAAAAAAAGCIQKuqqqqqRnpAAAAAAACilEAAAAAAAACOQAAAAAAA4pBAAAAAAADSkUBVVVVVVeOPQAAAAAAAAE5AVVVVVVWHhkAAAAAAAECKQGZmZmZmhIZAq6qqqqpCekAAAAAAANCRQAAAAAAAAH5AAAAAAADAkkBERERERCKMQAAAAAAAw5JAIiIiIiJEikAAAAAAAOSPQAAAAAAAgIZA3t3d3d2nhEAAAAAAAMCSQAAAAAAAIIxAq6qqqqpmiEAAAAAAAADgPwAAAAAAQHpAAAAAAACQlUAiIiIiIsGSQERERERE4JBAAAAAAADQkUAREREREbKTQCIiIiIiIuo\\u002fq6qqqqrBkkAAAAAAAJKVQAAAAAAAAH5AAAAAAACMdkCrqqqqqqKEQAAAAAAA0JFAVVVVVVVHikAAAAAAAMCSQLy7u7u7RYpAAAAAAABEikCamZmZmZnpP1VVVVVVZYhAAAAAAADmj0AAAAAAAMaCQAAAAAAAJIxAVVVVVVWJdkDe3d3d3T1eQLy7u7u7YYhAVVVVVVWlhEBVVVVVVUWKQImIiIiIRopAVVVVVVWzk0BVVVVVVc1yQAAAAAAAxoJAAAAAAAAAjkAAAAAAAJCVQEREREREBH5AAAAAAAAgjEAREREREaOUQGZmZmZmwJJAVVVVVVVDikAAAAAAAOCPQAAAAAAAJoxAAAAAAADAkkAAAAAAALOTQKuqqqqqhoZAAAAAAADBkkAAAAAAAIh2QAAAAAAAwpJAq6qqqqqGhkAAAAAAANCRQAAAAAAAwJJAVVVVVVVjiEAAAAAAAGCIQAAAAAAAAOA\\u002fAAAAAACAhkAAAAAAAOCQQAAAAAAAAH5AAAAAAACglECrqqqqquaPQAAAAAAA0JFAAAAAAACglEAAAAAAAIh2QAAAAAAAwHJAVVVVVVXBkkAAAAAAAECKQAAAAAAAgIZAAAAAAADAkkAAAAAAALCTQKuqqqqqBI5A7+7u7u7mj0De3d3d3d3NPwAAAAAA0pFAAAAAAADgkEAAAAAAAABuQFVVVVVVB45AVVVVVVVBikAAAAAAAMKSQFVVVVVVVbU\\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\\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\\u002fAAAAAADCkkCrqqqqqgCOQAAAAAAAAAAAAAAAAAAIfkC8u7u7u+WPQImIiIiIsZNAAAAAAABAikAAAAAAAMCSQAAAAAAAJIxAd3d3d3fBkkAAAAAAAOSPQAAAAAAAAH5AAAAAAADkj0AAAAAAALKTQAAAAAAAs5NAAAAAAADgkECrqqqqqgJ+QAAAAAAAAAAAq6qqqqqxk0CrqqqqqgKOQDMzMzMzp4RA7+7u7u7hkECrqqqqqkJ6QAAAAAAAJIxAVVVVVVXCkkAAAAAAAKKUQAAAAAAAsJNAAAAAAABgiEBVVVVVVbGTQHd3d3d3spNAq6qqqqomjECrqqqqqgSOQAAAAAAAIF5AAAAAAABEikCJiIiIiKaEQKuqqqqq0pFAzczMzMwCjkAAAAAAACCMQAAAAAAABI5AAAAAAADikEAAAAAAAIh2QO\\u002fu7u7uTk5AIiIiIiJkiEAAAAAAALKTQAAAAAAATHpAERERERERkT+rqqqqqsCCQAAAAAAAAAAAAAAAAACzk0De3d3d3QV+QAAAAAAAwIJAAAAAAACQZkAAAAAAAKCEQEREREREQIpAq6qqqqpqTkCrqqqqquOQQFVVVVVVJ4xAAAAAAADSkUBmZmZmZgaOQAAAAAAAopRAZmZmZmahlEAzMzMzM+GQQAAAAAAA0JFAAAAAAAAAAAAAAAAAAMGSQImIiIiI4oBAVVVVVVUFfkCrqqqqqqCUQHd3d3d3B35Ad3d3d3enhECrqqqqqqaEQAAAAAAAoIRAq6qqqqrgj0AAAAAAAICGQFVVVVVVVe0\\u002fERERERGxk0AAAAAAAJCVQAAAAAAAzHJAd3d3d3dniEBVVVVVVaWEQBERERERJ4xAAAAAAABAekCamZmZmaeEQFVVVVVVJ4xAAAAAAAAAfkBVVVVVVcKSQAAAAAAA4JBAq6qqqqqzk0AiIiIiIgpuQAAAAAAAwJJAAAAAAADSkUAAAAAAAABOQBEREREREZE\\u002fMzMzMzPHgkAzMzMzMyeMQKuqqqqqs5NAVVVVVVUljEAAAAAAACSMQKuqqqqqQopAAAAAAACyk0AiIiIiIop2QLy7u7u7549AAAAAAADgkEAzMzMzM2WIQM3MzMzMBI5AAAAAAADggEAAAAAAAJCVQAAAAAAAwIJAVVVVVVWjlEAAAAAAAOSAQFVVVVVV549AAAAAAADSkUAAAAAAAICGQFVVVVVV0ZFAERERERGQlUBVVVVVVQ1+QLy7u7u7Z4hAAAAAAADDkkCrqqqqqkaKQAAAAAAA5I9AAAAAAAAgjECrqqqqquaPQAAAAAAA0ZFAAAAAAABiiEAAAAAAAIx2QAAAAAAAgIZAVVVVVVWyk0AAAAAAAISGQM3MzMzM5o9AERERERERkT8iIiIiIuKAQAAAAAAAkGZAAAAAAAAAAABVVVVVVQV+QAAAAAAAAAAAd3d3d3chjEAAAAAAAMGSQAAAAAAAsJNAAAAAAADgj0BVVVVVVeePQCIiIiIiznJA3t3d3d2RlUAAAAAAAGSIQAAAAAAA4I9A7+7u7u6hlEAAAAAAAEKKQAAAAAAAopRAAAAAAADgj0CJiIiIiABuQAAAAAAA5I9AAAAAAAAAbkAAAAAAALCTQAAAAAAAgIZAq6qqqqrmgEAiIiIiIkCKQO\\u002fu7u7uQopAZmZmZmZAikAAAAAAAOCQQAAAAAAA0pFARERERETgj0AAAAAAAMKSQGZmZmZmBl5AAAAAAABGikAAAAAAAASOQAAAAAAA0pFAERERERHHgkBVVVVVVVXVPwAAAAAAQIpAZmZmZmaSlUDv7u7u7uOQQAAAAAAAAOA\\u002fAAAAAACIZkCrqqqqqgKOQAAAAAAA0pFAVVVVVVVFekCrqqqqqsKSQAAAAAAA4IBAAAAAAAAAAAAAAAAAAICGQAAAAAAAkGZAAAAAAADCkkAAAAAAANKRQLy7u7u7S3pAmpmZmZnRkUAAAAAAAAB+QAAAAAAAkJVAVVVVVVXhj0AAAAAAAOSPQAAAAAAAAAAAAAAAAAAAAAC8u7u7u+GAQAAAAAAAAE5AAAAAAAAAAAAAAAAAAIhmQFVVVVVVwpJAVVVVVVXhj0BmZmZmZoKGQAAAAAAAQIpAERERERERkT8AAAAAAOKQQERERERE5I9AAAAAAACglEAAAAAAAJCVQFVVVVVVopRAq6qqqqoGjkAAAAAAABBeQGZmZmZmwoJAq6qqqqpCikCamZmZmUWKQAAAAAAAwHJAAAAAAADgj0AAAAAAAGSIQAAAAAAARopAEREREREBXkAAAAAAAAAAAAAAAAAA4I9AAAAAAADAkkCrqqqqquGQQFVVVVVVjXZAZmZmZmYmTkCrqqqqqpOVQAAAAAAABo5AAAAAAAAAAACrqqqqqkCKQAAAAAAAZohAAAAAAACglECamZmZmUeKQAAAAAAAgIZAzczMzMwgjEAAAAAAAJCVQBERERERo5RAq6qqqqrSkUAAAAAAAJKVQAAAAAAAkJVAAAAAAACEhkAAAAAAAOCQQAAAAAAA0JFAAAAAAADSkUAAAAAAAOGQQAAAAAAAAAAAzczMzMyEhkAAAAAAAACOQGZmZmZmgoZAAAAAAADkgEDv7u7u7pOVQO\\u002fu7u7uk5VA3t3d3d3QkUCrqqqqquGQQM3MzMzMQHpAAAAAAACglEBVVVVVVaCUQLy7u7u7hYZAAAAAAACAhkAREREREWWIQAAAAAAA0JFAq6qqqqqRlUDNzMzMzGaIQGZmZmZmoJRA3t3d3d1niEAREREREYGGQAAAAAAAoJRAAAAAAADgj0AAAAAAAASOQM3MzMzMooRAAAAAAAAAAACrqqqqqiKMQJqZmZmZhYZAAAAAAAAEjkAAAAAAAER6QAAAAAAAhIZAmpmZmZkjjEAAAAAAAAaOQImIiIiIo5RAmpmZmZmxk0AAAAAAAMCCQAAAAAAAxIJAq6qqqqrikEAAAAAAAMGSQAAAAAAABI5AVVVVVVXNckAAAAAAAKCEQAAAAAAAoJRAAAAAAAAAXkBVVVVVVaOUQAAAAAAAAI5AVVVVVVXFgkAAAAAAAICGQEREREREgoZAAAAAAABEikDe3d3d3ceCQAAAAAAAspNAq6qqqqqq4j8AAAAAAICGQAAAAAAAQE5Aq6qqqqqglEAAAAAAAOCAQM3MzMzM5oBAAAAAAADSkUB3d3d3d7KTQFVVVVVVZYhAAAAAAACjlEAAAAAAAIB2QAAAAAAAkJVAAAAAAABAikAAAAAAANKRQAAAAAAACH5Aq6qqqqrhkEBVVVVVVQeOQFVVVVVV5YBAAAAAAADgkEAAAAAAAOCQQImIiIiIwJJAAAAAAADAkkAAAAAAALOTQAAAAAAAwIJAAAAAAADikEARERERERGRP7y7u7u7Y4hAMzMzMzNFikAAAAAAAOCPQAAAAAAAoJRAMzMzMzObZkAAAAAAACaMQAAAAAAAAAAAAAAAAAACjkAAAAAAAJCVQKuqqqqqQopAVVVVVVXjkEAAAAAAAAR+QAAAAAAAsJNAERERERERkT\\u002fv7u7u7kZ6QAAAAAAAkZVAAAAAAAAAAAAAAAAAAOCPQFVVVVVVY4hARERERERgiEDNzMzMzOCQQAAAAAAAQIpA3t3d3d0njEAAAAAAAKSEQAAAAAAAgoZAAAAAAAAgjEC8u7u7uwOOQAAAAAAA4pBAAAAAAADQkUAAAAAAAAB+QAAAAAAA4I9AAAAAAABGikAAAAAAAOKPQAAAAAAAwoJAREREREQgjEAAAAAAAOKAQAAAAAAAgHZAAAAAAADAkkAAAAAAAMCSQHd3d3d3o4RAq6qqqqqzk0AAAAAAAADQP83MzMzM0JFAVVVVVVVliEDv7u7u7uSPQAAAAAAACH5AmpmZmZmNdkAAAAAAAMKSQO\\u002fu7u7unmZAq6qqqqrDkkCrqqqqquKQQAAAAAAAAE5AzczMzMymhEAAAAAAAMhyQAAAAAAAQIpAAAAAAACSlUBVVVVVVcOSQKuqqqqqQopAERERERERkT8AAAAAAASOQImIiIiI4JBAAAAAAADgj0AAAAAAAKCEQAAAAAAAoJRAREREREQEjkARERERERHpP6uqqqqqkpVAAAAAAACwk0BERERERBReQO\\u002fu7u7ujmZAMzMzMzMHjkAiIiIiIqCEQKuqqqqqQopAAAAAAACglEDe3d3d3YGGQN7d3d3dw4JAAAAAAADBkkBVVVVVVSeMQAAAAAAAANA\\u002fAAAAAAAijEBVVVVVVbKTQM3MzMzMwJJAAAAAAAAEfkAAAAAAAABOQAAAAAAAgIZAq6qqqqoCjkAzMzMzM6GUQAAAAAAA0pFAAAAAAACAhkAAAAAAANKRQAAAAAAAYIhAVVVVVVVliEAAAAAAACCMQAAAAAAA4I9AAAAAAADgkEBVVVVVVSeMQAAAAAAAAH5A3t3d3d2nhEAAAAAAAABeQAAAAAAAsJNAMzMzMzMz4z+rqqqqqrKTQO\\u002fu7u7uo5RAAAAAAAAAAABVVVVVVbCTQHd3d3d3d8c\\u002fd3d3d3cljECrqqqqqhJuQAAAAAAAkJVAAAAAAAAAjkAAAAAAAMCSQAAAAAAAxIJAVVVVVVXSkUAAAAAAAMCCQFVVVVVVBY5AAAAAAACQZkAAAAAAAOKQQAAAAAAAYIhAAAAAAADggEAAAAAAAJCVQAAAAAAAAI5Aq6qqqqrDkkAAAAAAANGRQN7d3d3dXU5AAAAAAAAIfkDNzMzMzCxOQN7d3d3dw4JAMzMzMzMzwz9VVVVVVQOOQKuqqqqqopRAAAAAAADAkkCrqqqqqmSIQAAAAAAAAAAAd3d3d3cnjEBVVVVVVUWKQAAAAAAAAI5AVVVVVVWSlUCrqqqqquKPQAAAAAAA4JBAAAAAAACilEAAAAAAALCTQKuqqqqqsZNAAAAAAAAAfkAiIiIiImaIQAAAAAAA0pFAAAAAAADSkUB3d3d3d8WCQJqZmZmZYYhAVVVVVVXjj0B3d3d3dyWMQJqZmZmZAW5AAAAAAACilEAAAAAAAKCUQAAAAAAA4IBAzczMzMwIfkAAAAAAAEBOQAAAAAAACH5AZmZmZmZgiEAzMzMzMwd+QAAAAAAA0pFAzczMzMxgiEAiIiIiIkCKQKuqqqqqpoRAAAAAAADikEBVVVVVVQVuQAAAAAAAZIhAAAAAAAAgjEAAAAAAAMKCQKuqqqqqRopAAAAAAACQlUAAAAAAAOGQQImIiIiIkpVAAAAAAADgj0AAAAAAAKCUQKuqqqqqQopAAAAAAACglECrqqqqquGQQFVVVVVVJ4xAAAAAAACChkAAAAAAAKCUQAAAAAAAIIxAVVVVVVXikEBVVVVVVXVOQAAAAAAAo5RAAAAAAADCkkAAAAAAAAAAAFVVVVVVhYZAq6qqqqqihEBVVVVVVVXVP7y7u7u7u9s\\u002fVVVVVVVVtT\\u002fe3d3d3cOCQAAAAAAA4JBAAAAAAACAdkAAAAAAAAAAAAAAAAAAAI5AAAAAAAAEjkAAAAAAAECKQEREREREsZNAq6qqqqqihEAAAAAAAMCSQAAAAAAAIIxAAAAAAAAAfkDv7u7u7oKGQCIiIiIiAl5Aq6qqqqrKckAAAAAAAOCQQAAAAAAA0pFAAAAAAADCkkCrqqqqquKPQFVVVVVVoYRAAAAAAACjlEC8u7u7uyWMQLy7u7u7g4ZAAAAAAADQkUAAAAAAALCTQFVVVVVVCX5AAAAAAACwk0AAAAAAAMCCQAAAAAAAJIxAAAAAAACwk0CrqqqqqrGTQJqZmZmZxYJAAAAAAAAAbkCJiIiIiAaOQAAAAAAA4pBAAAAAAAAgjEAAAAAAAOCQQO\\u002fu7u7uBI5AAAAAAAAAfkAREREREUOKQAAAAAAA4I9AAAAAAABiiEARERERERGRPwAAAAAARIpAZmZmZmbDkkAAAAAAAOCQQAAAAAAAkZVAAAAAAACyk0AAAAAAAISGQFVVVVVVwJJAvLu7u7sBjkAAAAAAAOCPQAAAAAAAQHpAAAAAAADgkECrqqqqqiCMQAAAAAAAAH5Ad3d3d3fjj0AAAAAAAASOQFVVVVVV549AAAAAAAAAAAAAAAAAANCRQFVVVVVVoJRAAAAAAAAIfkARERERERGhPwAAAAAAAAAAAAAAAACSlUAAAAAAAKCUQLy7u7u7YYhAVVVVVVUFjkAiIiIiIiLSPwAAAAAAAAAAAAAAAACAdkAAAAAAACCMQAAAAAAAAH5AAAAAAADgj0AAAAAAAOCAQBERERERgWZAAAAAAADkj0AAAAAAAJCVQKuqqqqqwJJAAAAAAABkiEAAAAAAAEB6QKuqqqqqkJVAVVVVVVUNfkAAAAAAAMKSQKuqqqqqsJNAzczMzMzkj0AAAAAAACCMQKuqqqqqkpVAZmZmZmYAjkAAAAAAAOCQQAAAAAAAgHZA3t3d3d1hiEBVVVVVVcVyQAAAAAAAwJJAIiIiIiKAhkAAAAAAAAAAAAAAAAAAspNAmpmZmZnjj0AAAAAAAAB+QAAAAAAATHpAAAAAAABkiEBVVVVVVVXVPwAAAAAA0JFAAAAAAADSkUAAAAAAAKSEQAAAAAAASHpAAAAAAADgj0AAAAAAACCMQM3MzMzMRIpAAAAAAACIZkBVVVVVVeePQAAAAAAAsJNAAAAAAADgkEBVVVVVVQOOQImIiIiI0JFAAAAAAADikEBVVVVVVeWAQAAAAAAAsJNA7+7u7u6ihEAAAAAAAMhyQAAAAAAAAF5Aq6qqqqrAkkAAAAAAAOKPQImIiIiIBH5AVVVVVVVFikAAAAAAANCRQO\\u002fu7u7uDk5AAAAAAADhkEDNzMzMzNORQAAAAAAAkpVAAAAAAAAEjkAAAAAAAAB+QAAAAAAA4IBAq6qqqqqRlUAAAAAAAAh+QGZmZmZmAI5AIiIiIiIGfkAAAAAAAOCQQM3MzMzMFG5AAAAAAAAkjEAAAAAAAMKSQJqZmZmZ5Y9AVVVVVVWzk0AAAAAAAABOQFVVVVVVgYZAiYiIiIjMckBVVVVVVQl+QFVVVVVV5YBAERERERHCkkDNzMzMzJKVQKuqqqqqk5VAERERERERkT8AAAAAAJCVQAAAAAAAZIhAAAAAAAAgjEDv7u7u7pOVQAAAAAAAAF5AEREREREBXkCrqqqqqtCRQAAAAAAAxIJAAAAAAADggEAAAAAAAIh2QHd3d3d3pYRAAAAAAAAMfkAAAAAAAOCAQAAAAAAAxoJAERERERFRTkCrqqqqqiSMQAAAAAAAoJRAAAAAAADAkkDe3d3d3YeGQAAAAAAA4I9AAAAAAADgj0BERERERCaMQFVVVVVVs5NAAAAAAACQlUAAAAAAAISGQO\\u002fu7u7uxnJAERERERHBgkCrqqqqqkCKQAAAAAAAopRAAAAAAADgj0AAAAAAANORQCIiIiIiw5JAq6qqqqrikEARERERESGMQAAAAAAAwZJAAAAAAACAZkAAAAAAAKCUQAAAAAAApoRAVVVVVVXgkEB3d3d3dwN+QFVVVVVVI4xAERERERERkT8AAAAAAGBOQAAAAAAAYIhAAAAAAACAdkAAAAAAANCRQAAAAAAAooRAAAAAAAAAfkAAAAAAAOKQQFVVVVVV0JFAq6qqqqpqTkDe3d3d3WeIQN7d3d3doYRAAAAAAADggEDv7u7u7tGRQDMzMzMzG25AAAAAAACwk0DNzMzMzAR+QAAAAAAAQIpAVVVVVVUljEAAAAAAAMKSQAAAAAAA4pBAAAAAAAAQbkAAAAAAACaMQAAAAAAA4JBAAAAAAADmj0CrqqqqqqSEQAAAAAAA4I9AAAAAAADIckDNzMzMzAh+QAAAAAAAAAAAq6qqqqrQkUCJiIiIiOSPQAAAAAAARIpAAAAAAACghEBVVVVVVdGRQAAAAAAAAF5AAAAAAADAkkCrqqqqqkJ6QAAAAAAA4I9AAAAAAACQZkBVVVVVVaGUQAAAAAAAw5JAq6qqqqpmiEB3d3d3d3fnP1VVVVVVspNAAAAAAACilEAAAAAAANCRQFVVVVVVoJRAZmZmZmYgjEBVVVVVVUWKQKuqqqqqwJJAAAAAAADQkUAAAAAAAKCUQM3MzMzMJIxAAAAAAAAgjEBVVVVVVcGSQJqZmZmZh4ZAVVVVVVWNdkCrqqqqqqrqP7y7u7u7W05AAAAAAADAkkC8u7u7uxNuQDMzMzMzwJJAq6qqqqqmhEC8u7u7u8OCQJqZmZmZA45AAAAAAABGikCrqqqqqsKSQAAAAAAAAAAAAAAAAACghEBVVVVVVYWGQAAAAAAAIIxAAAAAAADAkkB3d3d3d+OQQAAAAAAAwZJAAAAAAADCkkBVVVVVVYeGQKuqqqqq5oBAAAAAAACyk0CrqqqqqiCMQAAAAAAA0ZFAAAAAAAAAjkARERERERGRPyIiIiIigIZARERERESwk0B3d3d3d5dmQGZmZmZmZohAd3d3d3dniEAAAAAAAACOQAAAAAAAgIZAAAAAAAAAfkAAAAAAAJCVQAAAAAAAAI5AAAAAAADCkkAAAAAAAEBOQAAAAAAAhoZAAAAAAADgkEAAAAAAANCRQAAAAAAARIpAAAAAAADRkUAAAAAAAMKSQFVVVVVV0pFAd3d3d3ejlECamZmZmaeEQAAAAAAAJoxAAAAAAAACjkBVVVVVVeeAQAAAAAAA4I9AVVVVVVVniEBVVVVVVSOMQFVVVVVVB45AVVVVVVUjjEAAAAAAAIx2QAAAAAAAQIpAAAAAAACglECrqqqqqkJ6QBERERERo4RAAAAAAACAhkAAAAAAAABeQAAAAAAAwpJAAAAAAAChlECrqqqqqqaEQHd3d3d3d9c\\u002fAAAAAAAAAABVVVVVVSWMQM3MzMzM5oBAmpmZmZmilEAAAAAAAEBOQEREREREAI5AAAAAAACAhkCrqqqqqiCMQHd3d3d3sJNAIiIiIiJCikCrqqqqqoKGQGZmZmZmopRAVVVVVVUDjkBVVVVVVeOQQAAAAAAAwHJAIiIiIiLkgEAzMzMzM8KSQAAAAAAA5o9AAAAAAACQlUDNzMzMzEaKQAAAAAAABI5AAAAAAAAkjEBVVVVVVRVeQLy7u7u70JFA7+7u7u4OfkCamZmZmdKRQKuqqqqq45BAAAAAAADij0AAAAAAAKGUQAAAAAAABI5AAAAAAADkj0CrqqqqquCPQAAAAAAAYIhAVVVVVVXhkEAAAAAAALKTQHd3d3d3x4JAq6qqqqrmj0De3d3d3QGOQAAAAAAAopRAREREREQgjEAAAAAAACSMQM3MzMzMxoJAMzMzMzPDkkBVVVVVVWGIQAAAAAAAsJNAAAAAAADCkkCJiIiIiOGQQAAAAAAAQHpAVVVVVVXAkkB3d3d3d9KRQCIiIiIiooRAVVVVVVVDikDNzMzMzGCIQAAAAAAAQopAAAAAAACwk0AREREREeeAQAAAAAAAgGZAq6qqqqoCjkCrqqqqquKPQO\\u002fu7u7ukZVAAAAAAAAAbkDNzMzMzASOQAAAAAAA0JFAAAAAAAChlEDv7u7u7uKPQAAAAAAAwIJAMzMzMzOPdkCJiIiIiMCSQKuqqqqqpoRAAAAAAADikECrqqqqqkSKQAAAAAAAopRAAAAAAADEgkCrqqqqqqKUQAAAAAAAwJJAmpmZmZngkEAREREREeePQAAAAAAAgIZA7+7u7u6ghEAAAAAAAAAAADMzMzMzRYpAAAAAAACglEAAAAAAAGCIQFVVVVVVwYJAAAAAAADAkkAAAAAAAICGQAAAAAAAJIxA3t3d3d0HjkDv7u7u7qGUQAAAAAAAwJJAZmZmZmbggECamZmZmbGTQEREREREspNAAAAAAADgj0C8u7u7u2WIQCIiIiIiwoJAVVVVVVXCkkDe3d3d3dORQFVVVVVVNU5AMzMzMzOilECamZmZmWeIQAAAAAAA5IBAiYiIiIiSlUCamZmZmZnhPwAAAAAAQIpAZmZmZmbBkkAAAAAAAKCUQFVVVVVVNV5AAAAAAAAAfkAAAAAAAACOQAAAAAAA4pBAAAAAAACEdkAzMzMzM8OSQAAAAAAA05FAZmZmZmYGfkAAAAAAANCRQGZmZmZmIoxAAAAAAAAAjkAAAAAAAECKQAAAAAAA0ZFAAAAAAACilECamZmZmQGOQDMzMzMzoJRAAAAAAAAmjECJiIiIiBheQAAAAAAAIIxAVVVVVVWlhEAzMzMzM9GRQAAAAAAAAAAAAAAAAABmiEB3d3d3d3fXPwAAAAAAwIJAVVVVVVUNfkAAAAAAAMOSQEREREREoIRAAAAAAADAkkARERERERGRP83MzMzMYohAq6qqqqrSkUDe3d3d3aOEQImIiIiI4JBAZmZmZmbikEAAAAAAAJCVQAAAAAAAIF5AAAAAAADAkkAAAAAAAIx2QAAAAAAA0pFAAAAAAACEhkAAAAAAAOCQQAAAAAAA4JBAAAAAAACglEAAAAAAALCTQLy7u7u7j3ZAVVVVVVVVxT9mZmZmZrKTQAAAAAAAxIJAAAAAAAAA0D8AAAAAAKaEQAAAAAAAxIJAAAAAAAAEjkCrqqqqquSPQAAAAAAAAH5AREREREScZkAAAAAAAMKSQKuqqqqq0pFAVVVVVVVV1T8AAAAAAOKPQBERERER0JFAVVVVVVUDjkAAAAAAAAAAAAAAAAAAopRAAAAAAADQkUAAAAAAAADgP1VVVVVVAX5AAAAAAACQlUBERERERNORQFVVVVVVw5JAMzMzMzMFjkCamZmZmaOEQGZmZmZmwJJAAAAAAACAhkAAAAAAAMCSQKuqqqqqBo5AAAAAAAAAfkAAAAAAAKCUQFVVVVVV44BAq6qqqqrhkEDe3d3d3ZKVQAAAAAAAJIxAAAAAAADDkkAAAAAAAJGVQFVVVVVVZ4hAVVVVVVWyk0AAAAAAAAAAAAAAAAAAAI5AVVVVVVUHjkAiIiIiIoSGQFVVVVVV0ZFAq6qqqqrBkkAAAAAAANCRQBEREREREZE\\u002fVVVVVVUFjkAAAAAAANKRQAAAAAAA0JFAq6qqqqqSlUAAAAAAAKCUQM3MzMzM4oBAAAAAAADAkkAAAAAAAKCUQCIiIiIik5VAAAAAAABgiEAAAAAAAACOQAAAAAAAAG5AAAAAAAAAbkAAAAAAAIBmQLy7u7u7AY5AAAAAAADAgkAAAAAAACSMQAAAAAAAYIhAAAAAAACAdkAAAAAAAAB+QFVVVVVV5Y9AMzMzMzOLZkAAAAAAALCTQAAAAAAA4pBA3t3d3d2DhkAAAAAAAAAAAAAAAAAAoIRAAAAAAABAikAAAAAAAESKQFVVVVVVp4RAERERERERkT+rqqqqqgCOQGZmZmZmkpVAVVVVVVXCkkCamZmZmbGTQEREREREhIZAAAAAAADBkkAAAAAAAGKIQAAAAAAA4JBAq6qqqqqzk0BmZmZmZuCPQAAAAAAAgIZAAAAAAABAikB3d3d3d2WIQAAAAAAAkJVA7+7u7u7TkUCamZmZmbKTQLy7u7u7g4ZAmpmZmZkZXkAAAAAAAADQP7y7u7u7A45AAAAAAAAgjEAAAAAAALCTQKuqqqqqSk5AvLu7u7vhj0CamZmZmWeIQAAAAAAAoJRAAAAAAACYZkAAAAAAAAAAAKuqqqqqKl5AAAAAAAAAAABmZmZmZgSOQAAAAAAAopRAAAAAAADgkEAAAAAAAOCAQImIiIiIyHJAAAAAAACyk0AAAAAAAAAAAKuqqqqqwnJAd3d3d3cHfkAAAAAAAICGQAAAAAAA4IBAmpmZmZmnhEBVVVVVVWWIQAAAAAAAkJVAVVVVVVXTkUCrqqqqqsJyQEREREREkZVAAAAAAAAAAAAAAAAAAMCSQAAAAAAA4JBAzczMzMyjlEB3d3d3d0GKQAAAAAAAAH5AAAAAAAAAXkBVVVVVVeOQQAAAAAAAAo5AZmZmZmbKckAAAAAAAICGQFVVVVVVI4xAAAAAAADgkEAAAAAAAOKQQLy7u7u7449A3t3d3d2nhEAAAAAAAEB6QN7d3d3dk5VAAAAAAAAAfkAAAAAAAKCEQCIiIiIiQopAAAAAAADSkUCrqqqqqrOTQGZmZmZmJl5AAAAAAACyk0AAAAAAAER6QKuqqqqq0pFAREREREREikAAAAAAAICGQAAAAAAAAAAAAAAAAAAwXkAAAAAAANCRQAAAAAAAAG5AAAAAAABmiEAAAAAAANKRQAAAAAAAoIRAAAAAAADTkUDe3d3d3SOMQAAAAAAA4I9AAAAAAAAA6D\\u002fNzMzMzCCMQAAAAAAAgoZARERERESEhkCrqqqqqqKEQAAAAAAAsJNAAAAAAAAA4D9mZmZmZo5mQJqZmZmZk5VAAAAAAACkhEAAAAAAANKRQAAAAAAA4JBAAAAAAAAIfkAAAAAAAESKQAAAAAAAIIxAAAAAAACQlUAAAAAAAOKQQO\\u002fu7u7uk5VAAAAAAADQkUAAAAAAALKTQHd3d3d3kZVAAAAAAADgj0DNzMzMzMaCQFVVVVVVAY5AAAAAAABgiECrqqqqqtORQAAAAAAAZIhAAAAAAADkj0AAAAAAAKSEQKuqqqqqAo5AVVVVVVXBgkAAAAAAAMaCQAAAAAAAwpJAAAAAAACAZkCrqqqqquKPQAAAAAAAhoZAAAAAAADAkkCrqqqqqtGRQJqZmZmZ0pFAiYiIiIhiiECrqqqqqkKKQAAAAAAAAI5AAAAAAACghEAREREREaOUQAAAAAAA4JBAAAAAAABgiEDNzMzMzMzkPwAAAAAAxIJAAAAAAAAAfkAREREREeGPQKuqqqqqJIxAAAAAAACglEB3d3d3d0t6QAAAAAAAZIhARERERERgiEAiIiIiIsKCQAAAAAAAgoZAiYiIiIiwk0AAAAAAAMCSQAAAAAAAAH5AAAAAAACChkAAAAAAAMCSQFVVVVVVoJRAVVVVVVUFjkAAAAAAAAx+QAAAAAAAEG5AAAAAAADMckAAAAAAAMCCQGZmZmZmspNAAAAAAADBkkAAAAAAAEBOQAAAAAAAwJJAVVVVVVWhhEAAAAAAAGCIQAAAAAAA5I9AAAAAAADikEAAAAAAAICGQFVVVVVV0JFAzczMzMxEekAAAAAAAOCQQLy7u7u7o4RAAAAAAADmj0De3d3d3aCUQAAAAAAAoZRAq6qqqqrggEAAAAAAAABeQAAAAAAA05FAvLu7u7ulhEAAAAAAAECKQFVVVVVVVbU\\u002fAAAAAACzk0AAAAAAAOCQQAAAAAAAAF5Aq6qqqqqjlEAAAAAAAMCCQFVVVVVV4JBAVVVVVVUVTkAAAAAAAKaEQDMzMzMzk5VAZmZmZmYEjkBmZmZmZgaOQAAAAAAA05FAd3d3d3dDekAAAAAAAAAAAAAAAAAA0JFAq6qqqqoSbkAiIiIiIqSEQAAAAAAA5o9AiYiIiIgQbkDNzMzMzAB+QAAAAAAAwJJAAAAAAADij0AAAAAAANKRQAAAAAAAspNAiYiIiIhmiEAREREREYeGQAAAAAAAwZJAAAAAAAAAjkAAAAAAAMCSQGZmZmZm05FAAAAAAABAikAAAAAAAMCSQAAAAAAAwIJAvLu7u7sTbkAAAAAAAAAAAGZmZmZmBm5AAAAAAAAAAAB3d3d3d+OPQKuqqqqqBo5AAAAAAABAikCrqqqqquCQQAAAAAAAAI5AAAAAAADAkkAAAAAAAOCQQAAAAAAAwJJAVVVVVVVniEAAAAAAAOGQQM3MzMzMYIhAAAAAAABEikAAAAAAAACOQAAAAAAAJoxAVVVVVVWjlEB3d3d3d0GKQM3MzMzMpIRAVVVVVVWilEAAAAAAAOaPQCIiIiIikpVAAAAAAACwk0DNzMzMzCaMQBERERERkZVAAAAAAADggEAAAAAAAOSPQJqZmZmZ45BAvLu7u7vngEAAAAAAAABeQAAAAAAA0pFAIiIiIiJCekAzMzMzMyGMQAAAAAAAsZNAAAAAAACxk0BVVVVVVcGSQBERERERh4ZAAAAAAABEikAAAAAAAOSAQAAAAAAAAI5AAAAAAADQkUDv7u7u7tCRQKuqqqqqpoRAd3d3d3ehlEAAAAAAAKCUQN7d3d3dgYZAAAAAAACwk0AAAAAAAABeQGZmZmZmsJNAmpmZmZknjEAAAAAAAAAAAAAAAAAA0JFAAAAAAADAkkAAAAAAALCTQAAAAAAAgoZAVVVVVVWlhEBmZmZmZgSOQFVVVVVVTXpAvLu7u7sLbkCJiIiIiISGQAAAAAAA5o9AAAAAAADEgkAAAAAAAAAAAAAAAAAA5o9AAAAAAAAAfkAAAAAAAOCPQAAAAAAAAI5AAAAAAAAAjkAAAAAAAACOQLy7u7u7u9s\\u002fAAAAAADhkEAAAAAAAKCUQHd3d3d3wJJAVVVVVVWjlEAREREREdGRQKuqqqqq05FAmpmZmZmRlUAAAAAAAACOQAAAAAAA4I9Aq6qqqqrSkUAAAAAAAGCIQAAAAAAAZIhAAAAAAABgiEBVVVVVVeWPQM3MzMzM4o9AVVVVVVUFjkAAAAAAAIaGQO\\u002fu7u7uBI5AAAAAAAAgjEAAAAAAAEx6QDMzMzMzM+M\\u002fVVVVVVWTlUAAAAAAAKCUQAAAAAAAAAAAVVVVVVWhlECrqqqqqgCOQAAAAAAA4JBARERERERkTkAAAAAAAECKQJqZmZmZ449AAAAAAAAAAACrqqqqqoKGQKuqqqqqAn5AIiIiIiIGjkDNzMzMzOKQQAAAAAAAwJJAAAAAAABMekBVVVVVVcGSQAAAAAAAsJNAIiIiIiKAhkAAAAAAAOCAQAAAAAAAhIZARERERETDkkAAAAAAAGKIQAAAAAAAkpVAq6qqqqqRlUAAAAAAAOGQQDMzMzMzAY5AVVVVVVWlhEAAAAAAALKTQCIiIiIiYIhAAAAAAAAAAAAAAAAAAOCPQAAAAAAAkpVAZmZmZmYGXkAAAAAAAIhmQAAAAAAAkJVAd3d3d3elhEAAAAAAAOSAQKuqqqqqs5NAq6qqqqrDkkDNzMzMzLOTQAAAAAAA4JBAiYiIiIiRlUCamZmZmZnZPwAAAAAAs5NAd3d3d3dHikAAAAAAAGSIQAAAAAAAIIxAAAAAAACQlUBVVVVVVRVuQAAAAAAA5o9Aq6qqqqoKbkAAAAAAAKCEQAAAAAAA4pBAAAAAAAAAfkAAAAAAAOKQQAAAAAAAAF5AAAAAAACYZkAiIiIiIsGSQM3MzMzMgoZAZmZmZmbTkUAAAAAAAOaAQAAAAAAAgIZAREREREREikCrqqqqqqKEQAAAAAAAAH5Ad3d3d3ejlEDe3d3d3cGSQKuqqqqqBo5AMzMzMzOyk0AAAAAAAESKQAAAAAAAwIJAAAAAAADSkUAAAAAAACSMQCIiIiIispNAIiIiIiJAikDv7u7u7i5OQAAAAAAAoJRAd3d3d3eDhkBVVVVVVVVOQLy7u7u7wJJAAAAAAACQlUAAAAAAALCTQAAAAAAAAI5AAAAAAADAgkAAAAAAAAAAAO\\u002fu7u7uAn5AzczMzMyxk0AzMzMzMyeMQAAAAAAAJIxAAAAAAADCgkCrqqqqqmKIQAAAAAAApIRAq6qqqqrQkUAAAAAAAEx6QLy7u7u7x4JAAAAAAAAAjkCJiIiIiMKCQAAAAAAAwJJAAAAAAABATkCrqqqqquaPQAAAAAAABI5AAAAAAAAEjkAAAAAAANORQAAAAAAA0JFAAAAAAAAAXkAAAAAAAASOQAAAAAAA4JBAAAAAAAAAAAAAAAAAAABOQAAAAAAA4JBAq6qqqqpEikCrqqqqqmaIQAAAAAAAsJNARERERETAkkAAAAAAAKCUQAAAAAAA5IBAAAAAAABCikAAAAAAAABOQKuqqqqq0JFAAAAAAACglEC8u7u7u2WIQAAAAAAAyHJAAAAAAAAAjkAAAAAAAAAAAAAAAAAA4pBAmpmZmZnBgkBVVVVVVZ1mQAAAAAAAsJNARERERESEhkAAAAAAANGRQFVVVVVVR4pAq6qqqqoKXkBVVVVVVZOVQFVVVVVVgYZAmpmZmZnjj0AAAAAAAISGQO\\u002fu7u7uwZJA3t3d3d1liECrqqqqqmaIQAAAAAAAAI5AvLu7u7uQlUAAAAAAAECKQAAAAAAAQIpAAAAAAABIekDe3d3d3WeIQAAAAAAAwJJAAAAAAACAhkAAAAAAAKCEQAAAAAAAZohAAAAAAABCikAAAAAAAAB+QAAAAAAA4JBAAAAAAACSlUAAAAAAAAB+QGZmZmZmAI5AAAAAAADikEBmZmZmZsOSQAAAAAAAQHpAAAAAAADAkkAAAAAAAABOQHd3d3d3RYpAIiIiIiIOfkAiIiIiIiLSPwAAAAAA4pBAAAAAAAAA4D93d3d3d5GVQAAAAAAAkpVAAAAAAADgkEAAAAAAAOCQQKuqqqqqooRAAAAAAADAgkAAAAAAAMKSQKuqqqqqpIRAAAAAAABAikCJiIiIiMCSQAAAAAAAZIhA7+7u7u7u3j8AAAAAAJCVQN7d3d3d44BAAAAAAAAAAAAAAAAAAKaEQAAAAAAA0JFARERERESQlUAAAAAAAABOQAAAAAAAAOA\\u002fq6qqqqpGekAAAAAAAECKQAAAAAAA4JBAVVVVVVWRlUCrqqqqquGQQAAAAAAAoJRAvLu7u7tFikARERERERGRP3d3d3d34JBAAAAAAADCkkAAAAAAAMSCQAAAAAAA5o9AVVVVVVXTkUAAAAAAAADgPwAAAAAAMF5AVVVVVVVFikAAAAAAAOOQQKuqqqqq5I9AAAAAAACghEDe3d3d3bGTQAAAAAAAwpJAERERERGDhkAAAAAAAEB6QAAAAAAA4o9AERERERFjiEARERERERFeQJqZmZmZx4JAAAAAAACAhkAAAAAAAOaPQAAAAAAA4IBA3t3d3d3BkkAAAAAAAKSEQCIiIiIik5VAAAAAAACQlUBVVVVVVeGAQFVVVVVV0ZFAAAAAAADAkkAAAAAAAMCCQFVVVVVVh4ZAAAAAAADggECJiIiIiGhOQImIiIiIopRAVVVVVVXlj0AAAAAAAKCUQFVVVVVVZYhAiYiIiIiI6D8AAAAAAMCCQAAAAAAAsJNAAAAAAADAkkAAAAAAAKCEQAAAAAAAiGZAAAAAAAAwXkBVVVVVVSOMQFVVVVVVJYxAAAAAAAAAAAAAAAAAAEBOQAAAAAAA0JFAMzMzMzMHjkAAAAAAAOSAQO\\u002fu7u7uDk5AIiIiIiLAgkCrqqqqqtCRQAAAAAAAoJRAAAAAAAACjkAAAAAAALGTQFVVVVVVVdU\\u002fAAAAAADQkUAAAAAAAEBOQAAAAAAAsJNAq6qqqqpCekAAAAAAALCTQAAAAAAAYohAAAAAAADCkkCamZmZmQOOQAAAAAAAAE5AAAAAAADAkkAzMzMzM6CUQJqZmZmZ4JBARERERETCgkAiIiIiIqGUQHd3d3d3o5RAAAAAAADmj0BVVVVVVeWAQAAAAAAAoJRAVVVVVVVVxT9VVVVVVUeKQAAAAAAA5I9AAAAAAADgj0CamZmZmdGRQAAAAAAAAF5AAAAAAADQkUAAAAAAAMCCQAAAAAAAIIxARERERETAkkAAAAAAAAh+QFVVVVVVYYhAAAAAAADmgEAAAAAAAAAAAAAAAAAAoZRA7+7u7u6khEAAAAAAAOSPQAAAAAAA0ZFAAAAAAAAAAACrqqqqqsCSQJqZmZmZIYxAAAAAAADSkUAiIiIiIrCTQFVVVVVV4Y9AAAAAAACkhEAAAAAAAIB2QKuqqqqq5IBAAAAAAACAdkAAAAAAALCTQAAAAAAA4JBAAAAAAAAAXkCrqqqqqqCUQAAAAAAAsJNAAAAAAADRkUAAAAAAAABuQAAAAAAAIIxAmpmZmZngkEBVVVVVVUV6QAAAAAAA4ZBAAAAAAABgTkCrqqqqqqCEQKuqqqqqhoZAEREREREljEC8u7u7uztOQAAAAAAAAAAAAAAAAAAAjkAAAAAAAKSEQAAAAAAA4JBAAAAAAADQkUAAAAAAAICGQFVVVVVV5Y9AAAAAAABEikAAAAAAACSMQHd3d3d34JBAAAAAAACQlUAAAAAAANCRQEREREREYIhAvLu7u7uSlUBVVVVVVVW1PwAAAAAAAAAAAAAAAADBkkARERERERFOQFVVVVVV0ZFAmpmZmZmJdkCrqqqqqgaOQAAAAAAA4I9AAAAAAAAwXkAAAAAAAABOQAAAAAAAoIRAq6qqqqrQkUCrqqqqqrCTQGZmZmZmgIZAAAAAAADAkkAAAAAAAMKSQAAAAAAA4I9AAAAAAACAhkAAAAAAAIBmQAAAAAAAAOA\\u002fAAAAAADgkEAAAAAAAMKSQAAAAAAAgIZAVVVVVVVniECrqqqqqrOTQAAAAAAAspNAVVVVVVUFbkAAAAAAAKKUQAAAAAAAoJRAIiIiIiJmiECrqqqqqsKSQAAAAAAAQIpAAAAAAAAgjECrqqqqqqraPwAAAAAAgIZAVVVVVVWFdkAAAAAAAKCUQAAAAAAAwIJAMzMzMzPhkEAzMzMzMzNeQAAAAAAAsJNAAAAAAAAAfkAAAAAAALKTQAAAAAAA4IBA3t3d3d3ikEAAAAAAAJCVQAAAAAAAAE5AAAAAAAAAAAAAAAAAAADQPwAAAAAAJIxAAAAAAAAAfkAAAAAAANCRQN7d3d3d4ZBAVVVVVVUVTkCJiIiIiCaMQKuqqqqqsZNAiYiIiIiwk0AAAAAAAGCIQAAAAAAA4pBAAAAAAAACjkAAAAAAAOCPQJqZmZmZ0JFAAAAAAACzk0AAAAAAAKCEQKuqqqqqYIhAAAAAAADAkkAAAAAAAKaEQKuqqqqq5oBAAAAAAADQkUBVVVVVVdGRQAAAAAAA45BAAAAAAADigEAAAAAAAKCUQAAAAAAAAAAAVVVVVVUNfkAAAAAAAMCSQAAAAAAAoJRAVVVVVVVhiEAAAAAAAACOQFVVVVVVJYxAAAAAAACzk0AAAAAAAACOQAAAAAAAopRAq6qqqqoCjkBVVVVVVaWEQDMzMzMz4pBAAAAAAAAgTkBVVVVVVQV+QAAAAAAAiHZAVVVVVVWRlUDv7u7u7tGRQEREREREopRAAAAAAAAAXkAAAAAAALOTQAAAAAAAAF5AAAAAAADCkkAAAAAAAASOQAAAAAAAgGZAAAAAAACwk0AAAAAAAOKAQKuqqqqqhnZAIiIiIiICjkAAAAAAAIBmQAAAAAAAAG5AAAAAAACghEAAAAAAAOaPQAAAAAAApIRAq6qqqqrgkEAAAAAAALKTQCIiIiIikZVAVVVVVVXFgkAAAAAAAGBOQAAAAAAAkJVAAAAAAADgj0Crqqqqqk56QO\\u002fu7u7u7t4\\u002fAAAAAACGhkAAAAAAAIB2QKuqqqqqZohAq6qqqqoCjkCrqqqqqsCSQAAAAAAA4pBAAAAAAAAAbkAAAAAAAOKQQAAAAAAAiHZA3t3d3d2jlECrqqqqqqKEQJqZmZmZ0pFAAAAAAAChlECJiIiIiAhOQAAAAAAA0pFA7+7u7u6RlUAAAAAAAKSEQAAAAAAAYIhAAAAAAACglECrqqqqqqKEQAAAAAAA4I9AAAAAAADhkEAAAAAAADBeQFVVVVVVoZRARERERETQkUCrqqqqqtCRQKuqqqqqoZRAq6qqqqrjkEAAAAAAAKCEQAAAAAAA0ZFAq6qqqqqChkCrqqqqqgJ+QGZmZmZmxIJAAAAAAADgkEAzMzMzM8WCQM3MzMzM4I9Aq6qqqqrkgEAAAAAAANCRQKuqqqqq5o9AVVVVVVUljEDe3d3d3eWAQAAAAAAA4ZBAAAAAAAAgXkAAAAAAACCMQGZmZmZm5oBAAAAAAAAA4D8AAAAAAOaPQKuqqqqqQopAAAAAAACghEAAAAAAAISGQAAAAAAAkZVA3t3d3d1FikAAAAAAALKTQFVVVVVVhYZAAAAAAACEhkBVVVVVVeeAQFVVVVVV4Y9AmpmZmZnJckB3d3d3d4eGQAAAAAAA5I9AVVVVVVXDkkAAAAAAAMCCQAAAAAAAwJJAAAAAAADQkUCrqqqqquKQQFVVVVVVRXpAAAAAAABgiEBERERERMGSQCIiIiIiwIJAAAAAAADgkEAAAAAAAAAAAKuqqqqq4JBAZmZmZmbCkkAAAAAAAICGQO\\u002fu7u7u0ZFAAAAAAABmiEBVVVVVVSWMQKuqqqqqooRAAAAAAADggEAAAAAAAKSEQAAAAAAAAAAAd3d3d3ehhECrqqqqqsKCQAAAAAAAAE5AzczMzMywk0BERERERKOUQAAAAAAAsJNAq6qqqqqRlUBVVVVVVaOUQDMzMzMz449A7+7u7u7kj0AAAAAAAGCIQAAAAAAA4JBAq6qqqqqkhEAAAAAAAACOQAAAAAAAoIRAAAAAAAAAXkAAAAAAAICGQAAAAAAAAOA\\u002fAAAAAACwk0AAAAAAAKSEQAAAAAAAwpJAAAAAAADSkUAAAAAAANCRQO\\u002fu7u7uQopAAAAAAAAATkCrqqqqqgKOQKuqqqqqo5RAAAAAAAAAjkBVVVVVVRVuQAAAAAAARIpAAAAAAADQkUAAAAAAAOCQQLy7u7u7x4JAAAAAAADkj0AAAAAAAOCQQAAAAAAA5I9AAAAAAADAckBVVVVVVbCTQDMzMzMz05FAAAAAAAAAAABVVVVVVaOEQAAAAAAAgGZAAAAAAADkj0DNzMzMzASOQM3MzMzMHF5A3t3d3d2nhEAAAAAAAAAAAAAAAAAARHpA7+7u7u7DkkAAAAAAAICGQAAAAAAApIRAAAAAAADQkUAiIiIiIoCGQAAAAAAAAG5AAAAAAACQlUAREREREeGAQKuqqqqqimZAq6qqqqoEjkAAAAAAAGKIQAAAAAAAwIJAzczMzMyhlEAAAAAAACCMQKuqqqqqAI5AiYiIiIhMekAAAAAAAOCQQHd3d3d3w4JAIiIiIiJCikAAAAAAAKCUQAAAAAAAsJNAzczMzMwAjkAzMzMzM6WEQO\\u002fu7u7uQnpA7+7u7u4kjEBVVVVVVWWIQAAAAAAAgIZAAAAAAACglEAAAAAAAGSIQERERERECH5AAAAAAADAkkAAAAAAANCRQEREREREwJJAVVVVVVXTkUAAAAAAAKaEQERERERE5o9AERERERFliECrqqqqqiKMQO\\u002fu7u7ukZVAAAAAAADgj0C8u7u7u7vrP6uqqqqqRIpAd3d3d3fBkkBVVVVVVdCRQLy7u7u7k2ZAERERERFjiECrqqqqqmSIQGZmZmZmJl5Aq6qqqqrmj0DNzMzMzCxOQJqZmZmZkJVAAAAAAADAkkAAAAAAAADgPwAAAAAA45BAAAAAAACSlUAAAAAAANKRQAAAAAAAgIZAAAAAAAAEjkAAAAAAALKTQFVVVVVVBX5Aq6qqqqrkgEAAAAAAANORQLy7u7u7Z4hAAAAAAADgj0AAAAAAAOKQQBERERERTXpAAAAAAADSkUAAAAAAAOCQQFVVVVVVRXpAAAAAAACglECrqqqqqtORQJqZmZmZ449AAAAAAADij0CrqqqqqqraPwAAAAAAgIZAzczMzMwAjkAAAAAAAEKKQAAAAAAAkGZAERERERGhhEAAAAAAAEh6QN7d3d3do5RARERERETQkUAAAAAAAEB6QKuqqqqqwJJAq6qqqqrCkkBERERERNGRQGZmZmZmhmZAmpmZmZnBgkDNzMzMzAxeQAAAAAAA4I9AAAAAAADQkUAAAAAAANKRQAAAAAAAopRAAAAAAACIdkCrqqqqqgZ+QAAAAAAAsZNAAAAAAABATkAREREREVFOQFVVVVVVDW5AAAAAAACglEAAAAAAAKCEQAAAAAAA4JBAVVVVVVVVxT8AAAAAAOCAQFVVVVVVw5JAAAAAAACglEAAAAAAAKKEQLy7u7u74Y9AAAAAAACglEAAAAAAAOCPQAAAAAAA4pBAAAAAAADhkECamZmZmc1yQM3MzMzMIIxAAAAAAACwk0BVVVVVVYGGQKuqqqqqwJJAq6qqqqoqXkAAAAAAACSMQAAAAAAAsJNAAAAAAADgj0CamZmZmdKRQAAAAAAAAAAAAAAAAAAgjEAAAAAAALCTQAAAAAAA0JFAAAAAAADggEDe3d3d3eWPQAAAAAAARIpAq6qqqqoGjkCrqqqqqkSKQAAAAAAAAH5Aq6qqqqqwk0AAAAAAAOCPQAAAAAAAoJRAq6qqqqrSkUCrqqqqqsSCQAAAAAAAsJNAAAAAAADAkkCrqqqqqmKIQAAAAAAARopARERERESEhkAAAAAAALCTQBERERERhYZAiYiIiIiEhkAAAAAAAOSPQAAAAAAA5I9Aq6qqqqqihEAAAAAAAACOQAAAAAAA4I9AAAAAAAAAfkAREREREWGIQO\\u002fu7u7upIRAAAAAAACSlUAAAAAAAMKSQBEREREREaE\\u002fAAAAAADgj0AAAAAAAAaOQM3MzMzMxIJA7+7u7u6RlUAAAAAAALCTQAAAAAAAgIZAAAAAAADikEAzMzMzM+WPQAAAAAAAQopAAAAAAACkhEAAAAAAAEB6QAAAAAAAoJRAAAAAAAACjkAAAAAAAACOQAAAAAAAwJJAAAAAAADQkUBVVVVVVQF+QLy7u7u74Y9AAAAAAADkgEAAAAAAAICGQKuqqqqqkJVAAAAAAAAAfkAAAAAAAER6QAAAAAAAAOA\\u002fAAAAAADSkUAAAAAAAGCIQImIiIiISE5AAAAAAADQkUAAAAAAAOCAQAAAAAAAAAAAAAAAAACkhEAAAAAAAADgP1VVVVVVhYZAAAAAAADmj0Dv7u7u7tCRQAAAAAAAJIxAAAAAAADgj0AAAAAAAKCEQCIiIiIi4ZBAAAAAAAAA0D9VVVVVVeOQQAAAAAAAAE5AAAAAAACglEARERERERGRPwAAAAAACH5AAAAAAABEikAAAAAAAADQPwAAAAAAyHJAAAAAAAAgjEAAAAAAAJGVQM3MzMzM5IBAd3d3d3fhj0AAAAAAAGCIQO\\u002fu7u7u4o9AAAAAAACQlUAAAAAAAAAAAAAAAAAA4oBAAAAAAACGhkAAAAAAAICGQAAAAAAAAH5AVVVVVVXTkUAAAAAAAAAAAAAAAAAA0JFAq6qqqqrQkUAAAAAAAMCCQAAAAAAAZIhAVVVVVVXjgEAAAAAAAGCIQN7d3d3d549AAAAAAADgj0De3d3d3d29P6uqqqqqCl5AAAAAAAAAjkAAAAAAAMCSQJqZmZmZI4xAMzMzMzOTZkBVVVVVVTVOQGZmZmZmkZVAAAAAAADgj0BVVVVVVZCVQGZmZmZmgIZAAAAAAABAekAAAAAAAAAAAAAAAAAAgIZAVVVVVVUjjECrqqqqqiaMQFVVVVVVkJVAAAAAAACghECrqqqqqgJ+QAAAAAAAwHJAq6qqqqpKekAzMzMzMwd+QGZmZmZmIoxAAAAAAACkhEAAAAAAAKSEQN7d3d3dhYZAq6qqqqoGjkAzMzMzM4NmQKuqqqqqRopAAAAAAACQZkAzMzMzM7KTQBERERERQYpAq6qqqqrAkkAAAAAAACCMQAAAAAAAkZVAq6qqqqrAkkAAAAAAACKMQO\\u002fu7u7uQopAAAAAAACghEAAAAAAAACOQJqZmZmZsZNAAAAAAACilEAAAAAAAOKQQImIiIiIwIJAAAAAAADQkUAAAAAAAOCPQEREREREDH5AAAAAAACAZkAAAAAAACKMQKuqqqqqIoxAq6qqqqqzk0AAAAAAAASOQKuqqqqqquo\\u002fiYiIiIgITkAAAAAAAKKUQKuqqqqq4pBAAAAAAADAkkAAAAAAAOCPQBERERERpYRAAAAAAADggEBVVVVVVeGQQAAAAAAA0pFAAAAAAADAkkAAAAAAACCMQAAAAAAAAAAAAAAAAADAkkAAAAAAAICGQAAAAAAAQHpAAAAAAAAAXkAAAAAAAOSPQKuqqqqq4JBAAAAAAADEgkAAAAAAAAAAAFVVVVVVY4hAAAAAAABiiEAAAAAAALCTQAAAAAAAAAAAAAAAAACghEAAAAAAAESKQAAAAAAAAAAAAAAAAADikEAAAAAAAGCIQAAAAAAAAF5AAAAAAADCgkAAAAAAAOCPQM3MzMzM4pBAAAAAAACQlUCJiIiIiAR+QAAAAAAAopRAAAAAAACglEAAAAAAAECKQAAAAAAA0JFAAAAAAAAmjEAAAAAAAMKSQAAAAAAA0JFAq6qqqqrGgkAzMzMzM9KRQAAAAAAAoIRAVVVVVVXBgkAAAAAAAMCSQAAAAAAA4IBAvLu7u7sHfkAAAAAAAKCEQAAAAAAAk5VAVVVVVVXjj0AAAAAAAACOQFVVVVVVpYRAAAAAAADCgkAAAAAAAICGQN7d3d3d4Y9AAAAAAABMekCrqqqqqoCGQAAAAAAAQIpAvLu7u7uyk0ARERERESWMQAAAAAAAkJVAAAAAAADEgkCrqqqqqiKMQM3MzMzMQopAAAAAAACwk0AAAAAAAICGQJqZmZmZBY5A7+7u7u6ihEBVVVVVVTVeQJqZmZmZk5VAVVVVVVXAkkBERERERGCIQM3MzMzMxIJAAAAAAACSlUAAAAAAAICGQAAAAAAAwJJAAAAAAABAikCrqqqqqgaOQAAAAAAAkJVAAAAAAABEikCJiIiIiGCIQAAAAAAAopRAq6qqqqoqTkAAAAAAAICGQAAAAAAAkJVAvLu7u7vDgkAAAAAAALOTQAAAAAAAkJVAAAAAAADikEAAAAAAAOGQQKuqqqqqZIhAd3d3d3dliEAAAAAAAACOQAAAAAAAwJJAERERERHTkUAAAAAAAMCSQFVVVVVV0ZFAAAAAAADggEAAAAAAAOSAQO\\u002fu7u7ugoZARERERESChkCJiIiIiGCIQBERERER549AVVVVVVVNekAzMzMzMw9+QAAAAAAAsZNAAAAAAADikEAAAAAAAIB2QM3MzMzMAo5AAAAAAACghEAAAAAAACSMQAAAAAAApIRAMzMzMzODhkBmZmZmZkSKQAAAAAAA0JFAAAAAAADgj0AAAAAAAIBmQGZmZmZmw5JAAAAAAADigEAAAAAAAAAAAAAAAAAA0JFAERERERFFekCrqqqqqsCSQM3MzMzMQHpAAAAAAADkj0AAAAAAAOCQQAAAAAAAAG5AVVVVVVXSkUCrqqqqqrKTQCIiIiIi5I9AAAAAAAAA4D8AAAAAAKCEQKuqqqqq4JBAAAAAAADikECrqqqqqqKUQCIiIiIiQk5AAAAAAAAAAABVVVVVVUWKQAAAAAAAwHJAAAAAAAAgjEAAAAAAAKKUQAAAAAAA0JFAAAAAAADDkkBmZmZmZiZOQAAAAAAAAAAARERERESEZkBmZmZmZsKCQKuqqqqq4o9AAAAAAADAkkAAAAAAAKCEQAAAAAAAoJRAAAAAAAAAAAAAAAAAAABuQAAAAAAAoIRA7+7u7u5AikAAAAAAAEB6QCIiIiIiQopAERERERGFhkAAAAAAAOCAQFVVVVVVo4RAAAAAAABAikAAAAAAAJBmQAAAAAAAoIRAd3d3d3fRkUAAAAAAAJCVQFVVVVVVVe0\\u002fAAAAAACAdkDNzMzMzOGQQGZmZmZmpoRAAAAAAAAgjEAAAAAAAACOQKuqqqqqAI5AAAAAAADAkkAAAAAAAAaOQAAAAAAAoIRAq6qqqqrmj0ARERERERFOQFVVVVVVoZRAAAAAAADQkUAAAAAAACCMQAAAAAAAsJNAq6qqqqqhlEDe3d3d3cGSQJqZmZmZYYhARERERERAikAAAAAAAIR2QAAAAAAA4I9Aq6qqqqqKZkAAAAAAAICGQAAAAAAAkJVAmpmZmZlFikCrqqqqquSPQAAAAAAA0ZFAVVVVVVXhkEAAAAAAAAB+QAAAAAAAAH5A3t3d3d3BkkAAAAAAAASOQKuqqqqq4JBAAAAAAAAAjkBERERERGROQAAAAAAAAAAAAAAAAADgkEAAAAAAAICGQAAAAAAA4IBAzczMzMzMckAAAAAAAASOQDMzMzMzM15AAAAAAADkj0BVVVVVVaOUQAAAAAAAwIJAvLu7u7vngEBmZmZmZgCOQAAAAAAAJoxAAAAAAADgj0AAAAAAAAAAAAAAAAAAAOA\\u002fAAAAAADAkkBEREREREKKQAAAAAAAkJVAAAAAAADCkkCrqqqqqsKSQAAAAAAAgHZAVVVVVVVFekBVVVVVVcWCQAAAAAAAwJJAq6qqqqogjEAREREREcOCQKuqqqqq4IBAAAAAAADDkkBERERERNKRQAAAAAAAIIxAq6qqqqrgj0AAAAAAAECKQERERERE5oBAERERERHjkEDNzMzMzOSAQAAAAAAAgHZAAAAAAACAhkAAAAAAABBuQFVVVVVVpYRAREREREQkXkBVVVVVVUWKQBEREREREZE\\u002fAAAAAADRkUDv7u7u7maIQFVVVVVVVbU\\u002fzczMzMyGhkAzMzMzM4GGQFVVVVVV4ZBAIiIiIiKilEAAAAAAAOCQQGZmZmZmYIhAAAAAAACghEAAAAAAAMCSQAAAAAAAwZJAzczMzMzikEAAAAAAAMGSQAAAAAAAAI5AVVVVVVVDikBVVVVVVcCSQFVVVVVVhYZAq6qqqqqkhEAAAAAAAKCUQAAAAAAA0pFAVVVVVVVBekAAAAAAAMCCQFVVVVVV549AAAAAAAAgjEBVVVVVVYWGQAAAAAAAAAAAERERERHhj0BmZmZmZsCSQFVVVVVVs5NAVVVVVVWilECrqqqqqgaOQAAAAAAA4ZBAVVVVVVWhlECrqqqqqtCRQAAAAAAAsJNAMzMzMzMDbkBVVVVVVU16QAAAAAAAJIxAAAAAAACyk0CJiIiIiEKKQAAAAAAAAAAAq6qqqqrCgkBERERERIKGQAAAAAAAsJNA7+7u7u7mgEAAAAAAAABeQKuqqqqqoZRAAAAAAADRkUAAAAAAALCTQKuqqqqqYohAAAAAAACQlUAAAAAAAMSCQM3MzMzMYIhAAAAAAADkj0De3d3d3UGKQAAAAAAAYIhAERERERGhlEAAAAAAACCMQAAAAAAAQHpAq6qqqqpgiEAAAAAAAECKQAAAAAAAspNAMzMzMzOQlUAAAAAAAKCUQBEREREREZE\\u002fAAAAAABgiEAAAAAAAMCSQAAAAAAAAAAAAAAAAADAkkAAAAAAAAAAAAAAAAAAkJVAq6qqqqqjlEAAAAAAAJCVQAAAAAAAANA\\u002fAAAAAACAhkAAAAAAANCRQAAAAAAAAH5AAAAAAAAgjEAAAAAAAMSCQHd3d3d3spNAAAAAAAAMfkAAAAAAAGKIQAAAAAAAhIZAAAAAAADgkEBmZmZmZqGUQN7d3d3dI4xAAAAAAADgkEDv7u7u7pKVQAAAAAAARopAMzMzMzOhlEAAAAAAAEh6QKuqqqqq4I9AVVVVVVWFhkC8u7u7u0N6QAAAAAAA0pFAVVVVVVXSkUAAAAAAACaMQFVVVVVV05FAAAAAAADkj0AAAAAAAABOQAAAAAAAJIxAAAAAAAAA4D8AAAAAACaMQAAAAAAAoJRAq6qqqqpCikCrqqqqqsKSQAAAAAAAopRAVVVVVVUBjkAAAAAAAACOQAAAAAAAAAAAAAAAAADgj0AAAAAAANCRQFVVVVVV449Aq6qqqqqSlUAAAAAAAMCCQKuqqqqqJoxAAAAAAADCkkCJiIiIiOaAQAAAAAAAQopAAAAAAAAAfkBVVVVVVWWIQFVVVVVVoZRAAAAAAACkhEBERERERICGQKuqqqqq4ZBAvLu7u7tjiEAAAAAAAMCCQAAAAAAAoJRAERERERERkT8AAAAAAICGQLy7u7u7K15AVVVVVVXjkEAAAAAAAOKQQAAAAAAAspNAAAAAAACwk0BVVVVVVYVmQAAAAAAAZIhAAAAAAADSkUAAAAAAALCTQEREREREQopAAAAAAABEikAAAAAAAEKKQAAAAAAADH5AAAAAAADgj0CamZmZmeWAQKuqqqqqAo5AAAAAAADEgkAAAAAAAMCSQAAAAAAAzHJAq6qqqqoqXkDe3d3d3WeIQDMzMzMzo4RAAAAAAACQlUDv7u7u7mSIQAAAAAAAQopAAAAAAADggEAAAAAAACCMQFVVVVVVw5JAVVVVVVWFhkAAAAAAANGRQAAAAAAAoJRAAAAAAACilEAAAAAAALGTQAAAAAAAsJNAVVVVVVXBkkAAAAAAANCRQKuqqqqqwpJAMzMzMzMHjkAAAAAAAJOVQImIiIiIAH5AAAAAAACwk0BmZmZmZsaCQEREREREZohAAAAAAADggECrqqqqqsKSQAAAAAAAspNAAAAAAAAAAAAAAAAAAOGQQCIiIiIigIZAAAAAAACxk0BVVVVVVVW1PxEREREREZE\\u002fAAAAAAAATkAAAAAAAAx+QKuqqqqqpoRAAAAAAAAAAAAAAAAAAOCQQAAAAAAA4I9AiYiIiIhCikAAAAAAAOCQQAAAAAAAwIJAAAAAAACAhkAAAAAAAGCIQAAAAAAAoZRAVVVVVVVV1T8AAAAAAOCPQAAAAAAA4I9A3t3d3d2nhEAAAAAAAOSPQFVVVVVV0ZFAAAAAAABAikDv7u7u7qCUQKuqqqqq0pFAAAAAAAAEjkAAAAAAAGSIQEREREREIoxAAAAAAABgiEBVVVVVVYeGQFVVVVVV5Y9AAAAAAADgkEAAAAAAAMCSQAAAAAAAAI5AAAAAAAAgjEAAAAAAAKaEQFVVVVVVh4ZAAAAAAAAgjEAAAAAAAKCUQLy7u7u7kpVARERERETggEAAAAAAAICGQJqZmZmZYYhAVVVVVVWxk0AAAAAAAOSAQGZmZmZmpIRAAAAAAACAhkAAAAAAANKRQFVVVVVV05FAq6qqqqpGikAAAAAAAIR2QAAAAAAA45BAAAAAAACyk0BVVVVVVeePQFVVVVVVIYxAAAAAAAAAAAAAAAAAAEBOQAAAAAAAAG5AAAAAAAAAAAAAAAAAAAAAAAAAAAAAAAAAAAAAAADAkkAAAAAAAACOQJqZmZmZp4RAq6qqqqoGjkAAAAAAALKTQAAAAAAARIpAAAAAAACAhkAAAAAAAACOQAAAAAAA0JFAAAAAAAAAbkDv7u7u7iaMQAAAAAAAQIpAVVVVVVUnjEBmZmZmZuKPQFVVVVVVk5VAERERERERkT8AAAAAAOaAQBERERERhYZAIiIiIiKhlEAAAAAAAGCIQFVVVVVVZ4hAAAAAAACAhkCrqqqqqgp+QAAAAAAAZIhAVVVVVVXHgkAAAAAAAABuQCIiIiIiDn5AAAAAAABMekAAAAAAAABuQM3MzMzMFG5AAAAAAAAEjkAAAAAAAMCCQN7d3d3d5Y9AAAAAAADggEAAAAAAAABuQKuqqqqq45BAvLu7u7tFikAAAAAAAOGQQFVVVVVVsZNAAAAAAACQlUAAAAAAAOCAQGZmZmZmIoxAAAAAAABAekAAAAAAALCTQHd3d3d34Y9AAAAAAAAGjkAAAAAAAJKVQAAAAAAAkJVAAAAAAADEckAAAAAAAMCSQHd3d3d30ZFARERERERiiEAAAAAAAECKQAAAAAAAgIZA7+7u7u6xk0CrqqqqqgSOQJqZmZmZpYRAAAAAAADAkkAAAAAAANCRQAAAAAAAgGZAAAAAAADgkEAAAAAAANGRQAAAAAAAZIhAAAAAAADjkEAAAAAAAOSAQDMzMzMzRYpAAAAAAACkhEDv7u7u7rCTQGZmZmZmZk5Aq6qqqqrTkUAzMzMzM7KTQFVVVVVVkJVAAAAAAAAAAAAAAAAAAABeQCIiIiIi0ZFAq6qqqqrEgkAzMzMzM+CQQEREREREAH5AAAAAAACAdkBVVVVVVWGIQFVVVVVVwYJAAAAAAABEikC8u7u7uwd+QGZmZmZm0pFA7+7u7u5GikAAAAAAACSMQAAAAAAAAAAAAAAAAADAkkAAAAAAAKCUQCIiIiIi5oBAq6qqqqpiiEAAAAAAAAAAAAAAAAAAAAAAAAAAAADgj0AAAAAAAOCQQAAAAAAAxIJAAAAAAADgkEAAAAAAAOCPQO\\u002fu7u7uBI5AAAAAAAAATkAAAAAAAOCQQN7d3d3dopRAAAAAAADgj0AAAAAAAKCEQCIiIiIi4o9AAAAAAADkj0AAAAAAAOOQQFVVVVVVh4ZAAAAAAACQlUAAAAAAALCTQAAAAAAA4ZBAq6qqqqqCZkAAAAAAAMKSQAAAAAAA0JFAAAAAAABIekAAAAAAAOCQQKuqqqqqRopARERERERAekAAAAAAAJKVQAAAAAAAyHJAAAAAAACwk0AAAAAAAJCVQAAAAAAAiHZAVVVVVVVFikAAAAAAAMCSQAAAAAAAAAAAAAAAAADQkUCrqqqqquSPQAAAAAAA0JFAvLu7u7vFgkBVVVVVVeWPQAAAAAAAAF5AAAAAAAAAXkAAAAAAAKCUQFVVVVVVFU5AAAAAAAAAXkAAAAAAACCMQAAAAAAAAI5Aq6qqqqrCkkCJiIiIiGaIQLy7u7u7spNAAAAAAADggEAAAAAAAMGSQAAAAAAAAF5Aq6qqqqpAikAAAAAAANKRQAAAAAAAoJRAd3d3d3exk0AAAAAAAACOQAAAAAAAoJRARERERETikECrqqqqquKAQAAAAAAA4IBAAAAAAADAgkBmZmZmZsaCQAAAAAAAIE5AAAAAAABATkAAAAAAAJBmQFVVVVVV0ZFAAAAAAABkiEDe3d3d3eCQQAAAAAAA5o9AAAAAAADTkUAAAAAAAAAAAAAAAAAAQHpAAAAAAADhkEBEREREROaPQAAAAAAA4JBAAAAAAAAAAAB3d3d3d6eEQJqZmZmZwYJAAAAAAAAAXkAAAAAAAOCPQFVVVVVV4pBAVVVVVVWDhkDNzMzMzLCTQAAAAAAA4JBA7+7u7u6glEBVVVVVVRVeQKuqqqqqkJVAERERERHFgkAAAAAAAMCSQAAAAAAAwHJAAAAAAAAgjEAAAAAAAJKVQAAAAAAAgIZAAAAAAACwk0AAAAAAAMCSQFVVVVVVB45AzczMzMxsTkAREREREYGGQAAAAAAA4IBAAAAAAACQlUAAAAAAAMByQAAAAAAADH5AAAAAAADTkUAiIiIiImKIQKuqqqqqKl5AVVVVVVUVTkAAAAAAAIKGQAAAAAAA4IBA3t3d3d19TkDNzMzMzOKAQERERERERHpAAAAAAACwk0BVVVVVVQWOQKuqqqqqgoZAAAAAAADkgEBVVVVVVeePQAAAAAAAAAAAAAAAAADgj0AAAAAAAOCPQAAAAAAAJoxAAAAAAACyk0De3d3d3d3NPwAAAAAAsJNAq6qqqqqmhEC8u7u7uyGMQBEREREREZE\\u002fMzMzMzMDXkAREREREQ1+QKuqqqqqRIpAVVVVVVXlj0AAAAAAAGCIQAAAAAAAgIZAAAAAAABmiEAAAAAAAOCQQAAAAAAAsJNAVVVVVVXHgkAAAAAAALGTQAAAAAAAoJRAVVVVVVXSkUB3d3d3dweOQKuqqqqq4pBAAAAAAAAAAACrqqqqquOQQAAAAAAA0pFAAAAAAADEgkB3d3d3d8CSQAAAAAAA05FAAAAAAADgj0Dv7u7u7mSIQAAAAAAAQIpAq6qqqqoKbkCamZmZmWGIQAAAAAAASHpAAAAAAADgkEAAAAAAAJCVQKuqqqqq5o9AAAAAAACilEAzMzMzMxNeQAAAAAAAwpJAAAAAAABAikAAAAAAAEh6QN7d3d3d0JFAAAAAAADgj0CrqqqqqoSGQM3MzMzMQIpAAAAAAACglEAAAAAAAMByQFVVVVVVoZRAAAAAAACwk0AAAAAAAMCSQKuqqqqqKk5AAAAAAACyk0AAAAAAAKCUQM3MzMzM5IBAVVVVVVXNckAAAAAAANGRQAAAAAAAgGZAAAAAAABkiEAAAAAAAGSIQAAAAAAA0ZFAERERERHBgkCamZmZmZm5PwAAAAAAAAAAAAAAAACyk0AAAAAAAMCCQAAAAAAA0JFAAAAAAAAgjEAAAAAAAAKOQKuqqqqqRIpAAAAAAAAATkAAAAAAAEaKQAAAAAAA0JFAVVVVVVXTkUAAAAAAALKTQFVVVVVV45BAZmZmZmaGZkBmZmZmZmCIQAAAAAAAsJNAmpmZmZl5TkCamZmZmeePQAAAAAAAo5RAAAAAAADgkEBVVVVVVRVOQAAAAAAAw5JAq6qqqqqilEBERERERMCCQAAAAAAA4I9AVVVVVVXQkUAAAAAAAMhyQKuqqqqq05FAVVVVVVWjlEC8u7u7u6OEQCIiIiIipoRAAAAAAACAhkAAAAAAAIaGQAAAAAAAyHJAAAAAAACAZkBVVVVVVdKRQKuqqqqqooRAVVVVVVWDhkAAAAAAAAAAAFVVVVVVVbU\\u002fAAAAAADQkUAAAAAAAMCSQGZmZmZmgoZAAAAAAADgkEBVVVVVVVW1PwAAAAAAoJRAAAAAAAAAjkBERERERNGRQAAAAAAAkJVAVVVVVVWBhkCamZmZmWOIQKuqqqqqRopAAAAAAAAEjkAAAAAAAGCIQAAAAAAAsJNAAAAAAADmj0CJiIiIiGSIQKuqqqqqmmZAd3d3d3fDkkB3d3d3d3dOQAAAAAAA4IBAzczMzMyTlUAAAAAAAIaGQAAAAAAAAAAAzczMzMwijEC8u7u7u7KTQKuqqqqq5oBAmpmZmZnlj0DNzMzMzBxuQN7d3d3dkpVAq6qqqqrQkUCrqqqqqhpeQM3MzMzMgHZAAAAAAADikEAAAAAAAOCQQAAAAAAAspNAAAAAAACglEAAAAAAANORQAAAAAAA4JBAzczMzMzAgkAAAAAAALCTQAAAAAAAgIZA3t3d3d2DhkAAAAAAAAAAAAAAAAAAgIZAAAAAAABATkAAAAAAACSMQM3MzMzMBI5Aq6qqqqpmiEAAAAAAAECKQKuqqqqqwpJAAAAAAAAMfkBVVVVVVcOSQFVVVVVVhYZAAAAAAACwk0De3d3d3eOAQAAAAAAA0JFAq6qqqqrikECrqqqqqgSOQFVVVVVVk5VAAAAAAACTlUAAAAAAAIB2QKuqqqqqAn5AAAAAAACAhkAAAAAAAAB+QAAAAAAAAo5AAAAAAACilEAAAAAAAIh2QAAAAAAAIIxAAAAAAAAAAAAAAAAAAGSIQO\\u002fu7u7u0pFAAAAAAADTkUAAAAAAAKGUQAAAAAAA4ZBAAAAAAAAkjEBVVVVVVQ1uQFVVVVVV4ZBAIiIiIiLmj0BVVVVVVcOCQAAAAAAAsJNAERERERGSlUAAAAAAANCRQERERERExIJAq6qqqqrAkkAAAAAAAJCVQLy7u7u7A35AAAAAAAAAAAAAAAAAAAB+QO\\u002fu7u7uPl5AAAAAAADSkUAAAAAAALKTQKuqqqqq0ZFAmpmZmZmHhkAAAAAAAAAAAAAAAAAA4ZBAAAAAAADmj0AAAAAAAOSPQAAAAAAA5I9AAAAAAADgj0AAAAAAAOCQQAAAAAAAQHpAvLu7u7vjkECamZmZmcGCQAAAAAAAsJNAMzMzMzPgkEDv7u7u7u7uPwAAAAAAwJJARERERERMekCrqqqqqkKKQAAAAAAA0ZFAAAAAAACSlUAAAAAAAAAAALy7u7u7449Aq6qqqqqGhkAAAAAAAMCCQFVVVVVVo5RAd3d3d3eBhkCrqqqqqgKOQAAAAAAAwJJAq6qqqqoCjkBEREREROCPQKuqqqqqYohAVVVVVVWQlUBERERERLCTQAAAAAAAspNAAAAAAAAAAAAAAAAAANCRQAAAAAAAAF5AAAAAAADAkkDe3d3d3bGTQKuqqqqqynJAAAAAAADggEC8u7u7u+GPQKuqqqqq5I9AERERERERsT8AAAAAAOCAQJqZmZmZoZRAq6qqqqqAhkAAAAAAAASOQJqZmZmZwJJAIiIiIiKQlUB3d3d3dw9uQLy7u7u7R3pAAAAAAAAAXkAAAAAAAEBOQBERERER4YBAVVVVVVXlj0AAAAAAALCTQAAAAAAAAE5AAAAAAAAgjECrqqqqqsaCQAAAAAAAAH5AAAAAAADSkUCJiIiIiMKCQAAAAAAAZIhARERERETkj0AAAAAAAECKQFVVVVVV4JBAmpmZmZmhlEAAAAAAAACOQFVVVVVVVdU\\u002fAAAAAAAAAAAAAAAAAGCIQAAAAAAAAOg\\u002fAAAAAAAEjkBEREREREKKQAAAAAAA05FAAAAAAACQlUBEREREROOQQAAAAAAAJIxAAAAAAACSlUAAAAAAAOCQQKuqqqqqs5NAAAAAAAAGjkAREREREcOCQKuqqqqqJIxAVVVVVVUnjEAAAAAAAMGSQAAAAAAAw5JAAAAAAADAckCrqqqqqgKOQAAAAAAAQIpAAAAAAADAkkAAAAAAAADQP+\\u002fu7u7uhIZAAAAAAADAgkCrqqqqqpGVQGZmZmZmkJVAERERERERkT8AAAAAAADoPwAAAAAAgIZAVVVVVVUFXkAAAAAAAOCQQKuqqqqq4ZBAAAAAAAAkjEAAAAAAAAB+QFVVVVVVlWZAAAAAAADSkUAAAAAAAJBmQJqZmZmZo4RAAAAAAAAEfkAAAAAAAACOQO\\u002fu7u7ukZVAAAAAAACxk0BVVVVVVYeGQAAAAAAAgIZAAAAAAAAgjEAAAAAAAOCPQFVVVVVVIYxAAAAAAADggEBVVVVVVcOCQAAAAAAA5IBAAAAAAABAikAAAAAAAOKQQAAAAAAAsJNAAAAAAABkiEAAAAAAAOCAQAAAAAAA5o9AAAAAAAAAjkAAAAAAAECKQJqZmZmZZYhA3t3d3d2BhkCrqqqqqiSMQAAAAAAAYIhAAAAAAABgiEAAAAAAANORQAAAAAAAoJRAAAAAAAAAAAAAAAAAAMCCQEREREREsZNAAAAAAAAAAAC8u7u7uwteQAAAAAAAQIpAAAAAAADgkEAAAAAAAOSAQLy7u7u7IYxAq6qqqqqSlUB3d3d3d6WEQAAAAAAAooRAAAAAAACAdkAAAAAAAOSPQAAAAAAAspNAIiIiIiLTkUAAAAAAAMSCQAAAAAAAxIJAAAAAAACwk0AiIiIiIgaOQAAAAAAAsJNA3t3d3d0FfkAAAAAAAKKUQFVVVVVVopRAAAAAAAAGjkB3d3d3d6GEQBEREREREZE\\u002fIiIiIiICTkAAAAAAAEaKQAAAAAAA4JBAzczMzMySlUDNzMzMzOGQQAAAAAAAhIZAAAAAAADSkUBVVVVVVYeGQAAAAAAA4pBAVVVVVVXSkUC8u7u7u+OQQAAAAAAAoJRAVVVVVVXnj0CJiIiIiNCRQAAAAAAA4JBARERERESglECrqqqqqqCUQAAAAAAABI5AAAAAAADkj0AAAAAAAOKQQAAAAAAA5I9AAAAAAAAMfkDv7u7u7pOVQAAAAAAAAE5AAAAAAACghEDNzMzMzACOQM3MzMzMkpVAVVVVVVWlhECrqqqqqtCRQCIiIiIiIoxAAAAAAAAAXkBVVVVVVaWEQO\\u002fu7u7uSnpAMzMzMzPSkUAAAAAAACSMQHd3d3d34ZBAVVVVVVWxk0AAAAAAAOCAQAAAAAAAkJVAAAAAAAAGjkAAAAAAAMCSQAAAAAAAIIxAVVVVVVUHjkAAAAAAAMOSQFVVVVVV4Y9AAAAAAADgkEAAAAAAAOKQQDMzMzMz449AAAAAAACYZkAAAAAAAIKGQFVVVVVV45BAd3d3d3fgkEAREREREYeGQAAAAAAAQIpAAAAAAACglEAiIiIiItKRQJqZmZmZwYJAAAAAAADAgkBERERERKaEQKuqqqqqwJJAAAAAAACEhkAAAAAAALOTQAAAAAAAAH5AAAAAAAAAjkDe3d3d3eGQQFVVVVVVBW5AAAAAAADQkUAAAAAAAOCQQAAAAAAAZIhAIiIiIiLikEAAAAAAAAAAAAAAAAAAIF5AAAAAAADAkkAREREREYWGQO\\u002fu7u7uw5JAAAAAAAAATkAAAAAAAKOUQAAAAAAA0JFAAAAAAAAAjkC8u7u7uyGMQAAAAAAACH5AvLu7u7sDjkCrqqqqqqKEQO\\u002fu7u7ugoZAq6qqqqqwk0AAAAAAALKTQO\\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\\u002fu7u7u5oBAIiIiIiIabkAAAAAAAMCSQKuqqqqqk5VAZmZmZmbhkEBERERERIh2QEREREREYIhAzczMzMyIdkAiIiIiIiKMQAAAAAAAsJNAAAAAAADgj0Dv7u7u7uKPQAAAAAAA4JBAAAAAAADggEAAAAAAAKCUQFVVVVVVoJRAAAAAAADkgECrqqqqqiKMQAAAAAAAIIxAAAAAAABgiEAAAAAAACCMQGZmZmZmHm5AAAAAAADgkEAAAAAAALGTQAAAAAAAsJNAAAAAAADQkUBVVVVVVVW1P1VVVVVV45BAAAAAAADgkEAAAAAAAECKQFVVVVVVJYxAq6qqqqrij0AAAAAAAKKUQAAAAAAAANA\\u002fAAAAAACwk0AAAAAAAOSAQCIiIiIiAk5AAAAAAACQlUAzMzMzMzPjPwAAAAAAAE5AAAAAAAAgXkAAAAAAAGCIQKuqqqqqwIJAMzMzMzPTkUAAAAAAAAAAAAAAAAAAsJNAq6qqqqqChkBVVVVVVU16QAAAAAAABI5AAAAAAADCkkBVVVVVVcGSQAAAAAAAwpJAAAAAAACAhkAAAAAAALOTQAAAAAAAoJRAVVVVVVXlj0BVVVVVVWeIQM3MzMzMYIhAAAAAAADAckAAAAAAANKRQAAAAAAAwpJAd3d3d3dDikAAAAAAAOCQQKuqqqqqoZRAAAAAAAAA0D9VVVVVVQ1+QAAAAAAAsJNAAAAAAADggEAAAAAAALKTQKuqqqqqBn5AVVVVVVUFfkAAAAAAAMGSQAAAAAAAgIZAAAAAAADgkEAAAAAAAACOQAAAAAAAooRAAAAAAACwk0AAAAAAAMCSQAAAAAAAoJRAAAAAAADgj0DNzMzMzMKSQHd3d3d3h2ZAAAAAAABAekBVVVVVVZCVQAAAAAAAoIRAAAAAAADAckDNzMzMzOOQQAAAAAAAQIpAAAAAAACglEDv7u7u7uCPQGZmZmZmxIJAAAAAAADAgkAAAAAAACCMQAAAAAAAAG5A3t3d3d3hj0AAAAAAAMOSQAAAAAAAxIJAAAAAAACAdkAAAAAAAJCVQAAAAAAAwpJAAAAAAABMekCamZmZmeOPQFVVVVVVBW5AAAAAAABEikAAAAAAAIBmQO\\u002fu7u7uxIJAAAAAAACyk0BVVVVVVVW1P3d3d3d34ZBAq6qqqqqyk0AAAAAAAMCSQAAAAAAAAAAAMzMzMzPHgkAAAAAAAOCAQBERERERR4pAAAAAAAAAAACrqqqqqqriPwAAAAAAYIhAVVVVVVV1TkC8u7u7u7vrP1VVVVVVwpJAq6qqqqqSlUBVVVVVVaOUQO\\u002fu7u7uxIJAAAAAAADQkUAzMzMzM+OPQKuqqqqq4I9AIiIiIiKGhkAAAAAAAOCAQAAAAAAA4JBARERERETCkkAAAAAAAAAAAAAAAAAAiHZAAAAAAACghEAiIiIiIg5+QAAAAAAAhHZA3t3d3d0NXkAAAAAAAJCVQAAAAAAAgHZAAAAAAADQkUAAAAAAAMCCQAAAAAAAAAAAq6qqqqrij0AAAAAAAICGQAAAAAAAwIJAZmZmZmZGekAAAAAAAOCAQAAAAAAAwJJAAAAAAABMekAAAAAAAOKQQO\\u002fu7u7uhIZAVVVVVVWQlUAAAAAAANKRQAAAAAAAgGZAd3d3d3c3TkC8u7u7uwWOQAAAAAAAAOA\\u002fIiIiIiLikEAAAAAAAOCPQFVVVVVVkZVAAAAAAADkj0CrqqqqqqCUQBERERERp4RAAAAAAAAAjkAAAAAAAACOQCIiIiIipIRAAAAAAACglECamZmZmZnhP0REREREFG5AVVVVVVXQkUB3d3d3d1dOQAAAAAAA0pFAVVVVVVXhj0B3d3d3d2WIQN7d3d3doYRAd3d3d3cjjEAzMzMzM4OGQM3MzMzMsJNAiYiIiIikhEBVVVVVVeePQAAAAAAAAAAAAAAAAABEikAAAAAAAGCIQLy7u7u7Q4pAVVVVVVWwk0BVVVVVVUOKQAAAAAAAhIZAMzMzMzPngEAAAAAAAEB6QAAAAAAAYIhAd3d3d3fhkEDNzMzMzLOTQHd3d3d3Z4hAmpmZmZmglEB3d3d3d5OVQFVVVVVVJ4xAAAAAAAAAAADv7u7u7tORQAAAAAAAoJRAAAAAAACwk0AAAAAAAMKCQAAAAAAAoJRAIiIiIiKkhEAAAAAAANKRQAAAAAAAEF5A3t3d3d3jkEAAAAAAAOKPQAAAAAAAIE5A7+7u7u4ijEAAAAAAAJBmQAAAAAAAAAAAIiIiIiJEikAAAAAAAADQPwAAAAAA4IBAmpmZmZmZ6T9VVVVVVaeEQFVVVVVV0ZFAAAAAAADgj0AAAAAAAOSPQFVVVVVVwJJAAAAAAACAhkCrqqqqqsaCQBERERERZ4hAAAAAAACkhEBmZmZmZiSMQImIiIiIhIZAq6qqqqoqTkBVVVVVVVXVPwAAAAAAAAAAAAAAAACEhkAiIiIiIkCKQAAAAAAAsJNAAAAAAABAikB3d3d3d+GPQAAAAAAAsJNAAAAAAACwk0AAAAAAAOCPQN7d3d3dg4ZAVVVVVVWhhEAAAAAAAMByQAAAAAAAAF5AAAAAAACSlUDv7u7u7uCAQKuqqqqq0ZFAAAAAAABAikAAAAAAAAAAAAAAAAAA4I9AAAAAAADCgkAAAAAAAEB6QAAAAAAA4I9AVVVVVVWRlUBmZmZmZqOUQAAAAAAAIIxAAAAAAAAAjkAAAAAAAOKQQAAAAAAAYIhAVVVVVVUjjEAAAAAAAAB+QKuqqqqqwJJAAAAAAADAgkAAAAAAAICGQAAAAAAAyHJA3t3d3d1NekAAAAAAACaMQAAAAAAAIIxAAAAAAACglEAAAAAAAOCAQAAAAAAAkJVAAAAAAADggECamZmZmcOSQFVVVVVV5Y9A3t3d3d2SlUAAAAAAALKTQAAAAAAA0JFAiYiIiIjkj0AAAAAAAEh6QAAAAAAA0JFAAAAAAACzk0AiIiIiIoKGQAAAAAAAkJVAAAAAAACilEAzMzMzM8GSQAAAAAAAhIZAAAAAAACChkAREREREQ1+QAAAAAAAAF5Ad3d3d3eHhkCrqqqqqtORQAAAAAAA4I9AVVVVVVVV5T8AAAAAAGCIQBERERERopRAERERERERkT8AAAAAAOCPQCIiIiIiJoxAAAAAAADmj0AAAAAAAOSPQAAAAAAA5I9AAAAAAACGhkAAAAAAAGCIQAAAAAAA5IBAVVVVVVVniEAAAAAAAABuQFVVVVVVw4JAAAAAAABiiEBVVVVVVYWGQHd3d3d3d8c\\u002fAAAAAAAmjEAAAAAAAMByQHd3d3d34Y9AAAAAAADikEAREREREQV+QAAAAAAA5IBAAAAAAADkj0AAAAAAAMCSQFVVVVVVI4xAAAAAAACyk0AAAAAAAMSCQAAAAAAAAG5Aq6qqqqpGikBVVVVVVaCUQAAAAAAAo5RAAAAAAABmiEDe3d3d3SOMQAAAAAAAEF5Aq6qqqqrjkEBVVVVVVQWOQAAAAAAAgGZAAAAAAADikEAAAAAAANCRQImIiIiIRIpAAAAAAACQlUC8u7u7u+GAQAAAAAAA4I9AAAAAAADCkkAiIiIiItORQLy7u7u7oZRAAAAAAADmgEAiIiIiIsOSQKuqqqqqpoRARERERETBkkAAAAAAAKCUQAAAAAAAAH5AiYiIiIhEekAAAAAAAMCSQAAAAAAAYIhAAAAAAADgj0AAAAAAAOCQQAAAAAAAxoJAVVVVVVWxk0Dv7u7u7oZ2QKuqqqqq4pBAAAAAAACAhkBVVVVVVVXlPwAAAAAAGG5AVVVVVVWTlUCrqqqqqgaOQAAAAAAA0pFAVVVVVVWnhEA=\"},\"xaxis\":\"x\",\"xbins\":{\"end\":1380.9833333333333,\"size\":1,\"start\":0.0},\"yaxis\":\"y\",\"type\":\"histogram\"},{\"legendgroup\":\"Hour\",\"marker\":{\"color\":\"rgb(31, 119, 180)\"},\"mode\":\"lines\",\"name\":\"Hour\",\"showlegend\":false,\"x\":[0.0,2.761966666666667,5.523933333333334,8.2859,11.047866666666668,13.809833333333334,16.5718,19.333766666666666,22.095733333333335,24.8577,27.619666666666667,30.381633333333333,33.1436,35.905566666666665,38.66753333333333,41.4295,44.19146666666667,46.95343333333334,49.7154,52.47736666666667,55.239333333333335,58.0013,60.76326666666667,63.52523333333334,66.2872,69.04916666666666,71.81113333333333,74.57310000000001,77.33506666666666,80.09703333333334,82.859,85.62096666666667,88.38293333333334,91.14489999999999,93.90686666666667,96.66883333333332,99.4308,102.19276666666666,104.95473333333334,107.7167,110.47866666666667,113.24063333333334,116.0026,118.76456666666667,121.52653333333333,124.2885,127.05046666666668,129.81243333333333,132.5744,135.33636666666666,138.09833333333333,140.8603,143.62226666666666,146.38423333333333,149.14620000000002,151.90816666666666,154.67013333333333,157.43210000000002,160.19406666666669,162.95603333333332,165.718,168.47996666666668,171.24193333333335,174.0039,176.76586666666668,179.52783333333335,182.28979999999999,185.05176666666665,187.81373333333335,190.5757,193.33766666666665,196.09963333333334,198.8616,201.62356666666668,204.3855333333333,207.1475,209.90946666666667,212.67143333333334,215.4334,218.19536666666667,220.95733333333334,223.71929999999998,226.48126666666667,229.24323333333334,232.0052,234.76716666666667,237.52913333333333,240.2911,243.05306666666667,245.81503333333333,248.577,251.33896666666666,254.10093333333336,256.86289999999997,259.62486666666666,262.3868333333333,265.1488,267.9107666666667,270.6727333333333,273.4347,276.19666666666666,278.95863333333335,281.7206,284.4825666666666,287.2445333333333,290.0065,292.76846666666665,295.53043333333335,298.29240000000004,301.0543666666667,303.8163333333333,306.5783,309.34026666666665,312.10223333333334,314.86420000000004,317.6261666666667,320.38813333333337,323.15009999999995,325.91206666666665,328.67403333333334,331.436,334.1979666666667,336.95993333333337,339.7219,342.4838666666667,345.24583333333334,348.0078,350.76976666666667,353.53173333333336,356.2937,359.0556666666667,361.81763333333333,364.57959999999997,367.34156666666667,370.1035333333333,372.8655,375.6274666666667,378.38943333333333,381.1514,383.9133666666667,386.6753333333333,389.4373,392.1992666666667,394.9612333333333,397.7232,400.4851666666667,403.24713333333335,406.0091,408.7710666666666,411.5330333333333,414.295,417.05696666666665,419.81893333333335,422.58090000000004,425.3428666666667,428.1048333333333,430.8668,433.62876666666665,436.39073333333334,439.15270000000004,441.9146666666667,444.67663333333337,447.43859999999995,450.20056666666665,452.96253333333334,455.7245,458.4864666666667,461.24843333333337,464.0104,466.7723666666667,469.53433333333334,472.2963,475.05826666666667,477.82023333333336,480.5822,483.3441666666667,486.10613333333333,488.86809999999997,491.63006666666666,494.3920333333333,497.154,499.9159666666667,502.6779333333333,505.4399,508.2018666666667,510.9638333333333,513.7257999999999,516.4877666666666,519.2497333333333,522.0117,524.7736666666666,527.5356333333333,530.2976,533.0595666666667,535.8215333333334,538.5835,541.3454666666667,544.1074333333333,546.8694,549.6313666666667,552.3933333333333,555.1553,557.9172666666667,560.6792333333334,563.4412,566.2031666666667,568.9651333333333,571.7271,574.4890666666666,577.2510333333333,580.013,582.7749666666667,585.5369333333333,588.2989,591.0608666666667,593.8228333333334,596.5848000000001,599.3467666666667,602.1087333333334,604.8706999999999,607.6326666666666,610.3946333333333,613.1566,615.9185666666666,618.6805333333333,621.4425,624.2044666666667,626.9664333333334,629.7284000000001,632.4903666666667,635.2523333333334,638.0143,640.7762666666667,643.5382333333334,646.3001999999999,649.0621666666666,651.8241333333333,654.5861,657.3480666666667,660.1100333333334,662.872,665.6339666666667,668.3959333333333,671.1579,673.9198666666667,676.6818333333333,679.4438,682.2057666666667,684.9677333333334,687.7297,690.4916666666667,693.2536333333333,696.0156,698.7775666666666,701.5395333333333,704.3015,707.0634666666667,709.8254333333333,712.5874,715.3493666666667,718.1113333333334,720.8733000000001,723.6352666666667,726.3972333333334,729.1591999999999,731.9211666666666,734.6831333333333,737.4451,740.2070666666666,742.9690333333333,745.731,748.4929666666667,751.2549333333334,754.0169000000001,756.7788666666667,759.5408333333334,762.3028,765.0647666666667,767.8267333333334,770.5886999999999,773.3506666666666,776.1126333333333,778.8746,781.6365666666667,784.3985333333334,787.1605,789.9224666666667,792.6844333333333,795.4464,798.2083666666667,800.9703333333334,803.7323,806.4942666666667,809.2562333333334,812.0182,814.7801666666667,817.5421333333333,820.3041,823.0660666666666,825.8280333333333,828.59,831.3519666666667,834.1139333333333,836.8759,839.6378666666667,842.3998333333334,845.1618000000001,847.9237666666667,850.6857333333334,853.4476999999999,856.2096666666666,858.9716333333333,861.7336,864.4955666666666,867.2575333333333,870.0195,872.7814666666667,875.5434333333334,878.3054000000001,881.0673666666667,883.8293333333334,886.5913,889.3532666666667,892.1152333333334,894.8771999999999,897.6391666666666,900.4011333333333,903.1631,905.9250666666667,908.6870333333334,911.449,914.2109666666666,916.9729333333333,919.7349,922.4968666666667,925.2588333333334,928.0208,930.7827666666667,933.5447333333334,936.3067,939.0686666666667,941.8306333333333,944.5926,947.3545666666666,950.1165333333333,952.8785,955.6404666666667,958.4024333333333,961.1644,963.9263666666667,966.6883333333334,969.4503000000001,972.2122666666667,974.9742333333334,977.7361999999999,980.4981666666666,983.2601333333333,986.0221,988.7840666666666,991.5460333333333,994.308,997.0699666666667,999.8319333333334,1002.5939000000001,1005.3558666666667,1008.1178333333334,1010.8798,1013.6417666666667,1016.4037333333334,1019.1656999999999,1021.9276666666666,1024.6896333333334,1027.4515999999999,1030.2135666666666,1032.9755333333333,1035.7375,1038.4994666666666,1041.2614333333333,1044.0234,1046.7853666666667,1049.5473333333332,1052.3093000000001,1055.0712666666666,1057.8332333333333,1060.5952,1063.3571666666667,1066.1191333333334,1068.8811,1071.6430666666668,1074.4050333333334,1077.167,1079.9289666666668,1082.6909333333333,1085.4529,1088.2148666666667,1090.9768333333332,1093.7388,1096.5007666666666,1099.2627333333335,1102.0247,1104.7866666666666,1107.5486333333333,1110.3106,1113.0725666666667,1115.8345333333334,1118.5965,1121.3584666666668,1124.1204333333333,1126.8824,1129.6443666666667,1132.4063333333334,1135.1683,1137.9302666666665,1140.6922333333334,1143.4542,1146.2161666666668,1148.9781333333333,1151.7401,1154.5020666666667,1157.2640333333334,1160.026,1162.7879666666668,1165.5499333333335,1168.3119,1171.0738666666666,1173.8358333333333,1176.5978,1179.3597666666667,1182.1217333333334,1184.8836999999999,1187.6456666666668,1190.4076333333333,1193.1696000000002,1195.9315666666666,1198.6935333333333,1201.4555,1204.2174666666667,1206.9794333333334,1209.7413999999999,1212.5033666666668,1215.2653333333333,1218.0273,1220.7892666666667,1223.5512333333334,1226.3132,1229.0751666666667,1231.8371333333332,1234.5991000000001,1237.3610666666666,1240.1230333333335,1242.885,1245.6469666666667,1248.4089333333334,1251.1708999999998,1253.9328666666668,1256.6948333333332,1259.4568000000002,1262.2187666666666,1264.9807333333333,1267.7427,1270.5046666666667,1273.2666333333334,1276.0286,1278.7905666666666,1281.5525333333335,1284.3145,1287.0764666666669,1289.8384333333333,1292.6003999999998,1295.3623666666667,1298.1243333333332,1300.8863000000001,1303.6482666666666,1306.4102333333335,1309.1722,1311.9341666666667,1314.6961333333334,1317.4581,1320.2200666666668,1322.9820333333334,1325.744,1328.5059666666668,1331.2679333333333,1334.0299,1336.7918666666667,1339.5538333333332,1342.3158,1345.0777666666665,1347.8397333333335,1350.6017,1353.3636666666666,1356.1256333333333,1358.8876,1361.6495666666667,1364.4115333333334,1367.1735,1369.9354666666668,1372.6974333333333,1375.4594,1378.2213666666667],\"xaxis\":\"x\",\"y\":{\"dtype\":\"f8\",\"bdata\":\"Q90hqKxXPj+xnSvgDa4+PwEh4kMP\\u002fT4\\u002fVfGT6ZNEPz9V7rWjhoQ\\u002fP5QKIwfavD8\\u002f8PGJY4jtPz9\\u002fUSTXSQtAPxf4C7ACHEA\\u002fbZcEI\\u002fcoQD\\u002feVjsjMzJAP82uUQ3GN0A\\u002fYavvfsI5QD8bgY4pPjhAP+fY+qBRM0A\\u002fpPYVJhgrQD\\u002fc6WJurx9AP68l8Wg3EUA\\u002fM6ZwAqT\\u002fPz8ZivPARdc\\u002fP7TRdVyeqT8\\u002fmXTSoPp2Pz9Y62dXqT8\\u002fP6fTQ8n6Az8\\u002fLVrFQ0DEPj\\u002ffQaSgy4A+Py6oN9LuOT4\\u002fijXDdPvvPT8IjHtlQqM9Pwrt218TVD0\\u002fN4LPobwCPT+BxhiXiq88Px60SYzHWjw\\u002fvLmHabsEPD8Hhj91q607P\\u002faf1h7aVTs\\u002f\\u002fcVT0Yb9Oj8ieuPN7aQ6P2P5Cw5ITDo\\u002fMIlTLcvzOT9fTg1aqZs5P7A19EwRRDk\\u002fmJowRy7tOD+QdlwWKJc4P732Eh4jQjg\\u002f2DaTZkDuNz+Pp\\u002fqvnZs3P88WmolVSjc\\u002fAV\\u002fobH\\u002f6Nj9fVJfbL6w2P1JiUoB4XzY\\u002fYl6yUWgUNj+mJ\\u002fe2C8s1PwCgHa5sgzU\\u002feS3v8pI9NT91HK8mhPk0P3XKEfhDtzQ\\u002fhUYxS9R2ND8F8jphNTg0Pz6Amf9l+zM\\u002fqlVmlmPAMz8Ww\\u002fRlKoczP6qKUKO1TzM\\u002f7NqPm\\u002f8ZMz9jAt\\u002fVAeYyP3nCMTS1szI\\u002fOD6LEhKDMj8t\\u002f9FkEFQyP0V0KdOnJjI\\u002fLazN1M\\u002f6MT921nDJf9AxPytgHBGvpzE\\u002fokKZIlWAMT95d2SgaVoxP9hmNWzkNTE\\u002fQL8cub0SMT9aX0Ic7vAwP5oASZxu0DA\\u002fiBRevzixMD9o8fuXRpMwP13vY9CSdjA\\u002fQojVtBhbMD8uCIc81EAwP7rDYxHCJzA\\u002fX1KTlt8PMD82qpnbVfIvPxL88fZFxy8\\u002ftZxK046eLz+4z5VTMXgvP5qZ1uovVC8\\u002fHSoLm44yLz+cvc3xUhMvPz1csgKE9i4\\u002fodZoXyrcLj+3r6sNUMQuPwcFBnsAry4\\u002fyCh8bkicLj\\u002frUCT4NYwuP5envl7Yfi4\\u002fB9hdC0B0Lj9cNjNzfmwuP9OVk\\u002f+lZy4\\u002fT8dL9MllLj8xs11U\\u002fmYuP4DVQMVXay4\\u002fH6zCcOtyLj+VVaXlzn0uPxpGHPcXjC4\\u002fQ2JIm9ydLj8iPtbIMrMuP2yD4lMwzC4\\u002f9JtJyuroLj+p2YhPdwkvP0k4WHjqLS8\\u002f2akkJlhWLz\\u002foqJNi04IvPxhXOTtusy8\\u002fdQ6rnTnoLz\\u002fuXQyaohAwP+nXS6FPLzA\\u002fkvWkQipQMD\\u002fah8YHOHMwP5UgLpZ9mDA\\u002fkxwIoP6\\u002fMD9FXdTVvekwP\\u002fgf5di8FTE\\u002fNDrNLvxDMT81rdI1e3QxPzoweho4pzE\\u002fYMw\\u002fzi\\u002fcMT\\u002feGZD\\u002fXRMyPxbtFBO9TDI\\u002fk3BnHkaIMj8Wozjk8MUyPxQSANKzBTM\\u002f1kY\\u002f\\u002f4NHMz9r7mYuVYszP\\u002fQJac8Z0TM\\u002fwpsBBMMYND9mO72lQGI0Pwm5wk2BrTQ\\u002fO5ViXnL6ND9ueWwOAEk1P+kdSHYVmTU\\u002fwSrMnpzqNT\\u002fel8qRfj02P4D8RmyjkTY\\u002fvfRHcvLmNj8sqjEkUj03P4UalFWolDc\\u002f\\u002fZpURdrsNz9jzRa3zEU4P1Ulxg1knzg\\u002fghceZ4T5OD\\u002ffRAy4EVQ5P6k8xenvrjk\\u002fQihi9wIKOj+MfdsLL2U6P1gZM6BYwDo\\u002fH6iemWQbOz+HLIJnOHY7P2vECSG60Ds\\u002fYocxotAqPD8BgwqoY4Q8PxlrDOxb3Tw\\u002fAKlEPqM1PT\\u002fD7DSeJI09P1hHNVLM4z0\\u002fkzYw\\u002fYc5Pj+tv5GyRo4+PyDbRQj54T4\\u002fDN+lJpE0Pz9xZDjWAoY\\u002fP+ohK4tD1j8\\u002f80Q5N6USQD+Bpj8yiDlAP0hLvwjIX0A\\u002fEi2P7WKFQD8w6OnzV6pAP0Zn0w2nzkA\\u002fMZ9ECVHyQD91OCOMVxVBP4EYDQ+9N0E\\u002fWdQB14RZQT9V6PXtsnpBP9pbXRpMm0E\\u002fQAq91VW7QT\\u002fKMFNC1tpBP3gg6R\\u002fU+UE\\u002fRPzgv1YYQj+dPZP4ZTZCPzJyEBgKVEI\\u002fhgdc1ktxQj8yVDVHNI5CP6IahMvMqkI\\u002fwbl9Ah\\u002fHQj\\u002fDBZi6NONCPyNjXuIX\\u002f0I\\u002fk0w9edIaQz8mx1eAbjZDPz6keev1UUM\\u002fsa04knJtQz+++1Uh7ohDP7rrbwxypEM\\u002fukIUgAfAQz+sIkFUt9tDP62cYv+J90M\\u002fu83ZiYcTRD+YkBmCty9EP2cSZPEgTEQ\\u002fRcczUcpoRD\\u002f7glmBuYVEP07T2L7zokQ\\u002fHROLm33ARD+jDZH2Wt5EP5WJmvWO\\u002fEQ\\u002frnkK\\u002fxsbRT80Gf60AzpFP0CyPPFGWUU\\u002felEVwuV4RT9wGy9o35hFP4J4UFUyuUU\\u002fLK4gLNzZRT\\u002f+5ubA2fpFP2jpSBsnHEY\\u002fMhQLeb89Rj9ET9JRnV9GP8XC51u6gUY\\u002fXSD9kQ+kRj\\u002fZOe85lcZGP2Vwg+xC6UY\\u002fqUUbng8MRz96BFio8S5HPy0Ap9TeUUc\\u002fnIWtZ8x0Rz9X94ktr5dHPwMS3oZ7ukc\\u002fqrWUdiXdRz+y\\u002flOwoP9HP7zpiqfgIUg\\u002fazAIn9hDSD\\u002f4owa5e2VIPyLemQe9hkg\\u002fR+NknY+nSD\\u002fyLoOe5sdIP3+li1G150g\\u002faxSUMO8GST9zVxv6hyVJPxa8v8FzQ0k\\u002fSiCnAKdgST8MQn6lFn1JP5IJ9SO4mEk\\u002fMxeeg4GzST\\u002fTohhuac1JP0LCbDxn5kk\\u002fcW2DA3P+ST8QBKWfhRVKP2vl6r6YK0o\\u002fvnSS6qZASj89ECKPq1RKP1+rUgOjZ0o\\u002fDTazjYp5Sj\\u002fCWv1oYIpKPxnMFccjmko\\u002fLum00tSoSj+bM7evdLZKP86tF3oFw0o\\u002f7d+YQ4rOSj8xziMQB9lKP5uX5tCA4ko\\u002f\\u002f9g+Xv3qSj8lIn5wg\\u002fJKP9nFmJca+Uo\\u002fMEDRMcv+Sj+u+XNhngNLP9GyuAGeB0s\\u002f1gLgmtQKSz8wX6RVTQ1LPwnGFu4TD0s\\u002fqLD\\u002fpTQQSz9+H902vBBLP9aflsO3EEs\\u002fXuH\\u002fyTQQSz\\u002fc+0EUQQ9LP37oQqrqDUs\\u002f9cMhwz8MSz\\u002fvZd22TgpLP46yOfAlCEs\\u002fdpv23tMFSz+IYGrqZgNLP4oDj2TtAEs\\u002fYzSRfXX+Sj\\u002f1V+03DfxKP0pxJV3C+Uo\\u002fCwUZc6L3Sj+oOwayuvVKP17KOfsX9Eo\\u002fsn1x0MbySj8zhvNL0\\u002fFKP\\u002fQkWxlJ8Uo\\u002faskZbzPxSj9uT6oInfFKP3i+ciGQ8ko\\u002fecJPcBb0Sj+fB8QjOfZKP+mlxN4A+Uo\\u002f5CgbtnX8Sj8W51QunwBLP1P\\u002fNjqEBUs\\u002fKOmtOSsLSz+WOi\\u002f5mRFLP49LhLHVGEs\\u002fjT\\u002f0B+MgSz\\u002fYScQOxilLP9wtBUaCM0s\\u002ffmClnBo+Sz8nuL9xkUlLP\\u002fkSH5boVUs\\u002fOhbwTSFjSz+KyJpSPHFLP5ukvtQ5gEs\\u002fKHhMfhmQSz\\u002fgSbp02qBLP4VSTlt7sks\\u002fpu9+VfrESz+GUWYJVdhLPylnSaKI7Es\\u002f\\u002fnAy05EBTD\\u002fyNaDZbBdMPxiXS4AVLkw\\u002fgNwFIodFTD\\u002fNfLKsvF1MPyWeX6Swdkw\\u002faOeAJl2QTD9uSVDtu6pMP\\u002f21WFPGxUw\\u002fTHsuV3XhTD\\u002fBDlmfwf1MP9ancX6jGk0\\u002fesV59xI4TT+sPGzCB1ZNP87KClF5dE0\\u002fGJjp016TTT\\u002f0LLk\\u002fr7JNPy2pzlJh0k0\\u002f3AzpmmvyTT\\u002f9cDF7xBJOPysfczJiM04\\u002ffV+H4TpUTj\\u002fL0e+RRHVOPzo5mTx1lk4\\u002fboO\\u002f0MK3Tj+eC+s6I9lOP8oR\\u002fmuM+k4\\u002flb1IYPQbTz9EKpkmUT1PP4l4POeYXk8\\u002fgWjl6sF\\u002fTz86lmyhwqBPPwRTXqiRwU8\\u002f3\\u002f5J0SXiTz8lcOMTOwFQP2Rakfs8EVA\\u002fHlXXZxQhUD\\u002fw\\u002f89FvTBQP7QavakzQFA\\u002fPdT80HNPUD96Nbsjel5QP1slXDZDbVA\\u002fZRubyst7UD9DR17QEIpQP9yrO2YPmFA\\u002fB2Cv2cSlUD++\\u002fAKnLrNQP8H55nhKwFA\\u002f\\u002fY2\\u002fJxbNUD9xbKe4j9lQPwl4K1y15VA\\u002fuFDDbIXxUD9YQgtt\\u002fvxQP83RxAUfCFE\\u002fx72jA+YSUT\\u002fIzu1UUh1RP7ZW9AZjJ1E\\u002flJtuQxcxUT\\u002fuw7xNbjpRP1EUG4BnQ1E\\u002fmnHNSAJMUT9JLksnPlRRP90Yc6kaXFE\\u002fiKnPaJdjUT+x5\\u002fIHtGpRP5pZ8S9wcVE\\u002fVeQCjst3UT9fB1DRxX1RP2lK8aheg1E\\u002f1BEmwpWIUT9UXMfGao1RP78d+lvdkVE\\u002frSAkIe2VUT9udCWvmZlRPyyL15finFE\\u002faDfSZcefUT9ly3WcR6JRPyCqOLhipFE\\u002fsZ81LximUT8hdvdxZ6dRPzRFfexPqFE\\u002fWC9yB9GoUT+SWJIp6qhRPxk0NrmaqFE\\u002fhIn8HeKnUT\\u002fE94rCv6ZRP7AyXBYzpVE\\u002fZ9CSjzujUT+VG8es2KBRP1MyxvYJnlE\\u002f\\u002f5Q4As+aUT9eUSZxJ5dRP0sYT\\u002fQSk1E\\u002fw8pMTJGOUT\\u002fPdndKoolRP9Q5gtFFhFE\\u002fOiPJ1Xt+UT+y+khdRHhRP8elOn+fcVE\\u002f2uxMY41qUT\\u002fic3hADmNRP67ualsiW1E\\u002fNNiHBMpSUT9BUX6VBUpRP\\u002fYudW7VQFE\\u002f97XP8jk3UT8j9I6FMy1RP6EpVYXCIlE\\u002fLC8SSOcXUT84PmEWogxRP0njoSbzAFE\\u002fAE3Xl9r0UD8talpsWOhQPyGHbIRs21A\\u002ffSG5mBbOUD\\u002fet9Y0VsBQP10Z17EqslA\\u002fxnX4MJOjUD896YiWjpRQP42ZDoUbhVA\\u002fUp7GWDh1UD\\u002fk6Iwj42RQPzEdP6kZVFA\\u002fiuKrXNlCUD8nkR9dHzFQPwNHnnToHlA\\u002fUGnaFjEMUD85v+rB6vFPP1PXLTRiyk8\\u002fQN\\u002fLab+hTz+SXtej+HdPPxN\\u002f0YUDTU8\\u002fg45BHtUgTz8CK0DxYfNOPzeg9wSexE4\\u002fFl0W8HyUTj9Fkyvq8WJOP2lh4d3vL04\\u002fptECfWn7TT90SjdWUcVNP4chWOyZjU0\\u002fCl5AzzVUTT\\u002fjI\\u002fK1FxlNP5zb6Jky3Ew\\u002f5yVr03mdTD9jwqs24VxMPwQRhTFdGkw\\u002fV8OX6eLVSz+NiZJaaI9LPzxNZnTkRks\\u002furUoOU\\u002f8Sj\\u002fRc2Xaoa9KPz0DntXWYEo\\u002ftW23D+oPSj\\u002fw7RXv2LxJP7dfJ3SiZ0k\\u002f9NYeUEcQST9MF6b5ybZIP90wTL8uW0g\\u002fhBp813v9Rz8X4MltuZ1HP3Ggaa3xO0c\\u002fT3+oyDDYRj\\u002ftQEX9hHJGP5M3jJX+CkY\\u002f0oUg5q+hRT\\u002fic2NIrTZFPyukcRENykQ\\u002f4B21hedbRD8VpxLJVuxDP6RVwMt2e0M\\u002fs9DaM2UJQz\\u002f1K9ZDQZZCPw==\"},\"yaxis\":\"y\",\"type\":\"scatter\"}],                        {\"barmode\":\"overlay\",\"hovermode\":\"closest\",\"legend\":{\"traceorder\":\"reversed\"},\"template\":{\"data\":{\"barpolar\":[{\"marker\":{\"line\":{\"color\":\"#E5ECF6\",\"width\":0.5},\"pattern\":{\"fillmode\":\"overlay\",\"size\":10,\"solidity\":0.2}},\"type\":\"barpolar\"}],\"bar\":[{\"error_x\":{\"color\":\"#2a3f5f\"},\"error_y\":{\"color\":\"#2a3f5f\"},\"marker\":{\"line\":{\"color\":\"#E5ECF6\",\"width\":0.5},\"pattern\":{\"fillmode\":\"overlay\",\"size\":10,\"solidity\":0.2}},\"type\":\"bar\"}],\"carpet\":[{\"aaxis\":{\"endlinecolor\":\"#2a3f5f\",\"gridcolor\":\"white\",\"linecolor\":\"white\",\"minorgridcolor\":\"white\",\"startlinecolor\":\"#2a3f5f\"},\"baxis\":{\"endlinecolor\":\"#2a3f5f\",\"gridcolor\":\"white\",\"linecolor\":\"white\",\"minorgridcolor\":\"white\",\"startlinecolor\":\"#2a3f5f\"},\"type\":\"carpet\"}],\"choropleth\":[{\"colorbar\":{\"outlinewidth\":0,\"ticks\":\"\"},\"type\":\"choropleth\"}],\"contourcarpet\":[{\"colorbar\":{\"outlinewidth\":0,\"ticks\":\"\"},\"type\":\"contourcarpet\"}],\"contour\":[{\"colorbar\":{\"outlinewidth\":0,\"ticks\":\"\"},\"colorscale\":[[0.0,\"#0d0887\"],[0.1111111111111111,\"#46039f\"],[0.2222222222222222,\"#7201a8\"],[0.3333333333333333,\"#9c179e\"],[0.4444444444444444,\"#bd3786\"],[0.5555555555555556,\"#d8576b\"],[0.6666666666666666,\"#ed7953\"],[0.7777777777777778,\"#fb9f3a\"],[0.8888888888888888,\"#fdca26\"],[1.0,\"#f0f921\"]],\"type\":\"contour\"}],\"heatmap\":[{\"colorbar\":{\"outlinewidth\":0,\"ticks\":\"\"},\"colorscale\":[[0.0,\"#0d0887\"],[0.1111111111111111,\"#46039f\"],[0.2222222222222222,\"#7201a8\"],[0.3333333333333333,\"#9c179e\"],[0.4444444444444444,\"#bd3786\"],[0.5555555555555556,\"#d8576b\"],[0.6666666666666666,\"#ed7953\"],[0.7777777777777778,\"#fb9f3a\"],[0.8888888888888888,\"#fdca26\"],[1.0,\"#f0f921\"]],\"type\":\"heatmap\"}],\"histogram2dcontour\":[{\"colorbar\":{\"outlinewidth\":0,\"ticks\":\"\"},\"colorscale\":[[0.0,\"#0d0887\"],[0.1111111111111111,\"#46039f\"],[0.2222222222222222,\"#7201a8\"],[0.3333333333333333,\"#9c179e\"],[0.4444444444444444,\"#bd3786\"],[0.5555555555555556,\"#d8576b\"],[0.6666666666666666,\"#ed7953\"],[0.7777777777777778,\"#fb9f3a\"],[0.8888888888888888,\"#fdca26\"],[1.0,\"#f0f921\"]],\"type\":\"histogram2dcontour\"}],\"histogram2d\":[{\"colorbar\":{\"outlinewidth\":0,\"ticks\":\"\"},\"colorscale\":[[0.0,\"#0d0887\"],[0.1111111111111111,\"#46039f\"],[0.2222222222222222,\"#7201a8\"],[0.3333333333333333,\"#9c179e\"],[0.4444444444444444,\"#bd3786\"],[0.5555555555555556,\"#d8576b\"],[0.6666666666666666,\"#ed7953\"],[0.7777777777777778,\"#fb9f3a\"],[0.8888888888888888,\"#fdca26\"],[1.0,\"#f0f921\"]],\"type\":\"histogram2d\"}],\"histogram\":[{\"marker\":{\"pattern\":{\"fillmode\":\"overlay\",\"size\":10,\"solidity\":0.2}},\"type\":\"histogram\"}],\"mesh3d\":[{\"colorbar\":{\"outlinewidth\":0,\"ticks\":\"\"},\"type\":\"mesh3d\"}],\"parcoords\":[{\"line\":{\"colorbar\":{\"outlinewidth\":0,\"ticks\":\"\"}},\"type\":\"parcoords\"}],\"pie\":[{\"automargin\":true,\"type\":\"pie\"}],\"scatter3d\":[{\"line\":{\"colorbar\":{\"outlinewidth\":0,\"ticks\":\"\"}},\"marker\":{\"colorbar\":{\"outlinewidth\":0,\"ticks\":\"\"}},\"type\":\"scatter3d\"}],\"scattercarpet\":[{\"marker\":{\"colorbar\":{\"outlinewidth\":0,\"ticks\":\"\"}},\"type\":\"scattercarpet\"}],\"scattergeo\":[{\"marker\":{\"colorbar\":{\"outlinewidth\":0,\"ticks\":\"\"}},\"type\":\"scattergeo\"}],\"scattergl\":[{\"marker\":{\"colorbar\":{\"outlinewidth\":0,\"ticks\":\"\"}},\"type\":\"scattergl\"}],\"scattermapbox\":[{\"marker\":{\"colorbar\":{\"outlinewidth\":0,\"ticks\":\"\"}},\"type\":\"scattermapbox\"}],\"scattermap\":[{\"marker\":{\"colorbar\":{\"outlinewidth\":0,\"ticks\":\"\"}},\"type\":\"scattermap\"}],\"scatterpolargl\":[{\"marker\":{\"colorbar\":{\"outlinewidth\":0,\"ticks\":\"\"}},\"type\":\"scatterpolargl\"}],\"scatterpolar\":[{\"marker\":{\"colorbar\":{\"outlinewidth\":0,\"ticks\":\"\"}},\"type\":\"scatterpolar\"}],\"scatter\":[{\"fillpattern\":{\"fillmode\":\"overlay\",\"size\":10,\"solidity\":0.2},\"type\":\"scatter\"}],\"scatterternary\":[{\"marker\":{\"colorbar\":{\"outlinewidth\":0,\"ticks\":\"\"}},\"type\":\"scatterternary\"}],\"surface\":[{\"colorbar\":{\"outlinewidth\":0,\"ticks\":\"\"},\"colorscale\":[[0.0,\"#0d0887\"],[0.1111111111111111,\"#46039f\"],[0.2222222222222222,\"#7201a8\"],[0.3333333333333333,\"#9c179e\"],[0.4444444444444444,\"#bd3786\"],[0.5555555555555556,\"#d8576b\"],[0.6666666666666666,\"#ed7953\"],[0.7777777777777778,\"#fb9f3a\"],[0.8888888888888888,\"#fdca26\"],[1.0,\"#f0f921\"]],\"type\":\"surface\"}],\"table\":[{\"cells\":{\"fill\":{\"color\":\"#EBF0F8\"},\"line\":{\"color\":\"white\"}},\"header\":{\"fill\":{\"color\":\"#C8D4E3\"},\"line\":{\"color\":\"white\"}},\"type\":\"table\"}]},\"layout\":{\"annotationdefaults\":{\"arrowcolor\":\"#2a3f5f\",\"arrowhead\":0,\"arrowwidth\":1},\"autotypenumbers\":\"strict\",\"coloraxis\":{\"colorbar\":{\"outlinewidth\":0,\"ticks\":\"\"}},\"colorscale\":{\"diverging\":[[0,\"#8e0152\"],[0.1,\"#c51b7d\"],[0.2,\"#de77ae\"],[0.3,\"#f1b6da\"],[0.4,\"#fde0ef\"],[0.5,\"#f7f7f7\"],[0.6,\"#e6f5d0\"],[0.7,\"#b8e186\"],[0.8,\"#7fbc41\"],[0.9,\"#4d9221\"],[1,\"#276419\"]],\"sequential\":[[0.0,\"#0d0887\"],[0.1111111111111111,\"#46039f\"],[0.2222222222222222,\"#7201a8\"],[0.3333333333333333,\"#9c179e\"],[0.4444444444444444,\"#bd3786\"],[0.5555555555555556,\"#d8576b\"],[0.6666666666666666,\"#ed7953\"],[0.7777777777777778,\"#fb9f3a\"],[0.8888888888888888,\"#fdca26\"],[1.0,\"#f0f921\"]],\"sequentialminus\":[[0.0,\"#0d0887\"],[0.1111111111111111,\"#46039f\"],[0.2222222222222222,\"#7201a8\"],[0.3333333333333333,\"#9c179e\"],[0.4444444444444444,\"#bd3786\"],[0.5555555555555556,\"#d8576b\"],[0.6666666666666666,\"#ed7953\"],[0.7777777777777778,\"#fb9f3a\"],[0.8888888888888888,\"#fdca26\"],[1.0,\"#f0f921\"]]},\"colorway\":[\"#636efa\",\"#EF553B\",\"#00cc96\",\"#ab63fa\",\"#FFA15A\",\"#19d3f3\",\"#FF6692\",\"#B6E880\",\"#FF97FF\",\"#FECB52\"],\"font\":{\"color\":\"#2a3f5f\"},\"geo\":{\"bgcolor\":\"white\",\"lakecolor\":\"white\",\"landcolor\":\"#E5ECF6\",\"showlakes\":true,\"showland\":true,\"subunitcolor\":\"white\"},\"hoverlabel\":{\"align\":\"left\"},\"hovermode\":\"closest\",\"mapbox\":{\"style\":\"light\"},\"paper_bgcolor\":\"white\",\"plot_bgcolor\":\"#E5ECF6\",\"polar\":{\"angularaxis\":{\"gridcolor\":\"white\",\"linecolor\":\"white\",\"ticks\":\"\"},\"bgcolor\":\"#E5ECF6\",\"radialaxis\":{\"gridcolor\":\"white\",\"linecolor\":\"white\",\"ticks\":\"\"}},\"scene\":{\"xaxis\":{\"backgroundcolor\":\"#E5ECF6\",\"gridcolor\":\"white\",\"gridwidth\":2,\"linecolor\":\"white\",\"showbackground\":true,\"ticks\":\"\",\"zerolinecolor\":\"white\"},\"yaxis\":{\"backgroundcolor\":\"#E5ECF6\",\"gridcolor\":\"white\",\"gridwidth\":2,\"linecolor\":\"white\",\"showbackground\":true,\"ticks\":\"\",\"zerolinecolor\":\"white\"},\"zaxis\":{\"backgroundcolor\":\"#E5ECF6\",\"gridcolor\":\"white\",\"gridwidth\":2,\"linecolor\":\"white\",\"showbackground\":true,\"ticks\":\"\",\"zerolinecolor\":\"white\"}},\"shapedefaults\":{\"line\":{\"color\":\"#2a3f5f\"}},\"ternary\":{\"aaxis\":{\"gridcolor\":\"white\",\"linecolor\":\"white\",\"ticks\":\"\"},\"baxis\":{\"gridcolor\":\"white\",\"linecolor\":\"white\",\"ticks\":\"\"},\"bgcolor\":\"#E5ECF6\",\"caxis\":{\"gridcolor\":\"white\",\"linecolor\":\"white\",\"ticks\":\"\"}},\"title\":{\"x\":0.05},\"xaxis\":{\"automargin\":true,\"gridcolor\":\"white\",\"linecolor\":\"white\",\"ticks\":\"\",\"title\":{\"standoff\":15},\"zerolinecolor\":\"white\",\"zerolinewidth\":2},\"yaxis\":{\"automargin\":true,\"gridcolor\":\"white\",\"linecolor\":\"white\",\"ticks\":\"\",\"title\":{\"standoff\":15},\"zerolinecolor\":\"white\",\"zerolinewidth\":2}}},\"xaxis\":{\"anchor\":\"y2\",\"domain\":[0.0,1.0],\"zeroline\":false},\"yaxis\":{\"anchor\":\"free\",\"domain\":[0.0,1],\"position\":0.0}},                        {\"responsive\": true}                    ).then(function(){\n",
       "                            \n",
       "var gd = document.getElementById('a92727e9-9bbd-481c-9f32-ee4f3ec0cc79');\n",
       "var x = new MutationObserver(function (mutations, observer) {{\n",
       "        var display = window.getComputedStyle(gd).display;\n",
       "        if (!display || display === 'none') {{\n",
       "            console.log([gd, 'removed!']);\n",
       "            Plotly.purge(gd);\n",
       "            observer.disconnect();\n",
       "        }}\n",
       "}});\n",
       "\n",
       "// Listen for the removal of the full notebook cells\n",
       "var notebookContainer = gd.closest('#notebook-container');\n",
       "if (notebookContainer) {{\n",
       "    x.observe(notebookContainer, {childList: true});\n",
       "}}\n",
       "\n",
       "// Listen for the clearing of the current output cell\n",
       "var outputEl = gd.closest('.output');\n",
       "if (outputEl) {{\n",
       "    x.observe(outputEl, {childList: true});\n",
       "}}\n",
       "\n",
       "                        })                };            </script>        </div>"
      ]
     },
     "metadata": {},
     "output_type": "display_data"
    }
   ],
   "source": [
    "py.iplot(ff.create_distplot([calls['hour_of_day']],group_labels=[\"Hour\"],bin_size=1, show_rug=False))"
   ]
  },
  {
   "cell_type": "markdown",
   "metadata": {},
   "source": [
    "### Observations?"
   ]
  },
  {
   "cell_type": "markdown",
   "metadata": {},
   "source": [
    "In the above plot we see the standard pattern of limited activity early in the morning around here 6:00AM."
   ]
  },
  {
   "cell_type": "markdown",
   "metadata": {},
   "source": [
    "---\n",
    "<br/><br/><br/>\n",
    "\n",
    "### Examining the Event\n",
    "\n",
    "We also have data about the different kinds of crimes being reported"
   ]
  },
  {
   "cell_type": "code",
   "execution_count": 51,
   "metadata": {
    "ExecuteTime": {
     "end_time": "2018-02-02T15:15:29.036248Z",
     "start_time": "2018-02-02T15:15:29.018237Z"
    }
   },
   "outputs": [
    {
     "data": {
      "text/html": [
       "<div>\n",
       "<style scoped>\n",
       "    .dataframe tbody tr th:only-of-type {\n",
       "        vertical-align: middle;\n",
       "    }\n",
       "\n",
       "    .dataframe tbody tr th {\n",
       "        vertical-align: top;\n",
       "    }\n",
       "\n",
       "    .dataframe thead th {\n",
       "        text-align: right;\n",
       "    }\n",
       "</style>\n",
       "<table border=\"1\" class=\"dataframe\">\n",
       "  <thead>\n",
       "    <tr style=\"text-align: right;\">\n",
       "      <th></th>\n",
       "      <th>CASENO</th>\n",
       "      <th>OFFENSE</th>\n",
       "      <th>EVENTDT</th>\n",
       "      <th>EVENTTM</th>\n",
       "      <th>CVLEGEND</th>\n",
       "      <th>CVDOW</th>\n",
       "      <th>InDbDate</th>\n",
       "      <th>Block_Location</th>\n",
       "      <th>BLKADDR</th>\n",
       "      <th>City</th>\n",
       "      <th>State</th>\n",
       "      <th>Day</th>\n",
       "      <th>Lat</th>\n",
       "      <th>Lon</th>\n",
       "      <th>timestamp</th>\n",
       "      <th>hour_of_day</th>\n",
       "    </tr>\n",
       "  </thead>\n",
       "  <tbody>\n",
       "    <tr>\n",
       "      <th>0</th>\n",
       "      <td>19059951</td>\n",
       "      <td>DISTURBANCE</td>\n",
       "      <td>10/22/2019 12:00:00 AM</td>\n",
       "      <td>12:06</td>\n",
       "      <td>DISORDERLY CONDUCT</td>\n",
       "      <td>2</td>\n",
       "      <td>06/25/2020 07:00:15 AM</td>\n",
       "      <td>2950 DURANT ST\\nBerkeley, CA</td>\n",
       "      <td>2950 DURANT ST</td>\n",
       "      <td>Berkeley</td>\n",
       "      <td>CA</td>\n",
       "      <td>Tuesday</td>\n",
       "      <td>NaN</td>\n",
       "      <td>NaN</td>\n",
       "      <td>2019-10-22 12:06:00</td>\n",
       "      <td>720.10</td>\n",
       "    </tr>\n",
       "    <tr>\n",
       "      <th>1</th>\n",
       "      <td>19039736</td>\n",
       "      <td>DISTURBANCE</td>\n",
       "      <td>07/21/2019 12:00:00 AM</td>\n",
       "      <td>04:30</td>\n",
       "      <td>DISORDERLY CONDUCT</td>\n",
       "      <td>0</td>\n",
       "      <td>06/25/2020 07:00:11 AM</td>\n",
       "      <td>300 CANYON RD\\nBerkeley, CA</td>\n",
       "      <td>300 CANYON RD</td>\n",
       "      <td>Berkeley</td>\n",
       "      <td>CA</td>\n",
       "      <td>Sunday</td>\n",
       "      <td>NaN</td>\n",
       "      <td>NaN</td>\n",
       "      <td>2019-07-21 04:30:00</td>\n",
       "      <td>240.50</td>\n",
       "    </tr>\n",
       "    <tr>\n",
       "      <th>2</th>\n",
       "      <td>19066056</td>\n",
       "      <td>BURGLARY AUTO</td>\n",
       "      <td>11/19/2019 12:00:00 AM</td>\n",
       "      <td>22:00</td>\n",
       "      <td>BURGLARY - VEHICLE</td>\n",
       "      <td>2</td>\n",
       "      <td>06/25/2020 07:00:16 AM</td>\n",
       "      <td>4TH ST\\nBerkeley, CA</td>\n",
       "      <td>4TH ST</td>\n",
       "      <td>Berkeley</td>\n",
       "      <td>CA</td>\n",
       "      <td>Tuesday</td>\n",
       "      <td>NaN</td>\n",
       "      <td>NaN</td>\n",
       "      <td>2019-11-19 22:00:00</td>\n",
       "      <td>1320.00</td>\n",
       "    </tr>\n",
       "    <tr>\n",
       "      <th>3</th>\n",
       "      <td>19051156</td>\n",
       "      <td>VEHICLE STOLEN</td>\n",
       "      <td>09/10/2019 12:00:00 AM</td>\n",
       "      <td>19:00</td>\n",
       "      <td>MOTOR VEHICLE THEFT</td>\n",
       "      <td>2</td>\n",
       "      <td>06/25/2020 07:00:13 AM</td>\n",
       "      <td>100 MENLO PL\\nBerkeley, CA</td>\n",
       "      <td>100 MENLO PL</td>\n",
       "      <td>Berkeley</td>\n",
       "      <td>CA</td>\n",
       "      <td>Tuesday</td>\n",
       "      <td>NaN</td>\n",
       "      <td>NaN</td>\n",
       "      <td>2019-09-10 19:00:00</td>\n",
       "      <td>1140.00</td>\n",
       "    </tr>\n",
       "    <tr>\n",
       "      <th>4</th>\n",
       "      <td>19068960</td>\n",
       "      <td>BURGLARY AUTO</td>\n",
       "      <td>12/05/2019 12:00:00 AM</td>\n",
       "      <td>15:45</td>\n",
       "      <td>BURGLARY - VEHICLE</td>\n",
       "      <td>4</td>\n",
       "      <td>06/25/2020 07:00:17 AM</td>\n",
       "      <td>800 HILLCREST RD\\nBerkeley, CA</td>\n",
       "      <td>800 HILLCREST RD</td>\n",
       "      <td>Berkeley</td>\n",
       "      <td>CA</td>\n",
       "      <td>Thursday</td>\n",
       "      <td>NaN</td>\n",
       "      <td>NaN</td>\n",
       "      <td>2019-12-05 15:45:00</td>\n",
       "      <td>900.75</td>\n",
       "    </tr>\n",
       "  </tbody>\n",
       "</table>\n",
       "</div>"
      ],
      "text/plain": [
       "     CASENO         OFFENSE                 EVENTDT EVENTTM  \\\n",
       "0  19059951     DISTURBANCE  10/22/2019 12:00:00 AM   12:06   \n",
       "1  19039736     DISTURBANCE  07/21/2019 12:00:00 AM   04:30   \n",
       "2  19066056   BURGLARY AUTO  11/19/2019 12:00:00 AM   22:00   \n",
       "3  19051156  VEHICLE STOLEN  09/10/2019 12:00:00 AM   19:00   \n",
       "4  19068960   BURGLARY AUTO  12/05/2019 12:00:00 AM   15:45   \n",
       "\n",
       "              CVLEGEND  CVDOW                InDbDate  \\\n",
       "0   DISORDERLY CONDUCT      2  06/25/2020 07:00:15 AM   \n",
       "1   DISORDERLY CONDUCT      0  06/25/2020 07:00:11 AM   \n",
       "2   BURGLARY - VEHICLE      2  06/25/2020 07:00:16 AM   \n",
       "3  MOTOR VEHICLE THEFT      2  06/25/2020 07:00:13 AM   \n",
       "4   BURGLARY - VEHICLE      4  06/25/2020 07:00:17 AM   \n",
       "\n",
       "                   Block_Location           BLKADDR      City State       Day  \\\n",
       "0    2950 DURANT ST\\nBerkeley, CA    2950 DURANT ST  Berkeley    CA   Tuesday   \n",
       "1     300 CANYON RD\\nBerkeley, CA     300 CANYON RD  Berkeley    CA    Sunday   \n",
       "2            4TH ST\\nBerkeley, CA            4TH ST  Berkeley    CA   Tuesday   \n",
       "3      100 MENLO PL\\nBerkeley, CA      100 MENLO PL  Berkeley    CA   Tuesday   \n",
       "4  800 HILLCREST RD\\nBerkeley, CA  800 HILLCREST RD  Berkeley    CA  Thursday   \n",
       "\n",
       "   Lat  Lon           timestamp  hour_of_day  \n",
       "0  NaN  NaN 2019-10-22 12:06:00       720.10  \n",
       "1  NaN  NaN 2019-07-21 04:30:00       240.50  \n",
       "2  NaN  NaN 2019-11-19 22:00:00      1320.00  \n",
       "3  NaN  NaN 2019-09-10 19:00:00      1140.00  \n",
       "4  NaN  NaN 2019-12-05 15:45:00       900.75  "
      ]
     },
     "execution_count": 51,
     "metadata": {},
     "output_type": "execute_result"
    }
   ],
   "source": [
    "calls.head()"
   ]
  },
  {
   "cell_type": "markdown",
   "metadata": {},
   "source": [
    "### The Offense Field\n",
    "\n",
    "The Offense field appears to contain the specific crime being reported.  As nominal data we might want to see a summary constructed by computing counts of each offense type:"
   ]
  },
  {
   "cell_type": "code",
   "execution_count": 57,
   "metadata": {
    "ExecuteTime": {
     "end_time": "2018-02-02T15:15:30.442093Z",
     "start_time": "2018-02-02T15:15:29.037909Z"
    }
   },
   "outputs": [
    {
     "ename": "ValueError",
     "evalue": "\n    Invalid value of type 'builtins.str' received for the 'color' property of bar.marker.line\n        Received value: 'rgba(255, 153, 51, np.float64(1.0))'\n\n    The 'color' property is a color and may be specified as:\n      - A hex string (e.g. '#ff0000')\n      - An rgb/rgba string (e.g. 'rgb(255,0,0)')\n      - An hsl/hsla string (e.g. 'hsl(0,100%,50%)')\n      - An hsv/hsva string (e.g. 'hsv(0,100%,100%)')\n      - A named CSS color: see https://plotly.com/python/css-colors/ for a list\n      - A number that will be interpreted as a color\n        according to bar.marker.line.colorscale\n      - A list or array of any of the above",
     "output_type": "error",
     "traceback": [
      "\u001b[31m---------------------------------------------------------------------------\u001b[39m",
      "\u001b[31mValueError\u001b[39m                                Traceback (most recent call last)",
      "\u001b[36mCell\u001b[39m\u001b[36m \u001b[39m\u001b[32mIn[57]\u001b[39m\u001b[32m, line 1\u001b[39m\n\u001b[32m----> \u001b[39m\u001b[32m1\u001b[39m \u001b[43mcalls\u001b[49m\u001b[43m[\u001b[49m\u001b[33;43m'\u001b[39;49m\u001b[33;43mOFFENSE\u001b[39;49m\u001b[33;43m'\u001b[39;49m\u001b[43m]\u001b[49m\u001b[43m.\u001b[49m\u001b[43mvalue_counts\u001b[49m\u001b[43m(\u001b[49m\u001b[43m)\u001b[49m\u001b[43m.\u001b[49m\u001b[43miplot\u001b[49m\u001b[43m(\u001b[49m\u001b[43mkind\u001b[49m\u001b[43m=\u001b[49m\u001b[33;43m\"\u001b[39;49m\u001b[33;43mbar\u001b[39;49m\u001b[33;43m\"\u001b[39;49m\u001b[43m)\u001b[49m\n",
      "\u001b[36mFile \u001b[39m\u001b[32mc:\\Users\\user\\AppData\\Local\\Programs\\Python\\Python313\\Lib\\site-packages\\cufflinks\\plotlytools.py:839\u001b[39m, in \u001b[36m_iplot\u001b[39m\u001b[34m(self, kind, data, layout, filename, sharing, title, xTitle, yTitle, zTitle, theme, colors, colorscale, fill, width, dash, mode, interpolation, symbol, size, barmode, sortbars, bargap, bargroupgap, bins, histnorm, histfunc, orientation, boxpoints, annotations, keys, bestfit, bestfit_colors, mean, mean_colors, categories, x, y, z, text, gridcolor, zerolinecolor, margin, labels, values, secondary_y, secondary_y_title, subplots, shape, error_x, error_y, error_type, locations, lon, lat, asFrame, asDates, asFigure, asImage, dimensions, asPlot, asUrl, online, **kwargs)\u001b[39m\n\u001b[32m    837\u001b[39m \t\u001b[38;5;28;01mif\u001b[39;00m \u001b[38;5;129;01mnot\u001b[39;00m \u001b[38;5;28misinstance\u001b[39m(text,\u001b[38;5;28mlist\u001b[39m):\n\u001b[32m    838\u001b[39m \t\ttext=\u001b[38;5;28mself\u001b[39m[text].values\n\u001b[32m--> \u001b[39m\u001b[32m839\u001b[39m data=\u001b[43mdf\u001b[49m\u001b[43m.\u001b[49m\u001b[43mto_iplot\u001b[49m\u001b[43m(\u001b[49m\u001b[43mcolors\u001b[49m\u001b[43m=\u001b[49m\u001b[43mcolors\u001b[49m\u001b[43m,\u001b[49m\u001b[43mcolorscale\u001b[49m\u001b[43m=\u001b[49m\u001b[43mcolorscale\u001b[49m\u001b[43m,\u001b[49m\u001b[43mkind\u001b[49m\u001b[43m=\u001b[49m\u001b[43mkind\u001b[49m\u001b[43m,\u001b[49m\u001b[43minterpolation\u001b[49m\u001b[43m=\u001b[49m\u001b[43minterpolation\u001b[49m\u001b[43m,\u001b[49m\u001b[43mfill\u001b[49m\u001b[43m=\u001b[49m\u001b[43mfill\u001b[49m\u001b[43m,\u001b[49m\u001b[43mwidth\u001b[49m\u001b[43m=\u001b[49m\u001b[43mwidth\u001b[49m\u001b[43m,\u001b[49m\u001b[43mdash\u001b[49m\u001b[43m=\u001b[49m\u001b[43mdash\u001b[49m\u001b[43m,\u001b[49m\u001b[43msortbars\u001b[49m\u001b[43m=\u001b[49m\u001b[43msortbars\u001b[49m\u001b[43m,\u001b[49m\u001b[43mkeys\u001b[49m\u001b[43m=\u001b[49m\u001b[43mkeys\u001b[49m\u001b[43m,\u001b[49m\n\u001b[32m    840\u001b[39m \u001b[43m\t\t\u001b[49m\u001b[43mbestfit\u001b[49m\u001b[43m=\u001b[49m\u001b[43mbestfit\u001b[49m\u001b[43m,\u001b[49m\u001b[43mbestfit_colors\u001b[49m\u001b[43m=\u001b[49m\u001b[43mbestfit_colors\u001b[49m\u001b[43m,\u001b[49m\u001b[43mmean\u001b[49m\u001b[43m=\u001b[49m\u001b[43mmean\u001b[49m\u001b[43m,\u001b[49m\u001b[43mmean_colors\u001b[49m\u001b[43m=\u001b[49m\u001b[43mmean_colors\u001b[49m\u001b[43m,\u001b[49m\u001b[43masDates\u001b[49m\u001b[43m=\u001b[49m\u001b[43masDates\u001b[49m\u001b[43m,\u001b[49m\u001b[43mmode\u001b[49m\u001b[43m=\u001b[49m\u001b[43mmode\u001b[49m\u001b[43m,\u001b[49m\u001b[43msymbol\u001b[49m\u001b[43m=\u001b[49m\u001b[43msymbol\u001b[49m\u001b[43m,\u001b[49m\u001b[43msize\u001b[49m\u001b[43m=\u001b[49m\u001b[43msize\u001b[49m\u001b[43m,\u001b[49m\n\u001b[32m    841\u001b[39m \u001b[43m\t\t\u001b[49m\u001b[43mtext\u001b[49m\u001b[43m=\u001b[49m\u001b[43mtext\u001b[49m\u001b[43m,\u001b[49m\u001b[43m*\u001b[49m\u001b[43m*\u001b[49m\u001b[43mkwargs\u001b[49m\u001b[43m)\u001b[49m\t\t\n\u001b[32m    842\u001b[39m trace_kw=check_kwargs(kwargs,TRACE_KWARGS)\n\u001b[32m    843\u001b[39m \u001b[38;5;28;01mfor\u001b[39;00m trace \u001b[38;5;129;01min\u001b[39;00m data:\n",
      "\u001b[36mFile \u001b[39m\u001b[32mc:\\Users\\user\\AppData\\Local\\Programs\\Python\\Python313\\Lib\\site-packages\\cufflinks\\plotlytools.py:159\u001b[39m, in \u001b[36m_to_iplot\u001b[39m\u001b[34m(self, colors, colorscale, kind, mode, interpolation, symbol, size, fill, width, dash, sortbars, keys, bestfit, bestfit_colors, opacity, mean, mean_colors, asDates, asTimestamp, text, **kwargs)\u001b[39m\n\u001b[32m    157\u001b[39m \t\t\tlines[key][\u001b[33m\"\u001b[39m\u001b[33mfillcolor\u001b[39m\u001b[33m\"\u001b[39m]=to_rgba(colors[key],kwargs[\u001b[33m'\u001b[39m\u001b[33mopacity\u001b[39m\u001b[33m'\u001b[39m] \u001b[38;5;28;01mif\u001b[39;00m \u001b[33m'\u001b[39m\u001b[33mopacity\u001b[39m\u001b[33m'\u001b[39m \u001b[38;5;129;01min\u001b[39;00m kwargs \u001b[38;5;28;01melse\u001b[39;00m \u001b[32m.3\u001b[39m\t\t)\n\u001b[32m    158\u001b[39m \u001b[38;5;28;01mif\u001b[39;00m \u001b[33m'\u001b[39m\u001b[33mbar\u001b[39m\u001b[33m'\u001b[39m \u001b[38;5;129;01min\u001b[39;00m kind:\n\u001b[32m--> \u001b[39m\u001b[32m159\u001b[39m \tlines_plotly=[\u001b[43mBar\u001b[49m\u001b[43m(\u001b[49m\u001b[43mlines\u001b[49m\u001b[43m[\u001b[49m\u001b[43mkey\u001b[49m\u001b[43m]\u001b[49m\u001b[43m)\u001b[49m.to_plotly_json() \u001b[38;5;28;01mfor\u001b[39;00m key \u001b[38;5;129;01min\u001b[39;00m keys]\n\u001b[32m    160\u001b[39m \u001b[38;5;28;01melse\u001b[39;00m:\n\u001b[32m    161\u001b[39m \tlines_plotly=[Scatter(lines[key]).to_plotly_json() \u001b[38;5;28;01mfor\u001b[39;00m key \u001b[38;5;129;01min\u001b[39;00m keys]\n",
      "\u001b[36mFile \u001b[39m\u001b[32mc:\\Users\\user\\AppData\\Local\\Programs\\Python\\Python313\\Lib\\site-packages\\plotly\\graph_objs\\_bar.py:2547\u001b[39m, in \u001b[36mBar.__init__\u001b[39m\u001b[34m(self, arg, alignmentgroup, base, basesrc, cliponaxis, constraintext, customdata, customdatasrc, dx, dy, error_x, error_y, hoverinfo, hoverinfosrc, hoverlabel, hovertemplate, hovertemplatesrc, hovertext, hovertextsrc, ids, idssrc, insidetextanchor, insidetextfont, legend, legendgroup, legendgrouptitle, legendrank, legendwidth, marker, meta, metasrc, name, offset, offsetgroup, offsetsrc, opacity, orientation, outsidetextfont, selected, selectedpoints, showlegend, stream, text, textangle, textfont, textposition, textpositionsrc, textsrc, texttemplate, texttemplatesrc, uid, uirevision, unselected, visible, width, widthsrc, x, x0, xaxis, xcalendar, xhoverformat, xperiod, xperiod0, xperiodalignment, xsrc, y, y0, yaxis, ycalendar, yhoverformat, yperiod, yperiod0, yperiodalignment, ysrc, zorder, **kwargs)\u001b[39m\n\u001b[32m   2545\u001b[39m \u001b[38;5;28mself\u001b[39m._set_property(\u001b[33m\"\u001b[39m\u001b[33mlegendrank\u001b[39m\u001b[33m\"\u001b[39m, arg, legendrank)\n\u001b[32m   2546\u001b[39m \u001b[38;5;28mself\u001b[39m._set_property(\u001b[33m\"\u001b[39m\u001b[33mlegendwidth\u001b[39m\u001b[33m\"\u001b[39m, arg, legendwidth)\n\u001b[32m-> \u001b[39m\u001b[32m2547\u001b[39m \u001b[38;5;28;43mself\u001b[39;49m\u001b[43m.\u001b[49m\u001b[43m_set_property\u001b[49m\u001b[43m(\u001b[49m\u001b[33;43m\"\u001b[39;49m\u001b[33;43mmarker\u001b[39;49m\u001b[33;43m\"\u001b[39;49m\u001b[43m,\u001b[49m\u001b[43m \u001b[49m\u001b[43marg\u001b[49m\u001b[43m,\u001b[49m\u001b[43m \u001b[49m\u001b[43mmarker\u001b[49m\u001b[43m)\u001b[49m\n\u001b[32m   2548\u001b[39m \u001b[38;5;28mself\u001b[39m._set_property(\u001b[33m\"\u001b[39m\u001b[33mmeta\u001b[39m\u001b[33m\"\u001b[39m, arg, meta)\n\u001b[32m   2549\u001b[39m \u001b[38;5;28mself\u001b[39m._set_property(\u001b[33m\"\u001b[39m\u001b[33mmetasrc\u001b[39m\u001b[33m\"\u001b[39m, arg, metasrc)\n",
      "\u001b[36mFile \u001b[39m\u001b[32mc:\\Users\\user\\AppData\\Local\\Programs\\Python\\Python313\\Lib\\site-packages\\plotly\\basedatatypes.py:4403\u001b[39m, in \u001b[36mBasePlotlyType._set_property\u001b[39m\u001b[34m(self, name, arg, provided)\u001b[39m\n\u001b[32m   4397\u001b[39m \u001b[38;5;28;01mdef\u001b[39;00m\u001b[38;5;250m \u001b[39m\u001b[34m_set_property\u001b[39m(\u001b[38;5;28mself\u001b[39m, name, arg, provided):\n\u001b[32m   4398\u001b[39m \u001b[38;5;250m    \u001b[39m\u001b[33;03m\"\"\"\u001b[39;00m\n\u001b[32m   4399\u001b[39m \u001b[33;03m    Initialize a property of this object using the provided value\u001b[39;00m\n\u001b[32m   4400\u001b[39m \u001b[33;03m    or a value popped from the arguments dictionary. If neither\u001b[39;00m\n\u001b[32m   4401\u001b[39m \u001b[33;03m    is available, do not set the property.\u001b[39;00m\n\u001b[32m   4402\u001b[39m \u001b[33;03m    \"\"\"\u001b[39;00m\n\u001b[32m-> \u001b[39m\u001b[32m4403\u001b[39m     \u001b[43m_set_property_provided_value\u001b[49m\u001b[43m(\u001b[49m\u001b[38;5;28;43mself\u001b[39;49m\u001b[43m,\u001b[49m\u001b[43m \u001b[49m\u001b[43mname\u001b[49m\u001b[43m,\u001b[49m\u001b[43m \u001b[49m\u001b[43marg\u001b[49m\u001b[43m,\u001b[49m\u001b[43m \u001b[49m\u001b[43mprovided\u001b[49m\u001b[43m)\u001b[49m\n",
      "\u001b[36mFile \u001b[39m\u001b[32mc:\\Users\\user\\AppData\\Local\\Programs\\Python\\Python313\\Lib\\site-packages\\plotly\\basedatatypes.py:398\u001b[39m, in \u001b[36m_set_property_provided_value\u001b[39m\u001b[34m(obj, name, arg, provided)\u001b[39m\n\u001b[32m    396\u001b[39m val = provided \u001b[38;5;28;01mif\u001b[39;00m provided \u001b[38;5;129;01mis\u001b[39;00m \u001b[38;5;129;01mnot\u001b[39;00m \u001b[38;5;28;01mNone\u001b[39;00m \u001b[38;5;28;01melse\u001b[39;00m val\n\u001b[32m    397\u001b[39m \u001b[38;5;28;01mif\u001b[39;00m val \u001b[38;5;129;01mis\u001b[39;00m \u001b[38;5;129;01mnot\u001b[39;00m \u001b[38;5;28;01mNone\u001b[39;00m:\n\u001b[32m--> \u001b[39m\u001b[32m398\u001b[39m     \u001b[43mobj\u001b[49m\u001b[43m[\u001b[49m\u001b[43mname\u001b[49m\u001b[43m]\u001b[49m = val\n",
      "\u001b[36mFile \u001b[39m\u001b[32mc:\\Users\\user\\AppData\\Local\\Programs\\Python\\Python313\\Lib\\site-packages\\plotly\\basedatatypes.py:4924\u001b[39m, in \u001b[36mBasePlotlyType.__setitem__\u001b[39m\u001b[34m(self, prop, value)\u001b[39m\n\u001b[32m   4922\u001b[39m \u001b[38;5;66;03m# ### Handle compound property ###\u001b[39;00m\n\u001b[32m   4923\u001b[39m \u001b[38;5;28;01mif\u001b[39;00m \u001b[38;5;28misinstance\u001b[39m(validator, CompoundValidator):\n\u001b[32m-> \u001b[39m\u001b[32m4924\u001b[39m     \u001b[38;5;28;43mself\u001b[39;49m\u001b[43m.\u001b[49m\u001b[43m_set_compound_prop\u001b[49m\u001b[43m(\u001b[49m\u001b[43mprop\u001b[49m\u001b[43m,\u001b[49m\u001b[43m \u001b[49m\u001b[43mvalue\u001b[49m\u001b[43m)\u001b[49m\n\u001b[32m   4926\u001b[39m \u001b[38;5;66;03m# ### Handle compound array property ###\u001b[39;00m\n\u001b[32m   4927\u001b[39m \u001b[38;5;28;01melif\u001b[39;00m \u001b[38;5;28misinstance\u001b[39m(validator, (CompoundArrayValidator, BaseDataValidator)):\n",
      "\u001b[36mFile \u001b[39m\u001b[32mc:\\Users\\user\\AppData\\Local\\Programs\\Python\\Python313\\Lib\\site-packages\\plotly\\basedatatypes.py:5335\u001b[39m, in \u001b[36mBasePlotlyType._set_compound_prop\u001b[39m\u001b[34m(self, prop, val)\u001b[39m\n\u001b[32m   5332\u001b[39m \u001b[38;5;66;03m# Import value\u001b[39;00m\n\u001b[32m   5333\u001b[39m \u001b[38;5;66;03m# ------------\u001b[39;00m\n\u001b[32m   5334\u001b[39m validator = \u001b[38;5;28mself\u001b[39m._get_validator(prop)\n\u001b[32m-> \u001b[39m\u001b[32m5335\u001b[39m val = \u001b[43mvalidator\u001b[49m\u001b[43m.\u001b[49m\u001b[43mvalidate_coerce\u001b[49m\u001b[43m(\u001b[49m\u001b[43mval\u001b[49m\u001b[43m,\u001b[49m\u001b[43m \u001b[49m\u001b[43mskip_invalid\u001b[49m\u001b[43m=\u001b[49m\u001b[38;5;28;43mself\u001b[39;49m\u001b[43m.\u001b[49m\u001b[43m_skip_invalid\u001b[49m\u001b[43m)\u001b[49m\n\u001b[32m   5337\u001b[39m \u001b[38;5;66;03m# Save deep copies of current and new states\u001b[39;00m\n\u001b[32m   5338\u001b[39m \u001b[38;5;66;03m# ------------------------------------------\u001b[39;00m\n\u001b[32m   5339\u001b[39m curr_val = \u001b[38;5;28mself\u001b[39m._compound_props.get(prop, \u001b[38;5;28;01mNone\u001b[39;00m)\n",
      "\u001b[36mFile \u001b[39m\u001b[32mc:\\Users\\user\\AppData\\Local\\Programs\\Python\\Python313\\Lib\\site-packages\\_plotly_utils\\basevalidators.py:2425\u001b[39m, in \u001b[36mCompoundValidator.validate_coerce\u001b[39m\u001b[34m(self, v, skip_invalid, _validate)\u001b[39m\n\u001b[32m   2422\u001b[39m     v = \u001b[38;5;28mself\u001b[39m.data_class()\n\u001b[32m   2424\u001b[39m \u001b[38;5;28;01melif\u001b[39;00m \u001b[38;5;28misinstance\u001b[39m(v, \u001b[38;5;28mdict\u001b[39m):\n\u001b[32m-> \u001b[39m\u001b[32m2425\u001b[39m     v = \u001b[38;5;28;43mself\u001b[39;49m\u001b[43m.\u001b[49m\u001b[43mdata_class\u001b[49m\u001b[43m(\u001b[49m\u001b[43mv\u001b[49m\u001b[43m,\u001b[49m\u001b[43m \u001b[49m\u001b[43mskip_invalid\u001b[49m\u001b[43m=\u001b[49m\u001b[43mskip_invalid\u001b[49m\u001b[43m,\u001b[49m\u001b[43m \u001b[49m\u001b[43m_validate\u001b[49m\u001b[43m=\u001b[49m\u001b[43m_validate\u001b[49m\u001b[43m)\u001b[49m\n\u001b[32m   2427\u001b[39m \u001b[38;5;28;01melif\u001b[39;00m \u001b[38;5;28misinstance\u001b[39m(v, \u001b[38;5;28mself\u001b[39m.data_class):\n\u001b[32m   2428\u001b[39m     \u001b[38;5;66;03m# Copy object\u001b[39;00m\n\u001b[32m   2429\u001b[39m     v = \u001b[38;5;28mself\u001b[39m.data_class(v)\n",
      "\u001b[36mFile \u001b[39m\u001b[32mc:\\Users\\user\\AppData\\Local\\Programs\\Python\\Python313\\Lib\\site-packages\\plotly\\graph_objs\\bar\\_marker.py:678\u001b[39m, in \u001b[36mMarker.__init__\u001b[39m\u001b[34m(self, arg, autocolorscale, cauto, cmax, cmid, cmin, color, coloraxis, colorbar, colorscale, colorsrc, cornerradius, line, opacity, opacitysrc, pattern, reversescale, showscale, **kwargs)\u001b[39m\n\u001b[32m    676\u001b[39m \u001b[38;5;28mself\u001b[39m._set_property(\u001b[33m\"\u001b[39m\u001b[33mcolorsrc\u001b[39m\u001b[33m\"\u001b[39m, arg, colorsrc)\n\u001b[32m    677\u001b[39m \u001b[38;5;28mself\u001b[39m._set_property(\u001b[33m\"\u001b[39m\u001b[33mcornerradius\u001b[39m\u001b[33m\"\u001b[39m, arg, cornerradius)\n\u001b[32m--> \u001b[39m\u001b[32m678\u001b[39m \u001b[38;5;28;43mself\u001b[39;49m\u001b[43m.\u001b[49m\u001b[43m_set_property\u001b[49m\u001b[43m(\u001b[49m\u001b[33;43m\"\u001b[39;49m\u001b[33;43mline\u001b[39;49m\u001b[33;43m\"\u001b[39;49m\u001b[43m,\u001b[49m\u001b[43m \u001b[49m\u001b[43marg\u001b[49m\u001b[43m,\u001b[49m\u001b[43m \u001b[49m\u001b[43mline\u001b[49m\u001b[43m)\u001b[49m\n\u001b[32m    679\u001b[39m \u001b[38;5;28mself\u001b[39m._set_property(\u001b[33m\"\u001b[39m\u001b[33mopacity\u001b[39m\u001b[33m\"\u001b[39m, arg, opacity)\n\u001b[32m    680\u001b[39m \u001b[38;5;28mself\u001b[39m._set_property(\u001b[33m\"\u001b[39m\u001b[33mopacitysrc\u001b[39m\u001b[33m\"\u001b[39m, arg, opacitysrc)\n",
      "\u001b[36mFile \u001b[39m\u001b[32mc:\\Users\\user\\AppData\\Local\\Programs\\Python\\Python313\\Lib\\site-packages\\plotly\\basedatatypes.py:4403\u001b[39m, in \u001b[36mBasePlotlyType._set_property\u001b[39m\u001b[34m(self, name, arg, provided)\u001b[39m\n\u001b[32m   4397\u001b[39m \u001b[38;5;28;01mdef\u001b[39;00m\u001b[38;5;250m \u001b[39m\u001b[34m_set_property\u001b[39m(\u001b[38;5;28mself\u001b[39m, name, arg, provided):\n\u001b[32m   4398\u001b[39m \u001b[38;5;250m    \u001b[39m\u001b[33;03m\"\"\"\u001b[39;00m\n\u001b[32m   4399\u001b[39m \u001b[33;03m    Initialize a property of this object using the provided value\u001b[39;00m\n\u001b[32m   4400\u001b[39m \u001b[33;03m    or a value popped from the arguments dictionary. If neither\u001b[39;00m\n\u001b[32m   4401\u001b[39m \u001b[33;03m    is available, do not set the property.\u001b[39;00m\n\u001b[32m   4402\u001b[39m \u001b[33;03m    \"\"\"\u001b[39;00m\n\u001b[32m-> \u001b[39m\u001b[32m4403\u001b[39m     \u001b[43m_set_property_provided_value\u001b[49m\u001b[43m(\u001b[49m\u001b[38;5;28;43mself\u001b[39;49m\u001b[43m,\u001b[49m\u001b[43m \u001b[49m\u001b[43mname\u001b[49m\u001b[43m,\u001b[49m\u001b[43m \u001b[49m\u001b[43marg\u001b[49m\u001b[43m,\u001b[49m\u001b[43m \u001b[49m\u001b[43mprovided\u001b[49m\u001b[43m)\u001b[49m\n",
      "\u001b[36mFile \u001b[39m\u001b[32mc:\\Users\\user\\AppData\\Local\\Programs\\Python\\Python313\\Lib\\site-packages\\plotly\\basedatatypes.py:398\u001b[39m, in \u001b[36m_set_property_provided_value\u001b[39m\u001b[34m(obj, name, arg, provided)\u001b[39m\n\u001b[32m    396\u001b[39m val = provided \u001b[38;5;28;01mif\u001b[39;00m provided \u001b[38;5;129;01mis\u001b[39;00m \u001b[38;5;129;01mnot\u001b[39;00m \u001b[38;5;28;01mNone\u001b[39;00m \u001b[38;5;28;01melse\u001b[39;00m val\n\u001b[32m    397\u001b[39m \u001b[38;5;28;01mif\u001b[39;00m val \u001b[38;5;129;01mis\u001b[39;00m \u001b[38;5;129;01mnot\u001b[39;00m \u001b[38;5;28;01mNone\u001b[39;00m:\n\u001b[32m--> \u001b[39m\u001b[32m398\u001b[39m     \u001b[43mobj\u001b[49m\u001b[43m[\u001b[49m\u001b[43mname\u001b[49m\u001b[43m]\u001b[49m = val\n",
      "\u001b[36mFile \u001b[39m\u001b[32mc:\\Users\\user\\AppData\\Local\\Programs\\Python\\Python313\\Lib\\site-packages\\plotly\\basedatatypes.py:4924\u001b[39m, in \u001b[36mBasePlotlyType.__setitem__\u001b[39m\u001b[34m(self, prop, value)\u001b[39m\n\u001b[32m   4922\u001b[39m \u001b[38;5;66;03m# ### Handle compound property ###\u001b[39;00m\n\u001b[32m   4923\u001b[39m \u001b[38;5;28;01mif\u001b[39;00m \u001b[38;5;28misinstance\u001b[39m(validator, CompoundValidator):\n\u001b[32m-> \u001b[39m\u001b[32m4924\u001b[39m     \u001b[38;5;28;43mself\u001b[39;49m\u001b[43m.\u001b[49m\u001b[43m_set_compound_prop\u001b[49m\u001b[43m(\u001b[49m\u001b[43mprop\u001b[49m\u001b[43m,\u001b[49m\u001b[43m \u001b[49m\u001b[43mvalue\u001b[49m\u001b[43m)\u001b[49m\n\u001b[32m   4926\u001b[39m \u001b[38;5;66;03m# ### Handle compound array property ###\u001b[39;00m\n\u001b[32m   4927\u001b[39m \u001b[38;5;28;01melif\u001b[39;00m \u001b[38;5;28misinstance\u001b[39m(validator, (CompoundArrayValidator, BaseDataValidator)):\n",
      "\u001b[36mFile \u001b[39m\u001b[32mc:\\Users\\user\\AppData\\Local\\Programs\\Python\\Python313\\Lib\\site-packages\\plotly\\basedatatypes.py:5335\u001b[39m, in \u001b[36mBasePlotlyType._set_compound_prop\u001b[39m\u001b[34m(self, prop, val)\u001b[39m\n\u001b[32m   5332\u001b[39m \u001b[38;5;66;03m# Import value\u001b[39;00m\n\u001b[32m   5333\u001b[39m \u001b[38;5;66;03m# ------------\u001b[39;00m\n\u001b[32m   5334\u001b[39m validator = \u001b[38;5;28mself\u001b[39m._get_validator(prop)\n\u001b[32m-> \u001b[39m\u001b[32m5335\u001b[39m val = \u001b[43mvalidator\u001b[49m\u001b[43m.\u001b[49m\u001b[43mvalidate_coerce\u001b[49m\u001b[43m(\u001b[49m\u001b[43mval\u001b[49m\u001b[43m,\u001b[49m\u001b[43m \u001b[49m\u001b[43mskip_invalid\u001b[49m\u001b[43m=\u001b[49m\u001b[38;5;28;43mself\u001b[39;49m\u001b[43m.\u001b[49m\u001b[43m_skip_invalid\u001b[49m\u001b[43m)\u001b[49m\n\u001b[32m   5337\u001b[39m \u001b[38;5;66;03m# Save deep copies of current and new states\u001b[39;00m\n\u001b[32m   5338\u001b[39m \u001b[38;5;66;03m# ------------------------------------------\u001b[39;00m\n\u001b[32m   5339\u001b[39m curr_val = \u001b[38;5;28mself\u001b[39m._compound_props.get(prop, \u001b[38;5;28;01mNone\u001b[39;00m)\n",
      "\u001b[36mFile \u001b[39m\u001b[32mc:\\Users\\user\\AppData\\Local\\Programs\\Python\\Python313\\Lib\\site-packages\\_plotly_utils\\basevalidators.py:2425\u001b[39m, in \u001b[36mCompoundValidator.validate_coerce\u001b[39m\u001b[34m(self, v, skip_invalid, _validate)\u001b[39m\n\u001b[32m   2422\u001b[39m     v = \u001b[38;5;28mself\u001b[39m.data_class()\n\u001b[32m   2424\u001b[39m \u001b[38;5;28;01melif\u001b[39;00m \u001b[38;5;28misinstance\u001b[39m(v, \u001b[38;5;28mdict\u001b[39m):\n\u001b[32m-> \u001b[39m\u001b[32m2425\u001b[39m     v = \u001b[38;5;28;43mself\u001b[39;49m\u001b[43m.\u001b[49m\u001b[43mdata_class\u001b[49m\u001b[43m(\u001b[49m\u001b[43mv\u001b[49m\u001b[43m,\u001b[49m\u001b[43m \u001b[49m\u001b[43mskip_invalid\u001b[49m\u001b[43m=\u001b[49m\u001b[43mskip_invalid\u001b[49m\u001b[43m,\u001b[49m\u001b[43m \u001b[49m\u001b[43m_validate\u001b[49m\u001b[43m=\u001b[49m\u001b[43m_validate\u001b[49m\u001b[43m)\u001b[49m\n\u001b[32m   2427\u001b[39m \u001b[38;5;28;01melif\u001b[39;00m \u001b[38;5;28misinstance\u001b[39m(v, \u001b[38;5;28mself\u001b[39m.data_class):\n\u001b[32m   2428\u001b[39m     \u001b[38;5;66;03m# Copy object\u001b[39;00m\n\u001b[32m   2429\u001b[39m     v = \u001b[38;5;28mself\u001b[39m.data_class(v)\n",
      "\u001b[36mFile \u001b[39m\u001b[32mc:\\Users\\user\\AppData\\Local\\Programs\\Python\\Python313\\Lib\\site-packages\\plotly\\graph_objs\\bar\\marker\\_line.py:538\u001b[39m, in \u001b[36mLine.__init__\u001b[39m\u001b[34m(self, arg, autocolorscale, cauto, cmax, cmid, cmin, color, coloraxis, colorscale, colorsrc, reversescale, width, widthsrc, **kwargs)\u001b[39m\n\u001b[32m    536\u001b[39m \u001b[38;5;28mself\u001b[39m._set_property(\u001b[33m\"\u001b[39m\u001b[33mcmid\u001b[39m\u001b[33m\"\u001b[39m, arg, cmid)\n\u001b[32m    537\u001b[39m \u001b[38;5;28mself\u001b[39m._set_property(\u001b[33m\"\u001b[39m\u001b[33mcmin\u001b[39m\u001b[33m\"\u001b[39m, arg, cmin)\n\u001b[32m--> \u001b[39m\u001b[32m538\u001b[39m \u001b[38;5;28;43mself\u001b[39;49m\u001b[43m.\u001b[49m\u001b[43m_set_property\u001b[49m\u001b[43m(\u001b[49m\u001b[33;43m\"\u001b[39;49m\u001b[33;43mcolor\u001b[39;49m\u001b[33;43m\"\u001b[39;49m\u001b[43m,\u001b[49m\u001b[43m \u001b[49m\u001b[43marg\u001b[49m\u001b[43m,\u001b[49m\u001b[43m \u001b[49m\u001b[43mcolor\u001b[49m\u001b[43m)\u001b[49m\n\u001b[32m    539\u001b[39m \u001b[38;5;28mself\u001b[39m._set_property(\u001b[33m\"\u001b[39m\u001b[33mcoloraxis\u001b[39m\u001b[33m\"\u001b[39m, arg, coloraxis)\n\u001b[32m    540\u001b[39m \u001b[38;5;28mself\u001b[39m._set_property(\u001b[33m\"\u001b[39m\u001b[33mcolorscale\u001b[39m\u001b[33m\"\u001b[39m, arg, colorscale)\n",
      "\u001b[36mFile \u001b[39m\u001b[32mc:\\Users\\user\\AppData\\Local\\Programs\\Python\\Python313\\Lib\\site-packages\\plotly\\basedatatypes.py:4403\u001b[39m, in \u001b[36mBasePlotlyType._set_property\u001b[39m\u001b[34m(self, name, arg, provided)\u001b[39m\n\u001b[32m   4397\u001b[39m \u001b[38;5;28;01mdef\u001b[39;00m\u001b[38;5;250m \u001b[39m\u001b[34m_set_property\u001b[39m(\u001b[38;5;28mself\u001b[39m, name, arg, provided):\n\u001b[32m   4398\u001b[39m \u001b[38;5;250m    \u001b[39m\u001b[33;03m\"\"\"\u001b[39;00m\n\u001b[32m   4399\u001b[39m \u001b[33;03m    Initialize a property of this object using the provided value\u001b[39;00m\n\u001b[32m   4400\u001b[39m \u001b[33;03m    or a value popped from the arguments dictionary. If neither\u001b[39;00m\n\u001b[32m   4401\u001b[39m \u001b[33;03m    is available, do not set the property.\u001b[39;00m\n\u001b[32m   4402\u001b[39m \u001b[33;03m    \"\"\"\u001b[39;00m\n\u001b[32m-> \u001b[39m\u001b[32m4403\u001b[39m     \u001b[43m_set_property_provided_value\u001b[49m\u001b[43m(\u001b[49m\u001b[38;5;28;43mself\u001b[39;49m\u001b[43m,\u001b[49m\u001b[43m \u001b[49m\u001b[43mname\u001b[49m\u001b[43m,\u001b[49m\u001b[43m \u001b[49m\u001b[43marg\u001b[49m\u001b[43m,\u001b[49m\u001b[43m \u001b[49m\u001b[43mprovided\u001b[49m\u001b[43m)\u001b[49m\n",
      "\u001b[36mFile \u001b[39m\u001b[32mc:\\Users\\user\\AppData\\Local\\Programs\\Python\\Python313\\Lib\\site-packages\\plotly\\basedatatypes.py:398\u001b[39m, in \u001b[36m_set_property_provided_value\u001b[39m\u001b[34m(obj, name, arg, provided)\u001b[39m\n\u001b[32m    396\u001b[39m val = provided \u001b[38;5;28;01mif\u001b[39;00m provided \u001b[38;5;129;01mis\u001b[39;00m \u001b[38;5;129;01mnot\u001b[39;00m \u001b[38;5;28;01mNone\u001b[39;00m \u001b[38;5;28;01melse\u001b[39;00m val\n\u001b[32m    397\u001b[39m \u001b[38;5;28;01mif\u001b[39;00m val \u001b[38;5;129;01mis\u001b[39;00m \u001b[38;5;129;01mnot\u001b[39;00m \u001b[38;5;28;01mNone\u001b[39;00m:\n\u001b[32m--> \u001b[39m\u001b[32m398\u001b[39m     \u001b[43mobj\u001b[49m\u001b[43m[\u001b[49m\u001b[43mname\u001b[49m\u001b[43m]\u001b[49m = val\n",
      "\u001b[36mFile \u001b[39m\u001b[32mc:\\Users\\user\\AppData\\Local\\Programs\\Python\\Python313\\Lib\\site-packages\\plotly\\basedatatypes.py:4932\u001b[39m, in \u001b[36mBasePlotlyType.__setitem__\u001b[39m\u001b[34m(self, prop, value)\u001b[39m\n\u001b[32m   4928\u001b[39m         \u001b[38;5;28mself\u001b[39m._set_array_prop(prop, value)\n\u001b[32m   4930\u001b[39m     \u001b[38;5;66;03m# ### Handle simple property ###\u001b[39;00m\n\u001b[32m   4931\u001b[39m     \u001b[38;5;28;01melse\u001b[39;00m:\n\u001b[32m-> \u001b[39m\u001b[32m4932\u001b[39m         \u001b[38;5;28;43mself\u001b[39;49m\u001b[43m.\u001b[49m\u001b[43m_set_prop\u001b[49m\u001b[43m(\u001b[49m\u001b[43mprop\u001b[49m\u001b[43m,\u001b[49m\u001b[43m \u001b[49m\u001b[43mvalue\u001b[49m\u001b[43m)\u001b[49m\n\u001b[32m   4933\u001b[39m \u001b[38;5;28;01melse\u001b[39;00m:\n\u001b[32m   4934\u001b[39m     \u001b[38;5;66;03m# Make sure properties dict is initialized\u001b[39;00m\n\u001b[32m   4935\u001b[39m     \u001b[38;5;28mself\u001b[39m._init_props()\n",
      "\u001b[36mFile \u001b[39m\u001b[32mc:\\Users\\user\\AppData\\Local\\Programs\\Python\\Python313\\Lib\\site-packages\\plotly\\basedatatypes.py:5276\u001b[39m, in \u001b[36mBasePlotlyType._set_prop\u001b[39m\u001b[34m(self, prop, val)\u001b[39m\n\u001b[32m   5274\u001b[39m         \u001b[38;5;28;01mreturn\u001b[39;00m\n\u001b[32m   5275\u001b[39m     \u001b[38;5;28;01melse\u001b[39;00m:\n\u001b[32m-> \u001b[39m\u001b[32m5276\u001b[39m         \u001b[38;5;28;01mraise\u001b[39;00m err\n\u001b[32m   5278\u001b[39m \u001b[38;5;66;03m# val is None\u001b[39;00m\n\u001b[32m   5279\u001b[39m \u001b[38;5;66;03m# -----------\u001b[39;00m\n\u001b[32m   5280\u001b[39m \u001b[38;5;28;01mif\u001b[39;00m val \u001b[38;5;129;01mis\u001b[39;00m \u001b[38;5;28;01mNone\u001b[39;00m:\n\u001b[32m   5281\u001b[39m     \u001b[38;5;66;03m# Check if we should send null update\u001b[39;00m\n",
      "\u001b[36mFile \u001b[39m\u001b[32mc:\\Users\\user\\AppData\\Local\\Programs\\Python\\Python313\\Lib\\site-packages\\plotly\\basedatatypes.py:5271\u001b[39m, in \u001b[36mBasePlotlyType._set_prop\u001b[39m\u001b[34m(self, prop, val)\u001b[39m\n\u001b[32m   5268\u001b[39m validator = \u001b[38;5;28mself\u001b[39m._get_validator(prop)\n\u001b[32m   5270\u001b[39m \u001b[38;5;28;01mtry\u001b[39;00m:\n\u001b[32m-> \u001b[39m\u001b[32m5271\u001b[39m     val = \u001b[43mvalidator\u001b[49m\u001b[43m.\u001b[49m\u001b[43mvalidate_coerce\u001b[49m\u001b[43m(\u001b[49m\u001b[43mval\u001b[49m\u001b[43m)\u001b[49m\n\u001b[32m   5272\u001b[39m \u001b[38;5;28;01mexcept\u001b[39;00m \u001b[38;5;167;01mValueError\u001b[39;00m \u001b[38;5;28;01mas\u001b[39;00m err:\n\u001b[32m   5273\u001b[39m     \u001b[38;5;28;01mif\u001b[39;00m \u001b[38;5;28mself\u001b[39m._skip_invalid:\n",
      "\u001b[36mFile \u001b[39m\u001b[32mc:\\Users\\user\\AppData\\Local\\Programs\\Python\\Python313\\Lib\\site-packages\\_plotly_utils\\basevalidators.py:1374\u001b[39m, in \u001b[36mColorValidator.validate_coerce\u001b[39m\u001b[34m(self, v, should_raise)\u001b[39m\n\u001b[32m   1372\u001b[39m     validated_v = \u001b[38;5;28mself\u001b[39m.vc_scalar(v)\n\u001b[32m   1373\u001b[39m     \u001b[38;5;28;01mif\u001b[39;00m validated_v \u001b[38;5;129;01mis\u001b[39;00m \u001b[38;5;28;01mNone\u001b[39;00m \u001b[38;5;129;01mand\u001b[39;00m should_raise:\n\u001b[32m-> \u001b[39m\u001b[32m1374\u001b[39m         \u001b[38;5;28;43mself\u001b[39;49m\u001b[43m.\u001b[49m\u001b[43mraise_invalid_val\u001b[49m\u001b[43m(\u001b[49m\u001b[43mv\u001b[49m\u001b[43m)\u001b[49m\n\u001b[32m   1376\u001b[39m     v = validated_v\n\u001b[32m   1378\u001b[39m \u001b[38;5;28;01mreturn\u001b[39;00m v\n",
      "\u001b[36mFile \u001b[39m\u001b[32mc:\\Users\\user\\AppData\\Local\\Programs\\Python\\Python313\\Lib\\site-packages\\_plotly_utils\\basevalidators.py:298\u001b[39m, in \u001b[36mBaseValidator.raise_invalid_val\u001b[39m\u001b[34m(self, v, inds)\u001b[39m\n\u001b[32m    295\u001b[39m             \u001b[38;5;28;01mfor\u001b[39;00m i \u001b[38;5;129;01min\u001b[39;00m inds:\n\u001b[32m    296\u001b[39m                 name += \u001b[33m\"\u001b[39m\u001b[33m[\u001b[39m\u001b[33m\"\u001b[39m + \u001b[38;5;28mstr\u001b[39m(i) + \u001b[33m\"\u001b[39m\u001b[33m]\u001b[39m\u001b[33m\"\u001b[39m\n\u001b[32m--> \u001b[39m\u001b[32m298\u001b[39m         \u001b[38;5;28;01mraise\u001b[39;00m \u001b[38;5;167;01mValueError\u001b[39;00m(\n\u001b[32m    299\u001b[39m \u001b[38;5;250m            \u001b[39m\u001b[33;03m\"\"\"\u001b[39;00m\n\u001b[32m    300\u001b[39m \u001b[33;03m    Invalid value of type {typ} received for the '{name}' property of {pname}\u001b[39;00m\n\u001b[32m    301\u001b[39m \u001b[33;03m        Received value: {v}\u001b[39;00m\n\u001b[32m    302\u001b[39m \n\u001b[32m    303\u001b[39m \u001b[33;03m{valid_clr_desc}\"\"\"\u001b[39;00m.format(\n\u001b[32m    304\u001b[39m                 name=name,\n\u001b[32m    305\u001b[39m                 pname=\u001b[38;5;28mself\u001b[39m.parent_name,\n\u001b[32m    306\u001b[39m                 typ=type_str(v),\n\u001b[32m    307\u001b[39m                 v=\u001b[38;5;28mrepr\u001b[39m(v),\n\u001b[32m    308\u001b[39m                 valid_clr_desc=\u001b[38;5;28mself\u001b[39m.description(),\n\u001b[32m    309\u001b[39m             )\n\u001b[32m    310\u001b[39m         )\n",
      "\u001b[31mValueError\u001b[39m: \n    Invalid value of type 'builtins.str' received for the 'color' property of bar.marker.line\n        Received value: 'rgba(255, 153, 51, np.float64(1.0))'\n\n    The 'color' property is a color and may be specified as:\n      - A hex string (e.g. '#ff0000')\n      - An rgb/rgba string (e.g. 'rgb(255,0,0)')\n      - An hsl/hsla string (e.g. 'hsl(0,100%,50%)')\n      - An hsv/hsva string (e.g. 'hsv(0,100%,100%)')\n      - A named CSS color: see https://plotly.com/python/css-colors/ for a list\n      - A number that will be interpreted as a color\n        according to bar.marker.line.colorscale\n      - A list or array of any of the above"
     ]
    }
   ],
   "source": [
    "calls['OFFENSE'].value_counts().iplot(kind=\"bar\")"
   ]
  },
  {
   "cell_type": "markdown",
   "metadata": {},
   "source": [
    "#### Observations?"
   ]
  },
  {
   "cell_type": "markdown",
   "metadata": {},
   "source": [
    "Car burglary and misdemeanor theft seem to be the most common crimes with many other types of crimes occurring rarely."
   ]
  },
  {
   "cell_type": "markdown",
   "metadata": {},
   "source": [
    "---\n",
    "<br/><br/><br/>\n",
    "\n",
    "### CVLEGEND\n",
    "\n",
    "The CVLEGEND field provides the broad category of crime and is a good mechanism to group potentially similar crimes. "
   ]
  },
  {
   "cell_type": "code",
   "execution_count": 55,
   "metadata": {
    "ExecuteTime": {
     "end_time": "2018-02-02T15:15:32.695890Z",
     "start_time": "2018-02-02T15:15:30.443888Z"
    }
   },
   "outputs": [
    {
     "ename": "ValueError",
     "evalue": "\n    Invalid value of type 'builtins.str' received for the 'color' property of bar.marker.line\n        Received value: 'rgba(255, 153, 51, np.float64(1.0))'\n\n    The 'color' property is a color and may be specified as:\n      - A hex string (e.g. '#ff0000')\n      - An rgb/rgba string (e.g. 'rgb(255,0,0)')\n      - An hsl/hsla string (e.g. 'hsl(0,100%,50%)')\n      - An hsv/hsva string (e.g. 'hsv(0,100%,100%)')\n      - A named CSS color: see https://plotly.com/python/css-colors/ for a list\n      - A number that will be interpreted as a color\n        according to bar.marker.line.colorscale\n      - A list or array of any of the above",
     "output_type": "error",
     "traceback": [
      "\u001b[31m---------------------------------------------------------------------------\u001b[39m",
      "\u001b[31mValueError\u001b[39m                                Traceback (most recent call last)",
      "\u001b[36mCell\u001b[39m\u001b[36m \u001b[39m\u001b[32mIn[55]\u001b[39m\u001b[32m, line 1\u001b[39m\n\u001b[32m----> \u001b[39m\u001b[32m1\u001b[39m \u001b[43mcalls\u001b[49m\u001b[43m[\u001b[49m\u001b[33;43m'\u001b[39;49m\u001b[33;43mCVLEGEND\u001b[39;49m\u001b[33;43m'\u001b[39;49m\u001b[43m]\u001b[49m\u001b[43m.\u001b[49m\u001b[43mvalue_counts\u001b[49m\u001b[43m(\u001b[49m\u001b[43m)\u001b[49m\u001b[43m.\u001b[49m\u001b[43miplot\u001b[49m\u001b[43m(\u001b[49m\u001b[43mkind\u001b[49m\u001b[43m=\u001b[49m\u001b[33;43m\"\u001b[39;49m\u001b[33;43mbar\u001b[39;49m\u001b[33;43m\"\u001b[39;49m\u001b[43m)\u001b[49m\n",
      "\u001b[36mFile \u001b[39m\u001b[32mc:\\Users\\user\\AppData\\Local\\Programs\\Python\\Python313\\Lib\\site-packages\\cufflinks\\plotlytools.py:839\u001b[39m, in \u001b[36m_iplot\u001b[39m\u001b[34m(self, kind, data, layout, filename, sharing, title, xTitle, yTitle, zTitle, theme, colors, colorscale, fill, width, dash, mode, interpolation, symbol, size, barmode, sortbars, bargap, bargroupgap, bins, histnorm, histfunc, orientation, boxpoints, annotations, keys, bestfit, bestfit_colors, mean, mean_colors, categories, x, y, z, text, gridcolor, zerolinecolor, margin, labels, values, secondary_y, secondary_y_title, subplots, shape, error_x, error_y, error_type, locations, lon, lat, asFrame, asDates, asFigure, asImage, dimensions, asPlot, asUrl, online, **kwargs)\u001b[39m\n\u001b[32m    837\u001b[39m \t\u001b[38;5;28;01mif\u001b[39;00m \u001b[38;5;129;01mnot\u001b[39;00m \u001b[38;5;28misinstance\u001b[39m(text,\u001b[38;5;28mlist\u001b[39m):\n\u001b[32m    838\u001b[39m \t\ttext=\u001b[38;5;28mself\u001b[39m[text].values\n\u001b[32m--> \u001b[39m\u001b[32m839\u001b[39m data=\u001b[43mdf\u001b[49m\u001b[43m.\u001b[49m\u001b[43mto_iplot\u001b[49m\u001b[43m(\u001b[49m\u001b[43mcolors\u001b[49m\u001b[43m=\u001b[49m\u001b[43mcolors\u001b[49m\u001b[43m,\u001b[49m\u001b[43mcolorscale\u001b[49m\u001b[43m=\u001b[49m\u001b[43mcolorscale\u001b[49m\u001b[43m,\u001b[49m\u001b[43mkind\u001b[49m\u001b[43m=\u001b[49m\u001b[43mkind\u001b[49m\u001b[43m,\u001b[49m\u001b[43minterpolation\u001b[49m\u001b[43m=\u001b[49m\u001b[43minterpolation\u001b[49m\u001b[43m,\u001b[49m\u001b[43mfill\u001b[49m\u001b[43m=\u001b[49m\u001b[43mfill\u001b[49m\u001b[43m,\u001b[49m\u001b[43mwidth\u001b[49m\u001b[43m=\u001b[49m\u001b[43mwidth\u001b[49m\u001b[43m,\u001b[49m\u001b[43mdash\u001b[49m\u001b[43m=\u001b[49m\u001b[43mdash\u001b[49m\u001b[43m,\u001b[49m\u001b[43msortbars\u001b[49m\u001b[43m=\u001b[49m\u001b[43msortbars\u001b[49m\u001b[43m,\u001b[49m\u001b[43mkeys\u001b[49m\u001b[43m=\u001b[49m\u001b[43mkeys\u001b[49m\u001b[43m,\u001b[49m\n\u001b[32m    840\u001b[39m \u001b[43m\t\t\u001b[49m\u001b[43mbestfit\u001b[49m\u001b[43m=\u001b[49m\u001b[43mbestfit\u001b[49m\u001b[43m,\u001b[49m\u001b[43mbestfit_colors\u001b[49m\u001b[43m=\u001b[49m\u001b[43mbestfit_colors\u001b[49m\u001b[43m,\u001b[49m\u001b[43mmean\u001b[49m\u001b[43m=\u001b[49m\u001b[43mmean\u001b[49m\u001b[43m,\u001b[49m\u001b[43mmean_colors\u001b[49m\u001b[43m=\u001b[49m\u001b[43mmean_colors\u001b[49m\u001b[43m,\u001b[49m\u001b[43masDates\u001b[49m\u001b[43m=\u001b[49m\u001b[43masDates\u001b[49m\u001b[43m,\u001b[49m\u001b[43mmode\u001b[49m\u001b[43m=\u001b[49m\u001b[43mmode\u001b[49m\u001b[43m,\u001b[49m\u001b[43msymbol\u001b[49m\u001b[43m=\u001b[49m\u001b[43msymbol\u001b[49m\u001b[43m,\u001b[49m\u001b[43msize\u001b[49m\u001b[43m=\u001b[49m\u001b[43msize\u001b[49m\u001b[43m,\u001b[49m\n\u001b[32m    841\u001b[39m \u001b[43m\t\t\u001b[49m\u001b[43mtext\u001b[49m\u001b[43m=\u001b[49m\u001b[43mtext\u001b[49m\u001b[43m,\u001b[49m\u001b[43m*\u001b[49m\u001b[43m*\u001b[49m\u001b[43mkwargs\u001b[49m\u001b[43m)\u001b[49m\t\t\n\u001b[32m    842\u001b[39m trace_kw=check_kwargs(kwargs,TRACE_KWARGS)\n\u001b[32m    843\u001b[39m \u001b[38;5;28;01mfor\u001b[39;00m trace \u001b[38;5;129;01min\u001b[39;00m data:\n",
      "\u001b[36mFile \u001b[39m\u001b[32mc:\\Users\\user\\AppData\\Local\\Programs\\Python\\Python313\\Lib\\site-packages\\cufflinks\\plotlytools.py:159\u001b[39m, in \u001b[36m_to_iplot\u001b[39m\u001b[34m(self, colors, colorscale, kind, mode, interpolation, symbol, size, fill, width, dash, sortbars, keys, bestfit, bestfit_colors, opacity, mean, mean_colors, asDates, asTimestamp, text, **kwargs)\u001b[39m\n\u001b[32m    157\u001b[39m \t\t\tlines[key][\u001b[33m\"\u001b[39m\u001b[33mfillcolor\u001b[39m\u001b[33m\"\u001b[39m]=to_rgba(colors[key],kwargs[\u001b[33m'\u001b[39m\u001b[33mopacity\u001b[39m\u001b[33m'\u001b[39m] \u001b[38;5;28;01mif\u001b[39;00m \u001b[33m'\u001b[39m\u001b[33mopacity\u001b[39m\u001b[33m'\u001b[39m \u001b[38;5;129;01min\u001b[39;00m kwargs \u001b[38;5;28;01melse\u001b[39;00m \u001b[32m.3\u001b[39m\t\t)\n\u001b[32m    158\u001b[39m \u001b[38;5;28;01mif\u001b[39;00m \u001b[33m'\u001b[39m\u001b[33mbar\u001b[39m\u001b[33m'\u001b[39m \u001b[38;5;129;01min\u001b[39;00m kind:\n\u001b[32m--> \u001b[39m\u001b[32m159\u001b[39m \tlines_plotly=[\u001b[43mBar\u001b[49m\u001b[43m(\u001b[49m\u001b[43mlines\u001b[49m\u001b[43m[\u001b[49m\u001b[43mkey\u001b[49m\u001b[43m]\u001b[49m\u001b[43m)\u001b[49m.to_plotly_json() \u001b[38;5;28;01mfor\u001b[39;00m key \u001b[38;5;129;01min\u001b[39;00m keys]\n\u001b[32m    160\u001b[39m \u001b[38;5;28;01melse\u001b[39;00m:\n\u001b[32m    161\u001b[39m \tlines_plotly=[Scatter(lines[key]).to_plotly_json() \u001b[38;5;28;01mfor\u001b[39;00m key \u001b[38;5;129;01min\u001b[39;00m keys]\n",
      "\u001b[36mFile \u001b[39m\u001b[32mc:\\Users\\user\\AppData\\Local\\Programs\\Python\\Python313\\Lib\\site-packages\\plotly\\graph_objs\\_bar.py:2547\u001b[39m, in \u001b[36mBar.__init__\u001b[39m\u001b[34m(self, arg, alignmentgroup, base, basesrc, cliponaxis, constraintext, customdata, customdatasrc, dx, dy, error_x, error_y, hoverinfo, hoverinfosrc, hoverlabel, hovertemplate, hovertemplatesrc, hovertext, hovertextsrc, ids, idssrc, insidetextanchor, insidetextfont, legend, legendgroup, legendgrouptitle, legendrank, legendwidth, marker, meta, metasrc, name, offset, offsetgroup, offsetsrc, opacity, orientation, outsidetextfont, selected, selectedpoints, showlegend, stream, text, textangle, textfont, textposition, textpositionsrc, textsrc, texttemplate, texttemplatesrc, uid, uirevision, unselected, visible, width, widthsrc, x, x0, xaxis, xcalendar, xhoverformat, xperiod, xperiod0, xperiodalignment, xsrc, y, y0, yaxis, ycalendar, yhoverformat, yperiod, yperiod0, yperiodalignment, ysrc, zorder, **kwargs)\u001b[39m\n\u001b[32m   2545\u001b[39m \u001b[38;5;28mself\u001b[39m._set_property(\u001b[33m\"\u001b[39m\u001b[33mlegendrank\u001b[39m\u001b[33m\"\u001b[39m, arg, legendrank)\n\u001b[32m   2546\u001b[39m \u001b[38;5;28mself\u001b[39m._set_property(\u001b[33m\"\u001b[39m\u001b[33mlegendwidth\u001b[39m\u001b[33m\"\u001b[39m, arg, legendwidth)\n\u001b[32m-> \u001b[39m\u001b[32m2547\u001b[39m \u001b[38;5;28;43mself\u001b[39;49m\u001b[43m.\u001b[49m\u001b[43m_set_property\u001b[49m\u001b[43m(\u001b[49m\u001b[33;43m\"\u001b[39;49m\u001b[33;43mmarker\u001b[39;49m\u001b[33;43m\"\u001b[39;49m\u001b[43m,\u001b[49m\u001b[43m \u001b[49m\u001b[43marg\u001b[49m\u001b[43m,\u001b[49m\u001b[43m \u001b[49m\u001b[43mmarker\u001b[49m\u001b[43m)\u001b[49m\n\u001b[32m   2548\u001b[39m \u001b[38;5;28mself\u001b[39m._set_property(\u001b[33m\"\u001b[39m\u001b[33mmeta\u001b[39m\u001b[33m\"\u001b[39m, arg, meta)\n\u001b[32m   2549\u001b[39m \u001b[38;5;28mself\u001b[39m._set_property(\u001b[33m\"\u001b[39m\u001b[33mmetasrc\u001b[39m\u001b[33m\"\u001b[39m, arg, metasrc)\n",
      "\u001b[36mFile \u001b[39m\u001b[32mc:\\Users\\user\\AppData\\Local\\Programs\\Python\\Python313\\Lib\\site-packages\\plotly\\basedatatypes.py:4403\u001b[39m, in \u001b[36mBasePlotlyType._set_property\u001b[39m\u001b[34m(self, name, arg, provided)\u001b[39m\n\u001b[32m   4397\u001b[39m \u001b[38;5;28;01mdef\u001b[39;00m\u001b[38;5;250m \u001b[39m\u001b[34m_set_property\u001b[39m(\u001b[38;5;28mself\u001b[39m, name, arg, provided):\n\u001b[32m   4398\u001b[39m \u001b[38;5;250m    \u001b[39m\u001b[33;03m\"\"\"\u001b[39;00m\n\u001b[32m   4399\u001b[39m \u001b[33;03m    Initialize a property of this object using the provided value\u001b[39;00m\n\u001b[32m   4400\u001b[39m \u001b[33;03m    or a value popped from the arguments dictionary. If neither\u001b[39;00m\n\u001b[32m   4401\u001b[39m \u001b[33;03m    is available, do not set the property.\u001b[39;00m\n\u001b[32m   4402\u001b[39m \u001b[33;03m    \"\"\"\u001b[39;00m\n\u001b[32m-> \u001b[39m\u001b[32m4403\u001b[39m     \u001b[43m_set_property_provided_value\u001b[49m\u001b[43m(\u001b[49m\u001b[38;5;28;43mself\u001b[39;49m\u001b[43m,\u001b[49m\u001b[43m \u001b[49m\u001b[43mname\u001b[49m\u001b[43m,\u001b[49m\u001b[43m \u001b[49m\u001b[43marg\u001b[49m\u001b[43m,\u001b[49m\u001b[43m \u001b[49m\u001b[43mprovided\u001b[49m\u001b[43m)\u001b[49m\n",
      "\u001b[36mFile \u001b[39m\u001b[32mc:\\Users\\user\\AppData\\Local\\Programs\\Python\\Python313\\Lib\\site-packages\\plotly\\basedatatypes.py:398\u001b[39m, in \u001b[36m_set_property_provided_value\u001b[39m\u001b[34m(obj, name, arg, provided)\u001b[39m\n\u001b[32m    396\u001b[39m val = provided \u001b[38;5;28;01mif\u001b[39;00m provided \u001b[38;5;129;01mis\u001b[39;00m \u001b[38;5;129;01mnot\u001b[39;00m \u001b[38;5;28;01mNone\u001b[39;00m \u001b[38;5;28;01melse\u001b[39;00m val\n\u001b[32m    397\u001b[39m \u001b[38;5;28;01mif\u001b[39;00m val \u001b[38;5;129;01mis\u001b[39;00m \u001b[38;5;129;01mnot\u001b[39;00m \u001b[38;5;28;01mNone\u001b[39;00m:\n\u001b[32m--> \u001b[39m\u001b[32m398\u001b[39m     \u001b[43mobj\u001b[49m\u001b[43m[\u001b[49m\u001b[43mname\u001b[49m\u001b[43m]\u001b[49m = val\n",
      "\u001b[36mFile \u001b[39m\u001b[32mc:\\Users\\user\\AppData\\Local\\Programs\\Python\\Python313\\Lib\\site-packages\\plotly\\basedatatypes.py:4924\u001b[39m, in \u001b[36mBasePlotlyType.__setitem__\u001b[39m\u001b[34m(self, prop, value)\u001b[39m\n\u001b[32m   4922\u001b[39m \u001b[38;5;66;03m# ### Handle compound property ###\u001b[39;00m\n\u001b[32m   4923\u001b[39m \u001b[38;5;28;01mif\u001b[39;00m \u001b[38;5;28misinstance\u001b[39m(validator, CompoundValidator):\n\u001b[32m-> \u001b[39m\u001b[32m4924\u001b[39m     \u001b[38;5;28;43mself\u001b[39;49m\u001b[43m.\u001b[49m\u001b[43m_set_compound_prop\u001b[49m\u001b[43m(\u001b[49m\u001b[43mprop\u001b[49m\u001b[43m,\u001b[49m\u001b[43m \u001b[49m\u001b[43mvalue\u001b[49m\u001b[43m)\u001b[49m\n\u001b[32m   4926\u001b[39m \u001b[38;5;66;03m# ### Handle compound array property ###\u001b[39;00m\n\u001b[32m   4927\u001b[39m \u001b[38;5;28;01melif\u001b[39;00m \u001b[38;5;28misinstance\u001b[39m(validator, (CompoundArrayValidator, BaseDataValidator)):\n",
      "\u001b[36mFile \u001b[39m\u001b[32mc:\\Users\\user\\AppData\\Local\\Programs\\Python\\Python313\\Lib\\site-packages\\plotly\\basedatatypes.py:5335\u001b[39m, in \u001b[36mBasePlotlyType._set_compound_prop\u001b[39m\u001b[34m(self, prop, val)\u001b[39m\n\u001b[32m   5332\u001b[39m \u001b[38;5;66;03m# Import value\u001b[39;00m\n\u001b[32m   5333\u001b[39m \u001b[38;5;66;03m# ------------\u001b[39;00m\n\u001b[32m   5334\u001b[39m validator = \u001b[38;5;28mself\u001b[39m._get_validator(prop)\n\u001b[32m-> \u001b[39m\u001b[32m5335\u001b[39m val = \u001b[43mvalidator\u001b[49m\u001b[43m.\u001b[49m\u001b[43mvalidate_coerce\u001b[49m\u001b[43m(\u001b[49m\u001b[43mval\u001b[49m\u001b[43m,\u001b[49m\u001b[43m \u001b[49m\u001b[43mskip_invalid\u001b[49m\u001b[43m=\u001b[49m\u001b[38;5;28;43mself\u001b[39;49m\u001b[43m.\u001b[49m\u001b[43m_skip_invalid\u001b[49m\u001b[43m)\u001b[49m\n\u001b[32m   5337\u001b[39m \u001b[38;5;66;03m# Save deep copies of current and new states\u001b[39;00m\n\u001b[32m   5338\u001b[39m \u001b[38;5;66;03m# ------------------------------------------\u001b[39;00m\n\u001b[32m   5339\u001b[39m curr_val = \u001b[38;5;28mself\u001b[39m._compound_props.get(prop, \u001b[38;5;28;01mNone\u001b[39;00m)\n",
      "\u001b[36mFile \u001b[39m\u001b[32mc:\\Users\\user\\AppData\\Local\\Programs\\Python\\Python313\\Lib\\site-packages\\_plotly_utils\\basevalidators.py:2425\u001b[39m, in \u001b[36mCompoundValidator.validate_coerce\u001b[39m\u001b[34m(self, v, skip_invalid, _validate)\u001b[39m\n\u001b[32m   2422\u001b[39m     v = \u001b[38;5;28mself\u001b[39m.data_class()\n\u001b[32m   2424\u001b[39m \u001b[38;5;28;01melif\u001b[39;00m \u001b[38;5;28misinstance\u001b[39m(v, \u001b[38;5;28mdict\u001b[39m):\n\u001b[32m-> \u001b[39m\u001b[32m2425\u001b[39m     v = \u001b[38;5;28;43mself\u001b[39;49m\u001b[43m.\u001b[49m\u001b[43mdata_class\u001b[49m\u001b[43m(\u001b[49m\u001b[43mv\u001b[49m\u001b[43m,\u001b[49m\u001b[43m \u001b[49m\u001b[43mskip_invalid\u001b[49m\u001b[43m=\u001b[49m\u001b[43mskip_invalid\u001b[49m\u001b[43m,\u001b[49m\u001b[43m \u001b[49m\u001b[43m_validate\u001b[49m\u001b[43m=\u001b[49m\u001b[43m_validate\u001b[49m\u001b[43m)\u001b[49m\n\u001b[32m   2427\u001b[39m \u001b[38;5;28;01melif\u001b[39;00m \u001b[38;5;28misinstance\u001b[39m(v, \u001b[38;5;28mself\u001b[39m.data_class):\n\u001b[32m   2428\u001b[39m     \u001b[38;5;66;03m# Copy object\u001b[39;00m\n\u001b[32m   2429\u001b[39m     v = \u001b[38;5;28mself\u001b[39m.data_class(v)\n",
      "\u001b[36mFile \u001b[39m\u001b[32mc:\\Users\\user\\AppData\\Local\\Programs\\Python\\Python313\\Lib\\site-packages\\plotly\\graph_objs\\bar\\_marker.py:678\u001b[39m, in \u001b[36mMarker.__init__\u001b[39m\u001b[34m(self, arg, autocolorscale, cauto, cmax, cmid, cmin, color, coloraxis, colorbar, colorscale, colorsrc, cornerradius, line, opacity, opacitysrc, pattern, reversescale, showscale, **kwargs)\u001b[39m\n\u001b[32m    676\u001b[39m \u001b[38;5;28mself\u001b[39m._set_property(\u001b[33m\"\u001b[39m\u001b[33mcolorsrc\u001b[39m\u001b[33m\"\u001b[39m, arg, colorsrc)\n\u001b[32m    677\u001b[39m \u001b[38;5;28mself\u001b[39m._set_property(\u001b[33m\"\u001b[39m\u001b[33mcornerradius\u001b[39m\u001b[33m\"\u001b[39m, arg, cornerradius)\n\u001b[32m--> \u001b[39m\u001b[32m678\u001b[39m \u001b[38;5;28;43mself\u001b[39;49m\u001b[43m.\u001b[49m\u001b[43m_set_property\u001b[49m\u001b[43m(\u001b[49m\u001b[33;43m\"\u001b[39;49m\u001b[33;43mline\u001b[39;49m\u001b[33;43m\"\u001b[39;49m\u001b[43m,\u001b[49m\u001b[43m \u001b[49m\u001b[43marg\u001b[49m\u001b[43m,\u001b[49m\u001b[43m \u001b[49m\u001b[43mline\u001b[49m\u001b[43m)\u001b[49m\n\u001b[32m    679\u001b[39m \u001b[38;5;28mself\u001b[39m._set_property(\u001b[33m\"\u001b[39m\u001b[33mopacity\u001b[39m\u001b[33m\"\u001b[39m, arg, opacity)\n\u001b[32m    680\u001b[39m \u001b[38;5;28mself\u001b[39m._set_property(\u001b[33m\"\u001b[39m\u001b[33mopacitysrc\u001b[39m\u001b[33m\"\u001b[39m, arg, opacitysrc)\n",
      "\u001b[36mFile \u001b[39m\u001b[32mc:\\Users\\user\\AppData\\Local\\Programs\\Python\\Python313\\Lib\\site-packages\\plotly\\basedatatypes.py:4403\u001b[39m, in \u001b[36mBasePlotlyType._set_property\u001b[39m\u001b[34m(self, name, arg, provided)\u001b[39m\n\u001b[32m   4397\u001b[39m \u001b[38;5;28;01mdef\u001b[39;00m\u001b[38;5;250m \u001b[39m\u001b[34m_set_property\u001b[39m(\u001b[38;5;28mself\u001b[39m, name, arg, provided):\n\u001b[32m   4398\u001b[39m \u001b[38;5;250m    \u001b[39m\u001b[33;03m\"\"\"\u001b[39;00m\n\u001b[32m   4399\u001b[39m \u001b[33;03m    Initialize a property of this object using the provided value\u001b[39;00m\n\u001b[32m   4400\u001b[39m \u001b[33;03m    or a value popped from the arguments dictionary. If neither\u001b[39;00m\n\u001b[32m   4401\u001b[39m \u001b[33;03m    is available, do not set the property.\u001b[39;00m\n\u001b[32m   4402\u001b[39m \u001b[33;03m    \"\"\"\u001b[39;00m\n\u001b[32m-> \u001b[39m\u001b[32m4403\u001b[39m     \u001b[43m_set_property_provided_value\u001b[49m\u001b[43m(\u001b[49m\u001b[38;5;28;43mself\u001b[39;49m\u001b[43m,\u001b[49m\u001b[43m \u001b[49m\u001b[43mname\u001b[49m\u001b[43m,\u001b[49m\u001b[43m \u001b[49m\u001b[43marg\u001b[49m\u001b[43m,\u001b[49m\u001b[43m \u001b[49m\u001b[43mprovided\u001b[49m\u001b[43m)\u001b[49m\n",
      "\u001b[36mFile \u001b[39m\u001b[32mc:\\Users\\user\\AppData\\Local\\Programs\\Python\\Python313\\Lib\\site-packages\\plotly\\basedatatypes.py:398\u001b[39m, in \u001b[36m_set_property_provided_value\u001b[39m\u001b[34m(obj, name, arg, provided)\u001b[39m\n\u001b[32m    396\u001b[39m val = provided \u001b[38;5;28;01mif\u001b[39;00m provided \u001b[38;5;129;01mis\u001b[39;00m \u001b[38;5;129;01mnot\u001b[39;00m \u001b[38;5;28;01mNone\u001b[39;00m \u001b[38;5;28;01melse\u001b[39;00m val\n\u001b[32m    397\u001b[39m \u001b[38;5;28;01mif\u001b[39;00m val \u001b[38;5;129;01mis\u001b[39;00m \u001b[38;5;129;01mnot\u001b[39;00m \u001b[38;5;28;01mNone\u001b[39;00m:\n\u001b[32m--> \u001b[39m\u001b[32m398\u001b[39m     \u001b[43mobj\u001b[49m\u001b[43m[\u001b[49m\u001b[43mname\u001b[49m\u001b[43m]\u001b[49m = val\n",
      "\u001b[36mFile \u001b[39m\u001b[32mc:\\Users\\user\\AppData\\Local\\Programs\\Python\\Python313\\Lib\\site-packages\\plotly\\basedatatypes.py:4924\u001b[39m, in \u001b[36mBasePlotlyType.__setitem__\u001b[39m\u001b[34m(self, prop, value)\u001b[39m\n\u001b[32m   4922\u001b[39m \u001b[38;5;66;03m# ### Handle compound property ###\u001b[39;00m\n\u001b[32m   4923\u001b[39m \u001b[38;5;28;01mif\u001b[39;00m \u001b[38;5;28misinstance\u001b[39m(validator, CompoundValidator):\n\u001b[32m-> \u001b[39m\u001b[32m4924\u001b[39m     \u001b[38;5;28;43mself\u001b[39;49m\u001b[43m.\u001b[49m\u001b[43m_set_compound_prop\u001b[49m\u001b[43m(\u001b[49m\u001b[43mprop\u001b[49m\u001b[43m,\u001b[49m\u001b[43m \u001b[49m\u001b[43mvalue\u001b[49m\u001b[43m)\u001b[49m\n\u001b[32m   4926\u001b[39m \u001b[38;5;66;03m# ### Handle compound array property ###\u001b[39;00m\n\u001b[32m   4927\u001b[39m \u001b[38;5;28;01melif\u001b[39;00m \u001b[38;5;28misinstance\u001b[39m(validator, (CompoundArrayValidator, BaseDataValidator)):\n",
      "\u001b[36mFile \u001b[39m\u001b[32mc:\\Users\\user\\AppData\\Local\\Programs\\Python\\Python313\\Lib\\site-packages\\plotly\\basedatatypes.py:5335\u001b[39m, in \u001b[36mBasePlotlyType._set_compound_prop\u001b[39m\u001b[34m(self, prop, val)\u001b[39m\n\u001b[32m   5332\u001b[39m \u001b[38;5;66;03m# Import value\u001b[39;00m\n\u001b[32m   5333\u001b[39m \u001b[38;5;66;03m# ------------\u001b[39;00m\n\u001b[32m   5334\u001b[39m validator = \u001b[38;5;28mself\u001b[39m._get_validator(prop)\n\u001b[32m-> \u001b[39m\u001b[32m5335\u001b[39m val = \u001b[43mvalidator\u001b[49m\u001b[43m.\u001b[49m\u001b[43mvalidate_coerce\u001b[49m\u001b[43m(\u001b[49m\u001b[43mval\u001b[49m\u001b[43m,\u001b[49m\u001b[43m \u001b[49m\u001b[43mskip_invalid\u001b[49m\u001b[43m=\u001b[49m\u001b[38;5;28;43mself\u001b[39;49m\u001b[43m.\u001b[49m\u001b[43m_skip_invalid\u001b[49m\u001b[43m)\u001b[49m\n\u001b[32m   5337\u001b[39m \u001b[38;5;66;03m# Save deep copies of current and new states\u001b[39;00m\n\u001b[32m   5338\u001b[39m \u001b[38;5;66;03m# ------------------------------------------\u001b[39;00m\n\u001b[32m   5339\u001b[39m curr_val = \u001b[38;5;28mself\u001b[39m._compound_props.get(prop, \u001b[38;5;28;01mNone\u001b[39;00m)\n",
      "\u001b[36mFile \u001b[39m\u001b[32mc:\\Users\\user\\AppData\\Local\\Programs\\Python\\Python313\\Lib\\site-packages\\_plotly_utils\\basevalidators.py:2425\u001b[39m, in \u001b[36mCompoundValidator.validate_coerce\u001b[39m\u001b[34m(self, v, skip_invalid, _validate)\u001b[39m\n\u001b[32m   2422\u001b[39m     v = \u001b[38;5;28mself\u001b[39m.data_class()\n\u001b[32m   2424\u001b[39m \u001b[38;5;28;01melif\u001b[39;00m \u001b[38;5;28misinstance\u001b[39m(v, \u001b[38;5;28mdict\u001b[39m):\n\u001b[32m-> \u001b[39m\u001b[32m2425\u001b[39m     v = \u001b[38;5;28;43mself\u001b[39;49m\u001b[43m.\u001b[49m\u001b[43mdata_class\u001b[49m\u001b[43m(\u001b[49m\u001b[43mv\u001b[49m\u001b[43m,\u001b[49m\u001b[43m \u001b[49m\u001b[43mskip_invalid\u001b[49m\u001b[43m=\u001b[49m\u001b[43mskip_invalid\u001b[49m\u001b[43m,\u001b[49m\u001b[43m \u001b[49m\u001b[43m_validate\u001b[49m\u001b[43m=\u001b[49m\u001b[43m_validate\u001b[49m\u001b[43m)\u001b[49m\n\u001b[32m   2427\u001b[39m \u001b[38;5;28;01melif\u001b[39;00m \u001b[38;5;28misinstance\u001b[39m(v, \u001b[38;5;28mself\u001b[39m.data_class):\n\u001b[32m   2428\u001b[39m     \u001b[38;5;66;03m# Copy object\u001b[39;00m\n\u001b[32m   2429\u001b[39m     v = \u001b[38;5;28mself\u001b[39m.data_class(v)\n",
      "\u001b[36mFile \u001b[39m\u001b[32mc:\\Users\\user\\AppData\\Local\\Programs\\Python\\Python313\\Lib\\site-packages\\plotly\\graph_objs\\bar\\marker\\_line.py:538\u001b[39m, in \u001b[36mLine.__init__\u001b[39m\u001b[34m(self, arg, autocolorscale, cauto, cmax, cmid, cmin, color, coloraxis, colorscale, colorsrc, reversescale, width, widthsrc, **kwargs)\u001b[39m\n\u001b[32m    536\u001b[39m \u001b[38;5;28mself\u001b[39m._set_property(\u001b[33m\"\u001b[39m\u001b[33mcmid\u001b[39m\u001b[33m\"\u001b[39m, arg, cmid)\n\u001b[32m    537\u001b[39m \u001b[38;5;28mself\u001b[39m._set_property(\u001b[33m\"\u001b[39m\u001b[33mcmin\u001b[39m\u001b[33m\"\u001b[39m, arg, cmin)\n\u001b[32m--> \u001b[39m\u001b[32m538\u001b[39m \u001b[38;5;28;43mself\u001b[39;49m\u001b[43m.\u001b[49m\u001b[43m_set_property\u001b[49m\u001b[43m(\u001b[49m\u001b[33;43m\"\u001b[39;49m\u001b[33;43mcolor\u001b[39;49m\u001b[33;43m\"\u001b[39;49m\u001b[43m,\u001b[49m\u001b[43m \u001b[49m\u001b[43marg\u001b[49m\u001b[43m,\u001b[49m\u001b[43m \u001b[49m\u001b[43mcolor\u001b[49m\u001b[43m)\u001b[49m\n\u001b[32m    539\u001b[39m \u001b[38;5;28mself\u001b[39m._set_property(\u001b[33m\"\u001b[39m\u001b[33mcoloraxis\u001b[39m\u001b[33m\"\u001b[39m, arg, coloraxis)\n\u001b[32m    540\u001b[39m \u001b[38;5;28mself\u001b[39m._set_property(\u001b[33m\"\u001b[39m\u001b[33mcolorscale\u001b[39m\u001b[33m\"\u001b[39m, arg, colorscale)\n",
      "\u001b[36mFile \u001b[39m\u001b[32mc:\\Users\\user\\AppData\\Local\\Programs\\Python\\Python313\\Lib\\site-packages\\plotly\\basedatatypes.py:4403\u001b[39m, in \u001b[36mBasePlotlyType._set_property\u001b[39m\u001b[34m(self, name, arg, provided)\u001b[39m\n\u001b[32m   4397\u001b[39m \u001b[38;5;28;01mdef\u001b[39;00m\u001b[38;5;250m \u001b[39m\u001b[34m_set_property\u001b[39m(\u001b[38;5;28mself\u001b[39m, name, arg, provided):\n\u001b[32m   4398\u001b[39m \u001b[38;5;250m    \u001b[39m\u001b[33;03m\"\"\"\u001b[39;00m\n\u001b[32m   4399\u001b[39m \u001b[33;03m    Initialize a property of this object using the provided value\u001b[39;00m\n\u001b[32m   4400\u001b[39m \u001b[33;03m    or a value popped from the arguments dictionary. If neither\u001b[39;00m\n\u001b[32m   4401\u001b[39m \u001b[33;03m    is available, do not set the property.\u001b[39;00m\n\u001b[32m   4402\u001b[39m \u001b[33;03m    \"\"\"\u001b[39;00m\n\u001b[32m-> \u001b[39m\u001b[32m4403\u001b[39m     \u001b[43m_set_property_provided_value\u001b[49m\u001b[43m(\u001b[49m\u001b[38;5;28;43mself\u001b[39;49m\u001b[43m,\u001b[49m\u001b[43m \u001b[49m\u001b[43mname\u001b[49m\u001b[43m,\u001b[49m\u001b[43m \u001b[49m\u001b[43marg\u001b[49m\u001b[43m,\u001b[49m\u001b[43m \u001b[49m\u001b[43mprovided\u001b[49m\u001b[43m)\u001b[49m\n",
      "\u001b[36mFile \u001b[39m\u001b[32mc:\\Users\\user\\AppData\\Local\\Programs\\Python\\Python313\\Lib\\site-packages\\plotly\\basedatatypes.py:398\u001b[39m, in \u001b[36m_set_property_provided_value\u001b[39m\u001b[34m(obj, name, arg, provided)\u001b[39m\n\u001b[32m    396\u001b[39m val = provided \u001b[38;5;28;01mif\u001b[39;00m provided \u001b[38;5;129;01mis\u001b[39;00m \u001b[38;5;129;01mnot\u001b[39;00m \u001b[38;5;28;01mNone\u001b[39;00m \u001b[38;5;28;01melse\u001b[39;00m val\n\u001b[32m    397\u001b[39m \u001b[38;5;28;01mif\u001b[39;00m val \u001b[38;5;129;01mis\u001b[39;00m \u001b[38;5;129;01mnot\u001b[39;00m \u001b[38;5;28;01mNone\u001b[39;00m:\n\u001b[32m--> \u001b[39m\u001b[32m398\u001b[39m     \u001b[43mobj\u001b[49m\u001b[43m[\u001b[49m\u001b[43mname\u001b[49m\u001b[43m]\u001b[49m = val\n",
      "\u001b[36mFile \u001b[39m\u001b[32mc:\\Users\\user\\AppData\\Local\\Programs\\Python\\Python313\\Lib\\site-packages\\plotly\\basedatatypes.py:4932\u001b[39m, in \u001b[36mBasePlotlyType.__setitem__\u001b[39m\u001b[34m(self, prop, value)\u001b[39m\n\u001b[32m   4928\u001b[39m         \u001b[38;5;28mself\u001b[39m._set_array_prop(prop, value)\n\u001b[32m   4930\u001b[39m     \u001b[38;5;66;03m# ### Handle simple property ###\u001b[39;00m\n\u001b[32m   4931\u001b[39m     \u001b[38;5;28;01melse\u001b[39;00m:\n\u001b[32m-> \u001b[39m\u001b[32m4932\u001b[39m         \u001b[38;5;28;43mself\u001b[39;49m\u001b[43m.\u001b[49m\u001b[43m_set_prop\u001b[49m\u001b[43m(\u001b[49m\u001b[43mprop\u001b[49m\u001b[43m,\u001b[49m\u001b[43m \u001b[49m\u001b[43mvalue\u001b[49m\u001b[43m)\u001b[49m\n\u001b[32m   4933\u001b[39m \u001b[38;5;28;01melse\u001b[39;00m:\n\u001b[32m   4934\u001b[39m     \u001b[38;5;66;03m# Make sure properties dict is initialized\u001b[39;00m\n\u001b[32m   4935\u001b[39m     \u001b[38;5;28mself\u001b[39m._init_props()\n",
      "\u001b[36mFile \u001b[39m\u001b[32mc:\\Users\\user\\AppData\\Local\\Programs\\Python\\Python313\\Lib\\site-packages\\plotly\\basedatatypes.py:5276\u001b[39m, in \u001b[36mBasePlotlyType._set_prop\u001b[39m\u001b[34m(self, prop, val)\u001b[39m\n\u001b[32m   5274\u001b[39m         \u001b[38;5;28;01mreturn\u001b[39;00m\n\u001b[32m   5275\u001b[39m     \u001b[38;5;28;01melse\u001b[39;00m:\n\u001b[32m-> \u001b[39m\u001b[32m5276\u001b[39m         \u001b[38;5;28;01mraise\u001b[39;00m err\n\u001b[32m   5278\u001b[39m \u001b[38;5;66;03m# val is None\u001b[39;00m\n\u001b[32m   5279\u001b[39m \u001b[38;5;66;03m# -----------\u001b[39;00m\n\u001b[32m   5280\u001b[39m \u001b[38;5;28;01mif\u001b[39;00m val \u001b[38;5;129;01mis\u001b[39;00m \u001b[38;5;28;01mNone\u001b[39;00m:\n\u001b[32m   5281\u001b[39m     \u001b[38;5;66;03m# Check if we should send null update\u001b[39;00m\n",
      "\u001b[36mFile \u001b[39m\u001b[32mc:\\Users\\user\\AppData\\Local\\Programs\\Python\\Python313\\Lib\\site-packages\\plotly\\basedatatypes.py:5271\u001b[39m, in \u001b[36mBasePlotlyType._set_prop\u001b[39m\u001b[34m(self, prop, val)\u001b[39m\n\u001b[32m   5268\u001b[39m validator = \u001b[38;5;28mself\u001b[39m._get_validator(prop)\n\u001b[32m   5270\u001b[39m \u001b[38;5;28;01mtry\u001b[39;00m:\n\u001b[32m-> \u001b[39m\u001b[32m5271\u001b[39m     val = \u001b[43mvalidator\u001b[49m\u001b[43m.\u001b[49m\u001b[43mvalidate_coerce\u001b[49m\u001b[43m(\u001b[49m\u001b[43mval\u001b[49m\u001b[43m)\u001b[49m\n\u001b[32m   5272\u001b[39m \u001b[38;5;28;01mexcept\u001b[39;00m \u001b[38;5;167;01mValueError\u001b[39;00m \u001b[38;5;28;01mas\u001b[39;00m err:\n\u001b[32m   5273\u001b[39m     \u001b[38;5;28;01mif\u001b[39;00m \u001b[38;5;28mself\u001b[39m._skip_invalid:\n",
      "\u001b[36mFile \u001b[39m\u001b[32mc:\\Users\\user\\AppData\\Local\\Programs\\Python\\Python313\\Lib\\site-packages\\_plotly_utils\\basevalidators.py:1374\u001b[39m, in \u001b[36mColorValidator.validate_coerce\u001b[39m\u001b[34m(self, v, should_raise)\u001b[39m\n\u001b[32m   1372\u001b[39m     validated_v = \u001b[38;5;28mself\u001b[39m.vc_scalar(v)\n\u001b[32m   1373\u001b[39m     \u001b[38;5;28;01mif\u001b[39;00m validated_v \u001b[38;5;129;01mis\u001b[39;00m \u001b[38;5;28;01mNone\u001b[39;00m \u001b[38;5;129;01mand\u001b[39;00m should_raise:\n\u001b[32m-> \u001b[39m\u001b[32m1374\u001b[39m         \u001b[38;5;28;43mself\u001b[39;49m\u001b[43m.\u001b[49m\u001b[43mraise_invalid_val\u001b[49m\u001b[43m(\u001b[49m\u001b[43mv\u001b[49m\u001b[43m)\u001b[49m\n\u001b[32m   1376\u001b[39m     v = validated_v\n\u001b[32m   1378\u001b[39m \u001b[38;5;28;01mreturn\u001b[39;00m v\n",
      "\u001b[36mFile \u001b[39m\u001b[32mc:\\Users\\user\\AppData\\Local\\Programs\\Python\\Python313\\Lib\\site-packages\\_plotly_utils\\basevalidators.py:298\u001b[39m, in \u001b[36mBaseValidator.raise_invalid_val\u001b[39m\u001b[34m(self, v, inds)\u001b[39m\n\u001b[32m    295\u001b[39m             \u001b[38;5;28;01mfor\u001b[39;00m i \u001b[38;5;129;01min\u001b[39;00m inds:\n\u001b[32m    296\u001b[39m                 name += \u001b[33m\"\u001b[39m\u001b[33m[\u001b[39m\u001b[33m\"\u001b[39m + \u001b[38;5;28mstr\u001b[39m(i) + \u001b[33m\"\u001b[39m\u001b[33m]\u001b[39m\u001b[33m\"\u001b[39m\n\u001b[32m--> \u001b[39m\u001b[32m298\u001b[39m         \u001b[38;5;28;01mraise\u001b[39;00m \u001b[38;5;167;01mValueError\u001b[39;00m(\n\u001b[32m    299\u001b[39m \u001b[38;5;250m            \u001b[39m\u001b[33;03m\"\"\"\u001b[39;00m\n\u001b[32m    300\u001b[39m \u001b[33;03m    Invalid value of type {typ} received for the '{name}' property of {pname}\u001b[39;00m\n\u001b[32m    301\u001b[39m \u001b[33;03m        Received value: {v}\u001b[39;00m\n\u001b[32m    302\u001b[39m \n\u001b[32m    303\u001b[39m \u001b[33;03m{valid_clr_desc}\"\"\"\u001b[39;00m.format(\n\u001b[32m    304\u001b[39m                 name=name,\n\u001b[32m    305\u001b[39m                 pname=\u001b[38;5;28mself\u001b[39m.parent_name,\n\u001b[32m    306\u001b[39m                 typ=type_str(v),\n\u001b[32m    307\u001b[39m                 v=\u001b[38;5;28mrepr\u001b[39m(v),\n\u001b[32m    308\u001b[39m                 valid_clr_desc=\u001b[38;5;28mself\u001b[39m.description(),\n\u001b[32m    309\u001b[39m             )\n\u001b[32m    310\u001b[39m         )\n",
      "\u001b[31mValueError\u001b[39m: \n    Invalid value of type 'builtins.str' received for the 'color' property of bar.marker.line\n        Received value: 'rgba(255, 153, 51, np.float64(1.0))'\n\n    The 'color' property is a color and may be specified as:\n      - A hex string (e.g. '#ff0000')\n      - An rgb/rgba string (e.g. 'rgb(255,0,0)')\n      - An hsl/hsla string (e.g. 'hsl(0,100%,50%)')\n      - An hsv/hsva string (e.g. 'hsv(0,100%,100%)')\n      - A named CSS color: see https://plotly.com/python/css-colors/ for a list\n      - A number that will be interpreted as a color\n        according to bar.marker.line.colorscale\n      - A list or array of any of the above"
     ]
    }
   ],
   "source": [
    "calls['CVLEGEND'].value_counts().iplot(kind=\"bar\")"
   ]
  },
  {
   "cell_type": "markdown",
   "metadata": {},
   "source": [
    "Notice that when we group by the crime time we see that **larceny** emerges as one of the top crimes.  Larceny is essentially stealing -- taking someone else stuff without force."
   ]
  },
  {
   "cell_type": "code",
   "execution_count": null,
   "metadata": {},
   "outputs": [],
   "source": []
  },
  {
   "cell_type": "code",
   "execution_count": null,
   "metadata": {},
   "outputs": [],
   "source": []
  },
  {
   "cell_type": "code",
   "execution_count": null,
   "metadata": {},
   "outputs": [],
   "source": []
  }
 ],
 "metadata": {
  "kernelspec": {
   "display_name": "Python 3",
   "language": "python",
   "name": "python3"
  },
  "language_info": {
   "codemirror_mode": {
    "name": "ipython",
    "version": 3
   },
   "file_extension": ".py",
   "mimetype": "text/x-python",
   "name": "python",
   "nbconvert_exporter": "python",
   "pygments_lexer": "ipython3",
   "version": "3.13.2"
  }
 },
 "nbformat": 4,
 "nbformat_minor": 4
}
