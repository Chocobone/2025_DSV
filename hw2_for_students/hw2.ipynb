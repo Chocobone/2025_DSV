{
 "cells": [
  {
   "cell_type": "markdown",
   "metadata": {},
   "source": [
    "# Homework 2: Pandas\n",
    "\n",
    "\n",
    "Homework 2 is out, it is notebook form. You need to fill in the answers in the cells and produce graphs. Everything needed for the assignment is explained in the notebook. \n",
    "\n",
    "**How to submit**\n",
    "\n",
    "You need to send the `.ipynb` file with your answers plus an `.html` file, which will serve as a backup for us in case the `.ipynb` file cannot be opened on my or the TA's computer. \n",
    "\n",
    "The homework solution should be uploaded on e-campus. You can submit it as often as you like before the deadline.\n",
    "\n",
    "**Important**\n",
    "\n",
    "- Please make sure that you provide an answer in each cell and place that contains the **[ your answer ]** tags.\n",
    "- The places that require your code answer are marked with `\"# YOUR CODE\"` comments.\n",
    "- Note that you may use 1 or more line of code for replacing each `\"# YOUR CODE\"` comment."
   ]
  },
  {
   "cell_type": "code",
   "execution_count": 38,
   "metadata": {},
   "outputs": [],
   "source": [
    "%matplotlib inline\n",
    "import matplotlib.pyplot as plt\n",
    "import seaborn as sns\n",
    "import numpy as np\n",
    "import pandas as pd"
   ]
  },
  {
   "cell_type": "markdown",
   "metadata": {},
   "source": [
    "# Pandas Basics (40 points)"
   ]
  },
  {
   "cell_type": "markdown",
   "metadata": {},
   "source": [
    "Consider the series s of letters in a sentence"
   ]
  },
  {
   "cell_type": "code",
   "execution_count": 39,
   "metadata": {},
   "outputs": [],
   "source": [
    "s = pd.Series(list(\"Series is a one-dimensional labeled array capable of holding any data type (integers, strings, floating point numbers, Python objects, etc.). The axis labels are collectively referred to as the index.\"))"
   ]
  },
  {
   "cell_type": "markdown",
   "metadata": {},
   "source": [
    "## Question 1a"
   ]
  },
  {
   "cell_type": "markdown",
   "metadata": {},
   "source": [
    "What is count of each letter in the sentence, output a series which is sorted by the count?"
   ]
  },
  {
   "cell_type": "code",
   "execution_count": 40,
   "metadata": {},
   "outputs": [
    {
     "data": {
      "text/plain": [
       "     29\n",
       "e    23\n",
       "a    15\n",
       "i    12\n",
       "n    12\n",
       "t    12\n",
       "l    11\n",
       "s    11\n",
       "o    10\n",
       "r    10\n",
       "d     6\n",
       "b     5\n",
       "y     5\n",
       "c     5\n",
       "g     4\n",
       ",     4\n",
       "h     4\n",
       "f     3\n",
       "p     3\n",
       ".     3\n",
       "x     2\n",
       "m     2\n",
       "S     1\n",
       "-     1\n",
       "(     1\n",
       "P     1\n",
       "u     1\n",
       "j     1\n",
       ")     1\n",
       "T     1\n",
       "v     1\n",
       "Name: count, dtype: int64"
      ]
     },
     "execution_count": 40,
     "metadata": {},
     "output_type": "execute_result"
    }
   ],
   "source": [
    "#YOUR CODE HERE\n",
    "s.value_counts()"
   ]
  },
  {
   "cell_type": "markdown",
   "metadata": {},
   "source": [
    "## Question 1b"
   ]
  },
  {
   "cell_type": "markdown",
   "metadata": {},
   "source": [
    "Create a list with only the top 5 common letters (not including space)"
   ]
  },
  {
   "cell_type": "code",
   "execution_count": 41,
   "metadata": {},
   "outputs": [
    {
     "data": {
      "text/plain": [
       "['S', 'e', 'r', 'i', 'e']"
      ]
     },
     "execution_count": 41,
     "metadata": {},
     "output_type": "execute_result"
    }
   ],
   "source": [
    "#YOUR CODE HERE\n",
    "s[s!=' '].head().tolist()"
   ]
  },
  {
   "cell_type": "markdown",
   "metadata": {},
   "source": [
    "Given the dataframe below,"
   ]
  },
  {
   "cell_type": "code",
   "execution_count": 48,
   "metadata": {},
   "outputs": [
    {
     "data": {
      "text/html": [
       "<div>\n",
       "<style scoped>\n",
       "    .dataframe tbody tr th:only-of-type {\n",
       "        vertical-align: middle;\n",
       "    }\n",
       "\n",
       "    .dataframe tbody tr th {\n",
       "        vertical-align: top;\n",
       "    }\n",
       "\n",
       "    .dataframe thead th {\n",
       "        text-align: right;\n",
       "    }\n",
       "</style>\n",
       "<table border=\"1\" class=\"dataframe\">\n",
       "  <thead>\n",
       "    <tr style=\"text-align: right;\">\n",
       "      <th></th>\n",
       "      <th>A</th>\n",
       "      <th>B</th>\n",
       "      <th>C</th>\n",
       "      <th>D</th>\n",
       "    </tr>\n",
       "  </thead>\n",
       "  <tbody>\n",
       "    <tr>\n",
       "      <th>2000-01-01</th>\n",
       "      <td>-1.002987</td>\n",
       "      <td>0.166569</td>\n",
       "      <td>-0.430852</td>\n",
       "      <td>0.034773</td>\n",
       "    </tr>\n",
       "    <tr>\n",
       "      <th>2000-01-02</th>\n",
       "      <td>0.803199</td>\n",
       "      <td>0.121378</td>\n",
       "      <td>-0.960178</td>\n",
       "      <td>0.850965</td>\n",
       "    </tr>\n",
       "    <tr>\n",
       "      <th>2000-01-03</th>\n",
       "      <td>-0.396989</td>\n",
       "      <td>-0.127535</td>\n",
       "      <td>0.656596</td>\n",
       "      <td>1.612120</td>\n",
       "    </tr>\n",
       "    <tr>\n",
       "      <th>2000-01-04</th>\n",
       "      <td>-0.999090</td>\n",
       "      <td>0.153343</td>\n",
       "      <td>-1.141821</td>\n",
       "      <td>-1.423651</td>\n",
       "    </tr>\n",
       "    <tr>\n",
       "      <th>2000-01-05</th>\n",
       "      <td>-0.295981</td>\n",
       "      <td>0.730385</td>\n",
       "      <td>-0.963417</td>\n",
       "      <td>0.619739</td>\n",
       "    </tr>\n",
       "    <tr>\n",
       "      <th>2000-01-06</th>\n",
       "      <td>1.073145</td>\n",
       "      <td>0.848842</td>\n",
       "      <td>-1.132548</td>\n",
       "      <td>0.429277</td>\n",
       "    </tr>\n",
       "    <tr>\n",
       "      <th>2000-01-07</th>\n",
       "      <td>2.629087</td>\n",
       "      <td>0.619454</td>\n",
       "      <td>-0.480123</td>\n",
       "      <td>-0.399494</td>\n",
       "    </tr>\n",
       "    <tr>\n",
       "      <th>2000-01-08</th>\n",
       "      <td>0.746178</td>\n",
       "      <td>0.867892</td>\n",
       "      <td>1.272050</td>\n",
       "      <td>-0.080315</td>\n",
       "    </tr>\n",
       "  </tbody>\n",
       "</table>\n",
       "</div>"
      ],
      "text/plain": [
       "                   A         B         C         D\n",
       "2000-01-01 -1.002987  0.166569 -0.430852  0.034773\n",
       "2000-01-02  0.803199  0.121378 -0.960178  0.850965\n",
       "2000-01-03 -0.396989 -0.127535  0.656596  1.612120\n",
       "2000-01-04 -0.999090  0.153343 -1.141821 -1.423651\n",
       "2000-01-05 -0.295981  0.730385 -0.963417  0.619739\n",
       "2000-01-06  1.073145  0.848842 -1.132548  0.429277\n",
       "2000-01-07  2.629087  0.619454 -0.480123 -0.399494\n",
       "2000-01-08  0.746178  0.867892  1.272050 -0.080315"
      ]
     },
     "execution_count": 48,
     "metadata": {},
     "output_type": "execute_result"
    }
   ],
   "source": [
    "dates = pd.date_range('1/1/2000', periods=8)\n",
    "df = pd.DataFrame(np.random.randn(8, 4), index=dates, columns=['A', 'B', 'C','D'])\n",
    "df"
   ]
  },
  {
   "cell_type": "markdown",
   "metadata": {},
   "source": [
    "## Question 1c"
   ]
  },
  {
   "cell_type": "markdown",
   "metadata": {},
   "source": [
    "Find last two rows of columns A and D"
   ]
  },
  {
   "cell_type": "code",
   "execution_count": 65,
   "metadata": {},
   "outputs": [
    {
     "data": {
      "text/html": [
       "<div>\n",
       "<style scoped>\n",
       "    .dataframe tbody tr th:only-of-type {\n",
       "        vertical-align: middle;\n",
       "    }\n",
       "\n",
       "    .dataframe tbody tr th {\n",
       "        vertical-align: top;\n",
       "    }\n",
       "\n",
       "    .dataframe thead th {\n",
       "        text-align: right;\n",
       "    }\n",
       "</style>\n",
       "<table border=\"1\" class=\"dataframe\">\n",
       "  <thead>\n",
       "    <tr style=\"text-align: right;\">\n",
       "      <th></th>\n",
       "      <th>A</th>\n",
       "      <th>D</th>\n",
       "    </tr>\n",
       "  </thead>\n",
       "  <tbody>\n",
       "    <tr>\n",
       "      <th>2000-01-07</th>\n",
       "      <td>2.629087</td>\n",
       "      <td>-0.399494</td>\n",
       "    </tr>\n",
       "    <tr>\n",
       "      <th>2000-01-08</th>\n",
       "      <td>0.746178</td>\n",
       "      <td>-0.080315</td>\n",
       "    </tr>\n",
       "  </tbody>\n",
       "</table>\n",
       "</div>"
      ],
      "text/plain": [
       "                   A         D\n",
       "2000-01-07  2.629087 -0.399494\n",
       "2000-01-08  0.746178 -0.080315"
      ]
     },
     "execution_count": 65,
     "metadata": {},
     "output_type": "execute_result"
    }
   ],
   "source": [
    "#YOUR CODE HERE\n",
    "df.iloc[-2:, [0, 3]]"
   ]
  },
  {
   "cell_type": "markdown",
   "metadata": {},
   "source": [
    "## Question 1d"
   ]
  },
  {
   "cell_type": "markdown",
   "metadata": {},
   "source": [
    "Find last three rows which satisfy that column A > Column B"
   ]
  },
  {
   "cell_type": "code",
   "execution_count": 68,
   "metadata": {},
   "outputs": [
    {
     "data": {
      "text/html": [
       "<div>\n",
       "<style scoped>\n",
       "    .dataframe tbody tr th:only-of-type {\n",
       "        vertical-align: middle;\n",
       "    }\n",
       "\n",
       "    .dataframe tbody tr th {\n",
       "        vertical-align: top;\n",
       "    }\n",
       "\n",
       "    .dataframe thead th {\n",
       "        text-align: right;\n",
       "    }\n",
       "</style>\n",
       "<table border=\"1\" class=\"dataframe\">\n",
       "  <thead>\n",
       "    <tr style=\"text-align: right;\">\n",
       "      <th></th>\n",
       "      <th>A</th>\n",
       "      <th>B</th>\n",
       "      <th>C</th>\n",
       "      <th>D</th>\n",
       "    </tr>\n",
       "  </thead>\n",
       "  <tbody>\n",
       "    <tr>\n",
       "      <th>2000-01-05</th>\n",
       "      <td>-0.295981</td>\n",
       "      <td>0.730385</td>\n",
       "      <td>-0.963417</td>\n",
       "      <td>0.619739</td>\n",
       "    </tr>\n",
       "    <tr>\n",
       "      <th>2000-01-06</th>\n",
       "      <td>1.073145</td>\n",
       "      <td>0.848842</td>\n",
       "      <td>-1.132548</td>\n",
       "      <td>0.429277</td>\n",
       "    </tr>\n",
       "    <tr>\n",
       "      <th>2000-01-07</th>\n",
       "      <td>2.629087</td>\n",
       "      <td>0.619454</td>\n",
       "      <td>-0.480123</td>\n",
       "      <td>-0.399494</td>\n",
       "    </tr>\n",
       "  </tbody>\n",
       "</table>\n",
       "</div>"
      ],
      "text/plain": [
       "                   A         B         C         D\n",
       "2000-01-05 -0.295981  0.730385 -0.963417  0.619739\n",
       "2000-01-06  1.073145  0.848842 -1.132548  0.429277\n",
       "2000-01-07  2.629087  0.619454 -0.480123 -0.399494"
      ]
     },
     "execution_count": 68,
     "metadata": {},
     "output_type": "execute_result"
    }
   ],
   "source": [
    "#YOUR CODE HERE\n",
    "df[df['A'] >= df['C']].tail(3)"
   ]
  },
  {
   "cell_type": "markdown",
   "metadata": {},
   "source": [
    "# Baby Names Questions (30 points)"
   ]
  },
  {
   "cell_type": "code",
   "execution_count": 69,
   "metadata": {},
   "outputs": [
    {
     "data": {
      "text/html": [
       "<div>\n",
       "<style scoped>\n",
       "    .dataframe tbody tr th:only-of-type {\n",
       "        vertical-align: middle;\n",
       "    }\n",
       "\n",
       "    .dataframe tbody tr th {\n",
       "        vertical-align: top;\n",
       "    }\n",
       "\n",
       "    .dataframe thead th {\n",
       "        text-align: right;\n",
       "    }\n",
       "</style>\n",
       "<table border=\"1\" class=\"dataframe\">\n",
       "  <thead>\n",
       "    <tr style=\"text-align: right;\">\n",
       "      <th></th>\n",
       "      <th>State</th>\n",
       "      <th>Sex</th>\n",
       "      <th>Year</th>\n",
       "      <th>Name</th>\n",
       "      <th>Count</th>\n",
       "    </tr>\n",
       "  </thead>\n",
       "  <tbody>\n",
       "    <tr>\n",
       "      <th>217971</th>\n",
       "      <td>NY</td>\n",
       "      <td>M</td>\n",
       "      <td>1970</td>\n",
       "      <td>Jerard</td>\n",
       "      <td>5</td>\n",
       "    </tr>\n",
       "    <tr>\n",
       "      <th>210358</th>\n",
       "      <td>NY</td>\n",
       "      <td>M</td>\n",
       "      <td>1963</td>\n",
       "      <td>Tarik</td>\n",
       "      <td>5</td>\n",
       "    </tr>\n",
       "    <tr>\n",
       "      <th>277162</th>\n",
       "      <td>NY</td>\n",
       "      <td>M</td>\n",
       "      <td>2008</td>\n",
       "      <td>Zakariya</td>\n",
       "      <td>9</td>\n",
       "    </tr>\n",
       "    <tr>\n",
       "      <th>97359</th>\n",
       "      <td>NY</td>\n",
       "      <td>F</td>\n",
       "      <td>1989</td>\n",
       "      <td>Nerissa</td>\n",
       "      <td>7</td>\n",
       "    </tr>\n",
       "    <tr>\n",
       "      <th>43740</th>\n",
       "      <td>NY</td>\n",
       "      <td>F</td>\n",
       "      <td>1959</td>\n",
       "      <td>Dorinda</td>\n",
       "      <td>9</td>\n",
       "    </tr>\n",
       "  </tbody>\n",
       "</table>\n",
       "</div>"
      ],
      "text/plain": [
       "       State Sex  Year      Name  Count\n",
       "217971    NY   M  1970    Jerard      5\n",
       "210358    NY   M  1963     Tarik      5\n",
       "277162    NY   M  2008  Zakariya      9\n",
       "97359     NY   F  1989   Nerissa      7\n",
       "43740     NY   F  1959   Dorinda      9"
      ]
     },
     "execution_count": 69,
     "metadata": {},
     "output_type": "execute_result"
    }
   ],
   "source": [
    "import urllib.request\n",
    "import os.path\n",
    "import zipfile\n",
    "\n",
    "data_url = \"https://www.ssa.gov/oact/babynames/state/namesbystate.zip\"\n",
    "local_filename = \"babynamesbystate.zip\"\n",
    "if not os.path.exists(local_filename): # if the data exists don't download again\n",
    "    with urllib.request.urlopen(data_url) as resp, open(local_filename, 'wb') as f:\n",
    "        f.write(resp.read())\n",
    "\n",
    "zf = zipfile.ZipFile(local_filename, 'r')\n",
    "\n",
    "ca_name = 'NY.TXT'\n",
    "field_names = ['State', 'Sex', 'Year', 'Name', 'Count']\n",
    "with zf.open(ca_name) as fh:\n",
    "    babynames = pd.read_csv(fh, header=None, names=field_names)\n",
    "\n",
    "babynames.sample(5)"
   ]
  },
  {
   "cell_type": "markdown",
   "metadata": {},
   "source": [
    "## Question 2a"
   ]
  },
  {
   "cell_type": "markdown",
   "metadata": {},
   "source": [
    "Write a line of code that creates a list (or Series or array) of all names that end with “ert”.\n",
    "\n",
    "Your list should have only one instance of each name! "
   ]
  },
  {
   "cell_type": "code",
   "execution_count": 75,
   "metadata": {},
   "outputs": [
    {
     "data": {
      "text/html": [
       "<div>\n",
       "<style scoped>\n",
       "    .dataframe tbody tr th:only-of-type {\n",
       "        vertical-align: middle;\n",
       "    }\n",
       "\n",
       "    .dataframe tbody tr th {\n",
       "        vertical-align: top;\n",
       "    }\n",
       "\n",
       "    .dataframe thead th {\n",
       "        text-align: right;\n",
       "    }\n",
       "</style>\n",
       "<table border=\"1\" class=\"dataframe\">\n",
       "  <thead>\n",
       "    <tr style=\"text-align: right;\">\n",
       "      <th></th>\n",
       "      <th>State</th>\n",
       "      <th>Sex</th>\n",
       "      <th>Year</th>\n",
       "      <th>Name</th>\n",
       "      <th>Count</th>\n",
       "    </tr>\n",
       "  </thead>\n",
       "  <tbody>\n",
       "    <tr>\n",
       "      <th>2531</th>\n",
       "      <td>NY</td>\n",
       "      <td>F</td>\n",
       "      <td>1914</td>\n",
       "      <td>Robert</td>\n",
       "      <td>7</td>\n",
       "    </tr>\n",
       "    <tr>\n",
       "      <th>3090</th>\n",
       "      <td>NY</td>\n",
       "      <td>F</td>\n",
       "      <td>1915</td>\n",
       "      <td>Robert</td>\n",
       "      <td>12</td>\n",
       "    </tr>\n",
       "    <tr>\n",
       "      <th>3919</th>\n",
       "      <td>NY</td>\n",
       "      <td>F</td>\n",
       "      <td>1916</td>\n",
       "      <td>Robert</td>\n",
       "      <td>8</td>\n",
       "    </tr>\n",
       "    <tr>\n",
       "      <th>4595</th>\n",
       "      <td>NY</td>\n",
       "      <td>F</td>\n",
       "      <td>1917</td>\n",
       "      <td>Robert</td>\n",
       "      <td>11</td>\n",
       "    </tr>\n",
       "    <tr>\n",
       "      <th>5202</th>\n",
       "      <td>NY</td>\n",
       "      <td>F</td>\n",
       "      <td>1918</td>\n",
       "      <td>Robert</td>\n",
       "      <td>19</td>\n",
       "    </tr>\n",
       "    <tr>\n",
       "      <th>...</th>\n",
       "      <td>...</td>\n",
       "      <td>...</td>\n",
       "      <td>...</td>\n",
       "      <td>...</td>\n",
       "      <td>...</td>\n",
       "    </tr>\n",
       "    <tr>\n",
       "      <th>298145</th>\n",
       "      <td>NY</td>\n",
       "      <td>M</td>\n",
       "      <td>2018</td>\n",
       "      <td>Gilbert</td>\n",
       "      <td>7</td>\n",
       "    </tr>\n",
       "    <tr>\n",
       "      <th>298149</th>\n",
       "      <td>NY</td>\n",
       "      <td>M</td>\n",
       "      <td>2018</td>\n",
       "      <td>Herbert</td>\n",
       "      <td>7</td>\n",
       "    </tr>\n",
       "    <tr>\n",
       "      <th>298771</th>\n",
       "      <td>NY</td>\n",
       "      <td>M</td>\n",
       "      <td>2019</td>\n",
       "      <td>Robert</td>\n",
       "      <td>303</td>\n",
       "    </tr>\n",
       "    <tr>\n",
       "      <th>299026</th>\n",
       "      <td>NY</td>\n",
       "      <td>M</td>\n",
       "      <td>2019</td>\n",
       "      <td>Albert</td>\n",
       "      <td>57</td>\n",
       "    </tr>\n",
       "    <tr>\n",
       "      <th>300175</th>\n",
       "      <td>NY</td>\n",
       "      <td>M</td>\n",
       "      <td>2019</td>\n",
       "      <td>Gilbert</td>\n",
       "      <td>7</td>\n",
       "    </tr>\n",
       "  </tbody>\n",
       "</table>\n",
       "<p>1092 rows × 5 columns</p>\n",
       "</div>"
      ],
      "text/plain": [
       "       State Sex  Year     Name  Count\n",
       "2531      NY   F  1914   Robert      7\n",
       "3090      NY   F  1915   Robert     12\n",
       "3919      NY   F  1916   Robert      8\n",
       "4595      NY   F  1917   Robert     11\n",
       "5202      NY   F  1918   Robert     19\n",
       "...      ...  ..   ...      ...    ...\n",
       "298145    NY   M  2018  Gilbert      7\n",
       "298149    NY   M  2018  Herbert      7\n",
       "298771    NY   M  2019   Robert    303\n",
       "299026    NY   M  2019   Albert     57\n",
       "300175    NY   M  2019  Gilbert      7\n",
       "\n",
       "[1092 rows x 5 columns]"
      ]
     },
     "execution_count": 75,
     "metadata": {},
     "output_type": "execute_result"
    }
   ],
   "source": [
    "#YOUR CODE HERE\n",
    "babynames[babynames['Name'].str.endswith('ert')]"
   ]
  },
  {
   "cell_type": "markdown",
   "metadata": {},
   "source": [
    "## Question 2b"
   ]
  },
  {
   "cell_type": "markdown",
   "metadata": {},
   "source": [
    "Find the number of babies born in each year of each sex."
   ]
  },
  {
   "cell_type": "markdown",
   "metadata": {},
   "source": [
    "First, build a table showing the total number of babies born of each sex in each year. One way is to groupby using both columns of interest."
   ]
  },
  {
   "cell_type": "code",
   "execution_count": null,
   "metadata": {},
   "outputs": [],
   "source": [
    "#YOUR CODE HERE"
   ]
  },
  {
   "cell_type": "markdown",
   "metadata": {},
   "source": [
    "## Question 2c"
   ]
  },
  {
   "cell_type": "markdown",
   "metadata": {},
   "source": [
    "Second, a more natural approach is to use a pivot table. Create a pivot table."
   ]
  },
  {
   "cell_type": "code",
   "execution_count": null,
   "metadata": {},
   "outputs": [],
   "source": [
    "#YOUR CODE HERE"
   ]
  },
  {
   "cell_type": "markdown",
   "metadata": {},
   "source": [
    "# Enrollment Practice Questions (40 points)"
   ]
  },
  {
   "cell_type": "code",
   "execution_count": null,
   "metadata": {},
   "outputs": [
    {
     "data": {
      "text/html": [
       "<div>\n",
       "<style scoped>\n",
       "    .dataframe tbody tr th:only-of-type {\n",
       "        vertical-align: middle;\n",
       "    }\n",
       "\n",
       "    .dataframe tbody tr th {\n",
       "        vertical-align: top;\n",
       "    }\n",
       "\n",
       "    .dataframe thead th {\n",
       "        text-align: right;\n",
       "    }\n",
       "</style>\n",
       "<table border=\"1\" class=\"dataframe\">\n",
       "  <thead>\n",
       "    <tr style=\"text-align: right;\">\n",
       "      <th></th>\n",
       "      <th>Term</th>\n",
       "      <th>Subject</th>\n",
       "      <th>Number</th>\n",
       "      <th>Title</th>\n",
       "      <th>Instructor</th>\n",
       "      <th>Enrollment Cnt</th>\n",
       "    </tr>\n",
       "  </thead>\n",
       "  <tbody>\n",
       "    <tr>\n",
       "      <th>0</th>\n",
       "      <td>2018 Spring</td>\n",
       "      <td>Computer Science</td>\n",
       "      <td>9A</td>\n",
       "      <td>Programmers' Matlab</td>\n",
       "      <td>Carol Marshall; Paul Hilfinger</td>\n",
       "      <td>8</td>\n",
       "    </tr>\n",
       "    <tr>\n",
       "      <th>1</th>\n",
       "      <td>2018 Spring</td>\n",
       "      <td>Computer Science</td>\n",
       "      <td>9C</td>\n",
       "      <td>Programmers' C</td>\n",
       "      <td>Carol Marshall; Paul Hilfinger</td>\n",
       "      <td>11</td>\n",
       "    </tr>\n",
       "    <tr>\n",
       "      <th>2</th>\n",
       "      <td>2018 Spring</td>\n",
       "      <td>Computer Science</td>\n",
       "      <td>9E</td>\n",
       "      <td>Productive Unix Use</td>\n",
       "      <td>Carol Marshall; Paul Hilfinger</td>\n",
       "      <td>36</td>\n",
       "    </tr>\n",
       "    <tr>\n",
       "      <th>3</th>\n",
       "      <td>2018 Spring</td>\n",
       "      <td>Computer Science</td>\n",
       "      <td>9F</td>\n",
       "      <td>Programmers' C++</td>\n",
       "      <td>Carol Marshall; Paul Hilfinger</td>\n",
       "      <td>33</td>\n",
       "    </tr>\n",
       "    <tr>\n",
       "      <th>4</th>\n",
       "      <td>2018 Spring</td>\n",
       "      <td>Computer Science</td>\n",
       "      <td>9G</td>\n",
       "      <td>Programmers' Java</td>\n",
       "      <td>Carol Marshall; Paul Hilfinger</td>\n",
       "      <td>11</td>\n",
       "    </tr>\n",
       "  </tbody>\n",
       "</table>\n",
       "</div>"
      ],
      "text/plain": [
       "          Term           Subject Number                Title  \\\n",
       "0  2018 Spring  Computer Science     9A  Programmers' Matlab   \n",
       "1  2018 Spring  Computer Science     9C       Programmers' C   \n",
       "2  2018 Spring  Computer Science     9E  Productive Unix Use   \n",
       "3  2018 Spring  Computer Science     9F     Programmers' C++   \n",
       "4  2018 Spring  Computer Science     9G    Programmers' Java   \n",
       "\n",
       "                       Instructor  Enrollment Cnt  \n",
       "0  Carol Marshall; Paul Hilfinger               8  \n",
       "1  Carol Marshall; Paul Hilfinger              11  \n",
       "2  Carol Marshall; Paul Hilfinger              36  \n",
       "3  Carol Marshall; Paul Hilfinger              33  \n",
       "4  Carol Marshall; Paul Hilfinger              11  "
      ]
     },
     "execution_count": 16,
     "metadata": {},
     "output_type": "execute_result"
    }
   ],
   "source": [
    "df = pd.read_csv(\"enrollments.csv\", usecols=[\"Term\", \"Subject\", \"Number\", \"Title\", \"Enrollment Cnt\", \"Instructor\"])\n",
    "df.head()"
   ]
  },
  {
   "cell_type": "markdown",
   "metadata": {},
   "source": [
    "## Question 3a"
   ]
  },
  {
   "cell_type": "markdown",
   "metadata": {},
   "source": [
    "Try to find all Spring offerings of this course. Note, this dataset only contains Spring offerings, so there's no need to filter based on semester. The official \"Number\" for this class is \"C100\"."
   ]
  },
  {
   "cell_type": "code",
   "execution_count": null,
   "metadata": {},
   "outputs": [],
   "source": [
    "#YOUR CODE HERE"
   ]
  },
  {
   "cell_type": "markdown",
   "metadata": {},
   "source": [
    "## Question 3b"
   ]
  },
  {
   "cell_type": "markdown",
   "metadata": {},
   "source": [
    "Create a series where each row correspond to one subject (e.g. English), and each value corresponds to the average number of students for courses in that subject. For example, your series might have a row saying that the average number of students in a Computer Science class is 88."
   ]
  },
  {
   "cell_type": "code",
   "execution_count": null,
   "metadata": {},
   "outputs": [],
   "source": [
    "#YOUR CODE HERE"
   ]
  },
  {
   "cell_type": "markdown",
   "metadata": {},
   "source": [
    "## Question 3c"
   ]
  },
  {
   "cell_type": "markdown",
   "metadata": {},
   "source": [
    "Create a multi-indexed series where each row corresponds to one subject (e.g. English) offered during one semester (e.g. Spring 2017), and each value corresponds to the maximum number of students for courses in that subject during that semester. For example, you might have a row saying that the maximum number of students in a computer science course during Spring 2012 was 575."
   ]
  },
  {
   "cell_type": "code",
   "execution_count": null,
   "metadata": {},
   "outputs": [],
   "source": [
    "#YOUR CODE HERE"
   ]
  },
  {
   "cell_type": "markdown",
   "metadata": {},
   "source": [
    "## Question 3d"
   ]
  },
  {
   "cell_type": "markdown",
   "metadata": {},
   "source": [
    "Try to compute the size of the largest class ever taught by each instructor. This challenge is stated more vaguely on purpose. You'll have to decide what the data structure looks like. Your result should be sorted in decreasing order of class size."
   ]
  },
  {
   "cell_type": "code",
   "execution_count": null,
   "metadata": {},
   "outputs": [],
   "source": [
    "#YOUR CODE HERE"
   ]
  }
 ],
 "metadata": {
  "kernelspec": {
   "display_name": "Python 3",
   "language": "python",
   "name": "python3"
  },
  "language_info": {
   "codemirror_mode": {
    "name": "ipython",
    "version": 3
   },
   "file_extension": ".py",
   "mimetype": "text/x-python",
   "name": "python",
   "nbconvert_exporter": "python",
   "pygments_lexer": "ipython3",
   "version": "3.13.8"
  }
 },
 "nbformat": 4,
 "nbformat_minor": 4
}
