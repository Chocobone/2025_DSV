{
 "cells": [
  {
   "cell_type": "markdown",
   "metadata": {},
   "source": [
    "# Homework 2: Pandas\n",
    "\n",
    "\n",
    "Homework 2 is out, it is notebook form. You need to fill in the answers in the cells and produce graphs. Everything needed for the assignment is explained in the notebook. \n",
    "\n",
    "**How to submit**\n",
    "\n",
    "You need to send the `.ipynb` file with your answers plus an `.html` file, which will serve as a backup for us in case the `.ipynb` file cannot be opened on my or the TA's computer. \n",
    "\n",
    "The homework solution should be uploaded on e-campus. You can submit it as often as you like before the deadline.\n",
    "\n",
    "**Important**\n",
    "\n",
    "- Please make sure that you provide an answer in each cell and place that contains the **[ your answer ]** tags.\n",
    "- The places that require your code answer are marked with `\"# YOUR CODE\"` comments.\n",
    "- Note that you may use 1 or more line of code for replacing each `\"# YOUR CODE\"` comment."
   ]
  },
  {
   "cell_type": "code",
   "execution_count": 72,
   "metadata": {},
   "outputs": [],
   "source": [
    "%matplotlib inline\n",
    "import matplotlib.pyplot as plt\n",
    "import seaborn as sns\n",
    "import numpy as np\n",
    "import pandas as pd"
   ]
  },
  {
   "cell_type": "markdown",
   "metadata": {},
   "source": [
    "# Pandas Basics (40 points)"
   ]
  },
  {
   "cell_type": "markdown",
   "metadata": {},
   "source": [
    "Consider the series s of letters in a sentence"
   ]
  },
  {
   "cell_type": "code",
   "execution_count": 73,
   "metadata": {},
   "outputs": [],
   "source": [
    "s = pd.Series(list(\"Series is a one-dimensional labeled array capable of holding any data type (integers, strings, floating point numbers, Python objects, etc.). The axis labels are collectively referred to as the index.\"))"
   ]
  },
  {
   "cell_type": "markdown",
   "metadata": {},
   "source": [
    "## Question 1a"
   ]
  },
  {
   "cell_type": "markdown",
   "metadata": {},
   "source": [
    "What is count of each letter in the sentence, output a series which is sorted by the count?"
   ]
  },
  {
   "cell_type": "code",
   "execution_count": 74,
   "metadata": {},
   "outputs": [
    {
     "data": {
      "text/plain": [
       "     29\n",
       "e    23\n",
       "a    15\n",
       "i    12\n",
       "n    12\n",
       "t    12\n",
       "l    11\n",
       "s    11\n",
       "o    10\n",
       "r    10\n",
       "d     6\n",
       "b     5\n",
       "y     5\n",
       "c     5\n",
       "g     4\n",
       ",     4\n",
       "h     4\n",
       "f     3\n",
       "p     3\n",
       ".     3\n",
       "x     2\n",
       "m     2\n",
       "S     1\n",
       "-     1\n",
       "(     1\n",
       "P     1\n",
       "u     1\n",
       "j     1\n",
       ")     1\n",
       "T     1\n",
       "v     1\n",
       "Name: count, dtype: int64"
      ]
     },
     "execution_count": 74,
     "metadata": {},
     "output_type": "execute_result"
    }
   ],
   "source": [
    "#YOUR CODE HERE\n",
    "s.value_counts()"
   ]
  },
  {
   "cell_type": "markdown",
   "metadata": {},
   "source": [
    "## Question 1b"
   ]
  },
  {
   "cell_type": "markdown",
   "metadata": {},
   "source": [
    "Create a list with only the top 5 common letters (not including space)"
   ]
  },
  {
   "cell_type": "code",
   "execution_count": 75,
   "metadata": {},
   "outputs": [
    {
     "data": {
      "text/plain": [
       "['e', 'a', 'i', 'n', 't']"
      ]
     },
     "execution_count": 75,
     "metadata": {},
     "output_type": "execute_result"
    }
   ],
   "source": [
    "#YOUR CODE HERE\n",
    "s[s!=' '].value_counts().head().index.tolist()"
   ]
  },
  {
   "cell_type": "markdown",
   "metadata": {},
   "source": [
    "Given the dataframe below,"
   ]
  },
  {
   "cell_type": "code",
   "execution_count": 76,
   "metadata": {},
   "outputs": [
    {
     "data": {
      "text/html": [
       "<div>\n",
       "<style scoped>\n",
       "    .dataframe tbody tr th:only-of-type {\n",
       "        vertical-align: middle;\n",
       "    }\n",
       "\n",
       "    .dataframe tbody tr th {\n",
       "        vertical-align: top;\n",
       "    }\n",
       "\n",
       "    .dataframe thead th {\n",
       "        text-align: right;\n",
       "    }\n",
       "</style>\n",
       "<table border=\"1\" class=\"dataframe\">\n",
       "  <thead>\n",
       "    <tr style=\"text-align: right;\">\n",
       "      <th></th>\n",
       "      <th>A</th>\n",
       "      <th>B</th>\n",
       "      <th>C</th>\n",
       "      <th>D</th>\n",
       "    </tr>\n",
       "  </thead>\n",
       "  <tbody>\n",
       "    <tr>\n",
       "      <th>2000-01-01</th>\n",
       "      <td>0.367871</td>\n",
       "      <td>-1.228968</td>\n",
       "      <td>-0.228567</td>\n",
       "      <td>-0.235381</td>\n",
       "    </tr>\n",
       "    <tr>\n",
       "      <th>2000-01-02</th>\n",
       "      <td>2.296151</td>\n",
       "      <td>-3.033534</td>\n",
       "      <td>0.674798</td>\n",
       "      <td>1.545922</td>\n",
       "    </tr>\n",
       "    <tr>\n",
       "      <th>2000-01-03</th>\n",
       "      <td>0.775315</td>\n",
       "      <td>-0.472314</td>\n",
       "      <td>0.237308</td>\n",
       "      <td>-0.524623</td>\n",
       "    </tr>\n",
       "    <tr>\n",
       "      <th>2000-01-04</th>\n",
       "      <td>-0.419614</td>\n",
       "      <td>-1.715056</td>\n",
       "      <td>-2.671418</td>\n",
       "      <td>-0.722476</td>\n",
       "    </tr>\n",
       "    <tr>\n",
       "      <th>2000-01-05</th>\n",
       "      <td>-1.797608</td>\n",
       "      <td>-0.576769</td>\n",
       "      <td>-0.661597</td>\n",
       "      <td>0.889056</td>\n",
       "    </tr>\n",
       "    <tr>\n",
       "      <th>2000-01-06</th>\n",
       "      <td>-1.333963</td>\n",
       "      <td>0.399622</td>\n",
       "      <td>0.296082</td>\n",
       "      <td>0.558474</td>\n",
       "    </tr>\n",
       "    <tr>\n",
       "      <th>2000-01-07</th>\n",
       "      <td>0.956633</td>\n",
       "      <td>2.163535</td>\n",
       "      <td>0.875121</td>\n",
       "      <td>-0.099614</td>\n",
       "    </tr>\n",
       "    <tr>\n",
       "      <th>2000-01-08</th>\n",
       "      <td>0.486605</td>\n",
       "      <td>-2.414261</td>\n",
       "      <td>0.438509</td>\n",
       "      <td>-0.774188</td>\n",
       "    </tr>\n",
       "  </tbody>\n",
       "</table>\n",
       "</div>"
      ],
      "text/plain": [
       "                   A         B         C         D\n",
       "2000-01-01  0.367871 -1.228968 -0.228567 -0.235381\n",
       "2000-01-02  2.296151 -3.033534  0.674798  1.545922\n",
       "2000-01-03  0.775315 -0.472314  0.237308 -0.524623\n",
       "2000-01-04 -0.419614 -1.715056 -2.671418 -0.722476\n",
       "2000-01-05 -1.797608 -0.576769 -0.661597  0.889056\n",
       "2000-01-06 -1.333963  0.399622  0.296082  0.558474\n",
       "2000-01-07  0.956633  2.163535  0.875121 -0.099614\n",
       "2000-01-08  0.486605 -2.414261  0.438509 -0.774188"
      ]
     },
     "execution_count": 76,
     "metadata": {},
     "output_type": "execute_result"
    }
   ],
   "source": [
    "dates = pd.date_range('1/1/2000', periods=8)\n",
    "df = pd.DataFrame(np.random.randn(8, 4), index=dates, columns=['A', 'B', 'C', 'D'])\n",
    "df"
   ]
  },
  {
   "cell_type": "markdown",
   "metadata": {},
   "source": [
    "## Question 1c"
   ]
  },
  {
   "cell_type": "markdown",
   "metadata": {},
   "source": [
    "Find last two rows of columns A and D"
   ]
  },
  {
   "cell_type": "code",
   "execution_count": 77,
   "metadata": {},
   "outputs": [
    {
     "data": {
      "text/html": [
       "<div>\n",
       "<style scoped>\n",
       "    .dataframe tbody tr th:only-of-type {\n",
       "        vertical-align: middle;\n",
       "    }\n",
       "\n",
       "    .dataframe tbody tr th {\n",
       "        vertical-align: top;\n",
       "    }\n",
       "\n",
       "    .dataframe thead th {\n",
       "        text-align: right;\n",
       "    }\n",
       "</style>\n",
       "<table border=\"1\" class=\"dataframe\">\n",
       "  <thead>\n",
       "    <tr style=\"text-align: right;\">\n",
       "      <th></th>\n",
       "      <th>A</th>\n",
       "      <th>D</th>\n",
       "    </tr>\n",
       "  </thead>\n",
       "  <tbody>\n",
       "    <tr>\n",
       "      <th>2000-01-07</th>\n",
       "      <td>0.956633</td>\n",
       "      <td>-0.099614</td>\n",
       "    </tr>\n",
       "    <tr>\n",
       "      <th>2000-01-08</th>\n",
       "      <td>0.486605</td>\n",
       "      <td>-0.774188</td>\n",
       "    </tr>\n",
       "  </tbody>\n",
       "</table>\n",
       "</div>"
      ],
      "text/plain": [
       "                   A         D\n",
       "2000-01-07  0.956633 -0.099614\n",
       "2000-01-08  0.486605 -0.774188"
      ]
     },
     "execution_count": 77,
     "metadata": {},
     "output_type": "execute_result"
    }
   ],
   "source": [
    "#YOUR CODE HERE\n",
    "df.iloc[-2:, [0, 3]]"
   ]
  },
  {
   "cell_type": "markdown",
   "metadata": {},
   "source": [
    "## Question 1d"
   ]
  },
  {
   "cell_type": "markdown",
   "metadata": {},
   "source": [
    "Find last three rows which satisfy that column A > Column B"
   ]
  },
  {
   "cell_type": "code",
   "execution_count": 78,
   "metadata": {},
   "outputs": [
    {
     "data": {
      "text/html": [
       "<div>\n",
       "<style scoped>\n",
       "    .dataframe tbody tr th:only-of-type {\n",
       "        vertical-align: middle;\n",
       "    }\n",
       "\n",
       "    .dataframe tbody tr th {\n",
       "        vertical-align: top;\n",
       "    }\n",
       "\n",
       "    .dataframe thead th {\n",
       "        text-align: right;\n",
       "    }\n",
       "</style>\n",
       "<table border=\"1\" class=\"dataframe\">\n",
       "  <thead>\n",
       "    <tr style=\"text-align: right;\">\n",
       "      <th></th>\n",
       "      <th>A</th>\n",
       "      <th>B</th>\n",
       "      <th>C</th>\n",
       "      <th>D</th>\n",
       "    </tr>\n",
       "  </thead>\n",
       "  <tbody>\n",
       "    <tr>\n",
       "      <th>2000-01-03</th>\n",
       "      <td>0.775315</td>\n",
       "      <td>-0.472314</td>\n",
       "      <td>0.237308</td>\n",
       "      <td>-0.524623</td>\n",
       "    </tr>\n",
       "    <tr>\n",
       "      <th>2000-01-04</th>\n",
       "      <td>-0.419614</td>\n",
       "      <td>-1.715056</td>\n",
       "      <td>-2.671418</td>\n",
       "      <td>-0.722476</td>\n",
       "    </tr>\n",
       "    <tr>\n",
       "      <th>2000-01-08</th>\n",
       "      <td>0.486605</td>\n",
       "      <td>-2.414261</td>\n",
       "      <td>0.438509</td>\n",
       "      <td>-0.774188</td>\n",
       "    </tr>\n",
       "  </tbody>\n",
       "</table>\n",
       "</div>"
      ],
      "text/plain": [
       "                   A         B         C         D\n",
       "2000-01-03  0.775315 -0.472314  0.237308 -0.524623\n",
       "2000-01-04 -0.419614 -1.715056 -2.671418 -0.722476\n",
       "2000-01-08  0.486605 -2.414261  0.438509 -0.774188"
      ]
     },
     "execution_count": 78,
     "metadata": {},
     "output_type": "execute_result"
    }
   ],
   "source": [
    "#YOUR CODE HERE\n",
    "df[df['A'] >= df['B']].tail(3)"
   ]
  },
  {
   "cell_type": "markdown",
   "metadata": {},
   "source": [
    "# Baby Names Questions (30 points)"
   ]
  },
  {
   "cell_type": "code",
   "execution_count": 79,
   "metadata": {},
   "outputs": [
    {
     "data": {
      "text/html": [
       "<div>\n",
       "<style scoped>\n",
       "    .dataframe tbody tr th:only-of-type {\n",
       "        vertical-align: middle;\n",
       "    }\n",
       "\n",
       "    .dataframe tbody tr th {\n",
       "        vertical-align: top;\n",
       "    }\n",
       "\n",
       "    .dataframe thead th {\n",
       "        text-align: right;\n",
       "    }\n",
       "</style>\n",
       "<table border=\"1\" class=\"dataframe\">\n",
       "  <thead>\n",
       "    <tr style=\"text-align: right;\">\n",
       "      <th></th>\n",
       "      <th>State</th>\n",
       "      <th>Sex</th>\n",
       "      <th>Year</th>\n",
       "      <th>Name</th>\n",
       "      <th>Count</th>\n",
       "    </tr>\n",
       "  </thead>\n",
       "  <tbody>\n",
       "    <tr>\n",
       "      <th>127303</th>\n",
       "      <td>NY</td>\n",
       "      <td>F</td>\n",
       "      <td>2002</td>\n",
       "      <td>Gretchen</td>\n",
       "      <td>11</td>\n",
       "    </tr>\n",
       "    <tr>\n",
       "      <th>178621</th>\n",
       "      <td>NY</td>\n",
       "      <td>M</td>\n",
       "      <td>1922</td>\n",
       "      <td>Austin</td>\n",
       "      <td>27</td>\n",
       "    </tr>\n",
       "    <tr>\n",
       "      <th>284855</th>\n",
       "      <td>NY</td>\n",
       "      <td>M</td>\n",
       "      <td>2012</td>\n",
       "      <td>Gideon</td>\n",
       "      <td>25</td>\n",
       "    </tr>\n",
       "    <tr>\n",
       "      <th>224027</th>\n",
       "      <td>NY</td>\n",
       "      <td>M</td>\n",
       "      <td>1975</td>\n",
       "      <td>Orson</td>\n",
       "      <td>5</td>\n",
       "    </tr>\n",
       "    <tr>\n",
       "      <th>97639</th>\n",
       "      <td>NY</td>\n",
       "      <td>F</td>\n",
       "      <td>1989</td>\n",
       "      <td>Shanda</td>\n",
       "      <td>6</td>\n",
       "    </tr>\n",
       "  </tbody>\n",
       "</table>\n",
       "</div>"
      ],
      "text/plain": [
       "       State Sex  Year      Name  Count\n",
       "127303    NY   F  2002  Gretchen     11\n",
       "178621    NY   M  1922    Austin     27\n",
       "284855    NY   M  2012    Gideon     25\n",
       "224027    NY   M  1975     Orson      5\n",
       "97639     NY   F  1989    Shanda      6"
      ]
     },
     "execution_count": 79,
     "metadata": {},
     "output_type": "execute_result"
    }
   ],
   "source": [
    "import urllib.request\n",
    "import os.path\n",
    "import zipfile\n",
    "\n",
    "data_url = \"https://www.ssa.gov/oact/babynames/state/namesbystate.zip\"\n",
    "local_filename = \"babynamesbystate.zip\"\n",
    "if not os.path.exists(local_filename): # if the data exists don't download again\n",
    "    with urllib.request.urlopen(data_url) as resp, open(local_filename, 'wb') as f:\n",
    "        f.write(resp.read())\n",
    "\n",
    "zf = zipfile.ZipFile(local_filename, 'r')\n",
    "\n",
    "ca_name = 'NY.TXT'\n",
    "field_names = ['State', 'Sex', 'Year', 'Name', 'Count']\n",
    "with zf.open(ca_name) as fh:\n",
    "    babynames = pd.read_csv(fh, header=None, names=field_names)\n",
    "\n",
    "babynames.sample(5)"
   ]
  },
  {
   "cell_type": "markdown",
   "metadata": {},
   "source": [
    "## Question 2a"
   ]
  },
  {
   "cell_type": "markdown",
   "metadata": {},
   "source": [
    "Write a line of code that creates a list (or Series or array) of all names that end with “ert”.\n",
    "\n",
    "Your list should have only one instance of each name! "
   ]
  },
  {
   "cell_type": "code",
   "execution_count": 80,
   "metadata": {},
   "outputs": [
    {
     "data": {
      "text/plain": [
       "array(['Robert', 'Albert', 'Herbert', 'Gilbert', 'Bert', 'Hubert',\n",
       "       'Elbert', 'Wilbert', 'Norbert', 'Delbert', 'Adelbert', 'Rupert',\n",
       "       'Egbert', 'Humbert', 'Ethelbert', 'Lambert', 'Calvert',\n",
       "       'Engelbert', 'Mert'], dtype=object)"
      ]
     },
     "execution_count": 80,
     "metadata": {},
     "output_type": "execute_result"
    }
   ],
   "source": [
    "#YOUR CODE HERE\n",
    "babynames[babynames['Name'].str.endswith('ert')]['Name'].unique()"
   ]
  },
  {
   "cell_type": "markdown",
   "metadata": {},
   "source": [
    "## Question 2b"
   ]
  },
  {
   "cell_type": "markdown",
   "metadata": {},
   "source": [
    "Find the number of babies born in each year of each sex."
   ]
  },
  {
   "cell_type": "markdown",
   "metadata": {},
   "source": [
    "First, build a table showing the total number of babies born of each sex in each year. One way is to groupby using both columns of interest."
   ]
  },
  {
   "cell_type": "code",
   "execution_count": 81,
   "metadata": {},
   "outputs": [
    {
     "data": {
      "text/html": [
       "<div>\n",
       "<style scoped>\n",
       "    .dataframe tbody tr th:only-of-type {\n",
       "        vertical-align: middle;\n",
       "    }\n",
       "\n",
       "    .dataframe tbody tr th {\n",
       "        vertical-align: top;\n",
       "    }\n",
       "\n",
       "    .dataframe thead th {\n",
       "        text-align: right;\n",
       "    }\n",
       "</style>\n",
       "<table border=\"1\" class=\"dataframe\">\n",
       "  <thead>\n",
       "    <tr style=\"text-align: right;\">\n",
       "      <th></th>\n",
       "      <th></th>\n",
       "      <th>Count</th>\n",
       "    </tr>\n",
       "    <tr>\n",
       "      <th>Year</th>\n",
       "      <th>Sex</th>\n",
       "      <th></th>\n",
       "    </tr>\n",
       "  </thead>\n",
       "  <tbody>\n",
       "    <tr>\n",
       "      <th rowspan=\"2\" valign=\"top\">1910</th>\n",
       "      <th>F</th>\n",
       "      <td>32428</td>\n",
       "    </tr>\n",
       "    <tr>\n",
       "      <th>M</th>\n",
       "      <td>15720</td>\n",
       "    </tr>\n",
       "    <tr>\n",
       "      <th rowspan=\"2\" valign=\"top\">1911</th>\n",
       "      <th>F</th>\n",
       "      <td>37180</td>\n",
       "    </tr>\n",
       "    <tr>\n",
       "      <th>M</th>\n",
       "      <td>23621</td>\n",
       "    </tr>\n",
       "    <tr>\n",
       "      <th>1912</th>\n",
       "      <th>F</th>\n",
       "      <td>49386</td>\n",
       "    </tr>\n",
       "    <tr>\n",
       "      <th>...</th>\n",
       "      <th>...</th>\n",
       "      <td>...</td>\n",
       "    </tr>\n",
       "    <tr>\n",
       "      <th>2017</th>\n",
       "      <th>M</th>\n",
       "      <td>97382</td>\n",
       "    </tr>\n",
       "    <tr>\n",
       "      <th rowspan=\"2\" valign=\"top\">2018</th>\n",
       "      <th>F</th>\n",
       "      <td>86482</td>\n",
       "    </tr>\n",
       "    <tr>\n",
       "      <th>M</th>\n",
       "      <td>95489</td>\n",
       "    </tr>\n",
       "    <tr>\n",
       "      <th rowspan=\"2\" valign=\"top\">2019</th>\n",
       "      <th>F</th>\n",
       "      <td>84372</td>\n",
       "    </tr>\n",
       "    <tr>\n",
       "      <th>M</th>\n",
       "      <td>92912</td>\n",
       "    </tr>\n",
       "  </tbody>\n",
       "</table>\n",
       "<p>220 rows × 1 columns</p>\n",
       "</div>"
      ],
      "text/plain": [
       "          Count\n",
       "Year Sex       \n",
       "1910 F    32428\n",
       "     M    15720\n",
       "1911 F    37180\n",
       "     M    23621\n",
       "1912 F    49386\n",
       "...         ...\n",
       "2017 M    97382\n",
       "2018 F    86482\n",
       "     M    95489\n",
       "2019 F    84372\n",
       "     M    92912\n",
       "\n",
       "[220 rows x 1 columns]"
      ]
     },
     "execution_count": 81,
     "metadata": {},
     "output_type": "execute_result"
    }
   ],
   "source": [
    "#YOUR CODE HERE\n",
    "pd.DataFrame(babynames.groupby(['Year', 'Sex'])['Count'].sum())"
   ]
  },
  {
   "cell_type": "markdown",
   "metadata": {},
   "source": [
    "## Question 2c"
   ]
  },
  {
   "cell_type": "markdown",
   "metadata": {},
   "source": [
    "Second, a more natural approach is to use a pivot table. Create a pivot table."
   ]
  },
  {
   "cell_type": "code",
   "execution_count": 82,
   "metadata": {},
   "outputs": [
    {
     "data": {
      "text/html": [
       "<div>\n",
       "<style scoped>\n",
       "    .dataframe tbody tr th:only-of-type {\n",
       "        vertical-align: middle;\n",
       "    }\n",
       "\n",
       "    .dataframe tbody tr th {\n",
       "        vertical-align: top;\n",
       "    }\n",
       "\n",
       "    .dataframe thead th {\n",
       "        text-align: right;\n",
       "    }\n",
       "</style>\n",
       "<table border=\"1\" class=\"dataframe\">\n",
       "  <thead>\n",
       "    <tr style=\"text-align: right;\">\n",
       "      <th>Sex</th>\n",
       "      <th>F</th>\n",
       "      <th>M</th>\n",
       "    </tr>\n",
       "    <tr>\n",
       "      <th>Year</th>\n",
       "      <th></th>\n",
       "      <th></th>\n",
       "    </tr>\n",
       "  </thead>\n",
       "  <tbody>\n",
       "    <tr>\n",
       "      <th>1910</th>\n",
       "      <td>32428</td>\n",
       "      <td>15720</td>\n",
       "    </tr>\n",
       "    <tr>\n",
       "      <th>1911</th>\n",
       "      <td>37180</td>\n",
       "      <td>23621</td>\n",
       "    </tr>\n",
       "    <tr>\n",
       "      <th>1912</th>\n",
       "      <td>49386</td>\n",
       "      <td>42659</td>\n",
       "    </tr>\n",
       "    <tr>\n",
       "      <th>1913</th>\n",
       "      <td>55057</td>\n",
       "      <td>48276</td>\n",
       "    </tr>\n",
       "    <tr>\n",
       "      <th>1914</th>\n",
       "      <td>73320</td>\n",
       "      <td>63519</td>\n",
       "    </tr>\n",
       "    <tr>\n",
       "      <th>...</th>\n",
       "      <td>...</td>\n",
       "      <td>...</td>\n",
       "    </tr>\n",
       "    <tr>\n",
       "      <th>2015</th>\n",
       "      <td>91205</td>\n",
       "      <td>102749</td>\n",
       "    </tr>\n",
       "    <tr>\n",
       "      <th>2016</th>\n",
       "      <td>89737</td>\n",
       "      <td>99870</td>\n",
       "    </tr>\n",
       "    <tr>\n",
       "      <th>2017</th>\n",
       "      <td>87851</td>\n",
       "      <td>97382</td>\n",
       "    </tr>\n",
       "    <tr>\n",
       "      <th>2018</th>\n",
       "      <td>86482</td>\n",
       "      <td>95489</td>\n",
       "    </tr>\n",
       "    <tr>\n",
       "      <th>2019</th>\n",
       "      <td>84372</td>\n",
       "      <td>92912</td>\n",
       "    </tr>\n",
       "  </tbody>\n",
       "</table>\n",
       "<p>110 rows × 2 columns</p>\n",
       "</div>"
      ],
      "text/plain": [
       "Sex       F       M\n",
       "Year               \n",
       "1910  32428   15720\n",
       "1911  37180   23621\n",
       "1912  49386   42659\n",
       "1913  55057   48276\n",
       "1914  73320   63519\n",
       "...     ...     ...\n",
       "2015  91205  102749\n",
       "2016  89737   99870\n",
       "2017  87851   97382\n",
       "2018  86482   95489\n",
       "2019  84372   92912\n",
       "\n",
       "[110 rows x 2 columns]"
      ]
     },
     "execution_count": 82,
     "metadata": {},
     "output_type": "execute_result"
    }
   ],
   "source": [
    "#YOUR CODE HERE\n",
    "babynames.pivot_table(index='Year', columns='Sex', values='Count', aggfunc='sum' )"
   ]
  },
  {
   "cell_type": "markdown",
   "metadata": {},
   "source": [
    "# Enrollment Practice Questions (40 points)"
   ]
  },
  {
   "cell_type": "code",
   "execution_count": 83,
   "metadata": {},
   "outputs": [
    {
     "data": {
      "text/html": [
       "<div>\n",
       "<style scoped>\n",
       "    .dataframe tbody tr th:only-of-type {\n",
       "        vertical-align: middle;\n",
       "    }\n",
       "\n",
       "    .dataframe tbody tr th {\n",
       "        vertical-align: top;\n",
       "    }\n",
       "\n",
       "    .dataframe thead th {\n",
       "        text-align: right;\n",
       "    }\n",
       "</style>\n",
       "<table border=\"1\" class=\"dataframe\">\n",
       "  <thead>\n",
       "    <tr style=\"text-align: right;\">\n",
       "      <th></th>\n",
       "      <th>Term</th>\n",
       "      <th>Subject</th>\n",
       "      <th>Number</th>\n",
       "      <th>Title</th>\n",
       "      <th>Instructor</th>\n",
       "      <th>Enrollment Cnt</th>\n",
       "    </tr>\n",
       "  </thead>\n",
       "  <tbody>\n",
       "    <tr>\n",
       "      <th>0</th>\n",
       "      <td>2018 Spring</td>\n",
       "      <td>Computer Science</td>\n",
       "      <td>9A</td>\n",
       "      <td>Programmers' Matlab</td>\n",
       "      <td>Carol Marshall; Paul Hilfinger</td>\n",
       "      <td>8</td>\n",
       "    </tr>\n",
       "    <tr>\n",
       "      <th>1</th>\n",
       "      <td>2018 Spring</td>\n",
       "      <td>Computer Science</td>\n",
       "      <td>9C</td>\n",
       "      <td>Programmers' C</td>\n",
       "      <td>Carol Marshall; Paul Hilfinger</td>\n",
       "      <td>11</td>\n",
       "    </tr>\n",
       "    <tr>\n",
       "      <th>2</th>\n",
       "      <td>2018 Spring</td>\n",
       "      <td>Computer Science</td>\n",
       "      <td>9E</td>\n",
       "      <td>Productive Unix Use</td>\n",
       "      <td>Carol Marshall; Paul Hilfinger</td>\n",
       "      <td>36</td>\n",
       "    </tr>\n",
       "    <tr>\n",
       "      <th>3</th>\n",
       "      <td>2018 Spring</td>\n",
       "      <td>Computer Science</td>\n",
       "      <td>9F</td>\n",
       "      <td>Programmers' C++</td>\n",
       "      <td>Carol Marshall; Paul Hilfinger</td>\n",
       "      <td>33</td>\n",
       "    </tr>\n",
       "    <tr>\n",
       "      <th>4</th>\n",
       "      <td>2018 Spring</td>\n",
       "      <td>Computer Science</td>\n",
       "      <td>9G</td>\n",
       "      <td>Programmers' Java</td>\n",
       "      <td>Carol Marshall; Paul Hilfinger</td>\n",
       "      <td>11</td>\n",
       "    </tr>\n",
       "  </tbody>\n",
       "</table>\n",
       "</div>"
      ],
      "text/plain": [
       "          Term           Subject Number                Title  \\\n",
       "0  2018 Spring  Computer Science     9A  Programmers' Matlab   \n",
       "1  2018 Spring  Computer Science     9C       Programmers' C   \n",
       "2  2018 Spring  Computer Science     9E  Productive Unix Use   \n",
       "3  2018 Spring  Computer Science     9F     Programmers' C++   \n",
       "4  2018 Spring  Computer Science     9G    Programmers' Java   \n",
       "\n",
       "                       Instructor  Enrollment Cnt  \n",
       "0  Carol Marshall; Paul Hilfinger               8  \n",
       "1  Carol Marshall; Paul Hilfinger              11  \n",
       "2  Carol Marshall; Paul Hilfinger              36  \n",
       "3  Carol Marshall; Paul Hilfinger              33  \n",
       "4  Carol Marshall; Paul Hilfinger              11  "
      ]
     },
     "execution_count": 83,
     "metadata": {},
     "output_type": "execute_result"
    }
   ],
   "source": [
    "df = pd.read_csv(\"enrollments.csv\", usecols=[\"Term\", \"Subject\", \"Number\", \"Title\", \"Enrollment Cnt\", \"Instructor\"])\n",
    "df.head()"
   ]
  },
  {
   "cell_type": "markdown",
   "metadata": {},
   "source": [
    "## Question 3a"
   ]
  },
  {
   "cell_type": "markdown",
   "metadata": {},
   "source": [
    "Try to find all Spring offerings of this course. Note, this dataset only contains Spring offerings, so there's no need to filter based on semester. The official \"Number\" for this class is \"C100\"."
   ]
  },
  {
   "cell_type": "code",
   "execution_count": 84,
   "metadata": {},
   "outputs": [
    {
     "data": {
      "text/html": [
       "<div>\n",
       "<style scoped>\n",
       "    .dataframe tbody tr th:only-of-type {\n",
       "        vertical-align: middle;\n",
       "    }\n",
       "\n",
       "    .dataframe tbody tr th {\n",
       "        vertical-align: top;\n",
       "    }\n",
       "\n",
       "    .dataframe thead th {\n",
       "        text-align: right;\n",
       "    }\n",
       "</style>\n",
       "<table border=\"1\" class=\"dataframe\">\n",
       "  <thead>\n",
       "    <tr style=\"text-align: right;\">\n",
       "      <th></th>\n",
       "      <th>Term</th>\n",
       "      <th>Subject</th>\n",
       "      <th>Number</th>\n",
       "      <th>Title</th>\n",
       "      <th>Instructor</th>\n",
       "      <th>Enrollment Cnt</th>\n",
       "    </tr>\n",
       "  </thead>\n",
       "  <tbody>\n",
       "    <tr>\n",
       "      <th>20</th>\n",
       "      <td>2018 Spring</td>\n",
       "      <td>Computer Science</td>\n",
       "      <td>C100</td>\n",
       "      <td>Princ&amp;Tech Data Sci</td>\n",
       "      <td>Fernando Perez; Joseph Gonzalez</td>\n",
       "      <td>610</td>\n",
       "    </tr>\n",
       "    <tr>\n",
       "      <th>387</th>\n",
       "      <td>2017 Spring</td>\n",
       "      <td>Computer Science</td>\n",
       "      <td>C100</td>\n",
       "      <td>Princ&amp;Tech Data Sci</td>\n",
       "      <td>Bin Yu; Deborah Nolan; Joseph Gonzalez; Joseph...</td>\n",
       "      <td>67</td>\n",
       "    </tr>\n",
       "    <tr>\n",
       "      <th>670</th>\n",
       "      <td>2017 Spring</td>\n",
       "      <td>Statistics</td>\n",
       "      <td>C100</td>\n",
       "      <td>Princ&amp;Tech Data Sci</td>\n",
       "      <td>Bin Yu; Deborah Nolan; Joseph Gonzalez; Joseph...</td>\n",
       "      <td>28</td>\n",
       "    </tr>\n",
       "  </tbody>\n",
       "</table>\n",
       "</div>"
      ],
      "text/plain": [
       "            Term           Subject Number                Title  \\\n",
       "20   2018 Spring  Computer Science   C100  Princ&Tech Data Sci   \n",
       "387  2017 Spring  Computer Science   C100  Princ&Tech Data Sci   \n",
       "670  2017 Spring        Statistics   C100  Princ&Tech Data Sci   \n",
       "\n",
       "                                            Instructor  Enrollment Cnt  \n",
       "20                     Fernando Perez; Joseph Gonzalez             610  \n",
       "387  Bin Yu; Deborah Nolan; Joseph Gonzalez; Joseph...              67  \n",
       "670  Bin Yu; Deborah Nolan; Joseph Gonzalez; Joseph...              28  "
      ]
     },
     "execution_count": 84,
     "metadata": {},
     "output_type": "execute_result"
    }
   ],
   "source": [
    "#YOUR CODE HERE\n",
    "df[df['Number']=='C100']"
   ]
  },
  {
   "cell_type": "markdown",
   "metadata": {},
   "source": [
    "## Question 3b"
   ]
  },
  {
   "cell_type": "markdown",
   "metadata": {},
   "source": [
    "Create a series where each row correspond to one subject (e.g. English), and each value corresponds to the average number of students for courses in that subject. For example, your series might have a row saying that the average number of students in a Computer Science class is 88."
   ]
  },
  {
   "cell_type": "code",
   "execution_count": 85,
   "metadata": {},
   "outputs": [
    {
     "data": {
      "text/html": [
       "<div>\n",
       "<style scoped>\n",
       "    .dataframe tbody tr th:only-of-type {\n",
       "        vertical-align: middle;\n",
       "    }\n",
       "\n",
       "    .dataframe tbody tr th {\n",
       "        vertical-align: top;\n",
       "    }\n",
       "\n",
       "    .dataframe thead th {\n",
       "        text-align: right;\n",
       "    }\n",
       "</style>\n",
       "<table border=\"1\" class=\"dataframe\">\n",
       "  <thead>\n",
       "    <tr style=\"text-align: right;\">\n",
       "      <th></th>\n",
       "      <th>Enrollment Cnt</th>\n",
       "    </tr>\n",
       "    <tr>\n",
       "      <th>Subject</th>\n",
       "      <th></th>\n",
       "    </tr>\n",
       "  </thead>\n",
       "  <tbody>\n",
       "    <tr>\n",
       "      <th>Computer Science</th>\n",
       "      <td>88.073620</td>\n",
       "    </tr>\n",
       "    <tr>\n",
       "      <th>Electrical Eng &amp; Computer Sci</th>\n",
       "      <td>21.333333</td>\n",
       "    </tr>\n",
       "    <tr>\n",
       "      <th>Electrical Engineering</th>\n",
       "      <td>36.339426</td>\n",
       "    </tr>\n",
       "    <tr>\n",
       "      <th>English</th>\n",
       "      <td>24.386286</td>\n",
       "    </tr>\n",
       "    <tr>\n",
       "      <th>Philosophy</th>\n",
       "      <td>41.516949</td>\n",
       "    </tr>\n",
       "    <tr>\n",
       "      <th>Statistics</th>\n",
       "      <td>60.301724</td>\n",
       "    </tr>\n",
       "  </tbody>\n",
       "</table>\n",
       "</div>"
      ],
      "text/plain": [
       "                               Enrollment Cnt\n",
       "Subject                                      \n",
       "Computer Science                    88.073620\n",
       "Electrical Eng & Computer Sci       21.333333\n",
       "Electrical Engineering              36.339426\n",
       "English                             24.386286\n",
       "Philosophy                          41.516949\n",
       "Statistics                          60.301724"
      ]
     },
     "execution_count": 85,
     "metadata": {},
     "output_type": "execute_result"
    }
   ],
   "source": [
    "#YOUR CODE HERE\n",
    "df.groupby('Subject')[['Enrollment Cnt']].mean()"
   ]
  },
  {
   "cell_type": "markdown",
   "metadata": {},
   "source": [
    "## Question 3c"
   ]
  },
  {
   "cell_type": "markdown",
   "metadata": {},
   "source": [
    "Create a multi-indexed series where each row corresponds to one subject (e.g. English) offered during one semester (e.g. Spring 2017), and each value corresponds to the maximum number of students for courses in that subject during that semester. For example, you might have a row saying that the maximum number of students in a computer science course during Spring 2012 was 575."
   ]
  },
  {
   "cell_type": "code",
   "execution_count": 86,
   "metadata": {},
   "outputs": [
    {
     "data": {
      "text/html": [
       "<div>\n",
       "<style scoped>\n",
       "    .dataframe tbody tr th:only-of-type {\n",
       "        vertical-align: middle;\n",
       "    }\n",
       "\n",
       "    .dataframe tbody tr th {\n",
       "        vertical-align: top;\n",
       "    }\n",
       "\n",
       "    .dataframe thead th {\n",
       "        text-align: right;\n",
       "    }\n",
       "</style>\n",
       "<table border=\"1\" class=\"dataframe\">\n",
       "  <thead>\n",
       "    <tr style=\"text-align: right;\">\n",
       "      <th></th>\n",
       "      <th></th>\n",
       "      <th>Enrollment Cnt</th>\n",
       "    </tr>\n",
       "    <tr>\n",
       "      <th>Subject</th>\n",
       "      <th>Term</th>\n",
       "      <th></th>\n",
       "    </tr>\n",
       "  </thead>\n",
       "  <tbody>\n",
       "    <tr>\n",
       "      <th rowspan=\"7\" valign=\"top\">Computer Science</th>\n",
       "      <th>2012 Spring</th>\n",
       "      <td>575</td>\n",
       "    </tr>\n",
       "    <tr>\n",
       "      <th>2013 Spring</th>\n",
       "      <td>529</td>\n",
       "    </tr>\n",
       "    <tr>\n",
       "      <th>2014 Spring</th>\n",
       "      <td>944</td>\n",
       "    </tr>\n",
       "    <tr>\n",
       "      <th>2015 Spring</th>\n",
       "      <td>981</td>\n",
       "    </tr>\n",
       "    <tr>\n",
       "      <th>2016 Spring</th>\n",
       "      <td>1156</td>\n",
       "    </tr>\n",
       "    <tr>\n",
       "      <th>2017 Spring</th>\n",
       "      <td>1328</td>\n",
       "    </tr>\n",
       "    <tr>\n",
       "      <th>2018 Spring</th>\n",
       "      <td>1379</td>\n",
       "    </tr>\n",
       "    <tr>\n",
       "      <th rowspan=\"3\" valign=\"top\">Electrical Eng &amp; Computer Sci</th>\n",
       "      <th>2016 Spring</th>\n",
       "      <td>18</td>\n",
       "    </tr>\n",
       "    <tr>\n",
       "      <th>2017 Spring</th>\n",
       "      <td>30</td>\n",
       "    </tr>\n",
       "    <tr>\n",
       "      <th>2018 Spring</th>\n",
       "      <td>237</td>\n",
       "    </tr>\n",
       "    <tr>\n",
       "      <th rowspan=\"7\" valign=\"top\">Electrical Engineering</th>\n",
       "      <th>2012 Spring</th>\n",
       "      <td>204</td>\n",
       "    </tr>\n",
       "    <tr>\n",
       "      <th>2013 Spring</th>\n",
       "      <td>238</td>\n",
       "    </tr>\n",
       "    <tr>\n",
       "      <th>2014 Spring</th>\n",
       "      <td>384</td>\n",
       "    </tr>\n",
       "    <tr>\n",
       "      <th>2015 Spring</th>\n",
       "      <td>383</td>\n",
       "    </tr>\n",
       "    <tr>\n",
       "      <th>2016 Spring</th>\n",
       "      <td>698</td>\n",
       "    </tr>\n",
       "    <tr>\n",
       "      <th>2017 Spring</th>\n",
       "      <td>775</td>\n",
       "    </tr>\n",
       "    <tr>\n",
       "      <th>2018 Spring</th>\n",
       "      <td>825</td>\n",
       "    </tr>\n",
       "    <tr>\n",
       "      <th rowspan=\"7\" valign=\"top\">English</th>\n",
       "      <th>2012 Spring</th>\n",
       "      <td>156</td>\n",
       "    </tr>\n",
       "    <tr>\n",
       "      <th>2013 Spring</th>\n",
       "      <td>160</td>\n",
       "    </tr>\n",
       "    <tr>\n",
       "      <th>2014 Spring</th>\n",
       "      <td>109</td>\n",
       "    </tr>\n",
       "    <tr>\n",
       "      <th>2015 Spring</th>\n",
       "      <td>120</td>\n",
       "    </tr>\n",
       "    <tr>\n",
       "      <th>2016 Spring</th>\n",
       "      <td>103</td>\n",
       "    </tr>\n",
       "    <tr>\n",
       "      <th>2017 Spring</th>\n",
       "      <td>141</td>\n",
       "    </tr>\n",
       "    <tr>\n",
       "      <th>2018 Spring</th>\n",
       "      <td>106</td>\n",
       "    </tr>\n",
       "    <tr>\n",
       "      <th rowspan=\"7\" valign=\"top\">Philosophy</th>\n",
       "      <th>2012 Spring</th>\n",
       "      <td>160</td>\n",
       "    </tr>\n",
       "    <tr>\n",
       "      <th>2013 Spring</th>\n",
       "      <td>187</td>\n",
       "    </tr>\n",
       "    <tr>\n",
       "      <th>2014 Spring</th>\n",
       "      <td>172</td>\n",
       "    </tr>\n",
       "    <tr>\n",
       "      <th>2015 Spring</th>\n",
       "      <td>197</td>\n",
       "    </tr>\n",
       "    <tr>\n",
       "      <th>2016 Spring</th>\n",
       "      <td>200</td>\n",
       "    </tr>\n",
       "    <tr>\n",
       "      <th>2017 Spring</th>\n",
       "      <td>242</td>\n",
       "    </tr>\n",
       "    <tr>\n",
       "      <th>2018 Spring</th>\n",
       "      <td>236</td>\n",
       "    </tr>\n",
       "    <tr>\n",
       "      <th rowspan=\"7\" valign=\"top\">Statistics</th>\n",
       "      <th>2012 Spring</th>\n",
       "      <td>316</td>\n",
       "    </tr>\n",
       "    <tr>\n",
       "      <th>2013 Spring</th>\n",
       "      <td>285</td>\n",
       "    </tr>\n",
       "    <tr>\n",
       "      <th>2014 Spring</th>\n",
       "      <td>299</td>\n",
       "    </tr>\n",
       "    <tr>\n",
       "      <th>2015 Spring</th>\n",
       "      <td>444</td>\n",
       "    </tr>\n",
       "    <tr>\n",
       "      <th>2016 Spring</th>\n",
       "      <td>450</td>\n",
       "    </tr>\n",
       "    <tr>\n",
       "      <th>2017 Spring</th>\n",
       "      <td>393</td>\n",
       "    </tr>\n",
       "    <tr>\n",
       "      <th>2018 Spring</th>\n",
       "      <td>1043</td>\n",
       "    </tr>\n",
       "  </tbody>\n",
       "</table>\n",
       "</div>"
      ],
      "text/plain": [
       "                                           Enrollment Cnt\n",
       "Subject                       Term                       \n",
       "Computer Science              2012 Spring             575\n",
       "                              2013 Spring             529\n",
       "                              2014 Spring             944\n",
       "                              2015 Spring             981\n",
       "                              2016 Spring            1156\n",
       "                              2017 Spring            1328\n",
       "                              2018 Spring            1379\n",
       "Electrical Eng & Computer Sci 2016 Spring              18\n",
       "                              2017 Spring              30\n",
       "                              2018 Spring             237\n",
       "Electrical Engineering        2012 Spring             204\n",
       "                              2013 Spring             238\n",
       "                              2014 Spring             384\n",
       "                              2015 Spring             383\n",
       "                              2016 Spring             698\n",
       "                              2017 Spring             775\n",
       "                              2018 Spring             825\n",
       "English                       2012 Spring             156\n",
       "                              2013 Spring             160\n",
       "                              2014 Spring             109\n",
       "                              2015 Spring             120\n",
       "                              2016 Spring             103\n",
       "                              2017 Spring             141\n",
       "                              2018 Spring             106\n",
       "Philosophy                    2012 Spring             160\n",
       "                              2013 Spring             187\n",
       "                              2014 Spring             172\n",
       "                              2015 Spring             197\n",
       "                              2016 Spring             200\n",
       "                              2017 Spring             242\n",
       "                              2018 Spring             236\n",
       "Statistics                    2012 Spring             316\n",
       "                              2013 Spring             285\n",
       "                              2014 Spring             299\n",
       "                              2015 Spring             444\n",
       "                              2016 Spring             450\n",
       "                              2017 Spring             393\n",
       "                              2018 Spring            1043"
      ]
     },
     "execution_count": 86,
     "metadata": {},
     "output_type": "execute_result"
    }
   ],
   "source": [
    "#YOUR CODE HERE\n",
    "df.groupby(['Subject', 'Term'])[['Enrollment Cnt']].max()"
   ]
  },
  {
   "cell_type": "markdown",
   "metadata": {},
   "source": [
    "## Question 3d"
   ]
  },
  {
   "cell_type": "markdown",
   "metadata": {},
   "source": [
    "Try to compute the size of the largest class ever taught by each instructor. This challenge is stated more vaguely on purpose. You'll have to decide what the data structure looks like. Your result should be sorted in decreasing order of class size."
   ]
  },
  {
   "cell_type": "code",
   "execution_count": 87,
   "metadata": {},
   "outputs": [
    {
     "data": {
      "text/html": [
       "<div>\n",
       "<style scoped>\n",
       "    .dataframe tbody tr th:only-of-type {\n",
       "        vertical-align: middle;\n",
       "    }\n",
       "\n",
       "    .dataframe tbody tr th {\n",
       "        vertical-align: top;\n",
       "    }\n",
       "\n",
       "    .dataframe thead th {\n",
       "        text-align: right;\n",
       "    }\n",
       "</style>\n",
       "<table border=\"1\" class=\"dataframe\">\n",
       "  <thead>\n",
       "    <tr style=\"text-align: right;\">\n",
       "      <th></th>\n",
       "      <th>Enrollment Cnt</th>\n",
       "    </tr>\n",
       "    <tr>\n",
       "      <th>Instructor</th>\n",
       "      <th></th>\n",
       "    </tr>\n",
       "  </thead>\n",
       "  <tbody>\n",
       "    <tr>\n",
       "      <th>Joshua Hug</th>\n",
       "      <td>1379</td>\n",
       "    </tr>\n",
       "    <tr>\n",
       "      <th>Joshua Hug; Joshua Hug</th>\n",
       "      <td>1328</td>\n",
       "    </tr>\n",
       "    <tr>\n",
       "      <th>John DeNero</th>\n",
       "      <td>1210</td>\n",
       "    </tr>\n",
       "    <tr>\n",
       "      <th>Anindita Adhikari; Scott Lee</th>\n",
       "      <td>1043</td>\n",
       "    </tr>\n",
       "    <tr>\n",
       "      <th>John Denero</th>\n",
       "      <td>981</td>\n",
       "    </tr>\n",
       "    <tr>\n",
       "      <th>...</th>\n",
       "      <td>...</td>\n",
       "    </tr>\n",
       "    <tr>\n",
       "      <th>Lotfi Zadeh</th>\n",
       "      <td>1</td>\n",
       "    </tr>\n",
       "    <tr>\n",
       "      <th>Robert Dudley; Robert Full; Ronald Fearing</th>\n",
       "      <td>1</td>\n",
       "    </tr>\n",
       "    <tr>\n",
       "      <th>Rajarshi Mukherjee</th>\n",
       "      <td>1</td>\n",
       "    </tr>\n",
       "    <tr>\n",
       "      <th>Christopher Kutz</th>\n",
       "      <td>1</td>\n",
       "    </tr>\n",
       "    <tr>\n",
       "      <th>Robert Full</th>\n",
       "      <td>1</td>\n",
       "    </tr>\n",
       "  </tbody>\n",
       "</table>\n",
       "<p>745 rows × 1 columns</p>\n",
       "</div>"
      ],
      "text/plain": [
       "                                            Enrollment Cnt\n",
       "Instructor                                                \n",
       "Joshua Hug                                            1379\n",
       "Joshua Hug; Joshua Hug                                1328\n",
       "John DeNero                                           1210\n",
       "Anindita Adhikari; Scott Lee                          1043\n",
       "John Denero                                            981\n",
       "...                                                    ...\n",
       "Lotfi Zadeh                                              1\n",
       "Robert Dudley; Robert Full; Ronald Fearing               1\n",
       "Rajarshi Mukherjee                                       1\n",
       "Christopher Kutz                                         1\n",
       "Robert Full                                              1\n",
       "\n",
       "[745 rows x 1 columns]"
      ]
     },
     "execution_count": 87,
     "metadata": {},
     "output_type": "execute_result"
    }
   ],
   "source": [
    "#YOUR CODE HERE\n",
    "df.groupby('Instructor')[['Enrollment Cnt']].max().sort_values(by='Enrollment Cnt', ascending=False)"
   ]
  }
 ],
 "metadata": {
  "kernelspec": {
   "display_name": "DSV",
   "language": "python",
   "name": "python3"
  },
  "language_info": {
   "codemirror_mode": {
    "name": "ipython",
    "version": 3
   },
   "file_extension": ".py",
   "mimetype": "text/x-python",
   "name": "python",
   "nbconvert_exporter": "python",
   "pygments_lexer": "ipython3",
   "version": "3.13.2"
  }
 },
 "nbformat": 4,
 "nbformat_minor": 4
}
